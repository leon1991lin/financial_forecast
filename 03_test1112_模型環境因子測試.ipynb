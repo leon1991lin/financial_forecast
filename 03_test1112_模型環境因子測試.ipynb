{
 "cells": [
  {
   "cell_type": "code",
   "execution_count": 1,
   "id": "c0c79ecc",
   "metadata": {},
   "outputs": [],
   "source": [
    "import matplotlib.pyplot as plt\n",
    "import pandas as pd\n",
    "from sqlalchemy import create_engine\n",
    "import seaborn as sns\n",
    "import sklearn\n",
    "\n",
    "#建立與 MySQL 的連結\n",
    "class mysql_engine():\n",
    " def __init__(self,db):\n",
    "  self.user='root'\n",
    "  self.passwd='ian1991'\n",
    "  self.host='localhost'\n",
    "  self.port = '3306'\n",
    "  self.db_name= db\n",
    "  self.engine = create_engine('mysql+pymysql://{0}:{1}@{2}:{3}/{4}?charset=utf8'.format(self.user,self.passwd,self.host,self.port,self.db_name))\n",
    "\n",
    "def get_data(sql,db):\n",
    " pg_enine = mysql_engine(db)\n",
    " try:\n",
    "  with pg_enine.engine.connect() as con, con.begin():\n",
    "   df = pd.read_sql(sql,con) # 獲取資料\n",
    "  con.close()\n",
    " except:\n",
    "  df = None\n",
    " return df"
   ]
  },
  {
   "cell_type": "code",
   "execution_count": 2,
   "id": "96065a10",
   "metadata": {},
   "outputs": [
    {
     "data": {
      "text/html": [
       "<div>\n",
       "<style scoped>\n",
       "    .dataframe tbody tr th:only-of-type {\n",
       "        vertical-align: middle;\n",
       "    }\n",
       "\n",
       "    .dataframe tbody tr th {\n",
       "        vertical-align: top;\n",
       "    }\n",
       "\n",
       "    .dataframe thead th {\n",
       "        text-align: right;\n",
       "    }\n",
       "</style>\n",
       "<table border=\"1\" class=\"dataframe\">\n",
       "  <thead>\n",
       "    <tr style=\"text-align: right;\">\n",
       "      <th></th>\n",
       "      <th>stock_code</th>\n",
       "      <th>stock_report_date</th>\n",
       "      <th>operating_gross_rate</th>\n",
       "      <th>net_profit_rate</th>\n",
       "      <th>revenue_growth_rate</th>\n",
       "      <th>current_rate</th>\n",
       "      <th>quick_rate</th>\n",
       "      <th>debt_rate</th>\n",
       "      <th>receivables_turnover_rate</th>\n",
       "      <th>cash_reinvest_rate</th>\n",
       "      <th>...</th>\n",
       "      <th>export_usd_value_37071000</th>\n",
       "      <th>export_usd_value_37079090</th>\n",
       "      <th>export_usd_value_37050000306</th>\n",
       "      <th>export_usd_value_848620</th>\n",
       "      <th>export_usd_value_848610</th>\n",
       "      <th>export_usd_value_381800</th>\n",
       "      <th>new_cases_smoothed_USA</th>\n",
       "      <th>new_cases_smoothed_OWID_EUR</th>\n",
       "      <th>new_cases_smoothed_TWN</th>\n",
       "      <th>people_fully_vaccinated_per_hundred_USA</th>\n",
       "    </tr>\n",
       "  </thead>\n",
       "  <tbody>\n",
       "    <tr>\n",
       "      <th>0</th>\n",
       "      <td>2302</td>\n",
       "      <td>20183</td>\n",
       "      <td>38.03</td>\n",
       "      <td>13.35</td>\n",
       "      <td>17.77</td>\n",
       "      <td>154.53</td>\n",
       "      <td>103.70</td>\n",
       "      <td>18.22</td>\n",
       "      <td>3.31</td>\n",
       "      <td>1.74</td>\n",
       "      <td>...</td>\n",
       "      <td>433</td>\n",
       "      <td>15698</td>\n",
       "      <td>18323</td>\n",
       "      <td>61504</td>\n",
       "      <td>3021</td>\n",
       "      <td>107270</td>\n",
       "      <td>0.00</td>\n",
       "      <td>0.00</td>\n",
       "      <td>0.00</td>\n",
       "      <td>0.00</td>\n",
       "    </tr>\n",
       "    <tr>\n",
       "      <th>1</th>\n",
       "      <td>2302</td>\n",
       "      <td>20184</td>\n",
       "      <td>40.93</td>\n",
       "      <td>5.22</td>\n",
       "      <td>-0.91</td>\n",
       "      <td>166.92</td>\n",
       "      <td>110.41</td>\n",
       "      <td>16.86</td>\n",
       "      <td>4.35</td>\n",
       "      <td>1.34</td>\n",
       "      <td>...</td>\n",
       "      <td>395</td>\n",
       "      <td>17864</td>\n",
       "      <td>27973</td>\n",
       "      <td>93168</td>\n",
       "      <td>2669</td>\n",
       "      <td>112119</td>\n",
       "      <td>0.00</td>\n",
       "      <td>0.00</td>\n",
       "      <td>0.00</td>\n",
       "      <td>0.00</td>\n",
       "    </tr>\n",
       "    <tr>\n",
       "      <th>2</th>\n",
       "      <td>2302</td>\n",
       "      <td>20191</td>\n",
       "      <td>37.03</td>\n",
       "      <td>-3.00</td>\n",
       "      <td>-6.33</td>\n",
       "      <td>171.94</td>\n",
       "      <td>109.89</td>\n",
       "      <td>16.38</td>\n",
       "      <td>0.99</td>\n",
       "      <td>1.51</td>\n",
       "      <td>...</td>\n",
       "      <td>309</td>\n",
       "      <td>16779</td>\n",
       "      <td>17192</td>\n",
       "      <td>72410</td>\n",
       "      <td>4024</td>\n",
       "      <td>96978</td>\n",
       "      <td>0.00</td>\n",
       "      <td>0.00</td>\n",
       "      <td>0.00</td>\n",
       "      <td>0.00</td>\n",
       "    </tr>\n",
       "    <tr>\n",
       "      <th>3</th>\n",
       "      <td>2302</td>\n",
       "      <td>20192</td>\n",
       "      <td>32.10</td>\n",
       "      <td>10.26</td>\n",
       "      <td>-2.46</td>\n",
       "      <td>174.72</td>\n",
       "      <td>114.79</td>\n",
       "      <td>16.63</td>\n",
       "      <td>2.00</td>\n",
       "      <td>2.17</td>\n",
       "      <td>...</td>\n",
       "      <td>326</td>\n",
       "      <td>19927</td>\n",
       "      <td>19788</td>\n",
       "      <td>77517</td>\n",
       "      <td>3432</td>\n",
       "      <td>98799</td>\n",
       "      <td>0.00</td>\n",
       "      <td>0.00</td>\n",
       "      <td>0.00</td>\n",
       "      <td>0.00</td>\n",
       "    </tr>\n",
       "    <tr>\n",
       "      <th>4</th>\n",
       "      <td>2302</td>\n",
       "      <td>20193</td>\n",
       "      <td>28.78</td>\n",
       "      <td>2.29</td>\n",
       "      <td>-6.54</td>\n",
       "      <td>170.04</td>\n",
       "      <td>116.92</td>\n",
       "      <td>17.45</td>\n",
       "      <td>3.10</td>\n",
       "      <td>4.32</td>\n",
       "      <td>...</td>\n",
       "      <td>339</td>\n",
       "      <td>20499</td>\n",
       "      <td>19911</td>\n",
       "      <td>118643</td>\n",
       "      <td>3547</td>\n",
       "      <td>90681</td>\n",
       "      <td>0.00</td>\n",
       "      <td>0.00</td>\n",
       "      <td>0.00</td>\n",
       "      <td>0.00</td>\n",
       "    </tr>\n",
       "    <tr>\n",
       "      <th>...</th>\n",
       "      <td>...</td>\n",
       "      <td>...</td>\n",
       "      <td>...</td>\n",
       "      <td>...</td>\n",
       "      <td>...</td>\n",
       "      <td>...</td>\n",
       "      <td>...</td>\n",
       "      <td>...</td>\n",
       "      <td>...</td>\n",
       "      <td>...</td>\n",
       "      <td>...</td>\n",
       "      <td>...</td>\n",
       "      <td>...</td>\n",
       "      <td>...</td>\n",
       "      <td>...</td>\n",
       "      <td>...</td>\n",
       "      <td>...</td>\n",
       "      <td>...</td>\n",
       "      <td>...</td>\n",
       "      <td>...</td>\n",
       "      <td>...</td>\n",
       "    </tr>\n",
       "    <tr>\n",
       "      <th>1783</th>\n",
       "      <td>8299</td>\n",
       "      <td>20202</td>\n",
       "      <td>24.76</td>\n",
       "      <td>10.91</td>\n",
       "      <td>10.95</td>\n",
       "      <td>299.48</td>\n",
       "      <td>181.73</td>\n",
       "      <td>27.74</td>\n",
       "      <td>4.28</td>\n",
       "      <td>6.49</td>\n",
       "      <td>...</td>\n",
       "      <td>474</td>\n",
       "      <td>20831</td>\n",
       "      <td>23548</td>\n",
       "      <td>83758</td>\n",
       "      <td>1824</td>\n",
       "      <td>93532</td>\n",
       "      <td>26218.70</td>\n",
       "      <td>22066.62</td>\n",
       "      <td>4.34</td>\n",
       "      <td>0.00</td>\n",
       "    </tr>\n",
       "    <tr>\n",
       "      <th>1784</th>\n",
       "      <td>8299</td>\n",
       "      <td>20203</td>\n",
       "      <td>22.61</td>\n",
       "      <td>15.41</td>\n",
       "      <td>-3.71</td>\n",
       "      <td>363.99</td>\n",
       "      <td>240.63</td>\n",
       "      <td>23.66</td>\n",
       "      <td>6.20</td>\n",
       "      <td>5.25</td>\n",
       "      <td>...</td>\n",
       "      <td>362</td>\n",
       "      <td>21623</td>\n",
       "      <td>21166</td>\n",
       "      <td>88039</td>\n",
       "      <td>509</td>\n",
       "      <td>96949</td>\n",
       "      <td>50018.10</td>\n",
       "      <td>27565.47</td>\n",
       "      <td>4.07</td>\n",
       "      <td>0.00</td>\n",
       "    </tr>\n",
       "    <tr>\n",
       "      <th>1785</th>\n",
       "      <td>8299</td>\n",
       "      <td>20204</td>\n",
       "      <td>23.05</td>\n",
       "      <td>29.47</td>\n",
       "      <td>-2.52</td>\n",
       "      <td>317.33</td>\n",
       "      <td>230.20</td>\n",
       "      <td>26.09</td>\n",
       "      <td>8.12</td>\n",
       "      <td>11.28</td>\n",
       "      <td>...</td>\n",
       "      <td>338</td>\n",
       "      <td>22734</td>\n",
       "      <td>26507</td>\n",
       "      <td>125111</td>\n",
       "      <td>2209</td>\n",
       "      <td>104276</td>\n",
       "      <td>134753.31</td>\n",
       "      <td>197678.98</td>\n",
       "      <td>7.04</td>\n",
       "      <td>0.29</td>\n",
       "    </tr>\n",
       "    <tr>\n",
       "      <th>1786</th>\n",
       "      <td>8299</td>\n",
       "      <td>20211</td>\n",
       "      <td>29.71</td>\n",
       "      <td>13.09</td>\n",
       "      <td>0.17</td>\n",
       "      <td>281.91</td>\n",
       "      <td>191.93</td>\n",
       "      <td>29.32</td>\n",
       "      <td>1.95</td>\n",
       "      <td>-3.70</td>\n",
       "      <td>...</td>\n",
       "      <td>295</td>\n",
       "      <td>21578</td>\n",
       "      <td>21595</td>\n",
       "      <td>173860</td>\n",
       "      <td>3284</td>\n",
       "      <td>108639</td>\n",
       "      <td>120178.33</td>\n",
       "      <td>179397.16</td>\n",
       "      <td>6.49</td>\n",
       "      <td>15.95</td>\n",
       "    </tr>\n",
       "    <tr>\n",
       "      <th>1787</th>\n",
       "      <td>8299</td>\n",
       "      <td>20212</td>\n",
       "      <td>32.60</td>\n",
       "      <td>14.23</td>\n",
       "      <td>46.57</td>\n",
       "      <td>211.42</td>\n",
       "      <td>137.79</td>\n",
       "      <td>38.88</td>\n",
       "      <td>4.07</td>\n",
       "      <td>-2.31</td>\n",
       "      <td>...</td>\n",
       "      <td>429</td>\n",
       "      <td>21381</td>\n",
       "      <td>26217</td>\n",
       "      <td>146656</td>\n",
       "      <td>2919</td>\n",
       "      <td>115335</td>\n",
       "      <td>36919.59</td>\n",
       "      <td>101066.76</td>\n",
       "      <td>153.18</td>\n",
       "      <td>49.46</td>\n",
       "    </tr>\n",
       "  </tbody>\n",
       "</table>\n",
       "<p>1788 rows × 63 columns</p>\n",
       "</div>"
      ],
      "text/plain": [
       "     stock_code stock_report_date  operating_gross_rate  net_profit_rate  \\\n",
       "0          2302             20183                 38.03            13.35   \n",
       "1          2302             20184                 40.93             5.22   \n",
       "2          2302             20191                 37.03            -3.00   \n",
       "3          2302             20192                 32.10            10.26   \n",
       "4          2302             20193                 28.78             2.29   \n",
       "...         ...               ...                   ...              ...   \n",
       "1783       8299             20202                 24.76            10.91   \n",
       "1784       8299             20203                 22.61            15.41   \n",
       "1785       8299             20204                 23.05            29.47   \n",
       "1786       8299             20211                 29.71            13.09   \n",
       "1787       8299             20212                 32.60            14.23   \n",
       "\n",
       "      revenue_growth_rate  current_rate  quick_rate  debt_rate  \\\n",
       "0                   17.77        154.53      103.70      18.22   \n",
       "1                   -0.91        166.92      110.41      16.86   \n",
       "2                   -6.33        171.94      109.89      16.38   \n",
       "3                   -2.46        174.72      114.79      16.63   \n",
       "4                   -6.54        170.04      116.92      17.45   \n",
       "...                   ...           ...         ...        ...   \n",
       "1783                10.95        299.48      181.73      27.74   \n",
       "1784                -3.71        363.99      240.63      23.66   \n",
       "1785                -2.52        317.33      230.20      26.09   \n",
       "1786                 0.17        281.91      191.93      29.32   \n",
       "1787                46.57        211.42      137.79      38.88   \n",
       "\n",
       "      receivables_turnover_rate  cash_reinvest_rate  ...  \\\n",
       "0                          3.31                1.74  ...   \n",
       "1                          4.35                1.34  ...   \n",
       "2                          0.99                1.51  ...   \n",
       "3                          2.00                2.17  ...   \n",
       "4                          3.10                4.32  ...   \n",
       "...                         ...                 ...  ...   \n",
       "1783                       4.28                6.49  ...   \n",
       "1784                       6.20                5.25  ...   \n",
       "1785                       8.12               11.28  ...   \n",
       "1786                       1.95               -3.70  ...   \n",
       "1787                       4.07               -2.31  ...   \n",
       "\n",
       "      export_usd_value_37071000  export_usd_value_37079090  \\\n",
       "0                           433                      15698   \n",
       "1                           395                      17864   \n",
       "2                           309                      16779   \n",
       "3                           326                      19927   \n",
       "4                           339                      20499   \n",
       "...                         ...                        ...   \n",
       "1783                        474                      20831   \n",
       "1784                        362                      21623   \n",
       "1785                        338                      22734   \n",
       "1786                        295                      21578   \n",
       "1787                        429                      21381   \n",
       "\n",
       "      export_usd_value_37050000306  export_usd_value_848620  \\\n",
       "0                            18323                    61504   \n",
       "1                            27973                    93168   \n",
       "2                            17192                    72410   \n",
       "3                            19788                    77517   \n",
       "4                            19911                   118643   \n",
       "...                            ...                      ...   \n",
       "1783                         23548                    83758   \n",
       "1784                         21166                    88039   \n",
       "1785                         26507                   125111   \n",
       "1786                         21595                   173860   \n",
       "1787                         26217                   146656   \n",
       "\n",
       "      export_usd_value_848610  export_usd_value_381800  \\\n",
       "0                        3021                   107270   \n",
       "1                        2669                   112119   \n",
       "2                        4024                    96978   \n",
       "3                        3432                    98799   \n",
       "4                        3547                    90681   \n",
       "...                       ...                      ...   \n",
       "1783                     1824                    93532   \n",
       "1784                      509                    96949   \n",
       "1785                     2209                   104276   \n",
       "1786                     3284                   108639   \n",
       "1787                     2919                   115335   \n",
       "\n",
       "      new_cases_smoothed_USA  new_cases_smoothed_OWID_EUR  \\\n",
       "0                       0.00                         0.00   \n",
       "1                       0.00                         0.00   \n",
       "2                       0.00                         0.00   \n",
       "3                       0.00                         0.00   \n",
       "4                       0.00                         0.00   \n",
       "...                      ...                          ...   \n",
       "1783                26218.70                     22066.62   \n",
       "1784                50018.10                     27565.47   \n",
       "1785               134753.31                    197678.98   \n",
       "1786               120178.33                    179397.16   \n",
       "1787                36919.59                    101066.76   \n",
       "\n",
       "      new_cases_smoothed_TWN  people_fully_vaccinated_per_hundred_USA  \n",
       "0                       0.00                                     0.00  \n",
       "1                       0.00                                     0.00  \n",
       "2                       0.00                                     0.00  \n",
       "3                       0.00                                     0.00  \n",
       "4                       0.00                                     0.00  \n",
       "...                      ...                                      ...  \n",
       "1783                    4.34                                     0.00  \n",
       "1784                    4.07                                     0.00  \n",
       "1785                    7.04                                     0.29  \n",
       "1786                    6.49                                    15.95  \n",
       "1787                  153.18                                    49.46  \n",
       "\n",
       "[1788 rows x 63 columns]"
      ]
     },
     "execution_count": 2,
     "metadata": {},
     "output_type": "execute_result"
    }
   ],
   "source": [
    "company_factor = get_data(\"\"\"SELECT * FROM tfb103d_project.datamining_alldata_afetl;\"\"\",'tfb103d_project')\n",
    "company_factor"
   ]
  },
  {
   "cell_type": "markdown",
   "id": "68c203bc",
   "metadata": {},
   "source": [
    "# 以財務數據預測 毛利率"
   ]
  },
  {
   "cell_type": "markdown",
   "id": "c04c9285",
   "metadata": {},
   "source": [
    "資料前處理"
   ]
  },
  {
   "cell_type": "code",
   "execution_count": 3,
   "id": "d18df1dc",
   "metadata": {},
   "outputs": [
    {
     "data": {
      "text/html": [
       "<div>\n",
       "<style scoped>\n",
       "    .dataframe tbody tr th:only-of-type {\n",
       "        vertical-align: middle;\n",
       "    }\n",
       "\n",
       "    .dataframe tbody tr th {\n",
       "        vertical-align: top;\n",
       "    }\n",
       "\n",
       "    .dataframe thead th {\n",
       "        text-align: right;\n",
       "    }\n",
       "</style>\n",
       "<table border=\"1\" class=\"dataframe\">\n",
       "  <thead>\n",
       "    <tr style=\"text-align: right;\">\n",
       "      <th></th>\n",
       "      <th>stock_code</th>\n",
       "      <th>stock_report_date</th>\n",
       "      <th>net_profit_rate</th>\n",
       "      <th>operating_gross_rate</th>\n",
       "      <th>current_rate</th>\n",
       "      <th>quick_rate</th>\n",
       "      <th>debt_rate</th>\n",
       "      <th>receivables_turnover_rate</th>\n",
       "      <th>cash_reinvest_rate</th>\n",
       "      <th>roe_rate</th>\n",
       "      <th>roa_rate</th>\n",
       "      <th>avg_director_rate</th>\n",
       "      <th>avg_director_pledge_rate</th>\n",
       "      <th>foreign_rate_bys</th>\n",
       "      <th>over1000_rate_bys</th>\n",
       "      <th>under400_rate_bys</th>\n",
       "      <th>avg_board_bys</th>\n",
       "    </tr>\n",
       "  </thead>\n",
       "  <tbody>\n",
       "    <tr>\n",
       "      <th>0</th>\n",
       "      <td>2302</td>\n",
       "      <td>20183</td>\n",
       "      <td>13.35</td>\n",
       "      <td>38.03</td>\n",
       "      <td>154.53</td>\n",
       "      <td>103.70</td>\n",
       "      <td>18.22</td>\n",
       "      <td>3.31</td>\n",
       "      <td>1.74</td>\n",
       "      <td>1.07</td>\n",
       "      <td>0.91</td>\n",
       "      <td>26.60</td>\n",
       "      <td>0.00</td>\n",
       "      <td>4.40</td>\n",
       "      <td>62.23</td>\n",
       "      <td>33.99</td>\n",
       "      <td>8.73</td>\n",
       "    </tr>\n",
       "    <tr>\n",
       "      <th>1</th>\n",
       "      <td>2302</td>\n",
       "      <td>20184</td>\n",
       "      <td>5.22</td>\n",
       "      <td>40.93</td>\n",
       "      <td>166.92</td>\n",
       "      <td>110.41</td>\n",
       "      <td>16.86</td>\n",
       "      <td>4.35</td>\n",
       "      <td>1.34</td>\n",
       "      <td>0.42</td>\n",
       "      <td>0.37</td>\n",
       "      <td>26.60</td>\n",
       "      <td>0.00</td>\n",
       "      <td>4.40</td>\n",
       "      <td>62.35</td>\n",
       "      <td>34.08</td>\n",
       "      <td>8.86</td>\n",
       "    </tr>\n",
       "    <tr>\n",
       "      <th>2</th>\n",
       "      <td>2302</td>\n",
       "      <td>20191</td>\n",
       "      <td>-3.00</td>\n",
       "      <td>37.03</td>\n",
       "      <td>171.94</td>\n",
       "      <td>109.89</td>\n",
       "      <td>16.38</td>\n",
       "      <td>0.99</td>\n",
       "      <td>1.51</td>\n",
       "      <td>-0.20</td>\n",
       "      <td>-0.14</td>\n",
       "      <td>26.60</td>\n",
       "      <td>0.00</td>\n",
       "      <td>4.37</td>\n",
       "      <td>62.53</td>\n",
       "      <td>33.68</td>\n",
       "      <td>8.90</td>\n",
       "    </tr>\n",
       "    <tr>\n",
       "      <th>3</th>\n",
       "      <td>2302</td>\n",
       "      <td>20192</td>\n",
       "      <td>10.26</td>\n",
       "      <td>32.10</td>\n",
       "      <td>174.72</td>\n",
       "      <td>114.79</td>\n",
       "      <td>16.63</td>\n",
       "      <td>2.00</td>\n",
       "      <td>2.17</td>\n",
       "      <td>0.85</td>\n",
       "      <td>0.74</td>\n",
       "      <td>26.60</td>\n",
       "      <td>0.00</td>\n",
       "      <td>4.30</td>\n",
       "      <td>62.34</td>\n",
       "      <td>33.51</td>\n",
       "      <td>9.01</td>\n",
       "    </tr>\n",
       "    <tr>\n",
       "      <th>4</th>\n",
       "      <td>2302</td>\n",
       "      <td>20193</td>\n",
       "      <td>2.29</td>\n",
       "      <td>28.78</td>\n",
       "      <td>170.04</td>\n",
       "      <td>116.92</td>\n",
       "      <td>17.45</td>\n",
       "      <td>3.10</td>\n",
       "      <td>4.32</td>\n",
       "      <td>0.17</td>\n",
       "      <td>0.17</td>\n",
       "      <td>26.60</td>\n",
       "      <td>0.00</td>\n",
       "      <td>4.30</td>\n",
       "      <td>62.33</td>\n",
       "      <td>33.44</td>\n",
       "      <td>9.11</td>\n",
       "    </tr>\n",
       "    <tr>\n",
       "      <th>...</th>\n",
       "      <td>...</td>\n",
       "      <td>...</td>\n",
       "      <td>...</td>\n",
       "      <td>...</td>\n",
       "      <td>...</td>\n",
       "      <td>...</td>\n",
       "      <td>...</td>\n",
       "      <td>...</td>\n",
       "      <td>...</td>\n",
       "      <td>...</td>\n",
       "      <td>...</td>\n",
       "      <td>...</td>\n",
       "      <td>...</td>\n",
       "      <td>...</td>\n",
       "      <td>...</td>\n",
       "      <td>...</td>\n",
       "      <td>...</td>\n",
       "    </tr>\n",
       "    <tr>\n",
       "      <th>1783</th>\n",
       "      <td>8299</td>\n",
       "      <td>20202</td>\n",
       "      <td>10.91</td>\n",
       "      <td>24.76</td>\n",
       "      <td>299.48</td>\n",
       "      <td>181.73</td>\n",
       "      <td>27.74</td>\n",
       "      <td>4.28</td>\n",
       "      <td>6.49</td>\n",
       "      <td>4.01</td>\n",
       "      <td>2.97</td>\n",
       "      <td>17.70</td>\n",
       "      <td>12.73</td>\n",
       "      <td>51.13</td>\n",
       "      <td>41.64</td>\n",
       "      <td>44.76</td>\n",
       "      <td>7.51</td>\n",
       "    </tr>\n",
       "    <tr>\n",
       "      <th>1784</th>\n",
       "      <td>8299</td>\n",
       "      <td>20203</td>\n",
       "      <td>15.41</td>\n",
       "      <td>22.61</td>\n",
       "      <td>363.99</td>\n",
       "      <td>240.63</td>\n",
       "      <td>23.66</td>\n",
       "      <td>6.20</td>\n",
       "      <td>5.25</td>\n",
       "      <td>6.07</td>\n",
       "      <td>4.61</td>\n",
       "      <td>18.23</td>\n",
       "      <td>17.90</td>\n",
       "      <td>45.53</td>\n",
       "      <td>37.24</td>\n",
       "      <td>51.68</td>\n",
       "      <td>6.58</td>\n",
       "    </tr>\n",
       "    <tr>\n",
       "      <th>1785</th>\n",
       "      <td>8299</td>\n",
       "      <td>20204</td>\n",
       "      <td>29.47</td>\n",
       "      <td>23.05</td>\n",
       "      <td>317.33</td>\n",
       "      <td>230.20</td>\n",
       "      <td>26.09</td>\n",
       "      <td>8.12</td>\n",
       "      <td>11.28</td>\n",
       "      <td>11.76</td>\n",
       "      <td>8.79</td>\n",
       "      <td>18.40</td>\n",
       "      <td>17.80</td>\n",
       "      <td>47.07</td>\n",
       "      <td>36.67</td>\n",
       "      <td>51.03</td>\n",
       "      <td>6.80</td>\n",
       "    </tr>\n",
       "    <tr>\n",
       "      <th>1786</th>\n",
       "      <td>8299</td>\n",
       "      <td>20211</td>\n",
       "      <td>13.09</td>\n",
       "      <td>29.71</td>\n",
       "      <td>281.91</td>\n",
       "      <td>191.93</td>\n",
       "      <td>29.32</td>\n",
       "      <td>1.95</td>\n",
       "      <td>-3.70</td>\n",
       "      <td>4.71</td>\n",
       "      <td>3.41</td>\n",
       "      <td>18.40</td>\n",
       "      <td>17.80</td>\n",
       "      <td>48.57</td>\n",
       "      <td>38.56</td>\n",
       "      <td>47.51</td>\n",
       "      <td>6.82</td>\n",
       "    </tr>\n",
       "    <tr>\n",
       "      <th>1787</th>\n",
       "      <td>8299</td>\n",
       "      <td>20212</td>\n",
       "      <td>14.23</td>\n",
       "      <td>32.60</td>\n",
       "      <td>211.42</td>\n",
       "      <td>137.79</td>\n",
       "      <td>38.88</td>\n",
       "      <td>4.07</td>\n",
       "      <td>-2.31</td>\n",
       "      <td>6.52</td>\n",
       "      <td>4.38</td>\n",
       "      <td>18.40</td>\n",
       "      <td>17.80</td>\n",
       "      <td>48.77</td>\n",
       "      <td>38.54</td>\n",
       "      <td>45.73</td>\n",
       "      <td>6.35</td>\n",
       "    </tr>\n",
       "  </tbody>\n",
       "</table>\n",
       "<p>1788 rows × 17 columns</p>\n",
       "</div>"
      ],
      "text/plain": [
       "     stock_code stock_report_date  net_profit_rate  operating_gross_rate  \\\n",
       "0          2302             20183            13.35                 38.03   \n",
       "1          2302             20184             5.22                 40.93   \n",
       "2          2302             20191            -3.00                 37.03   \n",
       "3          2302             20192            10.26                 32.10   \n",
       "4          2302             20193             2.29                 28.78   \n",
       "...         ...               ...              ...                   ...   \n",
       "1783       8299             20202            10.91                 24.76   \n",
       "1784       8299             20203            15.41                 22.61   \n",
       "1785       8299             20204            29.47                 23.05   \n",
       "1786       8299             20211            13.09                 29.71   \n",
       "1787       8299             20212            14.23                 32.60   \n",
       "\n",
       "      current_rate  quick_rate  debt_rate  receivables_turnover_rate  \\\n",
       "0           154.53      103.70      18.22                       3.31   \n",
       "1           166.92      110.41      16.86                       4.35   \n",
       "2           171.94      109.89      16.38                       0.99   \n",
       "3           174.72      114.79      16.63                       2.00   \n",
       "4           170.04      116.92      17.45                       3.10   \n",
       "...            ...         ...        ...                        ...   \n",
       "1783        299.48      181.73      27.74                       4.28   \n",
       "1784        363.99      240.63      23.66                       6.20   \n",
       "1785        317.33      230.20      26.09                       8.12   \n",
       "1786        281.91      191.93      29.32                       1.95   \n",
       "1787        211.42      137.79      38.88                       4.07   \n",
       "\n",
       "      cash_reinvest_rate  roe_rate  roa_rate  avg_director_rate  \\\n",
       "0                   1.74      1.07      0.91              26.60   \n",
       "1                   1.34      0.42      0.37              26.60   \n",
       "2                   1.51     -0.20     -0.14              26.60   \n",
       "3                   2.17      0.85      0.74              26.60   \n",
       "4                   4.32      0.17      0.17              26.60   \n",
       "...                  ...       ...       ...                ...   \n",
       "1783                6.49      4.01      2.97              17.70   \n",
       "1784                5.25      6.07      4.61              18.23   \n",
       "1785               11.28     11.76      8.79              18.40   \n",
       "1786               -3.70      4.71      3.41              18.40   \n",
       "1787               -2.31      6.52      4.38              18.40   \n",
       "\n",
       "      avg_director_pledge_rate  foreign_rate_bys  over1000_rate_bys  \\\n",
       "0                         0.00              4.40              62.23   \n",
       "1                         0.00              4.40              62.35   \n",
       "2                         0.00              4.37              62.53   \n",
       "3                         0.00              4.30              62.34   \n",
       "4                         0.00              4.30              62.33   \n",
       "...                        ...               ...                ...   \n",
       "1783                     12.73             51.13              41.64   \n",
       "1784                     17.90             45.53              37.24   \n",
       "1785                     17.80             47.07              36.67   \n",
       "1786                     17.80             48.57              38.56   \n",
       "1787                     17.80             48.77              38.54   \n",
       "\n",
       "      under400_rate_bys  avg_board_bys  \n",
       "0                 33.99           8.73  \n",
       "1                 34.08           8.86  \n",
       "2                 33.68           8.90  \n",
       "3                 33.51           9.01  \n",
       "4                 33.44           9.11  \n",
       "...                 ...            ...  \n",
       "1783              44.76           7.51  \n",
       "1784              51.68           6.58  \n",
       "1785              51.03           6.80  \n",
       "1786              47.51           6.82  \n",
       "1787              45.73           6.35  \n",
       "\n",
       "[1788 rows x 17 columns]"
      ]
     },
     "execution_count": 3,
     "metadata": {},
     "output_type": "execute_result"
    }
   ],
   "source": [
    "#取得需要的特徵\n",
    "financial_ratio = company_factor[['stock_code',\n",
    "                                  'stock_report_date',\n",
    "                                  'net_profit_rate', #稅後淨利率\n",
    "                                  'operating_gross_rate', #營業毛利率\n",
    "                                  'current_rate', #流動比率\n",
    "                                  'quick_rate',  #速動比率\n",
    "                                  'debt_rate',  #負債比率\n",
    "                                  'receivables_turnover_rate', #應收帳款週轉率\n",
    "#                                   'inventory_turnover_rate',  #存貨週轉率\n",
    "                                  'cash_reinvest_rate', #現金再投資比率\n",
    "                                  'roe_rate', #股東權益報酬率,\n",
    "                                  'roa_rate', #資產報酬率\n",
    "                                  'avg_director_rate', #董監事持股比利\n",
    "                                  'avg_director_pledge_rate', #董監事質押比利\n",
    "                                  'foreign_rate_bys', #外資持股比例\n",
    "                                  'over1000_rate_bys', # >1000張大股東持股比率\n",
    "                                  'under400_rate_bys', # <400張股東持股比率\n",
    "                                  'avg_board_bys' #平均持股張數\n",
    "                                 ]].copy() \n",
    "financial_ratio"
   ]
  },
  {
   "cell_type": "code",
   "execution_count": 4,
   "id": "1c6fa79c",
   "metadata": {
    "scrolled": true
   },
   "outputs": [
    {
     "data": {
      "text/plain": [
       "stock_code                   0\n",
       "stock_report_date            0\n",
       "net_profit_rate              0\n",
       "operating_gross_rate         0\n",
       "current_rate                 0\n",
       "quick_rate                   0\n",
       "debt_rate                    0\n",
       "receivables_turnover_rate    0\n",
       "cash_reinvest_rate           0\n",
       "roe_rate                     0\n",
       "roa_rate                     0\n",
       "avg_director_rate            0\n",
       "avg_director_pledge_rate     0\n",
       "foreign_rate_bys             0\n",
       "over1000_rate_bys            0\n",
       "under400_rate_bys            0\n",
       "avg_board_bys                0\n",
       "dtype: int64"
      ]
     },
     "execution_count": 4,
     "metadata": {},
     "output_type": "execute_result"
    }
   ],
   "source": [
    "#缺值檢視\n",
    "financial_ratio.isnull().sum()"
   ]
  },
  {
   "cell_type": "code",
   "execution_count": 5,
   "id": "aa2a4196",
   "metadata": {},
   "outputs": [],
   "source": [
    "# 將數值轉為 1,0 編碼，作為模型的預測目標(應變數)\n",
    "def encoding(r,th):\n",
    "    if r >= th:\n",
    "        return 1\n",
    "    else:\n",
    "        return 0"
   ]
  },
  {
   "cell_type": "code",
   "execution_count": 6,
   "id": "82d2eda1",
   "metadata": {},
   "outputs": [],
   "source": [
    "#定義毛利率 >平均者為表現良好\n",
    "m0 = financial_ratio['operating_gross_rate'].mean()\n",
    "financial_ratio['operating_gross_rate1'] = financial_ratio.apply(lambda r : encoding(r['operating_gross_rate'],m0), axis = 1)\n",
    "\n",
    "#定義淨利率 >平均者為表現良好\n",
    "m1 = financial_ratio['net_profit_rate'].mean()\n",
    "financial_ratio['net_profit_rate1'] = financial_ratio.apply(lambda r : encoding(r['net_profit_rate'],m1), axis = 1)\n",
    "\n",
    "#定義股東權益報酬率 >平均者為表現良好\n",
    "m2 = financial_ratio['roe_rate'].mean()\n",
    "financial_ratio['roe_rate1'] = financial_ratio.apply(lambda r : encoding(r['roe_rate'],m2), axis = 1)"
   ]
  },
  {
   "cell_type": "code",
   "execution_count": 7,
   "id": "dc6d72d6",
   "metadata": {},
   "outputs": [
    {
     "name": "stdout",
     "output_type": "stream",
     "text": [
      "y.shape:  (1788,)\n",
      "y.sum(): 955\n",
      "y1.shape:  (1788,)\n",
      "y1.sum(): 1261\n",
      "y2.shape:  (1788,)\n",
      "y2.sum(): 960\n"
     ]
    }
   ],
   "source": [
    "X = financial_ratio[['current_rate', 'quick_rate', 'debt_rate', 'receivables_turnover_rate', \n",
    "                     'cash_reinvest_rate','avg_director_rate', \n",
    "                     'avg_director_pledge_rate','foreign_rate_bys','over1000_rate_bys',\n",
    "                     'under400_rate_bys','avg_board_bys']]\n",
    "X1 = financial_ratio[['current_rate', 'quick_rate', 'debt_rate', 'receivables_turnover_rate', \n",
    "                      'cash_reinvest_rate','avg_director_rate',\n",
    "                      'avg_director_pledge_rate','foreign_rate_bys','over1000_rate_bys',\n",
    "                      'under400_rate_bys','avg_board_bys','operating_gross_rate']]\n",
    "y = financial_ratio['operating_gross_rate1']\n",
    "y1 = financial_ratio['net_profit_rate1']\n",
    "y2 = financial_ratio['roe_rate1']\n",
    "print(\"y.shape: \" ,y.shape)\n",
    "print('y.sum():',y.sum())\n",
    "print(\"y1.shape: \" ,y1.shape)\n",
    "print('y1.sum():',y1.sum())\n",
    "print(\"y2.shape: \" ,y2.shape)\n",
    "print('y2.sum():',y2.sum())"
   ]
  },
  {
   "cell_type": "markdown",
   "id": "ce922e8d",
   "metadata": {},
   "source": [
    "<h3>毛利率: 833 筆標記為 0 ； 955 筆為 1\n",
    "<h3>淨利率: 527 筆標記為 0 ； 1261 筆為 1\n",
    "<h3>ROE:  828 筆標記為 0 ； 960 筆為 1"
   ]
  },
  {
   "cell_type": "code",
   "execution_count": 8,
   "id": "1a2794c7",
   "metadata": {},
   "outputs": [],
   "source": [
    "# 輸入數據調成標準值以免各特徵影響不同\n",
    "# you'll learn why scaling is needed in a later course\n",
    "from sklearn.preprocessing import StandardScaler\n",
    "\n",
    "scaler = StandardScaler()\n",
    "X_scaled = scaler.fit_transform(X)\n",
    "\n",
    "scaler1 = StandardScaler()\n",
    "X1_scaled = scaler1.fit_transform(X)"
   ]
  },
  {
   "cell_type": "code",
   "execution_count": 10,
   "id": "170d89f7",
   "metadata": {},
   "outputs": [
    {
     "name": "stdout",
     "output_type": "stream",
     "text": [
      "N: 1430 D: 11\n"
     ]
    }
   ],
   "source": [
    "#分割資料為 測試集 與 訓練集\n",
    "from sklearn.model_selection import train_test_split\n",
    "X_train, X_test, y_train, y_test = train_test_split(X_scaled, y, test_size=0.2,random_state=1)\n",
    "N, D = X_train.shape\n",
    "print (\"N:\", N, \"D:\", D)"
   ]
  },
  {
   "cell_type": "markdown",
   "id": "1fd5b92d",
   "metadata": {},
   "source": [
    "<h2> 1-1 以 DNN 類神經網路 實作 - 預測毛利率"
   ]
  },
  {
   "cell_type": "code",
   "execution_count": 14,
   "id": "48c285d5",
   "metadata": {},
   "outputs": [
    {
     "name": "stdout",
     "output_type": "stream",
     "text": [
      "2.6.0\n"
     ]
    }
   ],
   "source": [
    "import tensorflow as tf\n",
    "print(tf.__version__)"
   ]
  },
  {
   "cell_type": "code",
   "execution_count": 15,
   "id": "b3624053",
   "metadata": {},
   "outputs": [],
   "source": [
    "import numpy as np\n",
    "import matplotlib.pyplot as plt\n",
    "from tensorflow.keras.layers import Input, Conv2D, Dense, Flatten, Dropout,LeakyReLU\n",
    "from tensorflow.keras.models import Model\n",
    "from sklearn.metrics import confusion_matrix"
   ]
  },
  {
   "cell_type": "code",
   "execution_count": 12,
   "id": "05de8c6d",
   "metadata": {},
   "outputs": [],
   "source": [
    "# 建立TF模型\n",
    "model = tf.keras.models.Sequential([\n",
    "  tf.keras.layers.Input(shape=(D,)),\n",
    "  tf.keras.layers.Dense(512, activation='relu'),\n",
    "  tf.keras.layers.Dropout(0.6),\n",
    "  tf.keras.layers.Dense(128, activation='relu'),\n",
    "  tf.keras.layers.Dropout(0.4),\n",
    "  tf.keras.layers.Dense(16, activation='relu'),\n",
    "  tf.keras.layers.Dropout(0.2),\n",
    "  tf.keras.layers.Dense(1, activation='sigmoid'),\n",
    "])"
   ]
  },
  {
   "cell_type": "code",
   "execution_count": 13,
   "id": "b59291e7",
   "metadata": {},
   "outputs": [
    {
     "name": "stdout",
     "output_type": "stream",
     "text": [
      "Model: \"sequential\"\n",
      "_________________________________________________________________\n",
      "Layer (type)                 Output Shape              Param #   \n",
      "=================================================================\n",
      "dense (Dense)                (None, 512)               6144      \n",
      "_________________________________________________________________\n",
      "dropout (Dropout)            (None, 512)               0         \n",
      "_________________________________________________________________\n",
      "dense_1 (Dense)              (None, 128)               65664     \n",
      "_________________________________________________________________\n",
      "dropout_1 (Dropout)          (None, 128)               0         \n",
      "_________________________________________________________________\n",
      "dense_2 (Dense)              (None, 16)                2064      \n",
      "_________________________________________________________________\n",
      "dropout_2 (Dropout)          (None, 16)                0         \n",
      "_________________________________________________________________\n",
      "dense_3 (Dense)              (None, 1)                 17        \n",
      "=================================================================\n",
      "Total params: 73,889\n",
      "Trainable params: 73,889\n",
      "Non-trainable params: 0\n",
      "_________________________________________________________________\n"
     ]
    }
   ],
   "source": [
    "model.summary()"
   ]
  },
  {
   "cell_type": "code",
   "execution_count": 14,
   "id": "d4637fa2",
   "metadata": {},
   "outputs": [],
   "source": [
    "#編譯模型\n",
    "lr = 0.0002\n",
    "model.compile(tf.keras.optimizers.Adam(learning_rate = lr),\n",
    "              loss='binary_crossentropy',\n",
    "              metrics=['accuracy'])"
   ]
  },
  {
   "cell_type": "code",
   "execution_count": 15,
   "id": "6f666c55",
   "metadata": {
    "scrolled": true
   },
   "outputs": [
    {
     "name": "stdout",
     "output_type": "stream",
     "text": [
      "Epoch 1/200\n",
      "45/45 [==============================] - 2s 18ms/step - loss: 0.6836 - accuracy: 0.5427 - val_loss: 0.6648 - val_accuracy: 0.6369\n",
      "Epoch 2/200\n",
      "45/45 [==============================] - 0s 5ms/step - loss: 0.6645 - accuracy: 0.5895 - val_loss: 0.6474 - val_accuracy: 0.6676\n",
      "Epoch 3/200\n",
      "45/45 [==============================] - 0s 6ms/step - loss: 0.6559 - accuracy: 0.6091 - val_loss: 0.6239 - val_accuracy: 0.6872\n",
      "Epoch 4/200\n",
      "45/45 [==============================] - 0s 8ms/step - loss: 0.6392 - accuracy: 0.6266 - val_loss: 0.6098 - val_accuracy: 0.6872\n",
      "Epoch 5/200\n",
      "45/45 [==============================] - 0s 10ms/step - loss: 0.6348 - accuracy: 0.6371 - val_loss: 0.5971 - val_accuracy: 0.7011\n",
      "Epoch 6/200\n",
      "45/45 [==============================] - 0s 10ms/step - loss: 0.6323 - accuracy: 0.6378 - val_loss: 0.5885 - val_accuracy: 0.7095\n",
      "Epoch 7/200\n",
      "45/45 [==============================] - 0s 10ms/step - loss: 0.6269 - accuracy: 0.6336 - val_loss: 0.5843 - val_accuracy: 0.7095\n",
      "Epoch 8/200\n",
      "45/45 [==============================] - 0s 10ms/step - loss: 0.6127 - accuracy: 0.6629 - val_loss: 0.5769 - val_accuracy: 0.7151\n",
      "Epoch 9/200\n",
      "45/45 [==============================] - 0s 10ms/step - loss: 0.6079 - accuracy: 0.6524 - val_loss: 0.5737 - val_accuracy: 0.7123\n",
      "Epoch 10/200\n",
      "45/45 [==============================] - 0s 10ms/step - loss: 0.6088 - accuracy: 0.6636 - val_loss: 0.5728 - val_accuracy: 0.7179\n",
      "Epoch 11/200\n",
      "45/45 [==============================] - 0s 9ms/step - loss: 0.6048 - accuracy: 0.6538 - val_loss: 0.5720 - val_accuracy: 0.7151\n",
      "Epoch 12/200\n",
      "45/45 [==============================] - 0s 9ms/step - loss: 0.6152 - accuracy: 0.6580 - val_loss: 0.5713 - val_accuracy: 0.7179\n",
      "Epoch 13/200\n",
      "45/45 [==============================] - 0s 9ms/step - loss: 0.6049 - accuracy: 0.6615 - val_loss: 0.5708 - val_accuracy: 0.7207\n",
      "Epoch 14/200\n",
      "45/45 [==============================] - 0s 10ms/step - loss: 0.6125 - accuracy: 0.6706 - val_loss: 0.5683 - val_accuracy: 0.7207\n",
      "Epoch 15/200\n",
      "45/45 [==============================] - 0s 9ms/step - loss: 0.6056 - accuracy: 0.6587 - val_loss: 0.5679 - val_accuracy: 0.7207\n",
      "Epoch 16/200\n",
      "45/45 [==============================] - 0s 9ms/step - loss: 0.6023 - accuracy: 0.6671 - val_loss: 0.5662 - val_accuracy: 0.7207\n",
      "Epoch 17/200\n",
      "45/45 [==============================] - 0s 9ms/step - loss: 0.6030 - accuracy: 0.6748 - val_loss: 0.5626 - val_accuracy: 0.7263\n",
      "Epoch 18/200\n",
      "45/45 [==============================] - 0s 9ms/step - loss: 0.5992 - accuracy: 0.6699 - val_loss: 0.5605 - val_accuracy: 0.7151\n",
      "Epoch 19/200\n",
      "45/45 [==============================] - 0s 9ms/step - loss: 0.5938 - accuracy: 0.6867 - val_loss: 0.5603 - val_accuracy: 0.7123\n",
      "Epoch 20/200\n",
      "45/45 [==============================] - 0s 8ms/step - loss: 0.5900 - accuracy: 0.6769 - val_loss: 0.5597 - val_accuracy: 0.7179\n",
      "Epoch 21/200\n",
      "45/45 [==============================] - 0s 8ms/step - loss: 0.5929 - accuracy: 0.6734 - val_loss: 0.5581 - val_accuracy: 0.7263\n",
      "Epoch 22/200\n",
      "45/45 [==============================] - 0s 9ms/step - loss: 0.5892 - accuracy: 0.6783 - val_loss: 0.5574 - val_accuracy: 0.7207\n",
      "Epoch 23/200\n",
      "45/45 [==============================] - 0s 9ms/step - loss: 0.5931 - accuracy: 0.6664 - val_loss: 0.5569 - val_accuracy: 0.7207\n",
      "Epoch 24/200\n",
      "45/45 [==============================] - 0s 9ms/step - loss: 0.5838 - accuracy: 0.6734 - val_loss: 0.5524 - val_accuracy: 0.7207\n",
      "Epoch 25/200\n",
      "45/45 [==============================] - 0s 9ms/step - loss: 0.5840 - accuracy: 0.6811 - val_loss: 0.5508 - val_accuracy: 0.7207\n",
      "Epoch 26/200\n",
      "45/45 [==============================] - 0s 9ms/step - loss: 0.5894 - accuracy: 0.6664 - val_loss: 0.5512 - val_accuracy: 0.7235\n",
      "Epoch 27/200\n",
      "45/45 [==============================] - 0s 9ms/step - loss: 0.5808 - accuracy: 0.6762 - val_loss: 0.5475 - val_accuracy: 0.7235\n",
      "Epoch 28/200\n",
      "45/45 [==============================] - 0s 9ms/step - loss: 0.5725 - accuracy: 0.6902 - val_loss: 0.5458 - val_accuracy: 0.7263\n",
      "Epoch 29/200\n",
      "45/45 [==============================] - 0s 9ms/step - loss: 0.5740 - accuracy: 0.6811 - val_loss: 0.5472 - val_accuracy: 0.7318\n",
      "Epoch 30/200\n",
      "45/45 [==============================] - 0s 9ms/step - loss: 0.5773 - accuracy: 0.6769 - val_loss: 0.5446 - val_accuracy: 0.7263\n",
      "Epoch 31/200\n",
      "45/45 [==============================] - 0s 9ms/step - loss: 0.5872 - accuracy: 0.6720 - val_loss: 0.5430 - val_accuracy: 0.7291\n",
      "Epoch 32/200\n",
      "45/45 [==============================] - 0s 9ms/step - loss: 0.5712 - accuracy: 0.6846 - val_loss: 0.5416 - val_accuracy: 0.7346\n",
      "Epoch 33/200\n",
      "45/45 [==============================] - 0s 9ms/step - loss: 0.5709 - accuracy: 0.6916 - val_loss: 0.5394 - val_accuracy: 0.7318\n",
      "Epoch 34/200\n",
      "45/45 [==============================] - 0s 8ms/step - loss: 0.5678 - accuracy: 0.6881 - val_loss: 0.5366 - val_accuracy: 0.7291\n",
      "Epoch 35/200\n",
      "45/45 [==============================] - 0s 9ms/step - loss: 0.5756 - accuracy: 0.6804 - val_loss: 0.5380 - val_accuracy: 0.7346\n",
      "Epoch 36/200\n",
      "45/45 [==============================] - 0s 9ms/step - loss: 0.5727 - accuracy: 0.6916 - val_loss: 0.5342 - val_accuracy: 0.7291\n",
      "Epoch 37/200\n",
      "45/45 [==============================] - 0s 9ms/step - loss: 0.5649 - accuracy: 0.6958 - val_loss: 0.5314 - val_accuracy: 0.7318\n",
      "Epoch 38/200\n",
      "45/45 [==============================] - 0s 9ms/step - loss: 0.5675 - accuracy: 0.6909 - val_loss: 0.5299 - val_accuracy: 0.7346\n",
      "Epoch 39/200\n",
      "45/45 [==============================] - 1s 15ms/step - loss: 0.5657 - accuracy: 0.6867 - val_loss: 0.5285 - val_accuracy: 0.7263\n",
      "Epoch 40/200\n",
      "45/45 [==============================] - 0s 5ms/step - loss: 0.5687 - accuracy: 0.6867 - val_loss: 0.5294 - val_accuracy: 0.7318\n",
      "Epoch 41/200\n",
      "45/45 [==============================] - 0s 4ms/step - loss: 0.5660 - accuracy: 0.6888 - val_loss: 0.5291 - val_accuracy: 0.7346\n",
      "Epoch 42/200\n",
      "45/45 [==============================] - 0s 4ms/step - loss: 0.5626 - accuracy: 0.7035 - val_loss: 0.5280 - val_accuracy: 0.7346\n",
      "Epoch 43/200\n",
      "45/45 [==============================] - 0s 3ms/step - loss: 0.5710 - accuracy: 0.6923 - val_loss: 0.5300 - val_accuracy: 0.7402\n",
      "Epoch 44/200\n",
      "45/45 [==============================] - 0s 6ms/step - loss: 0.5607 - accuracy: 0.6846 - val_loss: 0.5295 - val_accuracy: 0.7430\n",
      "Epoch 45/200\n",
      "45/45 [==============================] - 0s 8ms/step - loss: 0.5501 - accuracy: 0.7000 - val_loss: 0.5241 - val_accuracy: 0.7402\n",
      "Epoch 46/200\n",
      "45/45 [==============================] - 0s 8ms/step - loss: 0.5571 - accuracy: 0.7007 - val_loss: 0.5260 - val_accuracy: 0.7514\n",
      "Epoch 47/200\n",
      "45/45 [==============================] - 0s 9ms/step - loss: 0.5651 - accuracy: 0.6979 - val_loss: 0.5224 - val_accuracy: 0.7458\n",
      "Epoch 48/200\n",
      "45/45 [==============================] - 0s 5ms/step - loss: 0.5543 - accuracy: 0.7007 - val_loss: 0.5201 - val_accuracy: 0.7374\n",
      "Epoch 49/200\n",
      "45/45 [==============================] - 0s 5ms/step - loss: 0.5541 - accuracy: 0.6972 - val_loss: 0.5206 - val_accuracy: 0.7458\n",
      "Epoch 50/200\n",
      "45/45 [==============================] - 0s 9ms/step - loss: 0.5426 - accuracy: 0.7140 - val_loss: 0.5196 - val_accuracy: 0.7458\n",
      "Epoch 51/200\n",
      "45/45 [==============================] - 0s 9ms/step - loss: 0.5455 - accuracy: 0.7028 - val_loss: 0.5169 - val_accuracy: 0.7402\n",
      "Epoch 52/200\n",
      "45/45 [==============================] - 0s 9ms/step - loss: 0.5514 - accuracy: 0.6979 - val_loss: 0.5165 - val_accuracy: 0.7458\n",
      "Epoch 53/200\n",
      "45/45 [==============================] - 0s 8ms/step - loss: 0.5547 - accuracy: 0.6895 - val_loss: 0.5177 - val_accuracy: 0.7486\n",
      "Epoch 54/200\n",
      "45/45 [==============================] - 0s 8ms/step - loss: 0.5413 - accuracy: 0.7147 - val_loss: 0.5151 - val_accuracy: 0.7486\n",
      "Epoch 55/200\n",
      "45/45 [==============================] - 0s 10ms/step - loss: 0.5420 - accuracy: 0.7049 - val_loss: 0.5113 - val_accuracy: 0.7458\n",
      "Epoch 56/200\n",
      "45/45 [==============================] - 0s 8ms/step - loss: 0.5495 - accuracy: 0.7091 - val_loss: 0.5106 - val_accuracy: 0.7514\n",
      "Epoch 57/200\n",
      "45/45 [==============================] - 0s 8ms/step - loss: 0.5430 - accuracy: 0.7091 - val_loss: 0.5087 - val_accuracy: 0.7598\n",
      "Epoch 58/200\n",
      "45/45 [==============================] - 0s 9ms/step - loss: 0.5359 - accuracy: 0.7140 - val_loss: 0.5087 - val_accuracy: 0.7542\n"
     ]
    },
    {
     "name": "stdout",
     "output_type": "stream",
     "text": [
      "Epoch 59/200\n",
      "45/45 [==============================] - 0s 8ms/step - loss: 0.5326 - accuracy: 0.6951 - val_loss: 0.5067 - val_accuracy: 0.7542\n",
      "Epoch 60/200\n",
      "45/45 [==============================] - 0s 8ms/step - loss: 0.5316 - accuracy: 0.7049 - val_loss: 0.5027 - val_accuracy: 0.7514\n",
      "Epoch 61/200\n",
      "45/45 [==============================] - 0s 8ms/step - loss: 0.5405 - accuracy: 0.7042 - val_loss: 0.5069 - val_accuracy: 0.7486\n",
      "Epoch 62/200\n",
      "45/45 [==============================] - 0s 8ms/step - loss: 0.5405 - accuracy: 0.7063 - val_loss: 0.5021 - val_accuracy: 0.7570\n",
      "Epoch 63/200\n",
      "45/45 [==============================] - 0s 5ms/step - loss: 0.5301 - accuracy: 0.7189 - val_loss: 0.5000 - val_accuracy: 0.7654\n",
      "Epoch 64/200\n",
      "45/45 [==============================] - 0s 5ms/step - loss: 0.5345 - accuracy: 0.7049 - val_loss: 0.5004 - val_accuracy: 0.7598\n",
      "Epoch 65/200\n",
      "45/45 [==============================] - 0s 5ms/step - loss: 0.5349 - accuracy: 0.7196 - val_loss: 0.4959 - val_accuracy: 0.7654\n",
      "Epoch 66/200\n",
      "45/45 [==============================] - 0s 9ms/step - loss: 0.5238 - accuracy: 0.7273 - val_loss: 0.4956 - val_accuracy: 0.7570\n",
      "Epoch 67/200\n",
      "45/45 [==============================] - 0s 9ms/step - loss: 0.5400 - accuracy: 0.7063 - val_loss: 0.4962 - val_accuracy: 0.7570\n",
      "Epoch 68/200\n",
      "45/45 [==============================] - 0s 9ms/step - loss: 0.5368 - accuracy: 0.7182 - val_loss: 0.4956 - val_accuracy: 0.7626\n",
      "Epoch 69/200\n",
      "45/45 [==============================] - 0s 6ms/step - loss: 0.5279 - accuracy: 0.7161 - val_loss: 0.4958 - val_accuracy: 0.7654\n",
      "Epoch 70/200\n",
      "45/45 [==============================] - 0s 9ms/step - loss: 0.5255 - accuracy: 0.7245 - val_loss: 0.4950 - val_accuracy: 0.7626\n",
      "Epoch 71/200\n",
      "45/45 [==============================] - 0s 9ms/step - loss: 0.5281 - accuracy: 0.7280 - val_loss: 0.4940 - val_accuracy: 0.7654\n",
      "Epoch 72/200\n",
      "45/45 [==============================] - 0s 5ms/step - loss: 0.5191 - accuracy: 0.7224 - val_loss: 0.4928 - val_accuracy: 0.7598\n",
      "Epoch 73/200\n",
      "45/45 [==============================] - 0s 4ms/step - loss: 0.5215 - accuracy: 0.7371 - val_loss: 0.4911 - val_accuracy: 0.7626\n",
      "Epoch 74/200\n",
      "45/45 [==============================] - 0s 8ms/step - loss: 0.5286 - accuracy: 0.7203 - val_loss: 0.4885 - val_accuracy: 0.7598\n",
      "Epoch 75/200\n",
      "45/45 [==============================] - 0s 9ms/step - loss: 0.5247 - accuracy: 0.7413 - val_loss: 0.4879 - val_accuracy: 0.7570\n",
      "Epoch 76/200\n",
      "45/45 [==============================] - 0s 9ms/step - loss: 0.5245 - accuracy: 0.7287 - val_loss: 0.4850 - val_accuracy: 0.7709\n",
      "Epoch 77/200\n",
      "45/45 [==============================] - 0s 9ms/step - loss: 0.5061 - accuracy: 0.7329 - val_loss: 0.4803 - val_accuracy: 0.7626\n",
      "Epoch 78/200\n",
      "45/45 [==============================] - 0s 8ms/step - loss: 0.5105 - accuracy: 0.7392 - val_loss: 0.4807 - val_accuracy: 0.7598\n",
      "Epoch 79/200\n",
      "45/45 [==============================] - 0s 8ms/step - loss: 0.5198 - accuracy: 0.7308 - val_loss: 0.4819 - val_accuracy: 0.7598\n",
      "Epoch 80/200\n",
      "45/45 [==============================] - 0s 8ms/step - loss: 0.5066 - accuracy: 0.7378 - val_loss: 0.4785 - val_accuracy: 0.7709\n",
      "Epoch 81/200\n",
      "45/45 [==============================] - 0s 8ms/step - loss: 0.5216 - accuracy: 0.7287 - val_loss: 0.4776 - val_accuracy: 0.7709\n",
      "Epoch 82/200\n",
      "45/45 [==============================] - 0s 8ms/step - loss: 0.5193 - accuracy: 0.7217 - val_loss: 0.4842 - val_accuracy: 0.7598\n",
      "Epoch 83/200\n",
      "45/45 [==============================] - 0s 8ms/step - loss: 0.5067 - accuracy: 0.7455 - val_loss: 0.4775 - val_accuracy: 0.7709\n",
      "Epoch 84/200\n",
      "45/45 [==============================] - 0s 5ms/step - loss: 0.5062 - accuracy: 0.7385 - val_loss: 0.4727 - val_accuracy: 0.7709\n",
      "Epoch 85/200\n",
      "45/45 [==============================] - 0s 5ms/step - loss: 0.5210 - accuracy: 0.7238 - val_loss: 0.4778 - val_accuracy: 0.7682\n",
      "Epoch 86/200\n",
      "45/45 [==============================] - 0s 4ms/step - loss: 0.5058 - accuracy: 0.7462 - val_loss: 0.4737 - val_accuracy: 0.7682\n",
      "Epoch 87/200\n",
      "45/45 [==============================] - 0s 4ms/step - loss: 0.5167 - accuracy: 0.7147 - val_loss: 0.4733 - val_accuracy: 0.7654\n",
      "Epoch 88/200\n",
      "45/45 [==============================] - 0s 3ms/step - loss: 0.5035 - accuracy: 0.7406 - val_loss: 0.4702 - val_accuracy: 0.7737\n",
      "Epoch 89/200\n",
      "45/45 [==============================] - 0s 3ms/step - loss: 0.4983 - accuracy: 0.7371 - val_loss: 0.4685 - val_accuracy: 0.7709\n",
      "Epoch 90/200\n",
      "45/45 [==============================] - 0s 2ms/step - loss: 0.5036 - accuracy: 0.7238 - val_loss: 0.4665 - val_accuracy: 0.7709\n",
      "Epoch 91/200\n",
      "45/45 [==============================] - 0s 2ms/step - loss: 0.5073 - accuracy: 0.7427 - val_loss: 0.4715 - val_accuracy: 0.7709\n",
      "Epoch 92/200\n",
      "45/45 [==============================] - 0s 2ms/step - loss: 0.4985 - accuracy: 0.7364 - val_loss: 0.4683 - val_accuracy: 0.7765\n",
      "Epoch 93/200\n",
      "45/45 [==============================] - 0s 3ms/step - loss: 0.5015 - accuracy: 0.7462 - val_loss: 0.4683 - val_accuracy: 0.7709\n",
      "Epoch 94/200\n",
      "45/45 [==============================] - 0s 3ms/step - loss: 0.4850 - accuracy: 0.7392 - val_loss: 0.4613 - val_accuracy: 0.7765\n",
      "Epoch 95/200\n",
      "45/45 [==============================] - 0s 3ms/step - loss: 0.4917 - accuracy: 0.7329 - val_loss: 0.4637 - val_accuracy: 0.7765\n",
      "Epoch 96/200\n",
      "45/45 [==============================] - 0s 3ms/step - loss: 0.5000 - accuracy: 0.7385 - val_loss: 0.4588 - val_accuracy: 0.7793\n",
      "Epoch 97/200\n",
      "45/45 [==============================] - 0s 2ms/step - loss: 0.4928 - accuracy: 0.7545 - val_loss: 0.4602 - val_accuracy: 0.7765\n",
      "Epoch 98/200\n",
      "45/45 [==============================] - 0s 2ms/step - loss: 0.5021 - accuracy: 0.7420 - val_loss: 0.4607 - val_accuracy: 0.7877\n",
      "Epoch 99/200\n",
      "45/45 [==============================] - 0s 2ms/step - loss: 0.4879 - accuracy: 0.7392 - val_loss: 0.4581 - val_accuracy: 0.7793\n",
      "Epoch 100/200\n",
      "45/45 [==============================] - 0s 3ms/step - loss: 0.4961 - accuracy: 0.7497 - val_loss: 0.4556 - val_accuracy: 0.7821\n",
      "Epoch 101/200\n",
      "45/45 [==============================] - 0s 3ms/step - loss: 0.4812 - accuracy: 0.7580 - val_loss: 0.4563 - val_accuracy: 0.7821\n",
      "Epoch 102/200\n",
      "45/45 [==============================] - 0s 2ms/step - loss: 0.4968 - accuracy: 0.7608 - val_loss: 0.4544 - val_accuracy: 0.7849\n",
      "Epoch 103/200\n",
      "45/45 [==============================] - 0s 2ms/step - loss: 0.4912 - accuracy: 0.7343 - val_loss: 0.4547 - val_accuracy: 0.7877\n",
      "Epoch 104/200\n",
      "45/45 [==============================] - 0s 2ms/step - loss: 0.5004 - accuracy: 0.7371 - val_loss: 0.4518 - val_accuracy: 0.7849\n",
      "Epoch 105/200\n",
      "45/45 [==============================] - 0s 4ms/step - loss: 0.4857 - accuracy: 0.7608 - val_loss: 0.4505 - val_accuracy: 0.7765\n",
      "Epoch 106/200\n",
      "45/45 [==============================] - 0s 5ms/step - loss: 0.4937 - accuracy: 0.7531 - val_loss: 0.4478 - val_accuracy: 0.7793\n",
      "Epoch 107/200\n",
      "45/45 [==============================] - 0s 9ms/step - loss: 0.4913 - accuracy: 0.7510 - val_loss: 0.4518 - val_accuracy: 0.7765\n",
      "Epoch 108/200\n",
      "45/45 [==============================] - 0s 6ms/step - loss: 0.4838 - accuracy: 0.7545 - val_loss: 0.4506 - val_accuracy: 0.7737\n",
      "Epoch 109/200\n",
      "45/45 [==============================] - 0s 7ms/step - loss: 0.4755 - accuracy: 0.7580 - val_loss: 0.4435 - val_accuracy: 0.7821\n",
      "Epoch 110/200\n",
      "45/45 [==============================] - 0s 6ms/step - loss: 0.4861 - accuracy: 0.7531 - val_loss: 0.4468 - val_accuracy: 0.7821\n",
      "Epoch 111/200\n",
      "45/45 [==============================] - 0s 4ms/step - loss: 0.4810 - accuracy: 0.7622 - val_loss: 0.4448 - val_accuracy: 0.7793\n",
      "Epoch 112/200\n",
      "45/45 [==============================] - 0s 3ms/step - loss: 0.4860 - accuracy: 0.7538 - val_loss: 0.4461 - val_accuracy: 0.7765\n",
      "Epoch 113/200\n",
      "45/45 [==============================] - 0s 3ms/step - loss: 0.4854 - accuracy: 0.7601 - val_loss: 0.4477 - val_accuracy: 0.7765\n",
      "Epoch 114/200\n",
      "45/45 [==============================] - 0s 3ms/step - loss: 0.4718 - accuracy: 0.7657 - val_loss: 0.4406 - val_accuracy: 0.7793\n",
      "Epoch 115/200\n",
      "45/45 [==============================] - 0s 4ms/step - loss: 0.4734 - accuracy: 0.7706 - val_loss: 0.4390 - val_accuracy: 0.7821\n",
      "Epoch 116/200\n",
      "45/45 [==============================] - 0s 4ms/step - loss: 0.4725 - accuracy: 0.7573 - val_loss: 0.4355 - val_accuracy: 0.7793\n",
      "Epoch 117/200\n",
      "45/45 [==============================] - 0s 10ms/step - loss: 0.4723 - accuracy: 0.7741 - val_loss: 0.4369 - val_accuracy: 0.7821\n",
      "Epoch 118/200\n",
      "45/45 [==============================] - 0s 7ms/step - loss: 0.4881 - accuracy: 0.7559 - val_loss: 0.4342 - val_accuracy: 0.7793\n",
      "Epoch 119/200\n",
      "45/45 [==============================] - 0s 5ms/step - loss: 0.4774 - accuracy: 0.7587 - val_loss: 0.4348 - val_accuracy: 0.7821\n",
      "Epoch 120/200\n",
      "45/45 [==============================] - 0s 5ms/step - loss: 0.4638 - accuracy: 0.7622 - val_loss: 0.4339 - val_accuracy: 0.7905\n",
      "Epoch 121/200\n",
      "45/45 [==============================] - 0s 5ms/step - loss: 0.4697 - accuracy: 0.7650 - val_loss: 0.4290 - val_accuracy: 0.8017\n",
      "Epoch 122/200\n",
      "45/45 [==============================] - 0s 5ms/step - loss: 0.4638 - accuracy: 0.7678 - val_loss: 0.4316 - val_accuracy: 0.7905\n",
      "Epoch 123/200\n",
      "45/45 [==============================] - 0s 7ms/step - loss: 0.4700 - accuracy: 0.7615 - val_loss: 0.4348 - val_accuracy: 0.7989\n",
      "Epoch 124/200\n",
      "45/45 [==============================] - 0s 6ms/step - loss: 0.4611 - accuracy: 0.7685 - val_loss: 0.4303 - val_accuracy: 0.7989\n",
      "Epoch 125/200\n",
      "45/45 [==============================] - 0s 6ms/step - loss: 0.4795 - accuracy: 0.7566 - val_loss: 0.4288 - val_accuracy: 0.7989\n",
      "Epoch 126/200\n",
      "45/45 [==============================] - 0s 5ms/step - loss: 0.4531 - accuracy: 0.7769 - val_loss: 0.4256 - val_accuracy: 0.7989\n",
      "Epoch 127/200\n",
      "45/45 [==============================] - 0s 4ms/step - loss: 0.4603 - accuracy: 0.7748 - val_loss: 0.4231 - val_accuracy: 0.8073\n",
      "Epoch 128/200\n",
      "45/45 [==============================] - 0s 4ms/step - loss: 0.4674 - accuracy: 0.7748 - val_loss: 0.4286 - val_accuracy: 0.7905\n",
      "Epoch 129/200\n",
      "45/45 [==============================] - 0s 5ms/step - loss: 0.4597 - accuracy: 0.7692 - val_loss: 0.4222 - val_accuracy: 0.8017\n",
      "Epoch 130/200\n",
      "45/45 [==============================] - 0s 6ms/step - loss: 0.4592 - accuracy: 0.7748 - val_loss: 0.4198 - val_accuracy: 0.7933\n",
      "Epoch 131/200\n",
      "45/45 [==============================] - 0s 5ms/step - loss: 0.4557 - accuracy: 0.7699 - val_loss: 0.4232 - val_accuracy: 0.7849\n",
      "Epoch 132/200\n",
      "45/45 [==============================] - 0s 9ms/step - loss: 0.4523 - accuracy: 0.7832 - val_loss: 0.4226 - val_accuracy: 0.8017\n",
      "Epoch 133/200\n",
      "45/45 [==============================] - 0s 7ms/step - loss: 0.4638 - accuracy: 0.7783 - val_loss: 0.4227 - val_accuracy: 0.7961\n",
      "Epoch 134/200\n",
      "45/45 [==============================] - 0s 5ms/step - loss: 0.4574 - accuracy: 0.7727 - val_loss: 0.4208 - val_accuracy: 0.7961\n",
      "Epoch 135/200\n",
      "45/45 [==============================] - 0s 5ms/step - loss: 0.4663 - accuracy: 0.7748 - val_loss: 0.4208 - val_accuracy: 0.8017\n",
      "Epoch 136/200\n",
      "45/45 [==============================] - 0s 5ms/step - loss: 0.4436 - accuracy: 0.7797 - val_loss: 0.4181 - val_accuracy: 0.7961\n",
      "Epoch 137/200\n",
      "45/45 [==============================] - 0s 4ms/step - loss: 0.4439 - accuracy: 0.7706 - val_loss: 0.4139 - val_accuracy: 0.7989\n",
      "Epoch 138/200\n",
      "45/45 [==============================] - 0s 4ms/step - loss: 0.4573 - accuracy: 0.7720 - val_loss: 0.4126 - val_accuracy: 0.8017\n",
      "Epoch 139/200\n",
      "45/45 [==============================] - 0s 4ms/step - loss: 0.4455 - accuracy: 0.7720 - val_loss: 0.4196 - val_accuracy: 0.8017\n",
      "Epoch 140/200\n",
      "45/45 [==============================] - 0s 4ms/step - loss: 0.4349 - accuracy: 0.7895 - val_loss: 0.4159 - val_accuracy: 0.8045\n",
      "Epoch 141/200\n",
      "45/45 [==============================] - 0s 4ms/step - loss: 0.4399 - accuracy: 0.7937 - val_loss: 0.4163 - val_accuracy: 0.8073\n",
      "Epoch 142/200\n",
      "45/45 [==============================] - 0s 4ms/step - loss: 0.4497 - accuracy: 0.7783 - val_loss: 0.4175 - val_accuracy: 0.7961\n",
      "Epoch 143/200\n",
      "45/45 [==============================] - 0s 4ms/step - loss: 0.4439 - accuracy: 0.7811 - val_loss: 0.4127 - val_accuracy: 0.8017\n",
      "Epoch 144/200\n",
      "45/45 [==============================] - 0s 4ms/step - loss: 0.4478 - accuracy: 0.7867 - val_loss: 0.4109 - val_accuracy: 0.8017\n",
      "Epoch 145/200\n",
      "45/45 [==============================] - 0s 4ms/step - loss: 0.4455 - accuracy: 0.7713 - val_loss: 0.4135 - val_accuracy: 0.8017\n",
      "Epoch 146/200\n",
      "45/45 [==============================] - 0s 4ms/step - loss: 0.4484 - accuracy: 0.7797 - val_loss: 0.4152 - val_accuracy: 0.8073\n",
      "Epoch 147/200\n",
      "45/45 [==============================] - 0s 4ms/step - loss: 0.4476 - accuracy: 0.7958 - val_loss: 0.4181 - val_accuracy: 0.8073\n",
      "Epoch 148/200\n",
      "45/45 [==============================] - 0s 4ms/step - loss: 0.4440 - accuracy: 0.7888 - val_loss: 0.4140 - val_accuracy: 0.8073\n",
      "Epoch 149/200\n",
      "45/45 [==============================] - 0s 4ms/step - loss: 0.4421 - accuracy: 0.7916 - val_loss: 0.4168 - val_accuracy: 0.8045\n",
      "Epoch 150/200\n",
      "45/45 [==============================] - 0s 4ms/step - loss: 0.4453 - accuracy: 0.7797 - val_loss: 0.4126 - val_accuracy: 0.8073\n",
      "Epoch 151/200\n",
      "45/45 [==============================] - 0s 5ms/step - loss: 0.4456 - accuracy: 0.7832 - val_loss: 0.4147 - val_accuracy: 0.8073\n",
      "Epoch 152/200\n",
      "45/45 [==============================] - 0s 5ms/step - loss: 0.4388 - accuracy: 0.7937 - val_loss: 0.4124 - val_accuracy: 0.8101\n",
      "Epoch 153/200\n",
      "45/45 [==============================] - 0s 5ms/step - loss: 0.4432 - accuracy: 0.7867 - val_loss: 0.4107 - val_accuracy: 0.8017\n",
      "Epoch 154/200\n",
      "45/45 [==============================] - 0s 5ms/step - loss: 0.4359 - accuracy: 0.7937 - val_loss: 0.4095 - val_accuracy: 0.8101\n",
      "Epoch 155/200\n",
      "45/45 [==============================] - 0s 5ms/step - loss: 0.4423 - accuracy: 0.7888 - val_loss: 0.4097 - val_accuracy: 0.8045\n",
      "Epoch 156/200\n",
      "45/45 [==============================] - 0s 4ms/step - loss: 0.4311 - accuracy: 0.7881 - val_loss: 0.4099 - val_accuracy: 0.8045\n",
      "Epoch 157/200\n",
      "45/45 [==============================] - 0s 4ms/step - loss: 0.4267 - accuracy: 0.7916 - val_loss: 0.4072 - val_accuracy: 0.8101\n",
      "Epoch 158/200\n",
      "45/45 [==============================] - 0s 5ms/step - loss: 0.4326 - accuracy: 0.8070 - val_loss: 0.4070 - val_accuracy: 0.8073\n",
      "Epoch 159/200\n",
      "45/45 [==============================] - 0s 5ms/step - loss: 0.4218 - accuracy: 0.7930 - val_loss: 0.4055 - val_accuracy: 0.8101\n",
      "Epoch 160/200\n",
      "45/45 [==============================] - 0s 4ms/step - loss: 0.4325 - accuracy: 0.7874 - val_loss: 0.4017 - val_accuracy: 0.8045\n",
      "Epoch 161/200\n",
      "45/45 [==============================] - 0s 4ms/step - loss: 0.4386 - accuracy: 0.7839 - val_loss: 0.4019 - val_accuracy: 0.7989\n",
      "Epoch 162/200\n",
      "45/45 [==============================] - 0s 4ms/step - loss: 0.4339 - accuracy: 0.7909 - val_loss: 0.4044 - val_accuracy: 0.8073\n",
      "Epoch 163/200\n",
      "45/45 [==============================] - 0s 4ms/step - loss: 0.4371 - accuracy: 0.8091 - val_loss: 0.4043 - val_accuracy: 0.8073\n",
      "Epoch 164/200\n",
      "45/45 [==============================] - 0s 4ms/step - loss: 0.4153 - accuracy: 0.8077 - val_loss: 0.4047 - val_accuracy: 0.8017\n",
      "Epoch 165/200\n",
      "45/45 [==============================] - 0s 4ms/step - loss: 0.4308 - accuracy: 0.7972 - val_loss: 0.4054 - val_accuracy: 0.8101\n",
      "Epoch 166/200\n",
      "45/45 [==============================] - 0s 4ms/step - loss: 0.4242 - accuracy: 0.7909 - val_loss: 0.4018 - val_accuracy: 0.8073\n",
      "Epoch 167/200\n",
      "45/45 [==============================] - 0s 4ms/step - loss: 0.4298 - accuracy: 0.7881 - val_loss: 0.3977 - val_accuracy: 0.7961\n",
      "Epoch 168/200\n",
      "45/45 [==============================] - 0s 4ms/step - loss: 0.4213 - accuracy: 0.7951 - val_loss: 0.3984 - val_accuracy: 0.7989\n",
      "Epoch 169/200\n",
      "45/45 [==============================] - 0s 4ms/step - loss: 0.4268 - accuracy: 0.7958 - val_loss: 0.3984 - val_accuracy: 0.8073\n",
      "Epoch 170/200\n",
      "45/45 [==============================] - 0s 4ms/step - loss: 0.4390 - accuracy: 0.7867 - val_loss: 0.3997 - val_accuracy: 0.8101\n",
      "Epoch 171/200\n",
      "45/45 [==============================] - 0s 4ms/step - loss: 0.4242 - accuracy: 0.7972 - val_loss: 0.3975 - val_accuracy: 0.8073\n",
      "Epoch 172/200\n",
      "45/45 [==============================] - 0s 4ms/step - loss: 0.4133 - accuracy: 0.8021 - val_loss: 0.3970 - val_accuracy: 0.7989\n",
      "Epoch 173/200\n"
     ]
    },
    {
     "name": "stdout",
     "output_type": "stream",
     "text": [
      "45/45 [==============================] - 0s 4ms/step - loss: 0.4097 - accuracy: 0.8014 - val_loss: 0.3965 - val_accuracy: 0.8073\n",
      "Epoch 174/200\n",
      "45/45 [==============================] - 0s 4ms/step - loss: 0.4215 - accuracy: 0.7965 - val_loss: 0.3960 - val_accuracy: 0.8045\n",
      "Epoch 175/200\n",
      "45/45 [==============================] - 0s 4ms/step - loss: 0.4277 - accuracy: 0.7965 - val_loss: 0.3976 - val_accuracy: 0.7989\n",
      "Epoch 176/200\n",
      "45/45 [==============================] - 0s 4ms/step - loss: 0.4281 - accuracy: 0.7979 - val_loss: 0.3966 - val_accuracy: 0.8017\n",
      "Epoch 177/200\n",
      "45/45 [==============================] - 0s 4ms/step - loss: 0.4287 - accuracy: 0.7951 - val_loss: 0.3959 - val_accuracy: 0.8073\n",
      "Epoch 178/200\n",
      "45/45 [==============================] - 0s 4ms/step - loss: 0.4174 - accuracy: 0.8028 - val_loss: 0.3968 - val_accuracy: 0.8045\n",
      "Epoch 179/200\n",
      "45/45 [==============================] - 0s 3ms/step - loss: 0.4286 - accuracy: 0.7881 - val_loss: 0.3967 - val_accuracy: 0.8073\n",
      "Epoch 180/200\n",
      "45/45 [==============================] - 0s 3ms/step - loss: 0.4014 - accuracy: 0.8098 - val_loss: 0.3878 - val_accuracy: 0.8156\n",
      "Epoch 181/200\n",
      "45/45 [==============================] - 0s 3ms/step - loss: 0.4144 - accuracy: 0.8000 - val_loss: 0.3943 - val_accuracy: 0.8101\n",
      "Epoch 182/200\n",
      "45/45 [==============================] - 0s 3ms/step - loss: 0.4147 - accuracy: 0.7930 - val_loss: 0.3936 - val_accuracy: 0.8073\n",
      "Epoch 183/200\n",
      "45/45 [==============================] - 0s 3ms/step - loss: 0.4204 - accuracy: 0.8056 - val_loss: 0.3937 - val_accuracy: 0.8184\n",
      "Epoch 184/200\n",
      "45/45 [==============================] - 0s 3ms/step - loss: 0.4115 - accuracy: 0.8049 - val_loss: 0.3883 - val_accuracy: 0.8017\n",
      "Epoch 185/200\n",
      "45/45 [==============================] - 0s 3ms/step - loss: 0.4144 - accuracy: 0.8105 - val_loss: 0.3942 - val_accuracy: 0.8128\n",
      "Epoch 186/200\n",
      "45/45 [==============================] - 0s 3ms/step - loss: 0.4125 - accuracy: 0.8056 - val_loss: 0.3925 - val_accuracy: 0.8073\n",
      "Epoch 187/200\n",
      "45/45 [==============================] - 0s 3ms/step - loss: 0.4084 - accuracy: 0.8063 - val_loss: 0.3915 - val_accuracy: 0.8017\n",
      "Epoch 188/200\n",
      "45/45 [==============================] - 0s 3ms/step - loss: 0.3964 - accuracy: 0.8224 - val_loss: 0.3926 - val_accuracy: 0.8045\n",
      "Epoch 189/200\n",
      "45/45 [==============================] - 0s 3ms/step - loss: 0.4003 - accuracy: 0.8105 - val_loss: 0.3883 - val_accuracy: 0.8017\n",
      "Epoch 190/200\n",
      "45/45 [==============================] - 0s 3ms/step - loss: 0.4044 - accuracy: 0.8161 - val_loss: 0.3916 - val_accuracy: 0.8017\n",
      "Epoch 191/200\n",
      "45/45 [==============================] - 0s 5ms/step - loss: 0.4274 - accuracy: 0.8091 - val_loss: 0.3930 - val_accuracy: 0.8017\n",
      "Epoch 192/200\n",
      "45/45 [==============================] - 0s 5ms/step - loss: 0.4054 - accuracy: 0.8098 - val_loss: 0.3897 - val_accuracy: 0.8017\n",
      "Epoch 193/200\n",
      "45/45 [==============================] - 0s 4ms/step - loss: 0.4148 - accuracy: 0.8126 - val_loss: 0.3902 - val_accuracy: 0.8156\n",
      "Epoch 194/200\n",
      "45/45 [==============================] - 0s 4ms/step - loss: 0.3959 - accuracy: 0.8119 - val_loss: 0.3887 - val_accuracy: 0.8184\n",
      "Epoch 195/200\n",
      "45/45 [==============================] - 0s 4ms/step - loss: 0.3956 - accuracy: 0.8168 - val_loss: 0.3852 - val_accuracy: 0.8045\n",
      "Epoch 196/200\n",
      "45/45 [==============================] - 0s 4ms/step - loss: 0.3953 - accuracy: 0.8147 - val_loss: 0.3887 - val_accuracy: 0.8017\n",
      "Epoch 197/200\n",
      "45/45 [==============================] - 0s 4ms/step - loss: 0.4037 - accuracy: 0.8098 - val_loss: 0.3969 - val_accuracy: 0.8045\n",
      "Epoch 198/200\n",
      "45/45 [==============================] - 0s 4ms/step - loss: 0.4009 - accuracy: 0.8049 - val_loss: 0.3880 - val_accuracy: 0.8073\n",
      "Epoch 199/200\n",
      "45/45 [==============================] - 0s 4ms/step - loss: 0.3939 - accuracy: 0.8168 - val_loss: 0.3870 - val_accuracy: 0.8017\n",
      "Epoch 200/200\n",
      "45/45 [==============================] - 0s 4ms/step - loss: 0.4246 - accuracy: 0.7951 - val_loss: 0.3881 - val_accuracy: 0.8017\n",
      "=====================================================================\n",
      "45/45 [==============================] - 0s 2ms/step - loss: 0.3325 - accuracy: 0.8615\n",
      "Train score: [0.3325193226337433, 0.8615384697914124]\n",
      "12/12 [==============================] - 0s 2ms/step - loss: 0.3881 - accuracy: 0.8017\n",
      "Test score: [0.38813576102256775, 0.8016759753227234]\n"
     ]
    }
   ],
   "source": [
    "# 訓練模型\n",
    "r = model.fit(X_train, y_train, validation_data=(X_test, y_test), epochs=200)\n",
    "\n",
    "# 評估模型 - evaluate() returns loss and accuracy\n",
    "print(\"=====================================================================\")\n",
    "print(\"Train score:\", model.evaluate(X_train, y_train))\n",
    "\n",
    "print(\"Test score:\", model.evaluate(X_test, y_test))"
   ]
  },
  {
   "cell_type": "code",
   "execution_count": 16,
   "id": "13deec6d",
   "metadata": {},
   "outputs": [
    {
     "data": {
      "text/plain": [
       "<matplotlib.legend.Legend at 0x204ddf13310>"
      ]
     },
     "execution_count": 16,
     "metadata": {},
     "output_type": "execute_result"
    },
    {
     "data": {
      "image/png": "[encoded data removed]",
      "text/plain": [
       "<Figure size 432x288 with 1 Axes>"
      ]
     },
     "metadata": {
      "needs_background": "light"
     },
     "output_type": "display_data"
    }
   ],
   "source": [
    "# 劃出 model.fit() training 和 validating 的 loss\n",
    "import matplotlib.pyplot as plt\n",
    "plt.plot(r.history['loss'], label='loss')\n",
    "plt.plot(r.history['val_loss'], label='val_loss')\n",
    "plt.legend()"
   ]
  },
  {
   "cell_type": "code",
   "execution_count": 17,
   "id": "420ad5dd",
   "metadata": {
    "scrolled": true
   },
   "outputs": [
    {
     "data": {
      "text/plain": [
       "<matplotlib.legend.Legend at 0x204de0096a0>"
      ]
     },
     "execution_count": 17,
     "metadata": {},
     "output_type": "execute_result"
    },
    {
     "data": {
      "image/png": "[encoded data removed]",
      "text/plain": [
       "<Figure size 432x288 with 1 Axes>"
      ]
     },
     "metadata": {
      "needs_background": "light"
     },
     "output_type": "display_data"
    }
   ],
   "source": [
    "# 劃出準確性 accuracy \n",
    "plt.plot(r.history['accuracy'], label='acc')\n",
    "plt.plot(r.history['val_accuracy'], label='val_acc')\n",
    "plt.legend()"
   ]
  },
  {
   "cell_type": "code",
   "execution_count": 18,
   "id": "0803368b",
   "metadata": {},
   "outputs": [
    {
     "data": {
      "text/plain": [
       "array([[136,  43],\n",
       "       [ 28, 151]], dtype=int64)"
      ]
     },
     "execution_count": 18,
     "metadata": {},
     "output_type": "execute_result"
    }
   ],
   "source": [
    "pred_test = model.predict(X_test)\n",
    "pred_test = np.round(pred_test).flatten()\n",
    "cm = confusion_matrix(y_test, pred_test)\n",
    "cm"
   ]
  },
  {
   "cell_type": "markdown",
   "id": "5225e38f",
   "metadata": {},
   "source": [
    "<h1> 1-2 以羅吉斯回歸實作 - 預測毛利率"
   ]
  },
  {
   "cell_type": "code",
   "execution_count": 19,
   "id": "6d609fac",
   "metadata": {},
   "outputs": [
    {
     "name": "stdout",
     "output_type": "stream",
     "text": [
      "[0 1 1 1 1 1 0 1 0 1 0 0 1 1 0 0 1 1 1 1 1 0 1 1 1 1 1 1 1 1 0 0 1 1 1 0 0\n",
      " 1 0 1 1 0 1 1 1 1 1 1 0 0 1 1 0 1 0 1 0 0 1 0 1 0 0 1 0 0 1 1 0 0 0 1 1 0\n",
      " 0 0 0 1 1 0 1 0 1 1 1 1 1 1 1 1 0 1 0 0 1 1 0 0 1 1 1 1 0 1 1 0 1 1 0 1 1\n",
      " 1 1 1 1 1 1 0 1 0 1 1 1 1 0 0 0 1 1 0 1 1 0 0 1 0 1 1 0 0 1 0 0 1 1 1 1 0\n",
      " 0 0 1 1 1 1 0 0 0 1 1 0 1 1 0 0 0 1 0 1 0 0 0 1 0 0 1 1 0 0 0 1 1 1 1 0 0\n",
      " 0 0 1 0 1 1 0 1 1 1 0 1 1 0 1 1 1 1 1 0 0 1 0 0 1 0 1 0 1 1 1 1 1 0 0 0 1\n",
      " 0 1 1 0 1 0 0 1 0 0 0 0 1 1 1 0 1 0 1 1 1 0 1 1 1 1 1 1 1 1 1 0 0 1 1 1 1\n",
      " 0 1 1 0 0 0 1 0 0 1 0 1 0 0 1 1 1 0 0 0 1 1 1 0 0 0 0 1 0 1 0 1 0 1 1 1 0\n",
      " 0 1 0 0 0 0 0 1 0 0 1 0 1 0 1 1 0 1 0 1 1 1 1 0 1 1 1 1 0 1 0 1 1 0 1 1 0\n",
      " 0 1 1 0 0 1 1 0 1 1 0 0 1 0 1 1 0 1 0 0 1 1 1 1 0]\n",
      "==============================\n",
      "0.6804195804195804\n"
     ]
    }
   ],
   "source": [
    "from sklearn.linear_model import LogisticRegression\n",
    "log = LogisticRegression()\n",
    "log.fit(X_train, y_train)\n",
    "\n",
    "log_pred = log.predict(X_test)\n",
    "print(log_pred)\n",
    "print(\"==============================\")\n",
    "print(log.score(X_train, y_train))\n",
    "# print(y_test)"
   ]
  },
  {
   "cell_type": "code",
   "execution_count": 20,
   "id": "cd4f949d",
   "metadata": {},
   "outputs": [
    {
     "data": {
      "text/plain": [
       "0.7122905027932961"
      ]
     },
     "execution_count": 20,
     "metadata": {},
     "output_type": "execute_result"
    }
   ],
   "source": [
    "from sklearn.metrics import accuracy_score\n",
    "accuracy = accuracy_score(y_test, log_pred)\n",
    "accuracy"
   ]
  },
  {
   "cell_type": "code",
   "execution_count": 21,
   "id": "b882b067",
   "metadata": {},
   "outputs": [
    {
     "data": {
      "text/plain": [
       "array([[114,  65],\n",
       "       [ 38, 141]], dtype=int64)"
      ]
     },
     "execution_count": 21,
     "metadata": {},
     "output_type": "execute_result"
    }
   ],
   "source": [
    "cm = confusion_matrix(y_test, log_pred)\n",
    "cm"
   ]
  },
  {
   "cell_type": "markdown",
   "id": "9d1ecbb3",
   "metadata": {},
   "source": [
    "<h2> 1-3 以 SVM 實作 - 預測毛利率"
   ]
  },
  {
   "cell_type": "code",
   "execution_count": null,
   "id": "4dc3bf4a",
   "metadata": {},
   "outputs": [],
   "source": [
    "from sklearn.svm import SVC\n",
    "clf = SVC(C = 1e5, kernel = 'linear')\n",
    "clf.fit(X_train, y_train) "
   ]
  },
  {
   "cell_type": "code",
   "execution_count": null,
   "id": "75f12e12",
   "metadata": {},
   "outputs": [],
   "source": [
    "pred_clf = clf.predict(X_test)\n",
    "print(pred_clf)\n",
    "print(\"==============================\")\n",
    "print(clf.score(X_train, y_train))"
   ]
  },
  {
   "cell_type": "code",
   "execution_count": null,
   "id": "632736be",
   "metadata": {},
   "outputs": [],
   "source": [
    "accuracy_SVM = accuracy_score(y_test, pred_clf)\n",
    "accuracy_SVM"
   ]
  },
  {
   "cell_type": "markdown",
   "id": "62fe4711",
   "metadata": {},
   "source": [
    "<h1>1.4 以 RandomForestClassifier 實作 毛利率預測"
   ]
  },
  {
   "cell_type": "code",
   "execution_count": 22,
   "id": "174523b4",
   "metadata": {},
   "outputs": [
    {
     "name": "stdout",
     "output_type": "stream",
     "text": [
      "1.0\n"
     ]
    }
   ],
   "source": [
    "#Import Random Forest Model\n",
    "from sklearn.ensemble import RandomForestClassifier\n",
    "\n",
    "#Create a Gaussian Classifier\n",
    "forest=RandomForestClassifier(n_estimators=100)\n",
    "\n",
    "\n",
    "#Train the model using the training sets y_pred=clf.predict(X_test)\n",
    "forest.fit(X_train, y_train)\n",
    "print(forest.score(X_train, y_train))"
   ]
  },
  {
   "cell_type": "code",
   "execution_count": 23,
   "id": "17ab6cb8",
   "metadata": {},
   "outputs": [
    {
     "name": "stdout",
     "output_type": "stream",
     "text": [
      "Accuracy: 0.8743016759776536\n"
     ]
    }
   ],
   "source": [
    "from sklearn.metrics import accuracy_score\n",
    "forest_pred=forest.predict(X_test)\n",
    "print(\"Accuracy:\",accuracy_score(y_test, forest_pred))"
   ]
  },
  {
   "cell_type": "code",
   "execution_count": 24,
   "id": "2c12d233",
   "metadata": {},
   "outputs": [
    {
     "data": {
      "text/plain": [
       "array([[149,  30],\n",
       "       [ 15, 164]], dtype=int64)"
      ]
     },
     "execution_count": 24,
     "metadata": {},
     "output_type": "execute_result"
    }
   ],
   "source": [
    "pred_test = np.round(forest_pred).flatten()\n",
    "cm = confusion_matrix(y_test, pred_test)\n",
    "cm"
   ]
  },
  {
   "cell_type": "markdown",
   "id": "37daa5e7",
   "metadata": {},
   "source": [
    "<h1> 1.5 以 naive_bayes 實作 毛利率預測"
   ]
  },
  {
   "cell_type": "code",
   "execution_count": 25,
   "id": "15203661",
   "metadata": {},
   "outputs": [
    {
     "name": "stdout",
     "output_type": "stream",
     "text": [
      "0.6258741258741258\n"
     ]
    }
   ],
   "source": [
    "from sklearn.naive_bayes import GaussianNB\n",
    "nb = GaussianNB()\n",
    "nb.fit(X_train, y_train)\n",
    "print(nb.score(X_train, y_train))"
   ]
  },
  {
   "cell_type": "code",
   "execution_count": 26,
   "id": "26ef1090",
   "metadata": {},
   "outputs": [
    {
     "name": "stdout",
     "output_type": "stream",
     "text": [
      "Accuracy: 0.6536312849162011\n"
     ]
    }
   ],
   "source": [
    "nb_pred = nb.predict(X_test)\n",
    "print(\"Accuracy:\",accuracy_score(y_test, nb_pred))"
   ]
  },
  {
   "cell_type": "code",
   "execution_count": 27,
   "id": "0ec96b1a",
   "metadata": {},
   "outputs": [
    {
     "data": {
      "text/plain": [
       "array([[111,  68],\n",
       "       [ 56, 123]], dtype=int64)"
      ]
     },
     "execution_count": 27,
     "metadata": {},
     "output_type": "execute_result"
    }
   ],
   "source": [
    "pred_test = np.round(nb_pred).flatten()\n",
    "cm = confusion_matrix(y_test, pred_test)\n",
    "cm"
   ]
  },
  {
   "cell_type": "markdown",
   "id": "b48f655f",
   "metadata": {},
   "source": [
    "<h1> 1.6 以 KNN 實作 毛利率預測"
   ]
  },
  {
   "cell_type": "code",
   "execution_count": 28,
   "id": "f55e6cd7",
   "metadata": {},
   "outputs": [
    {
     "name": "stdout",
     "output_type": "stream",
     "text": [
      "0.8748251748251749\n"
     ]
    }
   ],
   "source": [
    "from sklearn.neighbors import KNeighborsClassifier\n",
    "knn = KNeighborsClassifier()\n",
    "knn.fit(X_train, y_train)\n",
    "print(knn.score(X_train, y_train))"
   ]
  },
  {
   "cell_type": "code",
   "execution_count": 29,
   "id": "acd59602",
   "metadata": {},
   "outputs": [
    {
     "name": "stdout",
     "output_type": "stream",
     "text": [
      "Accuracy: 0.7932960893854749\n"
     ]
    }
   ],
   "source": [
    "knn_pred = knn.predict(X_test)\n",
    "print(\"Accuracy:\",accuracy_score(y_test, knn_pred))"
   ]
  },
  {
   "cell_type": "code",
   "execution_count": 30,
   "id": "18f19cf7",
   "metadata": {},
   "outputs": [
    {
     "data": {
      "text/plain": [
       "array([[144,  35],\n",
       "       [ 39, 140]], dtype=int64)"
      ]
     },
     "execution_count": 30,
     "metadata": {},
     "output_type": "execute_result"
    }
   ],
   "source": [
    "pred_test = np.round(knn_pred).flatten()\n",
    "cm = confusion_matrix(y_test, pred_test)\n",
    "cm"
   ]
  },
  {
   "cell_type": "markdown",
   "id": "3042eab3",
   "metadata": {},
   "source": [
    "<h2>初步測試預測\"毛利率\"結果:</h2>\n",
    "<h4>1-1 DNN: \n",
    "    <h4>測試資料集準確度 0.8779; 訓練資料準確度 0.7836</h4>\n",
    "<h4>1-2 Logistic:\n",
    "    <h4>測試資料集準確度 0.7204; 訓練資料準確度 0.6648</h4>\n",
    "<h4>1-3 SVM: \n",
    "    <h4>測試資料集準確度 0.5316; 訓練資料準確度 0.5068</h4>\n",
    "<h4>1-4 RandomForestClassifier: \n",
    "    <h4>測試資料集準確度 1.0000; 訓練資料準確度 0.8366</h4>\n",
    "<h4>1-5 naive_bayes: \n",
    "    <h4>測試資料集準確度 0.5275; 訓練資料準確度 0.4930</h4>\n",
    "<h4>1-6 KNN: \n",
    "    <h4>測試資料集準確度 0.6944; 訓練資料準確度 0.4676</h4>"
   ]
  },
  {
   "cell_type": "markdown",
   "id": "0cb32a58",
   "metadata": {},
   "source": [
    "<h3>目前\"毛利率\"表現最佳者為 RandomForestClassifier，DNN 其次"
   ]
  },
  {
   "cell_type": "markdown",
   "id": "c23c6198",
   "metadata": {},
   "source": [
    "<h3>_____________________分隔_______________________"
   ]
  },
  {
   "cell_type": "markdown",
   "id": "c09ef211",
   "metadata": {},
   "source": [
    "# 以財務數據預測 淨利率"
   ]
  },
  {
   "cell_type": "markdown",
   "id": "7dc8b41f",
   "metadata": {},
   "source": [
    "<h2> 2-1 以 DNN 實作預測 淨利率"
   ]
  },
  {
   "cell_type": "code",
   "execution_count": 31,
   "id": "4edc023f",
   "metadata": {},
   "outputs": [
    {
     "name": "stdout",
     "output_type": "stream",
     "text": [
      "N: 1430 D: 11\n"
     ]
    }
   ],
   "source": [
    "X_train, X_test, y1_train, y1_test = train_test_split(X_scaled, y1, test_size=0.2)\n",
    "N, D = X_train.shape\n",
    "print (\"N:\", N, \"D:\", D)"
   ]
  },
  {
   "cell_type": "code",
   "execution_count": 32,
   "id": "8f7bfb90",
   "metadata": {},
   "outputs": [],
   "source": [
    "# 建立TF模型 for 淨利\n",
    "model1 = tf.keras.models.Sequential([\n",
    "  tf.keras.layers.Input(shape=(D,)),\n",
    "  tf.keras.layers.Dense(64, activation='relu'),\n",
    "  tf.keras.layers.Dropout(0.2),\n",
    "  tf.keras.layers.Dense(32, activation='relu'),\n",
    "  tf.keras.layers.Dropout(0.2),\n",
    "  tf.keras.layers.Dense(1, activation='sigmoid')\n",
    "  ])\n",
    "\n",
    "#編譯模型\n",
    "lr = 0.0003\n",
    "model1.compile(tf.keras.optimizers.Adam(learning_rate = lr),\n",
    "              loss='binary_crossentropy',\n",
    "              metrics=['accuracy'])"
   ]
  },
  {
   "cell_type": "code",
   "execution_count": 33,
   "id": "b7eb8971",
   "metadata": {},
   "outputs": [
    {
     "name": "stdout",
     "output_type": "stream",
     "text": [
      "Model: \"sequential_1\"\n",
      "_________________________________________________________________\n",
      "Layer (type)                 Output Shape              Param #   \n",
      "=================================================================\n",
      "dense_4 (Dense)              (None, 64)                768       \n",
      "_________________________________________________________________\n",
      "dropout_3 (Dropout)          (None, 64)                0         \n",
      "_________________________________________________________________\n",
      "dense_5 (Dense)              (None, 32)                2080      \n",
      "_________________________________________________________________\n",
      "dropout_4 (Dropout)          (None, 32)                0         \n",
      "_________________________________________________________________\n",
      "dense_6 (Dense)              (None, 1)                 33        \n",
      "=================================================================\n",
      "Total params: 2,881\n",
      "Trainable params: 2,881\n",
      "Non-trainable params: 0\n",
      "_________________________________________________________________\n"
     ]
    }
   ],
   "source": [
    "model1.summary()"
   ]
  },
  {
   "cell_type": "code",
   "execution_count": 34,
   "id": "7f791217",
   "metadata": {},
   "outputs": [
    {
     "name": "stdout",
     "output_type": "stream",
     "text": [
      "Epoch 1/120\n",
      "45/45 [==============================] - 1s 5ms/step - loss: 0.7400 - accuracy: 0.4573 - val_loss: 0.6953 - val_accuracy: 0.5475\n",
      "Epoch 2/120\n",
      "45/45 [==============================] - 0s 1ms/step - loss: 0.6578 - accuracy: 0.6573 - val_loss: 0.6592 - val_accuracy: 0.6564\n",
      "Epoch 3/120\n",
      "45/45 [==============================] - 0s 1ms/step - loss: 0.6221 - accuracy: 0.7063 - val_loss: 0.6328 - val_accuracy: 0.6648\n",
      "Epoch 4/120\n",
      "45/45 [==============================] - 0s 1ms/step - loss: 0.5957 - accuracy: 0.7210 - val_loss: 0.6103 - val_accuracy: 0.6704\n",
      "Epoch 5/120\n",
      "45/45 [==============================] - 0s 1ms/step - loss: 0.5716 - accuracy: 0.7217 - val_loss: 0.5901 - val_accuracy: 0.6648\n",
      "Epoch 6/120\n",
      "45/45 [==============================] - 0s 1ms/step - loss: 0.5511 - accuracy: 0.7308 - val_loss: 0.5750 - val_accuracy: 0.6844\n",
      "Epoch 7/120\n",
      "45/45 [==============================] - 0s 1ms/step - loss: 0.5441 - accuracy: 0.7336 - val_loss: 0.5629 - val_accuracy: 0.6872\n",
      "Epoch 8/120\n",
      "45/45 [==============================] - 0s 1ms/step - loss: 0.5173 - accuracy: 0.7503 - val_loss: 0.5527 - val_accuracy: 0.7151\n",
      "Epoch 9/120\n",
      "45/45 [==============================] - 0s 1ms/step - loss: 0.5190 - accuracy: 0.7552 - val_loss: 0.5452 - val_accuracy: 0.7151\n",
      "Epoch 10/120\n",
      "45/45 [==============================] - 0s 1ms/step - loss: 0.5091 - accuracy: 0.7434 - val_loss: 0.5410 - val_accuracy: 0.7123\n",
      "Epoch 11/120\n",
      "45/45 [==============================] - 0s 1ms/step - loss: 0.5076 - accuracy: 0.7545 - val_loss: 0.5348 - val_accuracy: 0.7235\n",
      "Epoch 12/120\n",
      "45/45 [==============================] - 0s 1ms/step - loss: 0.4974 - accuracy: 0.7734 - val_loss: 0.5320 - val_accuracy: 0.7291\n",
      "Epoch 13/120\n",
      "45/45 [==============================] - 0s 1ms/step - loss: 0.4933 - accuracy: 0.7671 - val_loss: 0.5291 - val_accuracy: 0.7430\n",
      "Epoch 14/120\n",
      "45/45 [==============================] - 0s 1ms/step - loss: 0.4908 - accuracy: 0.7636 - val_loss: 0.5266 - val_accuracy: 0.7486\n",
      "Epoch 15/120\n",
      "45/45 [==============================] - 0s 1ms/step - loss: 0.4867 - accuracy: 0.7727 - val_loss: 0.5263 - val_accuracy: 0.7514\n",
      "Epoch 16/120\n",
      "45/45 [==============================] - 0s 1ms/step - loss: 0.4909 - accuracy: 0.7727 - val_loss: 0.5279 - val_accuracy: 0.7430\n",
      "Epoch 17/120\n",
      "45/45 [==============================] - 0s 1ms/step - loss: 0.4886 - accuracy: 0.7818 - val_loss: 0.5237 - val_accuracy: 0.7542\n",
      "Epoch 18/120\n",
      "45/45 [==============================] - 0s 1ms/step - loss: 0.4891 - accuracy: 0.7629 - val_loss: 0.5236 - val_accuracy: 0.7542\n",
      "Epoch 19/120\n",
      "45/45 [==============================] - 0s 1ms/step - loss: 0.4768 - accuracy: 0.7790 - val_loss: 0.5222 - val_accuracy: 0.7486\n",
      "Epoch 20/120\n",
      "45/45 [==============================] - 0s 1ms/step - loss: 0.4839 - accuracy: 0.7818 - val_loss: 0.5216 - val_accuracy: 0.7402\n",
      "Epoch 21/120\n",
      "45/45 [==============================] - 0s 1ms/step - loss: 0.4860 - accuracy: 0.7706 - val_loss: 0.5205 - val_accuracy: 0.7430\n",
      "Epoch 22/120\n",
      "45/45 [==============================] - 0s 1ms/step - loss: 0.4723 - accuracy: 0.7811 - val_loss: 0.5200 - val_accuracy: 0.7402\n",
      "Epoch 23/120\n",
      "45/45 [==============================] - 0s 1ms/step - loss: 0.4667 - accuracy: 0.7811 - val_loss: 0.5204 - val_accuracy: 0.7374\n",
      "Epoch 24/120\n",
      "45/45 [==============================] - 0s 1ms/step - loss: 0.4735 - accuracy: 0.7818 - val_loss: 0.5169 - val_accuracy: 0.7402\n",
      "Epoch 25/120\n",
      "45/45 [==============================] - 0s 1ms/step - loss: 0.4673 - accuracy: 0.7846 - val_loss: 0.5171 - val_accuracy: 0.7402\n",
      "Epoch 26/120\n",
      "45/45 [==============================] - 0s 1ms/step - loss: 0.4722 - accuracy: 0.7734 - val_loss: 0.5167 - val_accuracy: 0.7458\n",
      "Epoch 27/120\n",
      "45/45 [==============================] - 0s 1ms/step - loss: 0.4733 - accuracy: 0.7846 - val_loss: 0.5165 - val_accuracy: 0.7402\n",
      "Epoch 28/120\n",
      "45/45 [==============================] - 0s 1ms/step - loss: 0.4714 - accuracy: 0.7832 - val_loss: 0.5132 - val_accuracy: 0.7430\n",
      "Epoch 29/120\n",
      "45/45 [==============================] - 0s 1ms/step - loss: 0.4654 - accuracy: 0.7818 - val_loss: 0.5146 - val_accuracy: 0.7430\n",
      "Epoch 30/120\n",
      "45/45 [==============================] - 0s 1ms/step - loss: 0.4663 - accuracy: 0.7741 - val_loss: 0.5154 - val_accuracy: 0.7430\n",
      "Epoch 31/120\n",
      "45/45 [==============================] - 0s 1ms/step - loss: 0.4657 - accuracy: 0.7860 - val_loss: 0.5138 - val_accuracy: 0.7486\n",
      "Epoch 32/120\n",
      "45/45 [==============================] - 0s 1ms/step - loss: 0.4628 - accuracy: 0.7888 - val_loss: 0.5116 - val_accuracy: 0.7458\n",
      "Epoch 33/120\n",
      "45/45 [==============================] - 0s 1ms/step - loss: 0.4596 - accuracy: 0.7825 - val_loss: 0.5139 - val_accuracy: 0.7458\n",
      "Epoch 34/120\n",
      "45/45 [==============================] - 0s 1ms/step - loss: 0.4541 - accuracy: 0.7881 - val_loss: 0.5137 - val_accuracy: 0.7458\n",
      "Epoch 35/120\n",
      "45/45 [==============================] - 0s 1ms/step - loss: 0.4496 - accuracy: 0.7867 - val_loss: 0.5107 - val_accuracy: 0.7486\n",
      "Epoch 36/120\n",
      "45/45 [==============================] - 0s 1ms/step - loss: 0.4625 - accuracy: 0.7804 - val_loss: 0.5063 - val_accuracy: 0.7458\n",
      "Epoch 37/120\n",
      "45/45 [==============================] - 0s 1ms/step - loss: 0.4615 - accuracy: 0.7930 - val_loss: 0.5098 - val_accuracy: 0.7514\n",
      "Epoch 38/120\n",
      "45/45 [==============================] - 0s 1ms/step - loss: 0.4574 - accuracy: 0.7874 - val_loss: 0.5102 - val_accuracy: 0.7486\n",
      "Epoch 39/120\n",
      "45/45 [==============================] - 0s 1ms/step - loss: 0.4541 - accuracy: 0.7811 - val_loss: 0.5086 - val_accuracy: 0.7542\n",
      "Epoch 40/120\n",
      "45/45 [==============================] - 0s 1ms/step - loss: 0.4566 - accuracy: 0.7930 - val_loss: 0.5087 - val_accuracy: 0.7542\n",
      "Epoch 41/120\n",
      "45/45 [==============================] - 0s 1ms/step - loss: 0.4474 - accuracy: 0.7930 - val_loss: 0.5094 - val_accuracy: 0.7542\n",
      "Epoch 42/120\n",
      "45/45 [==============================] - 0s 1ms/step - loss: 0.4530 - accuracy: 0.7755 - val_loss: 0.5086 - val_accuracy: 0.7570\n",
      "Epoch 43/120\n",
      "45/45 [==============================] - 0s 1ms/step - loss: 0.4504 - accuracy: 0.7923 - val_loss: 0.5050 - val_accuracy: 0.7570\n",
      "Epoch 44/120\n",
      "45/45 [==============================] - 0s 1ms/step - loss: 0.4478 - accuracy: 0.7937 - val_loss: 0.5029 - val_accuracy: 0.7626\n",
      "Epoch 45/120\n",
      "45/45 [==============================] - 0s 1ms/step - loss: 0.4544 - accuracy: 0.7853 - val_loss: 0.5046 - val_accuracy: 0.7570\n",
      "Epoch 46/120\n",
      "45/45 [==============================] - 0s 1ms/step - loss: 0.4475 - accuracy: 0.7923 - val_loss: 0.5050 - val_accuracy: 0.7654\n",
      "Epoch 47/120\n",
      "45/45 [==============================] - 0s 1ms/step - loss: 0.4453 - accuracy: 0.7986 - val_loss: 0.5006 - val_accuracy: 0.7654\n",
      "Epoch 48/120\n",
      "45/45 [==============================] - 0s 1ms/step - loss: 0.4473 - accuracy: 0.7902 - val_loss: 0.5022 - val_accuracy: 0.7598\n",
      "Epoch 49/120\n",
      "45/45 [==============================] - 0s 1ms/step - loss: 0.4436 - accuracy: 0.7986 - val_loss: 0.5029 - val_accuracy: 0.7626\n",
      "Epoch 50/120\n",
      "45/45 [==============================] - 0s 2ms/step - loss: 0.4495 - accuracy: 0.7909 - val_loss: 0.5038 - val_accuracy: 0.7626\n",
      "Epoch 51/120\n",
      "45/45 [==============================] - 0s 1ms/step - loss: 0.4406 - accuracy: 0.7979 - val_loss: 0.5027 - val_accuracy: 0.7654\n",
      "Epoch 52/120\n",
      "45/45 [==============================] - 0s 1ms/step - loss: 0.4477 - accuracy: 0.7965 - val_loss: 0.5038 - val_accuracy: 0.7654\n",
      "Epoch 53/120\n",
      "45/45 [==============================] - 0s 1ms/step - loss: 0.4466 - accuracy: 0.7888 - val_loss: 0.5041 - val_accuracy: 0.7654\n",
      "Epoch 54/120\n",
      "45/45 [==============================] - 0s 1ms/step - loss: 0.4337 - accuracy: 0.8014 - val_loss: 0.5038 - val_accuracy: 0.7626\n",
      "Epoch 55/120\n",
      "45/45 [==============================] - 0s 1ms/step - loss: 0.4358 - accuracy: 0.8126 - val_loss: 0.5043 - val_accuracy: 0.7598\n",
      "Epoch 56/120\n",
      "45/45 [==============================] - 0s 1ms/step - loss: 0.4439 - accuracy: 0.7909 - val_loss: 0.5028 - val_accuracy: 0.7598\n",
      "Epoch 57/120\n",
      "45/45 [==============================] - 0s 1ms/step - loss: 0.4392 - accuracy: 0.7986 - val_loss: 0.5016 - val_accuracy: 0.7626\n",
      "Epoch 58/120\n",
      "45/45 [==============================] - 0s 1ms/step - loss: 0.4363 - accuracy: 0.8007 - val_loss: 0.5021 - val_accuracy: 0.7682\n"
     ]
    },
    {
     "name": "stdout",
     "output_type": "stream",
     "text": [
      "Epoch 59/120\n",
      "45/45 [==============================] - 0s 1ms/step - loss: 0.4403 - accuracy: 0.8028 - val_loss: 0.5035 - val_accuracy: 0.7598\n",
      "Epoch 60/120\n",
      "45/45 [==============================] - 0s 1ms/step - loss: 0.4454 - accuracy: 0.7860 - val_loss: 0.5007 - val_accuracy: 0.7598\n",
      "Epoch 61/120\n",
      "45/45 [==============================] - 0s 1ms/step - loss: 0.4347 - accuracy: 0.8028 - val_loss: 0.4991 - val_accuracy: 0.7626\n",
      "Epoch 62/120\n",
      "45/45 [==============================] - 0s 1ms/step - loss: 0.4420 - accuracy: 0.8035 - val_loss: 0.5021 - val_accuracy: 0.7654\n",
      "Epoch 63/120\n",
      "45/45 [==============================] - 0s 1ms/step - loss: 0.4370 - accuracy: 0.7937 - val_loss: 0.5000 - val_accuracy: 0.7598\n",
      "Epoch 64/120\n",
      "45/45 [==============================] - 0s 1ms/step - loss: 0.4353 - accuracy: 0.8077 - val_loss: 0.4989 - val_accuracy: 0.7654\n",
      "Epoch 65/120\n",
      "45/45 [==============================] - 0s 1ms/step - loss: 0.4271 - accuracy: 0.8084 - val_loss: 0.4994 - val_accuracy: 0.7626\n",
      "Epoch 66/120\n",
      "45/45 [==============================] - 0s 1ms/step - loss: 0.4295 - accuracy: 0.8049 - val_loss: 0.4989 - val_accuracy: 0.7626\n",
      "Epoch 67/120\n",
      "45/45 [==============================] - 0s 1ms/step - loss: 0.4392 - accuracy: 0.7972 - val_loss: 0.4982 - val_accuracy: 0.7626\n",
      "Epoch 68/120\n",
      "45/45 [==============================] - 0s 1ms/step - loss: 0.4342 - accuracy: 0.8014 - val_loss: 0.5012 - val_accuracy: 0.7654\n",
      "Epoch 69/120\n",
      "45/45 [==============================] - 0s 1ms/step - loss: 0.4256 - accuracy: 0.8070 - val_loss: 0.5000 - val_accuracy: 0.7654\n",
      "Epoch 70/120\n",
      "45/45 [==============================] - 0s 1ms/step - loss: 0.4334 - accuracy: 0.7965 - val_loss: 0.5011 - val_accuracy: 0.7709\n",
      "Epoch 71/120\n",
      "45/45 [==============================] - 0s 1ms/step - loss: 0.4293 - accuracy: 0.8091 - val_loss: 0.4983 - val_accuracy: 0.7654\n",
      "Epoch 72/120\n",
      "45/45 [==============================] - 0s 1ms/step - loss: 0.4321 - accuracy: 0.8028 - val_loss: 0.4980 - val_accuracy: 0.7682\n",
      "Epoch 73/120\n",
      "45/45 [==============================] - 0s 1ms/step - loss: 0.4350 - accuracy: 0.8063 - val_loss: 0.4986 - val_accuracy: 0.7682\n",
      "Epoch 74/120\n",
      "45/45 [==============================] - 0s 1ms/step - loss: 0.4337 - accuracy: 0.8035 - val_loss: 0.4979 - val_accuracy: 0.7709\n",
      "Epoch 75/120\n",
      "45/45 [==============================] - 0s 1ms/step - loss: 0.4319 - accuracy: 0.8000 - val_loss: 0.4953 - val_accuracy: 0.7654\n",
      "Epoch 76/120\n",
      "45/45 [==============================] - 0s 1ms/step - loss: 0.4284 - accuracy: 0.7965 - val_loss: 0.4949 - val_accuracy: 0.7682\n",
      "Epoch 77/120\n",
      "45/45 [==============================] - 0s 1ms/step - loss: 0.4250 - accuracy: 0.8133 - val_loss: 0.4946 - val_accuracy: 0.7626\n",
      "Epoch 78/120\n",
      "45/45 [==============================] - 0s 1ms/step - loss: 0.4363 - accuracy: 0.8063 - val_loss: 0.4933 - val_accuracy: 0.7626\n",
      "Epoch 79/120\n",
      "45/45 [==============================] - 0s 1ms/step - loss: 0.4302 - accuracy: 0.7965 - val_loss: 0.4927 - val_accuracy: 0.7709\n",
      "Epoch 80/120\n",
      "45/45 [==============================] - 0s 1ms/step - loss: 0.4263 - accuracy: 0.8028 - val_loss: 0.4934 - val_accuracy: 0.7654\n",
      "Epoch 81/120\n",
      "45/45 [==============================] - 0s 1ms/step - loss: 0.4268 - accuracy: 0.8084 - val_loss: 0.4910 - val_accuracy: 0.7709\n",
      "Epoch 82/120\n",
      "45/45 [==============================] - 0s 1ms/step - loss: 0.4363 - accuracy: 0.7986 - val_loss: 0.4921 - val_accuracy: 0.7682\n",
      "Epoch 83/120\n",
      "45/45 [==============================] - 0s 1ms/step - loss: 0.4280 - accuracy: 0.8007 - val_loss: 0.4948 - val_accuracy: 0.7654\n",
      "Epoch 84/120\n",
      "45/45 [==============================] - 0s 1ms/step - loss: 0.4188 - accuracy: 0.8084 - val_loss: 0.4974 - val_accuracy: 0.7709\n",
      "Epoch 85/120\n",
      "45/45 [==============================] - 0s 1ms/step - loss: 0.4253 - accuracy: 0.8126 - val_loss: 0.4969 - val_accuracy: 0.7709\n",
      "Epoch 86/120\n",
      "45/45 [==============================] - 0s 1ms/step - loss: 0.4217 - accuracy: 0.7979 - val_loss: 0.4945 - val_accuracy: 0.7682\n",
      "Epoch 87/120\n",
      "45/45 [==============================] - 0s 1ms/step - loss: 0.4186 - accuracy: 0.8098 - val_loss: 0.4979 - val_accuracy: 0.7682\n",
      "Epoch 88/120\n",
      "45/45 [==============================] - 0s 1ms/step - loss: 0.4184 - accuracy: 0.8070 - val_loss: 0.4982 - val_accuracy: 0.7709\n",
      "Epoch 89/120\n",
      "45/45 [==============================] - 0s 1ms/step - loss: 0.4303 - accuracy: 0.8063 - val_loss: 0.4933 - val_accuracy: 0.7709\n",
      "Epoch 90/120\n",
      "45/45 [==============================] - 0s 1ms/step - loss: 0.4216 - accuracy: 0.8098 - val_loss: 0.4959 - val_accuracy: 0.7709\n",
      "Epoch 91/120\n",
      "45/45 [==============================] - 0s 1ms/step - loss: 0.4201 - accuracy: 0.7979 - val_loss: 0.4930 - val_accuracy: 0.7709\n",
      "Epoch 92/120\n",
      "45/45 [==============================] - 0s 1ms/step - loss: 0.4251 - accuracy: 0.8063 - val_loss: 0.4936 - val_accuracy: 0.7709\n",
      "Epoch 93/120\n",
      "45/45 [==============================] - 0s 1ms/step - loss: 0.4186 - accuracy: 0.8126 - val_loss: 0.4925 - val_accuracy: 0.7793\n",
      "Epoch 94/120\n",
      "45/45 [==============================] - 0s 1ms/step - loss: 0.4172 - accuracy: 0.8077 - val_loss: 0.4918 - val_accuracy: 0.7737\n",
      "Epoch 95/120\n",
      "45/45 [==============================] - 0s 1ms/step - loss: 0.4194 - accuracy: 0.8056 - val_loss: 0.4916 - val_accuracy: 0.7682\n",
      "Epoch 96/120\n",
      "45/45 [==============================] - 0s 1ms/step - loss: 0.4103 - accuracy: 0.8210 - val_loss: 0.4914 - val_accuracy: 0.7682\n",
      "Epoch 97/120\n",
      "45/45 [==============================] - 0s 1ms/step - loss: 0.4302 - accuracy: 0.7902 - val_loss: 0.4918 - val_accuracy: 0.7737\n",
      "Epoch 98/120\n",
      "45/45 [==============================] - 0s 1ms/step - loss: 0.4191 - accuracy: 0.8133 - val_loss: 0.4911 - val_accuracy: 0.7709\n",
      "Epoch 99/120\n",
      "45/45 [==============================] - 0s 1ms/step - loss: 0.4089 - accuracy: 0.8217 - val_loss: 0.4873 - val_accuracy: 0.7821\n",
      "Epoch 100/120\n",
      "45/45 [==============================] - 0s 1ms/step - loss: 0.4144 - accuracy: 0.8035 - val_loss: 0.4905 - val_accuracy: 0.7737\n",
      "Epoch 101/120\n",
      "45/45 [==============================] - 0s 1ms/step - loss: 0.4106 - accuracy: 0.8196 - val_loss: 0.4920 - val_accuracy: 0.7682\n",
      "Epoch 102/120\n",
      "45/45 [==============================] - 0s 1ms/step - loss: 0.4195 - accuracy: 0.8077 - val_loss: 0.4925 - val_accuracy: 0.7654\n",
      "Epoch 103/120\n",
      "45/45 [==============================] - 0s 1ms/step - loss: 0.4106 - accuracy: 0.8084 - val_loss: 0.4901 - val_accuracy: 0.7626\n",
      "Epoch 104/120\n",
      "45/45 [==============================] - 0s 1ms/step - loss: 0.4088 - accuracy: 0.8140 - val_loss: 0.4926 - val_accuracy: 0.7654\n",
      "Epoch 105/120\n",
      "45/45 [==============================] - 0s 1ms/step - loss: 0.4210 - accuracy: 0.7958 - val_loss: 0.4919 - val_accuracy: 0.7598\n",
      "Epoch 106/120\n",
      "45/45 [==============================] - 0s 1ms/step - loss: 0.4122 - accuracy: 0.8168 - val_loss: 0.4908 - val_accuracy: 0.7682\n",
      "Epoch 107/120\n",
      "45/45 [==============================] - 0s 1ms/step - loss: 0.4080 - accuracy: 0.8140 - val_loss: 0.4909 - val_accuracy: 0.7682\n",
      "Epoch 108/120\n",
      "45/45 [==============================] - 0s 1ms/step - loss: 0.4060 - accuracy: 0.8231 - val_loss: 0.4920 - val_accuracy: 0.7654\n",
      "Epoch 109/120\n",
      "45/45 [==============================] - 0s 1ms/step - loss: 0.4122 - accuracy: 0.8112 - val_loss: 0.4922 - val_accuracy: 0.7709\n",
      "Epoch 110/120\n",
      "45/45 [==============================] - 0s 1ms/step - loss: 0.4187 - accuracy: 0.8056 - val_loss: 0.4895 - val_accuracy: 0.7709\n",
      "Epoch 111/120\n",
      "45/45 [==============================] - 0s 1ms/step - loss: 0.4182 - accuracy: 0.8133 - val_loss: 0.4884 - val_accuracy: 0.7737\n",
      "Epoch 112/120\n",
      "45/45 [==============================] - 0s 1ms/step - loss: 0.3987 - accuracy: 0.8147 - val_loss: 0.4868 - val_accuracy: 0.7737\n",
      "Epoch 113/120\n",
      "45/45 [==============================] - 0s 1ms/step - loss: 0.4113 - accuracy: 0.8084 - val_loss: 0.4836 - val_accuracy: 0.7709\n",
      "Epoch 114/120\n",
      "45/45 [==============================] - 0s 1ms/step - loss: 0.4056 - accuracy: 0.8154 - val_loss: 0.4897 - val_accuracy: 0.7682\n",
      "Epoch 115/120\n",
      "45/45 [==============================] - 0s 1ms/step - loss: 0.4073 - accuracy: 0.8161 - val_loss: 0.4896 - val_accuracy: 0.7709\n",
      "Epoch 116/120\n",
      "45/45 [==============================] - 0s 1ms/step - loss: 0.4073 - accuracy: 0.8182 - val_loss: 0.4893 - val_accuracy: 0.7654\n",
      "Epoch 117/120\n",
      "45/45 [==============================] - 0s 1ms/step - loss: 0.4034 - accuracy: 0.8182 - val_loss: 0.4920 - val_accuracy: 0.7654\n",
      "Epoch 118/120\n",
      "45/45 [==============================] - 0s 1ms/step - loss: 0.4092 - accuracy: 0.8154 - val_loss: 0.4946 - val_accuracy: 0.7682\n",
      "Epoch 119/120\n",
      "45/45 [==============================] - 0s 1ms/step - loss: 0.4166 - accuracy: 0.8000 - val_loss: 0.4918 - val_accuracy: 0.7709\n",
      "Epoch 120/120\n",
      "45/45 [==============================] - 0s 1ms/step - loss: 0.4031 - accuracy: 0.8182 - val_loss: 0.4904 - val_accuracy: 0.7682\n",
      "45/45 [==============================] - 0s 577us/step - loss: 0.3792 - accuracy: 0.8280\n",
      "Train score: [0.37919583916664124, 0.8279720544815063]\n",
      "12/12 [==============================] - 0s 710us/step - loss: 0.4904 - accuracy: 0.7682\n",
      "Test score: [0.49036040902137756, 0.7681564092636108]\n"
     ]
    }
   ],
   "source": [
    "# 訓練模型\n",
    "r1 = model1.fit(X_train, y1_train, validation_data=(X_test, y1_test), epochs=120)\n",
    "\n",
    "# 評估模型 - evaluate() returns loss and accuracy\n",
    "print(\"Train score:\", model1.evaluate(X_train, y1_train))\n",
    "print(\"Test score:\", model1.evaluate(X_test, y1_test))"
   ]
  },
  {
   "cell_type": "code",
   "execution_count": 35,
   "id": "d49212cb",
   "metadata": {},
   "outputs": [
    {
     "data": {
      "text/plain": [
       "<matplotlib.legend.Legend at 0x204df53bfd0>"
      ]
     },
     "execution_count": 35,
     "metadata": {},
     "output_type": "execute_result"
    },
    {
     "data": {
      "image/png": "[encoded data removed]",
      "text/plain": [
       "<Figure size 432x288 with 1 Axes>"
      ]
     },
     "metadata": {
      "needs_background": "light"
     },
     "output_type": "display_data"
    }
   ],
   "source": [
    "# 劃出 model.fit() training 和 validating 的 loss\n",
    "import matplotlib.pyplot as plt\n",
    "plt.plot(r1.history['loss'], label='loss')\n",
    "plt.plot(r1.history['val_loss'], label='val_loss')\n",
    "plt.legend()"
   ]
  },
  {
   "cell_type": "code",
   "execution_count": 36,
   "id": "b8c4a154",
   "metadata": {
    "scrolled": true
   },
   "outputs": [
    {
     "data": {
      "text/plain": [
       "<matplotlib.legend.Legend at 0x204df519400>"
      ]
     },
     "execution_count": 36,
     "metadata": {},
     "output_type": "execute_result"
    },
    {
     "data": {
      "image/png": "[encoded data removed]",
      "text/plain": [
       "<Figure size 432x288 with 1 Axes>"
      ]
     },
     "metadata": {
      "needs_background": "light"
     },
     "output_type": "display_data"
    }
   ],
   "source": [
    "# 劃出準確性 accuracy \n",
    "plt.plot(r1.history['accuracy'], label='acc')\n",
    "plt.plot(r1.history['val_accuracy'], label='val_acc')\n",
    "plt.legend()"
   ]
  },
  {
   "cell_type": "code",
   "execution_count": 45,
   "id": "06b7c26a",
   "metadata": {},
   "outputs": [],
   "source": [
    "model.save('./net_profit_model.h5')"
   ]
  },
  {
   "cell_type": "markdown",
   "id": "adb3180e",
   "metadata": {},
   "source": [
    "<h1> 2-2 用羅吉斯回歸實作 預測淨利率"
   ]
  },
  {
   "cell_type": "code",
   "execution_count": 37,
   "id": "7154de80",
   "metadata": {},
   "outputs": [
    {
     "name": "stdout",
     "output_type": "stream",
     "text": [
      "[1 0 1 0 1 0 1 0 0 1 1 1 1 1 0 1 1 1 1 1 1 1 1 1 0 1 1 1 1 1 1 0 1 0 0 1 1\n",
      " 1 1 0 1 1 1 0 1 0 1 1 1 1 1 0 0 1 1 1 0 1 1 1 1 1 1 1 1 1 1 1 1 1 1 0 1 0\n",
      " 1 1 1 1 1 1 1 1 0 0 1 0 1 1 1 0 1 1 1 1 1 1 0 1 1 0 0 1 1 1 1 1 0 0 1 1 1\n",
      " 1 1 1 1 1 1 0 1 1 1 1 0 1 1 1 1 1 1 1 0 1 1 1 0 1 0 1 0 1 1 1 1 1 1 1 0 1\n",
      " 1 1 1 1 1 1 1 1 1 1 1 1 1 1 0 1 1 1 1 1 1 1 1 1 1 0 1 0 1 1 1 1 1 0 1 1 1\n",
      " 1 1 1 1 1 1 1 0 1 0 1 1 1 1 0 1 1 1 1 1 1 1 1 1 1 1 1 1 1 1 1 1 1 1 1 1 1\n",
      " 0 1 0 1 0 1 1 1 1 1 1 1 1 1 0 1 1 0 1 0 0 1 1 1 1 1 1 1 1 1 1 1 1 1 1 1 1\n",
      " 1 1 1 0 1 1 1 1 1 0 1 1 1 1 1 1 1 1 1 1 0 0 1 0 1 1 1 0 1 1 0 1 1 1 0 1 0\n",
      " 1 1 1 1 1 1 1 1 1 1 1 1 1 1 1 1 1 1 0 1 1 1 1 1 1 1 0 0 1 0 1 1 1 1 1 1 1\n",
      " 1 1 1 1 1 1 1 0 1 1 1 1 1 1 1 1 1 1 1 1 1 1 1 1 1]\n",
      "==============================\n",
      "0.7657342657342657\n"
     ]
    }
   ],
   "source": [
    "from sklearn.linear_model import LogisticRegression\n",
    "log1 = LogisticRegression()\n",
    "log1.fit(X_train, y1_train)\n",
    "\n",
    "pred1 = log1.predict(X_test)\n",
    "print(pred1)\n",
    "print(\"==============================\")\n",
    "print(log1.score(X_train, y1_train))\n",
    "# print(y_test)"
   ]
  },
  {
   "cell_type": "code",
   "execution_count": 38,
   "id": "589ce6e9",
   "metadata": {},
   "outputs": [
    {
     "data": {
      "text/plain": [
       "0.729050279329609"
      ]
     },
     "execution_count": 38,
     "metadata": {},
     "output_type": "execute_result"
    }
   ],
   "source": [
    "accuracy1 = accuracy_score(y1_test, pred1)\n",
    "accuracy1"
   ]
  },
  {
   "cell_type": "markdown",
   "id": "30a6e31d",
   "metadata": {},
   "source": [
    "<h1> 2-3 以 SVM 實作 預測淨利率"
   ]
  },
  {
   "cell_type": "code",
   "execution_count": null,
   "id": "fbb27d86",
   "metadata": {},
   "outputs": [],
   "source": [
    "from sklearn.svm import SVC\n",
    "clf1 = SVC(C = 1e5, kernel = 'linear')\n",
    "clf1.fit(X_train, y1_train) \n",
    "pred_clf1 = clf1.predict(X_test)\n",
    "print(pred_clf1)\n",
    "print(\"==============================\")\n",
    "print(clf1.score(X_train, y1_train))"
   ]
  },
  {
   "cell_type": "code",
   "execution_count": null,
   "id": "a68b5de0",
   "metadata": {},
   "outputs": [],
   "source": [
    "accuracy_SVM = accuracy_score(y1_test, pred_clf1)\n",
    "accuracy_SVM"
   ]
  },
  {
   "cell_type": "markdown",
   "id": "63c1c911",
   "metadata": {},
   "source": [
    "<h1>2.4 以 RandomForestClassifier 實作 淨利率 預測"
   ]
  },
  {
   "cell_type": "code",
   "execution_count": 39,
   "id": "d644e176",
   "metadata": {},
   "outputs": [
    {
     "name": "stdout",
     "output_type": "stream",
     "text": [
      "1.0\n"
     ]
    }
   ],
   "source": [
    "#Import Random Forest Model\n",
    "from sklearn.ensemble import RandomForestClassifier\n",
    "\n",
    "#Create a Gaussian Classifier\n",
    "forest1=RandomForestClassifier(n_estimators=100)\n",
    "\n",
    "#Train the model using the training sets y_pred=clf.predict(X_test)\n",
    "forest1.fit(X_train, y1_train)\n",
    "print(forest1.score(X_train, y1_train))"
   ]
  },
  {
   "cell_type": "code",
   "execution_count": 40,
   "id": "da84a36a",
   "metadata": {},
   "outputs": [
    {
     "name": "stdout",
     "output_type": "stream",
     "text": [
      "Accuracy: 0.8072625698324022\n"
     ]
    }
   ],
   "source": [
    "from sklearn.metrics import accuracy_score\n",
    "forest_pred1=forest1.predict(X_test)\n",
    "print(\"Accuracy:\",accuracy_score(y1_test, forest_pred1))"
   ]
  },
  {
   "cell_type": "markdown",
   "id": "f06e1f83",
   "metadata": {},
   "source": [
    "<h1> 2.5 以 naive_bayes 實作 淨利率 預測"
   ]
  },
  {
   "cell_type": "code",
   "execution_count": 41,
   "id": "61d72300",
   "metadata": {},
   "outputs": [
    {
     "name": "stdout",
     "output_type": "stream",
     "text": [
      "0.7363636363636363\n"
     ]
    }
   ],
   "source": [
    "from sklearn.naive_bayes import GaussianNB\n",
    "nb1 = GaussianNB()\n",
    "nb1.fit(X_train, y1_train)\n",
    "print(nb1.score(X_train, y1_train))"
   ]
  },
  {
   "cell_type": "code",
   "execution_count": 42,
   "id": "9a3bda01",
   "metadata": {},
   "outputs": [
    {
     "name": "stdout",
     "output_type": "stream",
     "text": [
      "Accuracy: 0.6759776536312849\n"
     ]
    }
   ],
   "source": [
    "nb1_pred = nb1.predict(X_test)\n",
    "print(\"Accuracy:\",accuracy_score(y1_test, nb1_pred))"
   ]
  },
  {
   "cell_type": "markdown",
   "id": "92776f00",
   "metadata": {},
   "source": [
    "<h1> 2.6 以 KNN 實作 淨利率 預測"
   ]
  },
  {
   "cell_type": "code",
   "execution_count": 45,
   "id": "2a0780ab",
   "metadata": {},
   "outputs": [
    {
     "name": "stdout",
     "output_type": "stream",
     "text": [
      "0.8636363636363636\n"
     ]
    }
   ],
   "source": [
    "from sklearn.neighbors import KNeighborsClassifier\n",
    "knn1 = KNeighborsClassifier()\n",
    "knn1.fit(X_train, y1_train)\n",
    "print(knn1.score(X_train, y1_train))"
   ]
  },
  {
   "cell_type": "code",
   "execution_count": 46,
   "id": "fc143d25",
   "metadata": {},
   "outputs": [
    {
     "name": "stdout",
     "output_type": "stream",
     "text": [
      "Accuracy: 0.7653631284916201\n"
     ]
    }
   ],
   "source": [
    "knn1_pred = knn1.predict(X_test)\n",
    "print(\"Accuracy:\",accuracy_score(y1_test, knn1_pred))"
   ]
  },
  {
   "cell_type": "markdown",
   "id": "49ec323b",
   "metadata": {},
   "source": [
    "<h3>初步測試預測\"淨利率\"結果:</h3>\n",
    "<h4>1-1 DNN: \n",
    "    <h4>測試資料集準確度 0.8237; 訓練資料準確度 0.7753</h4>\n",
    "<h4>1-2 Logistic:\n",
    "    <h4>測試資料集準確度 0.7428 ; 訓練資料準確度 0.7726</h4>\n",
    "<h4>1-3 SVM: \n",
    "    <h4>測試資料集準確度 0.7479; 訓練資料準確度 0.7239</h4>\n",
    "<h4>1-4 RandomForestClassifier: \n",
    "    <h4>測試資料集準確度 1.0000; 訓練資料準確度 0.7915</h4>\n",
    "<h4>1-5 naive_bayes: \n",
    "    <h4>測試資料集準確度 0.7246; 訓練資料準確度 0.7211</h4>\n",
    "<h4>1-6 KNN: \n",
    "    <h4>測試資料集準確度 0.8655; 訓練資料準確度 0.8169</h4>"
   ]
  },
  {
   "cell_type": "markdown",
   "id": "1af31c62",
   "metadata": {},
   "source": [
    "<h3>目前 \"淨利率預測\" 各演算法表現相近，最佳者為 KNN ，RandomForestClassifier 其次"
   ]
  },
  {
   "cell_type": "markdown",
   "id": "64e83299",
   "metadata": {},
   "source": [
    "<h3>_____________________分隔_______________________"
   ]
  },
  {
   "cell_type": "markdown",
   "id": "46cfd6d1",
   "metadata": {},
   "source": [
    "# 以財務數據預測 ROE"
   ]
  },
  {
   "cell_type": "code",
   "execution_count": 27,
   "id": "fabd9241",
   "metadata": {},
   "outputs": [
    {
     "name": "stdout",
     "output_type": "stream",
     "text": [
      "N: 1430 D: 11\n"
     ]
    }
   ],
   "source": [
    "X1_train, X1_test, y2_train, y2_test = train_test_split(X1_scaled, y2, test_size=0.2,random_state=1)\n",
    "N, D = X1_train.shape\n",
    "print (\"N:\", N, \"D:\", D)"
   ]
  },
  {
   "cell_type": "markdown",
   "id": "4211f7e8",
   "metadata": {},
   "source": [
    "<h2> 3-1 以 DNN 實作預測 ROE"
   ]
  },
  {
   "cell_type": "code",
   "execution_count": 38,
   "id": "5500f53e",
   "metadata": {},
   "outputs": [],
   "source": [
    "# 建立TF模型 for 淨利\n",
    "model3 = tf.keras.models.Sequential([\n",
    "  tf.keras.layers.Input(shape=(D,)),\n",
    "  tf.keras.layers.Dense(128, activation='relu'),\n",
    "  tf.keras.layers.Dropout(0.4),\n",
    "  tf.keras.layers.Dense(32, activation='relu'),\n",
    "  tf.keras.layers.Dropout(0.2),\n",
    "  tf.keras.layers.Dense(1, activation='sigmoid')\n",
    "  ])\n",
    "\n",
    "#編譯模型\n",
    "lr = 0.0003\n",
    "model3.compile(tf.keras.optimizers.Adam(learning_rate = lr),\n",
    "              loss='binary_crossentropy',\n",
    "              metrics=['accuracy'])"
   ]
  },
  {
   "cell_type": "code",
   "execution_count": 39,
   "id": "6c658781",
   "metadata": {},
   "outputs": [
    {
     "name": "stdout",
     "output_type": "stream",
     "text": [
      "Model: \"sequential_3\"\n",
      "_________________________________________________________________\n",
      "Layer (type)                 Output Shape              Param #   \n",
      "=================================================================\n",
      "dense_9 (Dense)              (None, 128)               1536      \n",
      "_________________________________________________________________\n",
      "dropout_6 (Dropout)          (None, 128)               0         \n",
      "_________________________________________________________________\n",
      "dense_10 (Dense)             (None, 32)                4128      \n",
      "_________________________________________________________________\n",
      "dropout_7 (Dropout)          (None, 32)                0         \n",
      "_________________________________________________________________\n",
      "dense_11 (Dense)             (None, 1)                 33        \n",
      "=================================================================\n",
      "Total params: 5,697\n",
      "Trainable params: 5,697\n",
      "Non-trainable params: 0\n",
      "_________________________________________________________________\n"
     ]
    }
   ],
   "source": [
    "model3.summary()"
   ]
  },
  {
   "cell_type": "code",
   "execution_count": 40,
   "id": "87ebd2d2",
   "metadata": {},
   "outputs": [
    {
     "name": "stdout",
     "output_type": "stream",
     "text": [
      "Epoch 1/180\n",
      "45/45 [==============================] - 0s 3ms/step - loss: 0.6786 - accuracy: 0.5741 - val_loss: 0.6487 - val_accuracy: 0.6397\n",
      "Epoch 2/180\n",
      "45/45 [==============================] - 0s 1ms/step - loss: 0.6533 - accuracy: 0.6077 - val_loss: 0.6232 - val_accuracy: 0.6648\n",
      "Epoch 3/180\n",
      "45/45 [==============================] - 0s 1ms/step - loss: 0.6363 - accuracy: 0.6294 - val_loss: 0.6076 - val_accuracy: 0.6788\n",
      "Epoch 4/180\n",
      "45/45 [==============================] - 0s 1ms/step - loss: 0.6274 - accuracy: 0.6364 - val_loss: 0.5955 - val_accuracy: 0.6927\n",
      "Epoch 5/180\n",
      "45/45 [==============================] - 0s 1ms/step - loss: 0.6158 - accuracy: 0.6650 - val_loss: 0.5887 - val_accuracy: 0.7011\n",
      "Epoch 6/180\n",
      "45/45 [==============================] - 0s 1ms/step - loss: 0.6082 - accuracy: 0.6692 - val_loss: 0.5814 - val_accuracy: 0.7123\n",
      "Epoch 7/180\n",
      "45/45 [==============================] - 0s 1ms/step - loss: 0.5967 - accuracy: 0.6797 - val_loss: 0.5737 - val_accuracy: 0.7123\n",
      "Epoch 8/180\n",
      "45/45 [==============================] - 0s 1ms/step - loss: 0.6022 - accuracy: 0.6755 - val_loss: 0.5676 - val_accuracy: 0.7123\n",
      "Epoch 9/180\n",
      "45/45 [==============================] - 0s 1ms/step - loss: 0.5948 - accuracy: 0.6769 - val_loss: 0.5626 - val_accuracy: 0.7207\n",
      "Epoch 10/180\n",
      "45/45 [==============================] - 0s 1ms/step - loss: 0.5899 - accuracy: 0.6979 - val_loss: 0.5591 - val_accuracy: 0.7291\n",
      "Epoch 11/180\n",
      "45/45 [==============================] - 0s 1ms/step - loss: 0.5814 - accuracy: 0.6979 - val_loss: 0.5567 - val_accuracy: 0.7263\n",
      "Epoch 12/180\n",
      "45/45 [==============================] - 0s 1ms/step - loss: 0.5853 - accuracy: 0.6895 - val_loss: 0.5545 - val_accuracy: 0.7318\n",
      "Epoch 13/180\n",
      "45/45 [==============================] - 0s 1ms/step - loss: 0.5720 - accuracy: 0.7035 - val_loss: 0.5511 - val_accuracy: 0.7263\n",
      "Epoch 14/180\n",
      "45/45 [==============================] - 0s 1ms/step - loss: 0.5707 - accuracy: 0.7084 - val_loss: 0.5482 - val_accuracy: 0.7235\n",
      "Epoch 15/180\n",
      "45/45 [==============================] - 0s 1ms/step - loss: 0.5679 - accuracy: 0.6895 - val_loss: 0.5450 - val_accuracy: 0.7291\n",
      "Epoch 16/180\n",
      "45/45 [==============================] - 0s 1ms/step - loss: 0.5775 - accuracy: 0.6965 - val_loss: 0.5438 - val_accuracy: 0.7263\n",
      "Epoch 17/180\n",
      "45/45 [==============================] - 0s 1ms/step - loss: 0.5692 - accuracy: 0.7098 - val_loss: 0.5422 - val_accuracy: 0.7374\n",
      "Epoch 18/180\n",
      "45/45 [==============================] - 0s 1ms/step - loss: 0.5682 - accuracy: 0.7014 - val_loss: 0.5402 - val_accuracy: 0.7207\n",
      "Epoch 19/180\n",
      "45/45 [==============================] - 0s 1ms/step - loss: 0.5709 - accuracy: 0.7063 - val_loss: 0.5402 - val_accuracy: 0.7346\n",
      "Epoch 20/180\n",
      "45/45 [==============================] - 0s 2ms/step - loss: 0.5568 - accuracy: 0.7021 - val_loss: 0.5371 - val_accuracy: 0.7291\n",
      "Epoch 21/180\n",
      "45/45 [==============================] - 0s 1ms/step - loss: 0.5720 - accuracy: 0.7007 - val_loss: 0.5359 - val_accuracy: 0.7346\n",
      "Epoch 22/180\n",
      "45/45 [==============================] - 0s 1ms/step - loss: 0.5681 - accuracy: 0.6993 - val_loss: 0.5358 - val_accuracy: 0.7291\n",
      "Epoch 23/180\n",
      "45/45 [==============================] - 0s 2ms/step - loss: 0.5611 - accuracy: 0.7154 - val_loss: 0.5338 - val_accuracy: 0.7291\n",
      "Epoch 24/180\n",
      "45/45 [==============================] - 0s 1ms/step - loss: 0.5525 - accuracy: 0.7105 - val_loss: 0.5329 - val_accuracy: 0.7291\n",
      "Epoch 25/180\n",
      "45/45 [==============================] - 0s 1ms/step - loss: 0.5535 - accuracy: 0.7210 - val_loss: 0.5314 - val_accuracy: 0.7291\n",
      "Epoch 26/180\n",
      "45/45 [==============================] - 0s 1ms/step - loss: 0.5483 - accuracy: 0.7077 - val_loss: 0.5310 - val_accuracy: 0.7318\n",
      "Epoch 27/180\n",
      "45/45 [==============================] - 0s 1ms/step - loss: 0.5608 - accuracy: 0.7147 - val_loss: 0.5292 - val_accuracy: 0.7291\n",
      "Epoch 28/180\n",
      "45/45 [==============================] - 0s 1ms/step - loss: 0.5451 - accuracy: 0.7217 - val_loss: 0.5281 - val_accuracy: 0.7318\n",
      "Epoch 29/180\n",
      "45/45 [==============================] - 0s 1ms/step - loss: 0.5512 - accuracy: 0.7203 - val_loss: 0.5267 - val_accuracy: 0.7263\n",
      "Epoch 30/180\n",
      "45/45 [==============================] - 0s 1ms/step - loss: 0.5441 - accuracy: 0.7231 - val_loss: 0.5257 - val_accuracy: 0.7318\n",
      "Epoch 31/180\n",
      "45/45 [==============================] - 0s 1ms/step - loss: 0.5563 - accuracy: 0.7168 - val_loss: 0.5261 - val_accuracy: 0.7346\n",
      "Epoch 32/180\n",
      "45/45 [==============================] - 0s 1ms/step - loss: 0.5502 - accuracy: 0.7042 - val_loss: 0.5257 - val_accuracy: 0.7346\n",
      "Epoch 33/180\n",
      "45/45 [==============================] - 0s 1ms/step - loss: 0.5516 - accuracy: 0.7105 - val_loss: 0.5278 - val_accuracy: 0.7263\n",
      "Epoch 34/180\n",
      "45/45 [==============================] - 0s 1ms/step - loss: 0.5495 - accuracy: 0.7231 - val_loss: 0.5268 - val_accuracy: 0.7318\n",
      "Epoch 35/180\n",
      "45/45 [==============================] - 0s 1ms/step - loss: 0.5523 - accuracy: 0.7140 - val_loss: 0.5275 - val_accuracy: 0.7235\n",
      "Epoch 36/180\n",
      "45/45 [==============================] - 0s 1ms/step - loss: 0.5406 - accuracy: 0.7259 - val_loss: 0.5254 - val_accuracy: 0.7374\n",
      "Epoch 37/180\n",
      "45/45 [==============================] - 0s 2ms/step - loss: 0.5402 - accuracy: 0.7259 - val_loss: 0.5250 - val_accuracy: 0.7430\n",
      "Epoch 38/180\n",
      "45/45 [==============================] - 0s 1ms/step - loss: 0.5471 - accuracy: 0.7126 - val_loss: 0.5244 - val_accuracy: 0.7374\n",
      "Epoch 39/180\n",
      "45/45 [==============================] - 0s 1ms/step - loss: 0.5486 - accuracy: 0.7245 - val_loss: 0.5230 - val_accuracy: 0.7318\n",
      "Epoch 40/180\n",
      "45/45 [==============================] - 0s 1ms/step - loss: 0.5408 - accuracy: 0.7231 - val_loss: 0.5230 - val_accuracy: 0.7318\n",
      "Epoch 41/180\n",
      "45/45 [==============================] - 0s 1ms/step - loss: 0.5413 - accuracy: 0.7238 - val_loss: 0.5216 - val_accuracy: 0.7291\n",
      "Epoch 42/180\n",
      "45/45 [==============================] - 0s 1ms/step - loss: 0.5347 - accuracy: 0.7357 - val_loss: 0.5212 - val_accuracy: 0.7430\n",
      "Epoch 43/180\n",
      "45/45 [==============================] - 0s 1ms/step - loss: 0.5374 - accuracy: 0.7175 - val_loss: 0.5196 - val_accuracy: 0.7318\n",
      "Epoch 44/180\n",
      "45/45 [==============================] - 0s 1ms/step - loss: 0.5404 - accuracy: 0.7287 - val_loss: 0.5192 - val_accuracy: 0.7346\n",
      "Epoch 45/180\n",
      "45/45 [==============================] - 0s 1ms/step - loss: 0.5343 - accuracy: 0.7266 - val_loss: 0.5175 - val_accuracy: 0.7402\n",
      "Epoch 46/180\n",
      "45/45 [==============================] - 0s 1ms/step - loss: 0.5358 - accuracy: 0.7329 - val_loss: 0.5170 - val_accuracy: 0.7374\n",
      "Epoch 47/180\n",
      "45/45 [==============================] - 0s 1ms/step - loss: 0.5347 - accuracy: 0.7336 - val_loss: 0.5180 - val_accuracy: 0.7346\n",
      "Epoch 48/180\n",
      "45/45 [==============================] - 0s 1ms/step - loss: 0.5291 - accuracy: 0.7294 - val_loss: 0.5175 - val_accuracy: 0.7402\n",
      "Epoch 49/180\n",
      "45/45 [==============================] - 0s 1ms/step - loss: 0.5356 - accuracy: 0.7252 - val_loss: 0.5154 - val_accuracy: 0.7402\n",
      "Epoch 50/180\n",
      "45/45 [==============================] - 0s 1ms/step - loss: 0.5363 - accuracy: 0.7287 - val_loss: 0.5171 - val_accuracy: 0.7430\n",
      "Epoch 51/180\n",
      "45/45 [==============================] - 0s 1ms/step - loss: 0.5279 - accuracy: 0.7329 - val_loss: 0.5159 - val_accuracy: 0.7430\n",
      "Epoch 52/180\n",
      "45/45 [==============================] - 0s 1ms/step - loss: 0.5381 - accuracy: 0.7175 - val_loss: 0.5164 - val_accuracy: 0.7458\n",
      "Epoch 53/180\n",
      "45/45 [==============================] - 0s 1ms/step - loss: 0.5271 - accuracy: 0.7252 - val_loss: 0.5160 - val_accuracy: 0.7458\n",
      "Epoch 54/180\n",
      "45/45 [==============================] - 0s 1ms/step - loss: 0.5248 - accuracy: 0.7252 - val_loss: 0.5137 - val_accuracy: 0.7402\n",
      "Epoch 55/180\n",
      "45/45 [==============================] - 0s 1ms/step - loss: 0.5235 - accuracy: 0.7350 - val_loss: 0.5154 - val_accuracy: 0.7318\n",
      "Epoch 56/180\n",
      "45/45 [==============================] - 0s 1ms/step - loss: 0.5242 - accuracy: 0.7399 - val_loss: 0.5162 - val_accuracy: 0.7374\n",
      "Epoch 57/180\n",
      "45/45 [==============================] - 0s 1ms/step - loss: 0.5321 - accuracy: 0.7301 - val_loss: 0.5146 - val_accuracy: 0.7402\n",
      "Epoch 58/180\n",
      "45/45 [==============================] - 0s 1ms/step - loss: 0.5232 - accuracy: 0.7378 - val_loss: 0.5136 - val_accuracy: 0.7374\n"
     ]
    },
    {
     "name": "stdout",
     "output_type": "stream",
     "text": [
      "Epoch 59/180\n",
      "45/45 [==============================] - 0s 1ms/step - loss: 0.5191 - accuracy: 0.7385 - val_loss: 0.5144 - val_accuracy: 0.7374\n",
      "Epoch 60/180\n",
      "45/45 [==============================] - 0s 1ms/step - loss: 0.5302 - accuracy: 0.7413 - val_loss: 0.5151 - val_accuracy: 0.7374\n",
      "Epoch 61/180\n",
      "45/45 [==============================] - 0s 1ms/step - loss: 0.5312 - accuracy: 0.7308 - val_loss: 0.5152 - val_accuracy: 0.7346\n",
      "Epoch 62/180\n",
      "45/45 [==============================] - 0s 1ms/step - loss: 0.5241 - accuracy: 0.7273 - val_loss: 0.5131 - val_accuracy: 0.7318\n",
      "Epoch 63/180\n",
      "45/45 [==============================] - 0s 1ms/step - loss: 0.5300 - accuracy: 0.7294 - val_loss: 0.5145 - val_accuracy: 0.7318\n",
      "Epoch 64/180\n",
      "45/45 [==============================] - 0s 1ms/step - loss: 0.5222 - accuracy: 0.7329 - val_loss: 0.5154 - val_accuracy: 0.7318\n",
      "Epoch 65/180\n",
      "45/45 [==============================] - 0s 1ms/step - loss: 0.5269 - accuracy: 0.7420 - val_loss: 0.5151 - val_accuracy: 0.7346\n",
      "Epoch 66/180\n",
      "45/45 [==============================] - 0s 1ms/step - loss: 0.5219 - accuracy: 0.7322 - val_loss: 0.5150 - val_accuracy: 0.7318\n",
      "Epoch 67/180\n",
      "45/45 [==============================] - 0s 1ms/step - loss: 0.5162 - accuracy: 0.7420 - val_loss: 0.5143 - val_accuracy: 0.7318\n",
      "Epoch 68/180\n",
      "45/45 [==============================] - 0s 1ms/step - loss: 0.5136 - accuracy: 0.7510 - val_loss: 0.5127 - val_accuracy: 0.7318\n",
      "Epoch 69/180\n",
      "45/45 [==============================] - 0s 1ms/step - loss: 0.5210 - accuracy: 0.7357 - val_loss: 0.5116 - val_accuracy: 0.7291\n",
      "Epoch 70/180\n",
      "45/45 [==============================] - 0s 1ms/step - loss: 0.5136 - accuracy: 0.7469 - val_loss: 0.5105 - val_accuracy: 0.7318\n",
      "Epoch 71/180\n",
      "45/45 [==============================] - 0s 1ms/step - loss: 0.5048 - accuracy: 0.7434 - val_loss: 0.5120 - val_accuracy: 0.7374\n",
      "Epoch 72/180\n",
      "45/45 [==============================] - 0s 1ms/step - loss: 0.5127 - accuracy: 0.7462 - val_loss: 0.5117 - val_accuracy: 0.7402\n",
      "Epoch 73/180\n",
      "45/45 [==============================] - 0s 1ms/step - loss: 0.5212 - accuracy: 0.7364 - val_loss: 0.5103 - val_accuracy: 0.7374\n",
      "Epoch 74/180\n",
      "45/45 [==============================] - 0s 1ms/step - loss: 0.5103 - accuracy: 0.7483 - val_loss: 0.5107 - val_accuracy: 0.7346\n",
      "Epoch 75/180\n",
      "45/45 [==============================] - 0s 1ms/step - loss: 0.5105 - accuracy: 0.7517 - val_loss: 0.5115 - val_accuracy: 0.7430\n",
      "Epoch 76/180\n",
      "45/45 [==============================] - 0s 1ms/step - loss: 0.5076 - accuracy: 0.7462 - val_loss: 0.5102 - val_accuracy: 0.7346\n",
      "Epoch 77/180\n",
      "45/45 [==============================] - 0s 1ms/step - loss: 0.5144 - accuracy: 0.7364 - val_loss: 0.5094 - val_accuracy: 0.7318\n",
      "Epoch 78/180\n",
      "45/45 [==============================] - 0s 1ms/step - loss: 0.5145 - accuracy: 0.7336 - val_loss: 0.5112 - val_accuracy: 0.7318\n",
      "Epoch 79/180\n",
      "45/45 [==============================] - 0s 1ms/step - loss: 0.5028 - accuracy: 0.7510 - val_loss: 0.5097 - val_accuracy: 0.7346\n",
      "Epoch 80/180\n",
      "45/45 [==============================] - 0s 1ms/step - loss: 0.5053 - accuracy: 0.7531 - val_loss: 0.5089 - val_accuracy: 0.7263\n",
      "Epoch 81/180\n",
      "45/45 [==============================] - 0s 2ms/step - loss: 0.5036 - accuracy: 0.7469 - val_loss: 0.5093 - val_accuracy: 0.7318\n",
      "Epoch 82/180\n",
      "45/45 [==============================] - 0s 2ms/step - loss: 0.4992 - accuracy: 0.7538 - val_loss: 0.5090 - val_accuracy: 0.7318\n",
      "Epoch 83/180\n",
      "45/45 [==============================] - 0s 1ms/step - loss: 0.4994 - accuracy: 0.7545 - val_loss: 0.5099 - val_accuracy: 0.7374\n",
      "Epoch 84/180\n",
      "45/45 [==============================] - 0s 1ms/step - loss: 0.5067 - accuracy: 0.7385 - val_loss: 0.5095 - val_accuracy: 0.7235\n",
      "Epoch 85/180\n",
      "45/45 [==============================] - 0s 1ms/step - loss: 0.5099 - accuracy: 0.7462 - val_loss: 0.5113 - val_accuracy: 0.7291\n",
      "Epoch 86/180\n",
      "45/45 [==============================] - 0s 1ms/step - loss: 0.5077 - accuracy: 0.7322 - val_loss: 0.5097 - val_accuracy: 0.7291\n",
      "Epoch 87/180\n",
      "45/45 [==============================] - 0s 1ms/step - loss: 0.5002 - accuracy: 0.7476 - val_loss: 0.5087 - val_accuracy: 0.7318\n",
      "Epoch 88/180\n",
      "45/45 [==============================] - 0s 1ms/step - loss: 0.5114 - accuracy: 0.7308 - val_loss: 0.5083 - val_accuracy: 0.7291\n",
      "Epoch 89/180\n",
      "45/45 [==============================] - 0s 1ms/step - loss: 0.4978 - accuracy: 0.7510 - val_loss: 0.5081 - val_accuracy: 0.7235\n",
      "Epoch 90/180\n",
      "45/45 [==============================] - 0s 1ms/step - loss: 0.4990 - accuracy: 0.7476 - val_loss: 0.5073 - val_accuracy: 0.7291\n",
      "Epoch 91/180\n",
      "45/45 [==============================] - 0s 1ms/step - loss: 0.5001 - accuracy: 0.7524 - val_loss: 0.5089 - val_accuracy: 0.7318\n",
      "Epoch 92/180\n",
      "45/45 [==============================] - 0s 1ms/step - loss: 0.5061 - accuracy: 0.7462 - val_loss: 0.5065 - val_accuracy: 0.7318\n",
      "Epoch 93/180\n",
      "45/45 [==============================] - 0s 1ms/step - loss: 0.5006 - accuracy: 0.7469 - val_loss: 0.5071 - val_accuracy: 0.7346\n",
      "Epoch 94/180\n",
      "45/45 [==============================] - 0s 1ms/step - loss: 0.5052 - accuracy: 0.7510 - val_loss: 0.5071 - val_accuracy: 0.7318\n",
      "Epoch 95/180\n",
      "45/45 [==============================] - 0s 1ms/step - loss: 0.4944 - accuracy: 0.7469 - val_loss: 0.5046 - val_accuracy: 0.7318\n",
      "Epoch 96/180\n",
      "45/45 [==============================] - 0s 1ms/step - loss: 0.5009 - accuracy: 0.7434 - val_loss: 0.5061 - val_accuracy: 0.7291\n",
      "Epoch 97/180\n",
      "45/45 [==============================] - 0s 1ms/step - loss: 0.4982 - accuracy: 0.7538 - val_loss: 0.5035 - val_accuracy: 0.7263\n",
      "Epoch 98/180\n",
      "45/45 [==============================] - 0s 1ms/step - loss: 0.4912 - accuracy: 0.7720 - val_loss: 0.5047 - val_accuracy: 0.7235\n",
      "Epoch 99/180\n",
      "45/45 [==============================] - 0s 1ms/step - loss: 0.4973 - accuracy: 0.7566 - val_loss: 0.5042 - val_accuracy: 0.7291\n",
      "Epoch 100/180\n",
      "45/45 [==============================] - 0s 1ms/step - loss: 0.5062 - accuracy: 0.7434 - val_loss: 0.5057 - val_accuracy: 0.7179\n",
      "Epoch 101/180\n",
      "45/45 [==============================] - 0s 1ms/step - loss: 0.4938 - accuracy: 0.7622 - val_loss: 0.5053 - val_accuracy: 0.7263\n",
      "Epoch 102/180\n",
      "45/45 [==============================] - 0s 1ms/step - loss: 0.4912 - accuracy: 0.7517 - val_loss: 0.5037 - val_accuracy: 0.7291\n",
      "Epoch 103/180\n",
      "45/45 [==============================] - 0s 1ms/step - loss: 0.4791 - accuracy: 0.7776 - val_loss: 0.5051 - val_accuracy: 0.7263\n",
      "Epoch 104/180\n",
      "45/45 [==============================] - 0s 1ms/step - loss: 0.4933 - accuracy: 0.7510 - val_loss: 0.5057 - val_accuracy: 0.7318\n",
      "Epoch 105/180\n",
      "45/45 [==============================] - 0s 1ms/step - loss: 0.4991 - accuracy: 0.7483 - val_loss: 0.5053 - val_accuracy: 0.7318\n",
      "Epoch 106/180\n",
      "45/45 [==============================] - 0s 1ms/step - loss: 0.4895 - accuracy: 0.7503 - val_loss: 0.5063 - val_accuracy: 0.7318\n",
      "Epoch 107/180\n",
      "45/45 [==============================] - 0s 1ms/step - loss: 0.4959 - accuracy: 0.7441 - val_loss: 0.5051 - val_accuracy: 0.7263\n",
      "Epoch 108/180\n",
      "45/45 [==============================] - 0s 1ms/step - loss: 0.4950 - accuracy: 0.7587 - val_loss: 0.5030 - val_accuracy: 0.7318\n",
      "Epoch 109/180\n",
      "45/45 [==============================] - 0s 1ms/step - loss: 0.4892 - accuracy: 0.7538 - val_loss: 0.5039 - val_accuracy: 0.7318\n",
      "Epoch 110/180\n",
      "45/45 [==============================] - 0s 1ms/step - loss: 0.4888 - accuracy: 0.7608 - val_loss: 0.5040 - val_accuracy: 0.7291\n",
      "Epoch 111/180\n",
      "45/45 [==============================] - 0s 1ms/step - loss: 0.4966 - accuracy: 0.7545 - val_loss: 0.5059 - val_accuracy: 0.7318\n",
      "Epoch 112/180\n",
      "45/45 [==============================] - 0s 1ms/step - loss: 0.4921 - accuracy: 0.7483 - val_loss: 0.5044 - val_accuracy: 0.7291\n",
      "Epoch 113/180\n",
      "45/45 [==============================] - 0s 1ms/step - loss: 0.4908 - accuracy: 0.7622 - val_loss: 0.5062 - val_accuracy: 0.7318\n",
      "Epoch 114/180\n",
      "45/45 [==============================] - 0s 1ms/step - loss: 0.4937 - accuracy: 0.7552 - val_loss: 0.5047 - val_accuracy: 0.7263\n",
      "Epoch 115/180\n",
      "45/45 [==============================] - 0s 1ms/step - loss: 0.4949 - accuracy: 0.7503 - val_loss: 0.5040 - val_accuracy: 0.7318\n",
      "Epoch 116/180\n"
     ]
    },
    {
     "name": "stdout",
     "output_type": "stream",
     "text": [
      "45/45 [==============================] - 0s 2ms/step - loss: 0.4841 - accuracy: 0.7629 - val_loss: 0.5046 - val_accuracy: 0.7263\n",
      "Epoch 117/180\n",
      "45/45 [==============================] - 0s 1ms/step - loss: 0.4881 - accuracy: 0.7629 - val_loss: 0.5044 - val_accuracy: 0.7346\n",
      "Epoch 118/180\n",
      "45/45 [==============================] - 0s 1ms/step - loss: 0.4866 - accuracy: 0.7587 - val_loss: 0.5027 - val_accuracy: 0.7291\n",
      "Epoch 119/180\n",
      "45/45 [==============================] - 0s 1ms/step - loss: 0.4812 - accuracy: 0.7629 - val_loss: 0.5033 - val_accuracy: 0.7346\n",
      "Epoch 120/180\n",
      "45/45 [==============================] - 0s 1ms/step - loss: 0.4835 - accuracy: 0.7678 - val_loss: 0.5015 - val_accuracy: 0.7318\n",
      "Epoch 121/180\n",
      "45/45 [==============================] - 0s 1ms/step - loss: 0.4842 - accuracy: 0.7629 - val_loss: 0.5020 - val_accuracy: 0.7374\n",
      "Epoch 122/180\n",
      "45/45 [==============================] - 0s 1ms/step - loss: 0.4911 - accuracy: 0.7510 - val_loss: 0.5032 - val_accuracy: 0.7235\n",
      "Epoch 123/180\n",
      "45/45 [==============================] - 0s 1ms/step - loss: 0.4919 - accuracy: 0.7524 - val_loss: 0.5020 - val_accuracy: 0.7318\n",
      "Epoch 124/180\n",
      "45/45 [==============================] - 0s 1ms/step - loss: 0.4838 - accuracy: 0.7671 - val_loss: 0.5020 - val_accuracy: 0.7291\n",
      "Epoch 125/180\n",
      "45/45 [==============================] - 0s 1ms/step - loss: 0.4810 - accuracy: 0.7685 - val_loss: 0.5027 - val_accuracy: 0.7318\n",
      "Epoch 126/180\n",
      "45/45 [==============================] - 0s 1ms/step - loss: 0.4718 - accuracy: 0.7706 - val_loss: 0.5033 - val_accuracy: 0.7291\n",
      "Epoch 127/180\n",
      "45/45 [==============================] - 0s 1ms/step - loss: 0.4823 - accuracy: 0.7629 - val_loss: 0.5041 - val_accuracy: 0.7263\n",
      "Epoch 128/180\n",
      "45/45 [==============================] - 0s 1ms/step - loss: 0.4864 - accuracy: 0.7538 - val_loss: 0.5049 - val_accuracy: 0.7263\n",
      "Epoch 129/180\n",
      "45/45 [==============================] - 0s 1ms/step - loss: 0.4756 - accuracy: 0.7678 - val_loss: 0.5042 - val_accuracy: 0.7235\n",
      "Epoch 130/180\n",
      "45/45 [==============================] - 0s 1ms/step - loss: 0.4798 - accuracy: 0.7734 - val_loss: 0.5020 - val_accuracy: 0.7318\n",
      "Epoch 131/180\n",
      "45/45 [==============================] - 0s 1ms/step - loss: 0.4871 - accuracy: 0.7615 - val_loss: 0.5027 - val_accuracy: 0.7291\n",
      "Epoch 132/180\n",
      "45/45 [==============================] - 0s 1ms/step - loss: 0.4844 - accuracy: 0.7734 - val_loss: 0.5017 - val_accuracy: 0.7291\n",
      "Epoch 133/180\n",
      "45/45 [==============================] - 0s 1ms/step - loss: 0.4862 - accuracy: 0.7629 - val_loss: 0.5015 - val_accuracy: 0.7291\n",
      "Epoch 134/180\n",
      "45/45 [==============================] - 0s 1ms/step - loss: 0.4936 - accuracy: 0.7636 - val_loss: 0.5024 - val_accuracy: 0.7291\n",
      "Epoch 135/180\n",
      "45/45 [==============================] - 0s 1ms/step - loss: 0.4742 - accuracy: 0.7713 - val_loss: 0.5020 - val_accuracy: 0.7291\n",
      "Epoch 136/180\n",
      "45/45 [==============================] - 0s 1ms/step - loss: 0.4973 - accuracy: 0.7524 - val_loss: 0.5016 - val_accuracy: 0.7318\n",
      "Epoch 137/180\n",
      "45/45 [==============================] - 0s 1ms/step - loss: 0.4799 - accuracy: 0.7608 - val_loss: 0.5004 - val_accuracy: 0.7346\n",
      "Epoch 138/180\n",
      "45/45 [==============================] - 0s 1ms/step - loss: 0.4979 - accuracy: 0.7517 - val_loss: 0.5024 - val_accuracy: 0.7291\n",
      "Epoch 139/180\n",
      "45/45 [==============================] - 0s 1ms/step - loss: 0.4844 - accuracy: 0.7629 - val_loss: 0.4997 - val_accuracy: 0.7346\n",
      "Epoch 140/180\n",
      "45/45 [==============================] - 0s 1ms/step - loss: 0.4764 - accuracy: 0.7622 - val_loss: 0.5023 - val_accuracy: 0.7346\n",
      "Epoch 141/180\n",
      "45/45 [==============================] - 0s 1ms/step - loss: 0.4746 - accuracy: 0.7748 - val_loss: 0.5024 - val_accuracy: 0.7346\n",
      "Epoch 142/180\n",
      "45/45 [==============================] - 0s 1ms/step - loss: 0.4834 - accuracy: 0.7692 - val_loss: 0.5019 - val_accuracy: 0.7318\n",
      "Epoch 143/180\n",
      "45/45 [==============================] - 0s 1ms/step - loss: 0.4761 - accuracy: 0.7727 - val_loss: 0.5001 - val_accuracy: 0.7346\n",
      "Epoch 144/180\n",
      "45/45 [==============================] - 0s 1ms/step - loss: 0.4718 - accuracy: 0.7664 - val_loss: 0.4992 - val_accuracy: 0.7374\n",
      "Epoch 145/180\n",
      "45/45 [==============================] - 0s 1ms/step - loss: 0.4783 - accuracy: 0.7699 - val_loss: 0.5001 - val_accuracy: 0.7374\n",
      "Epoch 146/180\n",
      "45/45 [==============================] - 0s 1ms/step - loss: 0.4731 - accuracy: 0.7755 - val_loss: 0.4991 - val_accuracy: 0.7346\n",
      "Epoch 147/180\n",
      "45/45 [==============================] - 0s 1ms/step - loss: 0.4867 - accuracy: 0.7566 - val_loss: 0.4995 - val_accuracy: 0.7374\n",
      "Epoch 148/180\n",
      "45/45 [==============================] - 0s 1ms/step - loss: 0.4804 - accuracy: 0.7657 - val_loss: 0.5000 - val_accuracy: 0.7374\n",
      "Epoch 149/180\n",
      "45/45 [==============================] - 0s 1ms/step - loss: 0.4725 - accuracy: 0.7657 - val_loss: 0.4967 - val_accuracy: 0.7346\n",
      "Epoch 150/180\n",
      "45/45 [==============================] - 0s 2ms/step - loss: 0.4792 - accuracy: 0.7601 - val_loss: 0.4975 - val_accuracy: 0.7346\n",
      "Epoch 151/180\n",
      "45/45 [==============================] - 0s 1ms/step - loss: 0.4769 - accuracy: 0.7538 - val_loss: 0.4983 - val_accuracy: 0.7291\n",
      "Epoch 152/180\n",
      "45/45 [==============================] - 0s 1ms/step - loss: 0.4742 - accuracy: 0.7685 - val_loss: 0.4955 - val_accuracy: 0.7346\n",
      "Epoch 153/180\n",
      "45/45 [==============================] - 0s 1ms/step - loss: 0.4729 - accuracy: 0.7671 - val_loss: 0.4961 - val_accuracy: 0.7346\n",
      "Epoch 154/180\n",
      "45/45 [==============================] - 0s 1ms/step - loss: 0.4787 - accuracy: 0.7629 - val_loss: 0.4962 - val_accuracy: 0.7346\n",
      "Epoch 155/180\n",
      "45/45 [==============================] - 0s 1ms/step - loss: 0.4791 - accuracy: 0.7566 - val_loss: 0.4964 - val_accuracy: 0.7374\n",
      "Epoch 156/180\n",
      "45/45 [==============================] - 0s 1ms/step - loss: 0.4752 - accuracy: 0.7650 - val_loss: 0.4966 - val_accuracy: 0.7346\n",
      "Epoch 157/180\n",
      "45/45 [==============================] - 0s 1ms/step - loss: 0.4856 - accuracy: 0.7643 - val_loss: 0.4966 - val_accuracy: 0.7374\n",
      "Epoch 158/180\n",
      "45/45 [==============================] - 0s 1ms/step - loss: 0.4639 - accuracy: 0.7727 - val_loss: 0.4966 - val_accuracy: 0.7374\n",
      "Epoch 159/180\n",
      "45/45 [==============================] - 0s 1ms/step - loss: 0.4658 - accuracy: 0.7657 - val_loss: 0.4975 - val_accuracy: 0.7346\n",
      "Epoch 160/180\n",
      "45/45 [==============================] - 0s 1ms/step - loss: 0.4777 - accuracy: 0.7685 - val_loss: 0.4980 - val_accuracy: 0.7346\n",
      "Epoch 161/180\n",
      "45/45 [==============================] - 0s 1ms/step - loss: 0.4771 - accuracy: 0.7678 - val_loss: 0.4963 - val_accuracy: 0.7374\n",
      "Epoch 162/180\n",
      "45/45 [==============================] - 0s 1ms/step - loss: 0.4758 - accuracy: 0.7678 - val_loss: 0.4985 - val_accuracy: 0.7374\n",
      "Epoch 163/180\n",
      "45/45 [==============================] - 0s 1ms/step - loss: 0.4700 - accuracy: 0.7692 - val_loss: 0.4987 - val_accuracy: 0.7346\n",
      "Epoch 164/180\n",
      "45/45 [==============================] - 0s 2ms/step - loss: 0.4734 - accuracy: 0.7685 - val_loss: 0.4998 - val_accuracy: 0.7402\n",
      "Epoch 165/180\n",
      "45/45 [==============================] - 0s 1ms/step - loss: 0.4671 - accuracy: 0.7629 - val_loss: 0.4977 - val_accuracy: 0.7374\n",
      "Epoch 166/180\n",
      "45/45 [==============================] - 0s 1ms/step - loss: 0.4724 - accuracy: 0.7720 - val_loss: 0.5002 - val_accuracy: 0.7374\n",
      "Epoch 167/180\n",
      "45/45 [==============================] - 0s 2ms/step - loss: 0.4718 - accuracy: 0.7671 - val_loss: 0.4993 - val_accuracy: 0.7346\n",
      "Epoch 168/180\n",
      "45/45 [==============================] - 0s 2ms/step - loss: 0.4696 - accuracy: 0.7713 - val_loss: 0.4977 - val_accuracy: 0.7374\n",
      "Epoch 169/180\n",
      "45/45 [==============================] - 0s 2ms/step - loss: 0.4686 - accuracy: 0.7720 - val_loss: 0.5007 - val_accuracy: 0.7346\n",
      "Epoch 170/180\n",
      "45/45 [==============================] - 0s 2ms/step - loss: 0.4799 - accuracy: 0.7580 - val_loss: 0.4984 - val_accuracy: 0.7374\n",
      "Epoch 171/180\n",
      "45/45 [==============================] - 0s 2ms/step - loss: 0.4718 - accuracy: 0.7573 - val_loss: 0.4993 - val_accuracy: 0.7374\n",
      "Epoch 172/180\n",
      "45/45 [==============================] - 0s 2ms/step - loss: 0.4650 - accuracy: 0.7685 - val_loss: 0.4998 - val_accuracy: 0.7318\n",
      "Epoch 173/180\n"
     ]
    },
    {
     "name": "stdout",
     "output_type": "stream",
     "text": [
      "45/45 [==============================] - 0s 2ms/step - loss: 0.4624 - accuracy: 0.7818 - val_loss: 0.5005 - val_accuracy: 0.7374\n",
      "Epoch 174/180\n",
      "45/45 [==============================] - 0s 2ms/step - loss: 0.4687 - accuracy: 0.7636 - val_loss: 0.5004 - val_accuracy: 0.7346\n",
      "Epoch 175/180\n",
      "45/45 [==============================] - 0s 2ms/step - loss: 0.4772 - accuracy: 0.7517 - val_loss: 0.5006 - val_accuracy: 0.7346\n",
      "Epoch 176/180\n",
      "45/45 [==============================] - 0s 2ms/step - loss: 0.4682 - accuracy: 0.7657 - val_loss: 0.5002 - val_accuracy: 0.7291\n",
      "Epoch 177/180\n",
      "45/45 [==============================] - 0s 2ms/step - loss: 0.4606 - accuracy: 0.7783 - val_loss: 0.4992 - val_accuracy: 0.7263\n",
      "Epoch 178/180\n",
      "45/45 [==============================] - 0s 2ms/step - loss: 0.4644 - accuracy: 0.7692 - val_loss: 0.5007 - val_accuracy: 0.7374\n",
      "Epoch 179/180\n",
      "45/45 [==============================] - 0s 2ms/step - loss: 0.4640 - accuracy: 0.7769 - val_loss: 0.4989 - val_accuracy: 0.7430\n",
      "Epoch 180/180\n",
      "45/45 [==============================] - 0s 2ms/step - loss: 0.4618 - accuracy: 0.7692 - val_loss: 0.4983 - val_accuracy: 0.7346\n",
      "45/45 [==============================] - 0s 781us/step - loss: 0.4286 - accuracy: 0.7993\n",
      "Train score: [0.42857837677001953, 0.7993006706237793]\n",
      "12/12 [==============================] - 0s 829us/step - loss: 0.4983 - accuracy: 0.7346\n",
      "Test score: [0.49829861521720886, 0.7346368432044983]\n"
     ]
    }
   ],
   "source": [
    "# 訓練模型\n",
    "r3 = model3.fit(X1_train, y2_train, validation_data=(X1_test, y2_test), epochs=180)\n",
    "\n",
    "# 評估模型 - evaluate() returns loss and accuracy\n",
    "print(\"Train score:\", model3.evaluate(X1_train, y2_train))\n",
    "print(\"Test score:\", model3.evaluate(X1_test, y2_test))"
   ]
  },
  {
   "cell_type": "code",
   "execution_count": 41,
   "id": "7aff8692",
   "metadata": {},
   "outputs": [
    {
     "data": {
      "text/plain": [
       "<matplotlib.legend.Legend at 0x271769e3640>"
      ]
     },
     "execution_count": 41,
     "metadata": {},
     "output_type": "execute_result"
    },
    {
     "data": {
      "image/png": "[encoded data removed]",
      "text/plain": [
       "<Figure size 432x288 with 1 Axes>"
      ]
     },
     "metadata": {
      "needs_background": "light"
     },
     "output_type": "display_data"
    }
   ],
   "source": [
    "# 劃出 model.fit() training 和 validating 的 loss\n",
    "import matplotlib.pyplot as plt\n",
    "plt.plot(r3.history['loss'], label='loss')\n",
    "plt.plot(r3.history['val_loss'], label='val_loss')\n",
    "plt.legend()"
   ]
  },
  {
   "cell_type": "code",
   "execution_count": 42,
   "id": "7d3238e3",
   "metadata": {
    "scrolled": false
   },
   "outputs": [
    {
     "data": {
      "text/plain": [
       "<matplotlib.legend.Legend at 0x271769de790>"
      ]
     },
     "execution_count": 42,
     "metadata": {},
     "output_type": "execute_result"
    },
    {
     "data": {
      "image/png": "[encoded data removed]",
      "text/plain": [
       "<Figure size 432x288 with 1 Axes>"
      ]
     },
     "metadata": {
      "needs_background": "light"
     },
     "output_type": "display_data"
    }
   ],
   "source": [
    "# 劃出準確性 accuracy \n",
    "plt.plot(r3.history['accuracy'], label='acc')\n",
    "plt.plot(r3.history['val_accuracy'], label='val_acc')\n",
    "plt.legend()"
   ]
  },
  {
   "cell_type": "code",
   "execution_count": 43,
   "id": "b98a0458",
   "metadata": {},
   "outputs": [
    {
     "data": {
      "text/plain": [
       "array([[122,  51],\n",
       "       [ 44, 141]], dtype=int64)"
      ]
     },
     "execution_count": 43,
     "metadata": {},
     "output_type": "execute_result"
    }
   ],
   "source": [
    "pred_test = model3.predict(X1_test)\n",
    "pred_test = np.round(pred_test).flatten()\n",
    "cm = confusion_matrix(y2_test, pred_test)\n",
    "cm"
   ]
  },
  {
   "cell_type": "code",
   "execution_count": 58,
   "id": "7831a8ff",
   "metadata": {},
   "outputs": [],
   "source": [
    "model3.save('./ROE_model.h5')"
   ]
  },
  {
   "cell_type": "markdown",
   "id": "e294196e",
   "metadata": {},
   "source": [
    "<h1> 3-2 用羅吉斯回歸實作 預測 ROE"
   ]
  },
  {
   "cell_type": "code",
   "execution_count": 54,
   "id": "0959140d",
   "metadata": {},
   "outputs": [
    {
     "name": "stdout",
     "output_type": "stream",
     "text": [
      "[0 1 0 1 1 1 1 1 0 0 1 1 1 1 1 1 1 0 1 0 0 1 1 1 1 1 1 0 0 0 1 1 1 0 1 1 1\n",
      " 0 0 1 1 0 1 0 1 1 0 1 0 0 0 0 1 0 0 1 1 1 0 0 1 1 1 0 0 0 1 1 1 1 1 1 0 1\n",
      " 1 0 0 1 0 1 1 1 1 1 1 1 1 1 1 0 0 1 1 0 1 0 0 1 0 0 0 1 1 0 1 1 1 0 0 1 1\n",
      " 1 1 0 1 1 1 1 1 1 0 0 1 1 1 0 1 0 0 1 1 0 1 1 1 1 1 0 0 0 1 0 0 1 1 1 1 0\n",
      " 0 1 0 0 0 1 0 1 1 1 1 0 0 0 1 1 1 0 1 0 0 1 1 0 1 1 1 0 0 0 1 1 1 0 1 0 1\n",
      " 1 1 0 1 1 0 0 1 0 0 1 1 0 1 1 0 0 0 1 1 1 1 1 1 1 0 0 1 1 0 1 0 0 0 1 0 1\n",
      " 0 0 1 0 0 1 1 0 1 1 0 0 1 0 0 1 1 1 1 0 0 1 0 0 1 0 0 0 1 1 1 1 0 0 0 1 1\n",
      " 1 1 0 0 1 0 0 1 1 1 0 1 1 1 1 0 0 0 1 1 1 0 1 1 0 0 1 0 0 0 1 1 1 1 1 1 1\n",
      " 1 1 0 1 1 1 1 1 1 1 0 0 0 0 1 1 1 0 1 0 1 0 0 1 0 1 1 0 0 0 0 0 1 0 1 1 1\n",
      " 0 0 1 1 1 0 1 1 1 0 0 1 0 0 0 1 0 1 0 1 0 1 0 0 0]\n",
      "==============================\n",
      "0.727972027972028\n"
     ]
    }
   ],
   "source": [
    "from sklearn.linear_model import LogisticRegression\n",
    "log3 = LogisticRegression()\n",
    "log3.fit(X1_train, y2_train)\n",
    "\n",
    "pred3 = log3.predict(X1_test)\n",
    "print(pred3)\n",
    "print(\"==============================\")\n",
    "print(log3.score(X1_train, y2_train))\n",
    "# print(y_test)"
   ]
  },
  {
   "cell_type": "code",
   "execution_count": 55,
   "id": "9f75754b",
   "metadata": {},
   "outputs": [
    {
     "data": {
      "text/plain": [
       "0.7094972067039106"
      ]
     },
     "execution_count": 55,
     "metadata": {},
     "output_type": "execute_result"
    }
   ],
   "source": [
    "accuracy3 = accuracy_score(y2_test, pred3)\n",
    "accuracy3"
   ]
  },
  {
   "cell_type": "markdown",
   "id": "e106d7c8",
   "metadata": {},
   "source": [
    "<h1> 3-3 以 SVM 實作 預測 ROE"
   ]
  },
  {
   "cell_type": "code",
   "execution_count": null,
   "id": "2c9ca8bc",
   "metadata": {},
   "outputs": [],
   "source": [
    "from sklearn.svm import SVC\n",
    "clf3 = SVC(C = 1e5, kernel = 'linear')\n",
    "clf3.fit(X1_train, y2_train) \n",
    "pred_clf3 = clf3.predict(X1_test)\n",
    "print(pred_clf3)\n",
    "print(\"==============================\")\n",
    "print(clf3.score(X1_train, y2_train))"
   ]
  },
  {
   "cell_type": "code",
   "execution_count": null,
   "id": "29465655",
   "metadata": {},
   "outputs": [],
   "source": [
    "accuracy_SVM = accuracy_score(y2_test, pred_clf3)\n",
    "accuracy_SVM"
   ]
  },
  {
   "cell_type": "markdown",
   "id": "93a8b767",
   "metadata": {},
   "source": [
    "<h1>3.4 以 RandomForestClassifier 實作 ROE 預測"
   ]
  },
  {
   "cell_type": "code",
   "execution_count": 56,
   "id": "98fb969d",
   "metadata": {},
   "outputs": [
    {
     "name": "stdout",
     "output_type": "stream",
     "text": [
      "1.0\n"
     ]
    }
   ],
   "source": [
    "#Import Random Forest Model\n",
    "from sklearn.ensemble import RandomForestClassifier\n",
    "\n",
    "#Create a Gaussian Classifier\n",
    "forest3=RandomForestClassifier(n_estimators=100)\n",
    "\n",
    "#Train the model using the training sets y_pred=clf.predict(X_test)\n",
    "forest3.fit(X1_train, y2_train)\n",
    "print(forest3.score(X1_train, y2_train))"
   ]
  },
  {
   "cell_type": "code",
   "execution_count": 57,
   "id": "1b8284aa",
   "metadata": {},
   "outputs": [
    {
     "name": "stdout",
     "output_type": "stream",
     "text": [
      "Accuracy: 0.7737430167597765\n"
     ]
    }
   ],
   "source": [
    "from sklearn.metrics import accuracy_score\n",
    "forest_pred3 = forest3.predict(X1_test)\n",
    "print(\"Accuracy:\",accuracy_score(y2_test, forest_pred3))"
   ]
  },
  {
   "cell_type": "markdown",
   "id": "e8900ad1",
   "metadata": {},
   "source": [
    "<h1> 3.5 以 naive_bayes 實作 ROE 預測"
   ]
  },
  {
   "cell_type": "code",
   "execution_count": 58,
   "id": "64fa2284",
   "metadata": {},
   "outputs": [
    {
     "name": "stdout",
     "output_type": "stream",
     "text": [
      "0.6447552447552447\n"
     ]
    }
   ],
   "source": [
    "from sklearn.naive_bayes import GaussianNB\n",
    "nb3 = GaussianNB()\n",
    "nb3.fit(X1_train, y2_train)\n",
    "print(nb3.score(X1_train, y2_train))"
   ]
  },
  {
   "cell_type": "code",
   "execution_count": 59,
   "id": "7206209a",
   "metadata": {},
   "outputs": [
    {
     "name": "stdout",
     "output_type": "stream",
     "text": [
      "Accuracy: 0.6284916201117319\n"
     ]
    }
   ],
   "source": [
    "nb3_pred = nb3.predict(X1_test)\n",
    "print(\"Accuracy:\",accuracy_score(y2_test, nb3_pred))"
   ]
  },
  {
   "cell_type": "markdown",
   "id": "4b3592d2",
   "metadata": {},
   "source": [
    "<h1> 3.6 以 KNN 實作 ROE 預測"
   ]
  },
  {
   "cell_type": "code",
   "execution_count": 60,
   "id": "29783c54",
   "metadata": {},
   "outputs": [
    {
     "name": "stdout",
     "output_type": "stream",
     "text": [
      "0.8265734265734266\n"
     ]
    }
   ],
   "source": [
    "from sklearn.neighbors import KNeighborsClassifier\n",
    "knn3 = KNeighborsClassifier()\n",
    "knn3.fit(X1_train, y2_train)\n",
    "print(knn3.score(X1_train, y2_train))"
   ]
  },
  {
   "cell_type": "code",
   "execution_count": 61,
   "id": "6b93e3bc",
   "metadata": {},
   "outputs": [
    {
     "name": "stdout",
     "output_type": "stream",
     "text": [
      "Accuracy: 0.7625698324022346\n"
     ]
    }
   ],
   "source": [
    "knn3_pred = knn3.predict(X1_test)\n",
    "print(\"Accuracy:\",accuracy_score(y2_test, knn3_pred))"
   ]
  },
  {
   "cell_type": "markdown",
   "id": "467d9ecb",
   "metadata": {},
   "source": [
    "<h3>初步測試預測\"ROA\"結果:</h3>\n",
    "<h4>1-1 DNN: \n",
    "    <h4>測試資料集準確度 0.9979; 訓練資料準確度 0.9915</h4>\n",
    "<h4>1-2 Logistic:\n",
    "    <h4>測試資料集準確度 0.9908 ; 訓練資料準確度 0.9887</h4>\n",
    "<h4>1-3 SVM: \n",
    "    <h4>測試資料集準確度 1.0000; 訓練資料準確度 0.9972</h4>\n",
    "<h4>1-4 RandomForestClassifier: \n",
    "    <h4>測試資料集準確度 1.0000; 訓練資料準確度 1.0000</h4>\n",
    "<h4>1-5 naive_bayes: \n",
    "    <h4>測試資料集準確度 0.8654; 訓練資料準確度 0.8676</h4>\n",
    "<h4>1-6 KNN: \n",
    "    <h4>測試資料集準確度 0.9323; 訓練資料準確度 0.8789</h4>"
   ]
  },
  {
   "cell_type": "markdown",
   "id": "20a40671",
   "metadata": {},
   "source": [
    "<h3>___________終止線_______________"
   ]
  },
  {
   "cell_type": "markdown",
   "id": "b1fd1af4",
   "metadata": {},
   "source": [
    "<h1>加入 輸入"
   ]
  },
  {
   "cell_type": "markdown",
   "id": "73c85420",
   "metadata": {},
   "source": [
    "<h2>資料前處理"
   ]
  },
  {
   "cell_type": "code",
   "execution_count": 44,
   "id": "b8af592e",
   "metadata": {},
   "outputs": [
    {
     "data": {
      "text/html": [
       "<div>\n",
       "<style scoped>\n",
       "    .dataframe tbody tr th:only-of-type {\n",
       "        vertical-align: middle;\n",
       "    }\n",
       "\n",
       "    .dataframe tbody tr th {\n",
       "        vertical-align: top;\n",
       "    }\n",
       "\n",
       "    .dataframe thead th {\n",
       "        text-align: right;\n",
       "    }\n",
       "</style>\n",
       "<table border=\"1\" class=\"dataframe\">\n",
       "  <thead>\n",
       "    <tr style=\"text-align: right;\">\n",
       "      <th></th>\n",
       "      <th>stock_code</th>\n",
       "      <th>stock_report_date</th>\n",
       "      <th>net_profit_rate</th>\n",
       "      <th>operating_gross_rate</th>\n",
       "      <th>current_rate</th>\n",
       "      <th>quick_rate</th>\n",
       "      <th>debt_rate</th>\n",
       "      <th>receivables_turnover_rate</th>\n",
       "      <th>cash_reinvest_rate</th>\n",
       "      <th>roe_rate</th>\n",
       "      <th>roa_rate</th>\n",
       "      <th>avg_director_rate</th>\n",
       "      <th>avg_director_pledge_rate</th>\n",
       "      <th>foreign_rate_bys</th>\n",
       "      <th>over1000_rate_bys</th>\n",
       "      <th>under400_rate_bys</th>\n",
       "      <th>avg_board_bys</th>\n",
       "      <th>avg_import_rate</th>\n",
       "    </tr>\n",
       "  </thead>\n",
       "  <tbody>\n",
       "    <tr>\n",
       "      <th>0</th>\n",
       "      <td>2302</td>\n",
       "      <td>20183</td>\n",
       "      <td>13.35</td>\n",
       "      <td>38.03</td>\n",
       "      <td>154.53</td>\n",
       "      <td>103.70</td>\n",
       "      <td>18.22</td>\n",
       "      <td>3.31</td>\n",
       "      <td>1.74</td>\n",
       "      <td>1.07</td>\n",
       "      <td>0.91</td>\n",
       "      <td>26.60</td>\n",
       "      <td>0.00</td>\n",
       "      <td>4.40</td>\n",
       "      <td>62.23</td>\n",
       "      <td>33.99</td>\n",
       "      <td>8.73</td>\n",
       "      <td>30.719</td>\n",
       "    </tr>\n",
       "    <tr>\n",
       "      <th>1</th>\n",
       "      <td>2302</td>\n",
       "      <td>20184</td>\n",
       "      <td>5.22</td>\n",
       "      <td>40.93</td>\n",
       "      <td>166.92</td>\n",
       "      <td>110.41</td>\n",
       "      <td>16.86</td>\n",
       "      <td>4.35</td>\n",
       "      <td>1.34</td>\n",
       "      <td>0.42</td>\n",
       "      <td>0.37</td>\n",
       "      <td>26.60</td>\n",
       "      <td>0.00</td>\n",
       "      <td>4.40</td>\n",
       "      <td>62.35</td>\n",
       "      <td>34.08</td>\n",
       "      <td>8.86</td>\n",
       "      <td>30.901</td>\n",
       "    </tr>\n",
       "    <tr>\n",
       "      <th>2</th>\n",
       "      <td>2302</td>\n",
       "      <td>20191</td>\n",
       "      <td>-3.00</td>\n",
       "      <td>37.03</td>\n",
       "      <td>171.94</td>\n",
       "      <td>109.89</td>\n",
       "      <td>16.38</td>\n",
       "      <td>0.99</td>\n",
       "      <td>1.51</td>\n",
       "      <td>-0.20</td>\n",
       "      <td>-0.14</td>\n",
       "      <td>26.60</td>\n",
       "      <td>0.00</td>\n",
       "      <td>4.37</td>\n",
       "      <td>62.53</td>\n",
       "      <td>33.68</td>\n",
       "      <td>8.90</td>\n",
       "      <td>30.880</td>\n",
       "    </tr>\n",
       "    <tr>\n",
       "      <th>3</th>\n",
       "      <td>2302</td>\n",
       "      <td>20192</td>\n",
       "      <td>10.26</td>\n",
       "      <td>32.10</td>\n",
       "      <td>174.72</td>\n",
       "      <td>114.79</td>\n",
       "      <td>16.63</td>\n",
       "      <td>2.00</td>\n",
       "      <td>2.17</td>\n",
       "      <td>0.85</td>\n",
       "      <td>0.74</td>\n",
       "      <td>26.60</td>\n",
       "      <td>0.00</td>\n",
       "      <td>4.30</td>\n",
       "      <td>62.34</td>\n",
       "      <td>33.51</td>\n",
       "      <td>9.01</td>\n",
       "      <td>31.187</td>\n",
       "    </tr>\n",
       "    <tr>\n",
       "      <th>4</th>\n",
       "      <td>2302</td>\n",
       "      <td>20193</td>\n",
       "      <td>2.29</td>\n",
       "      <td>28.78</td>\n",
       "      <td>170.04</td>\n",
       "      <td>116.92</td>\n",
       "      <td>17.45</td>\n",
       "      <td>3.10</td>\n",
       "      <td>4.32</td>\n",
       "      <td>0.17</td>\n",
       "      <td>0.17</td>\n",
       "      <td>26.60</td>\n",
       "      <td>0.00</td>\n",
       "      <td>4.30</td>\n",
       "      <td>62.33</td>\n",
       "      <td>33.44</td>\n",
       "      <td>9.11</td>\n",
       "      <td>31.248</td>\n",
       "    </tr>\n",
       "    <tr>\n",
       "      <th>...</th>\n",
       "      <td>...</td>\n",
       "      <td>...</td>\n",
       "      <td>...</td>\n",
       "      <td>...</td>\n",
       "      <td>...</td>\n",
       "      <td>...</td>\n",
       "      <td>...</td>\n",
       "      <td>...</td>\n",
       "      <td>...</td>\n",
       "      <td>...</td>\n",
       "      <td>...</td>\n",
       "      <td>...</td>\n",
       "      <td>...</td>\n",
       "      <td>...</td>\n",
       "      <td>...</td>\n",
       "      <td>...</td>\n",
       "      <td>...</td>\n",
       "      <td>...</td>\n",
       "    </tr>\n",
       "    <tr>\n",
       "      <th>1783</th>\n",
       "      <td>8299</td>\n",
       "      <td>20202</td>\n",
       "      <td>10.91</td>\n",
       "      <td>24.76</td>\n",
       "      <td>299.48</td>\n",
       "      <td>181.73</td>\n",
       "      <td>27.74</td>\n",
       "      <td>4.28</td>\n",
       "      <td>6.49</td>\n",
       "      <td>4.01</td>\n",
       "      <td>2.97</td>\n",
       "      <td>17.70</td>\n",
       "      <td>12.73</td>\n",
       "      <td>51.13</td>\n",
       "      <td>41.64</td>\n",
       "      <td>44.76</td>\n",
       "      <td>7.51</td>\n",
       "      <td>29.941</td>\n",
       "    </tr>\n",
       "    <tr>\n",
       "      <th>1784</th>\n",
       "      <td>8299</td>\n",
       "      <td>20203</td>\n",
       "      <td>15.41</td>\n",
       "      <td>22.61</td>\n",
       "      <td>363.99</td>\n",
       "      <td>240.63</td>\n",
       "      <td>23.66</td>\n",
       "      <td>6.20</td>\n",
       "      <td>5.25</td>\n",
       "      <td>6.07</td>\n",
       "      <td>4.61</td>\n",
       "      <td>18.23</td>\n",
       "      <td>17.90</td>\n",
       "      <td>45.53</td>\n",
       "      <td>37.24</td>\n",
       "      <td>51.68</td>\n",
       "      <td>6.58</td>\n",
       "      <td>29.499</td>\n",
       "    </tr>\n",
       "    <tr>\n",
       "      <th>1785</th>\n",
       "      <td>8299</td>\n",
       "      <td>20204</td>\n",
       "      <td>29.47</td>\n",
       "      <td>23.05</td>\n",
       "      <td>317.33</td>\n",
       "      <td>230.20</td>\n",
       "      <td>26.09</td>\n",
       "      <td>8.12</td>\n",
       "      <td>11.28</td>\n",
       "      <td>11.76</td>\n",
       "      <td>8.79</td>\n",
       "      <td>18.40</td>\n",
       "      <td>17.80</td>\n",
       "      <td>47.07</td>\n",
       "      <td>36.67</td>\n",
       "      <td>51.03</td>\n",
       "      <td>6.80</td>\n",
       "      <td>28.783</td>\n",
       "    </tr>\n",
       "    <tr>\n",
       "      <th>1786</th>\n",
       "      <td>8299</td>\n",
       "      <td>20211</td>\n",
       "      <td>13.09</td>\n",
       "      <td>29.71</td>\n",
       "      <td>281.91</td>\n",
       "      <td>191.93</td>\n",
       "      <td>29.32</td>\n",
       "      <td>1.95</td>\n",
       "      <td>-3.70</td>\n",
       "      <td>4.71</td>\n",
       "      <td>3.41</td>\n",
       "      <td>18.40</td>\n",
       "      <td>17.80</td>\n",
       "      <td>48.57</td>\n",
       "      <td>38.56</td>\n",
       "      <td>47.51</td>\n",
       "      <td>6.82</td>\n",
       "      <td>28.419</td>\n",
       "    </tr>\n",
       "    <tr>\n",
       "      <th>1787</th>\n",
       "      <td>8299</td>\n",
       "      <td>20212</td>\n",
       "      <td>14.23</td>\n",
       "      <td>32.60</td>\n",
       "      <td>211.42</td>\n",
       "      <td>137.79</td>\n",
       "      <td>38.88</td>\n",
       "      <td>4.07</td>\n",
       "      <td>-2.31</td>\n",
       "      <td>6.52</td>\n",
       "      <td>4.38</td>\n",
       "      <td>18.40</td>\n",
       "      <td>17.80</td>\n",
       "      <td>48.77</td>\n",
       "      <td>38.54</td>\n",
       "      <td>45.73</td>\n",
       "      <td>6.35</td>\n",
       "      <td>28.018</td>\n",
       "    </tr>\n",
       "  </tbody>\n",
       "</table>\n",
       "<p>1788 rows × 18 columns</p>\n",
       "</div>"
      ],
      "text/plain": [
       "     stock_code stock_report_date  net_profit_rate  operating_gross_rate  \\\n",
       "0          2302             20183            13.35                 38.03   \n",
       "1          2302             20184             5.22                 40.93   \n",
       "2          2302             20191            -3.00                 37.03   \n",
       "3          2302             20192            10.26                 32.10   \n",
       "4          2302             20193             2.29                 28.78   \n",
       "...         ...               ...              ...                   ...   \n",
       "1783       8299             20202            10.91                 24.76   \n",
       "1784       8299             20203            15.41                 22.61   \n",
       "1785       8299             20204            29.47                 23.05   \n",
       "1786       8299             20211            13.09                 29.71   \n",
       "1787       8299             20212            14.23                 32.60   \n",
       "\n",
       "      current_rate  quick_rate  debt_rate  receivables_turnover_rate  \\\n",
       "0           154.53      103.70      18.22                       3.31   \n",
       "1           166.92      110.41      16.86                       4.35   \n",
       "2           171.94      109.89      16.38                       0.99   \n",
       "3           174.72      114.79      16.63                       2.00   \n",
       "4           170.04      116.92      17.45                       3.10   \n",
       "...            ...         ...        ...                        ...   \n",
       "1783        299.48      181.73      27.74                       4.28   \n",
       "1784        363.99      240.63      23.66                       6.20   \n",
       "1785        317.33      230.20      26.09                       8.12   \n",
       "1786        281.91      191.93      29.32                       1.95   \n",
       "1787        211.42      137.79      38.88                       4.07   \n",
       "\n",
       "      cash_reinvest_rate  roe_rate  roa_rate  avg_director_rate  \\\n",
       "0                   1.74      1.07      0.91              26.60   \n",
       "1                   1.34      0.42      0.37              26.60   \n",
       "2                   1.51     -0.20     -0.14              26.60   \n",
       "3                   2.17      0.85      0.74              26.60   \n",
       "4                   4.32      0.17      0.17              26.60   \n",
       "...                  ...       ...       ...                ...   \n",
       "1783                6.49      4.01      2.97              17.70   \n",
       "1784                5.25      6.07      4.61              18.23   \n",
       "1785               11.28     11.76      8.79              18.40   \n",
       "1786               -3.70      4.71      3.41              18.40   \n",
       "1787               -2.31      6.52      4.38              18.40   \n",
       "\n",
       "      avg_director_pledge_rate  foreign_rate_bys  over1000_rate_bys  \\\n",
       "0                         0.00              4.40              62.23   \n",
       "1                         0.00              4.40              62.35   \n",
       "2                         0.00              4.37              62.53   \n",
       "3                         0.00              4.30              62.34   \n",
       "4                         0.00              4.30              62.33   \n",
       "...                        ...               ...                ...   \n",
       "1783                     12.73             51.13              41.64   \n",
       "1784                     17.90             45.53              37.24   \n",
       "1785                     17.80             47.07              36.67   \n",
       "1786                     17.80             48.57              38.56   \n",
       "1787                     17.80             48.77              38.54   \n",
       "\n",
       "      under400_rate_bys  avg_board_bys  avg_import_rate  \n",
       "0                 33.99           8.73           30.719  \n",
       "1                 34.08           8.86           30.901  \n",
       "2                 33.68           8.90           30.880  \n",
       "3                 33.51           9.01           31.187  \n",
       "4                 33.44           9.11           31.248  \n",
       "...                 ...            ...              ...  \n",
       "1783              44.76           7.51           29.941  \n",
       "1784              51.68           6.58           29.499  \n",
       "1785              51.03           6.80           28.783  \n",
       "1786              47.51           6.82           28.419  \n",
       "1787              45.73           6.35           28.018  \n",
       "\n",
       "[1788 rows x 18 columns]"
      ]
     },
     "execution_count": 44,
     "metadata": {},
     "output_type": "execute_result"
    }
   ],
   "source": [
    "#取得需要的特徵\n",
    "dF =  company_factor[['stock_code',\n",
    "                                  'stock_report_date',\n",
    "                                  'net_profit_rate', #稅後淨利率\n",
    "                                  'operating_gross_rate', #營業毛利率\n",
    "                                  'current_rate', #流動比率\n",
    "                                  'quick_rate',  #速動比率\n",
    "                                  'debt_rate',  #負債比率\n",
    "                                  'receivables_turnover_rate', #應收帳款週轉率\n",
    "                                  'cash_reinvest_rate', #現金再投資比率\n",
    "                                  'roe_rate', #股東權益報酬率,\n",
    "                                  'roa_rate', #資產報酬率\n",
    "                                  'avg_director_rate', #董監事持股比利\n",
    "                                  'avg_director_pledge_rate', #董監事質押比利\n",
    "                                  'foreign_rate_bys', #外資持股比例\n",
    "                                  'over1000_rate_bys', # >1000張大股東持股比率\n",
    "                                  'under400_rate_bys', # <400張股東持股比率\n",
    "                                  'avg_board_bys', #平均持股張數\n",
    "#                                   'import_kgm_weight_2801', \n",
    "#                                   'import_kgm_weight_2804', \n",
    "#                                   'import_kgm_weight_37071000',\n",
    "#                                   'import_kgm_weight_37079090',\n",
    "#                                   'import_kgm_weight_37050000306',\n",
    "#                                   'import_kgm_weight_848620',\n",
    "#                                   'import_kgm_weight_848610',\n",
    "#                                   'import_kgm_weight_381800',\n",
    "#                                   'import_usd_value_2801',\n",
    "#                                   'import_usd_value_2804',\n",
    "#                                   'import_usd_value_37071000',\n",
    "#                                   'import_usd_value_37079090',\n",
    "#                                   'import_usd_value_37050000306',\n",
    "#                                   'import_usd_value_848620',\n",
    "#                                   'import_usd_value_848610',\n",
    "#                                   'import_usd_value_381800',\n",
    "                                  'avg_import_rate'\n",
    "                                     ]].copy() \n",
    "dF"
   ]
  },
  {
   "cell_type": "code",
   "execution_count": 45,
   "id": "37df73dd",
   "metadata": {
    "scrolled": true
   },
   "outputs": [
    {
     "data": {
      "text/plain": [
       "stock_code                   0\n",
       "stock_report_date            0\n",
       "net_profit_rate              0\n",
       "operating_gross_rate         0\n",
       "current_rate                 0\n",
       "quick_rate                   0\n",
       "debt_rate                    0\n",
       "receivables_turnover_rate    0\n",
       "cash_reinvest_rate           0\n",
       "roe_rate                     0\n",
       "roa_rate                     0\n",
       "avg_director_rate            0\n",
       "avg_director_pledge_rate     0\n",
       "foreign_rate_bys             0\n",
       "over1000_rate_bys            0\n",
       "under400_rate_bys            0\n",
       "avg_board_bys                0\n",
       "avg_import_rate              0\n",
       "dtype: int64"
      ]
     },
     "execution_count": 45,
     "metadata": {},
     "output_type": "execute_result"
    }
   ],
   "source": [
    "dF.isnull().sum()"
   ]
  },
  {
   "cell_type": "code",
   "execution_count": 46,
   "id": "04a0ae45",
   "metadata": {},
   "outputs": [],
   "source": [
    "#定義毛利率 >平均者為表現良好\n",
    "m0 = dF['operating_gross_rate'].mean()\n",
    "dF['operating_gross_rate1'] = dF.apply(lambda r : encoding(r['operating_gross_rate'],m0), axis = 1)\n",
    "\n",
    "#定義淨利率 >平均者為表現良好\n",
    "m1 = dF['net_profit_rate'].mean()\n",
    "dF['net_profit_rate1'] = dF.apply(lambda r : encoding(r['net_profit_rate'],m1), axis = 1)\n",
    "\n",
    "#定義股東權益報酬率 >平均者為表現良好\n",
    "m2 = dF['roe_rate'].mean()\n",
    "dF['roe_rate1'] = dF.apply(lambda r : encoding(r['roe_rate'],m2), axis = 1)"
   ]
  },
  {
   "cell_type": "code",
   "execution_count": 49,
   "id": "ef3465bc",
   "metadata": {},
   "outputs": [
    {
     "name": "stdout",
     "output_type": "stream",
     "text": [
      "X.shape:  (1788, 12)\n",
      "X1.shape:  (1788, 13)\n",
      "y.shape:  (1788,)\n",
      "y.sum(): 955\n",
      "y1.shape:  (1788,)\n",
      "y1.sum(): 1261\n",
      "y2.shape:  (1788,)\n",
      "y2.sum(): 960\n"
     ]
    }
   ],
   "source": [
    "X = dF[['current_rate', #流動比率\n",
    "        'quick_rate',  #速動比率\n",
    "        'debt_rate',  #負債比率\n",
    "        'receivables_turnover_rate', #應收帳款週轉率\n",
    "        'cash_reinvest_rate', #現金再投資比率\n",
    "#         'roe_rate', #股東權益報酬率,\n",
    "#         'roa_rate', #資產報酬率\n",
    "        'avg_director_rate', #董監事持股比利\n",
    "        'avg_director_pledge_rate', #董監事質押比利\n",
    "        'foreign_rate_bys', #外資持股比例\n",
    "        'over1000_rate_bys', # >1000張大股東持股比率\n",
    "        'under400_rate_bys', # <400張股東持股比率\n",
    "        'avg_board_bys', #平均持股張數\n",
    "#         'import_kgm_weight_2801', \n",
    "#         'import_kgm_weight_2804', \n",
    "#         'import_kgm_weight_37071000',\n",
    "#         'import_kgm_weight_37079090',\n",
    "#         'import_kgm_weight_37050000306',\n",
    "#         'import_kgm_weight_848620',\n",
    "#         'import_kgm_weight_848610',\n",
    "#         'import_kgm_weight_381800',\n",
    "#         'import_usd_value_2801',\n",
    "#         'import_usd_value_2804',\n",
    "#         'import_usd_value_37071000',\n",
    "#         'import_usd_value_37079090',\n",
    "#         'import_usd_value_37050000306',\n",
    "#         'import_usd_value_848620',\n",
    "#         'import_usd_value_848610',\n",
    "#         'import_usd_value_381800',\n",
    "        'avg_import_rate']]\n",
    "X1 = dF[['current_rate', #流動比率\n",
    "        'quick_rate',  #速動比率\n",
    "        'debt_rate',  #負債比率\n",
    "        'operating_gross_rate', #營業毛利率\n",
    "        'receivables_turnover_rate', #應收帳款週轉率\n",
    "        'cash_reinvest_rate', #現金再投資比率\n",
    "        'avg_director_rate', #董監事持股比利\n",
    "        'avg_director_pledge_rate', #董監事質押比利\n",
    "        'foreign_rate_bys', #外資持股比例\n",
    "        'over1000_rate_bys', # >1000張大股東持股比率\n",
    "        'under400_rate_bys', # <400張股東持股比率\n",
    "        'avg_board_bys', #平均持股張數\n",
    "#         'import_kgm_weight_2801', \n",
    "#         'import_kgm_weight_2804', \n",
    "#         'import_kgm_weight_37071000',\n",
    "#         'import_kgm_weight_37079090',\n",
    "#         'import_kgm_weight_37050000306',\n",
    "#         'import_kgm_weight_848620',\n",
    "#         'import_kgm_weight_848610',\n",
    "#         'import_kgm_weight_381800',\n",
    "#         'import_usd_value_2801',\n",
    "#         'import_usd_value_2804',\n",
    "#         'import_usd_value_37071000',\n",
    "#         'import_usd_value_37079090',\n",
    "#         'import_usd_value_37050000306',\n",
    "#         'import_usd_value_848620',\n",
    "#         'import_usd_value_848610',\n",
    "#         'import_usd_value_381800',\n",
    "        'avg_import_rate']]\n",
    "y = dF['operating_gross_rate1']\n",
    "y1 = dF['net_profit_rate1']\n",
    "y2 = dF['roe_rate1']\n",
    "print(\"X.shape: \" ,X.shape)\n",
    "print(\"X1.shape: \" ,X1.shape)\n",
    "print(\"y.shape: \" ,y.shape)\n",
    "print('y.sum():',y.sum())\n",
    "print(\"y1.shape: \" ,y1.shape)\n",
    "print('y1.sum():',y1.sum())\n",
    "print(\"y2.shape: \" ,y2.shape)\n",
    "print('y2.sum():',y2.sum())"
   ]
  },
  {
   "cell_type": "code",
   "execution_count": 50,
   "id": "b735f80a",
   "metadata": {},
   "outputs": [],
   "source": [
    "# 輸入數據調成標準值以免各特徵影響不同\n",
    "# you'll learn why scaling is needed in a later course\n",
    "# from sklearn.preprocessing import StandardScaler\n",
    "def mean_norm(df_input):\n",
    "    return df_input.apply(lambda x: ((x-df_input.mean())/ df_input.std()))"
   ]
  },
  {
   "cell_type": "code",
   "execution_count": 51,
   "id": "42ca0adf",
   "metadata": {
    "scrolled": true
   },
   "outputs": [
    {
     "data": {
      "text/html": [
       "<div>\n",
       "<style scoped>\n",
       "    .dataframe tbody tr th:only-of-type {\n",
       "        vertical-align: middle;\n",
       "    }\n",
       "\n",
       "    .dataframe tbody tr th {\n",
       "        vertical-align: top;\n",
       "    }\n",
       "\n",
       "    .dataframe thead th {\n",
       "        text-align: right;\n",
       "    }\n",
       "</style>\n",
       "<table border=\"1\" class=\"dataframe\">\n",
       "  <thead>\n",
       "    <tr style=\"text-align: right;\">\n",
       "      <th></th>\n",
       "      <th>current_rate</th>\n",
       "      <th>quick_rate</th>\n",
       "      <th>debt_rate</th>\n",
       "      <th>receivables_turnover_rate</th>\n",
       "      <th>cash_reinvest_rate</th>\n",
       "      <th>avg_director_rate</th>\n",
       "      <th>avg_director_pledge_rate</th>\n",
       "      <th>foreign_rate_bys</th>\n",
       "      <th>over1000_rate_bys</th>\n",
       "      <th>under400_rate_bys</th>\n",
       "      <th>avg_board_bys</th>\n",
       "      <th>avg_import_rate</th>\n",
       "    </tr>\n",
       "  </thead>\n",
       "  <tbody>\n",
       "    <tr>\n",
       "      <th>0</th>\n",
       "      <td>-0.497595</td>\n",
       "      <td>-0.459666</td>\n",
       "      <td>-0.824804</td>\n",
       "      <td>-0.159355</td>\n",
       "      <td>-0.233499</td>\n",
       "      <td>0.437739</td>\n",
       "      <td>-0.405628</td>\n",
       "      <td>-0.643864</td>\n",
       "      <td>0.842469</td>\n",
       "      <td>-0.637059</td>\n",
       "      <td>-0.298683</td>\n",
       "      <td>0.653842</td>\n",
       "    </tr>\n",
       "    <tr>\n",
       "      <th>1</th>\n",
       "      <td>-0.468749</td>\n",
       "      <td>-0.443455</td>\n",
       "      <td>-0.904884</td>\n",
       "      <td>-0.060091</td>\n",
       "      <td>-0.268016</td>\n",
       "      <td>0.437739</td>\n",
       "      <td>-0.405628</td>\n",
       "      <td>-0.643864</td>\n",
       "      <td>0.848042</td>\n",
       "      <td>-0.632518</td>\n",
       "      <td>-0.289146</td>\n",
       "      <td>0.825146</td>\n",
       "    </tr>\n",
       "    <tr>\n",
       "      <th>2</th>\n",
       "      <td>-0.457062</td>\n",
       "      <td>-0.444712</td>\n",
       "      <td>-0.933148</td>\n",
       "      <td>-0.380792</td>\n",
       "      <td>-0.253346</td>\n",
       "      <td>0.437739</td>\n",
       "      <td>-0.405628</td>\n",
       "      <td>-0.645352</td>\n",
       "      <td>0.856400</td>\n",
       "      <td>-0.652700</td>\n",
       "      <td>-0.286212</td>\n",
       "      <td>0.805381</td>\n",
       "    </tr>\n",
       "    <tr>\n",
       "      <th>3</th>\n",
       "      <td>-0.450589</td>\n",
       "      <td>-0.432874</td>\n",
       "      <td>-0.918427</td>\n",
       "      <td>-0.284391</td>\n",
       "      <td>-0.196393</td>\n",
       "      <td>0.437739</td>\n",
       "      <td>-0.405628</td>\n",
       "      <td>-0.648822</td>\n",
       "      <td>0.847577</td>\n",
       "      <td>-0.661277</td>\n",
       "      <td>-0.278142</td>\n",
       "      <td>1.094339</td>\n",
       "    </tr>\n",
       "    <tr>\n",
       "      <th>4</th>\n",
       "      <td>-0.461485</td>\n",
       "      <td>-0.427728</td>\n",
       "      <td>-0.870144</td>\n",
       "      <td>-0.179399</td>\n",
       "      <td>-0.010865</td>\n",
       "      <td>0.437739</td>\n",
       "      <td>-0.405628</td>\n",
       "      <td>-0.648822</td>\n",
       "      <td>0.847113</td>\n",
       "      <td>-0.664809</td>\n",
       "      <td>-0.270806</td>\n",
       "      <td>1.151754</td>\n",
       "    </tr>\n",
       "    <tr>\n",
       "      <th>...</th>\n",
       "      <td>...</td>\n",
       "      <td>...</td>\n",
       "      <td>...</td>\n",
       "      <td>...</td>\n",
       "      <td>...</td>\n",
       "      <td>...</td>\n",
       "      <td>...</td>\n",
       "      <td>...</td>\n",
       "      <td>...</td>\n",
       "      <td>...</td>\n",
       "      <td>...</td>\n",
       "      <td>...</td>\n",
       "    </tr>\n",
       "    <tr>\n",
       "      <th>1783</th>\n",
       "      <td>-0.160125</td>\n",
       "      <td>-0.271150</td>\n",
       "      <td>-0.264240</td>\n",
       "      <td>-0.066772</td>\n",
       "      <td>0.176390</td>\n",
       "      <td>-0.080402</td>\n",
       "      <td>0.701591</td>\n",
       "      <td>1.672838</td>\n",
       "      <td>-0.113698</td>\n",
       "      <td>-0.093660</td>\n",
       "      <td>-0.388184</td>\n",
       "      <td>-0.078436</td>\n",
       "    </tr>\n",
       "    <tr>\n",
       "      <th>1784</th>\n",
       "      <td>-0.009934</td>\n",
       "      <td>-0.128851</td>\n",
       "      <td>-0.504482</td>\n",
       "      <td>0.116486</td>\n",
       "      <td>0.069387</td>\n",
       "      <td>-0.049547</td>\n",
       "      <td>1.151263</td>\n",
       "      <td>1.395210</td>\n",
       "      <td>-0.318027</td>\n",
       "      <td>0.255488</td>\n",
       "      <td>-0.456411</td>\n",
       "      <td>-0.494460</td>\n",
       "    </tr>\n",
       "    <tr>\n",
       "      <th>1785</th>\n",
       "      <td>-0.118567</td>\n",
       "      <td>-0.154049</td>\n",
       "      <td>-0.361397</td>\n",
       "      <td>0.299745</td>\n",
       "      <td>0.589730</td>\n",
       "      <td>-0.039650</td>\n",
       "      <td>1.142565</td>\n",
       "      <td>1.471558</td>\n",
       "      <td>-0.344497</td>\n",
       "      <td>0.222692</td>\n",
       "      <td>-0.440271</td>\n",
       "      <td>-1.168382</td>\n",
       "    </tr>\n",
       "    <tr>\n",
       "      <th>1786</th>\n",
       "      <td>-0.201031</td>\n",
       "      <td>-0.246508</td>\n",
       "      <td>-0.171205</td>\n",
       "      <td>-0.289163</td>\n",
       "      <td>-0.702930</td>\n",
       "      <td>-0.039650</td>\n",
       "      <td>1.142565</td>\n",
       "      <td>1.545922</td>\n",
       "      <td>-0.256728</td>\n",
       "      <td>0.045091</td>\n",
       "      <td>-0.438804</td>\n",
       "      <td>-1.510991</td>\n",
       "    </tr>\n",
       "    <tr>\n",
       "      <th>1787</th>\n",
       "      <td>-0.365145</td>\n",
       "      <td>-0.377307</td>\n",
       "      <td>0.391714</td>\n",
       "      <td>-0.086816</td>\n",
       "      <td>-0.582983</td>\n",
       "      <td>-0.039650</td>\n",
       "      <td>1.142565</td>\n",
       "      <td>1.555838</td>\n",
       "      <td>-0.257657</td>\n",
       "      <td>-0.044719</td>\n",
       "      <td>-0.473284</td>\n",
       "      <td>-1.888424</td>\n",
       "    </tr>\n",
       "  </tbody>\n",
       "</table>\n",
       "<p>1788 rows × 12 columns</p>\n",
       "</div>"
      ],
      "text/plain": [
       "      current_rate  quick_rate  debt_rate  receivables_turnover_rate  \\\n",
       "0        -0.497595   -0.459666  -0.824804                  -0.159355   \n",
       "1        -0.468749   -0.443455  -0.904884                  -0.060091   \n",
       "2        -0.457062   -0.444712  -0.933148                  -0.380792   \n",
       "3        -0.450589   -0.432874  -0.918427                  -0.284391   \n",
       "4        -0.461485   -0.427728  -0.870144                  -0.179399   \n",
       "...            ...         ...        ...                        ...   \n",
       "1783     -0.160125   -0.271150  -0.264240                  -0.066772   \n",
       "1784     -0.009934   -0.128851  -0.504482                   0.116486   \n",
       "1785     -0.118567   -0.154049  -0.361397                   0.299745   \n",
       "1786     -0.201031   -0.246508  -0.171205                  -0.289163   \n",
       "1787     -0.365145   -0.377307   0.391714                  -0.086816   \n",
       "\n",
       "      cash_reinvest_rate  avg_director_rate  avg_director_pledge_rate  \\\n",
       "0              -0.233499           0.437739                 -0.405628   \n",
       "1              -0.268016           0.437739                 -0.405628   \n",
       "2              -0.253346           0.437739                 -0.405628   \n",
       "3              -0.196393           0.437739                 -0.405628   \n",
       "4              -0.010865           0.437739                 -0.405628   \n",
       "...                  ...                ...                       ...   \n",
       "1783            0.176390          -0.080402                  0.701591   \n",
       "1784            0.069387          -0.049547                  1.151263   \n",
       "1785            0.589730          -0.039650                  1.142565   \n",
       "1786           -0.702930          -0.039650                  1.142565   \n",
       "1787           -0.582983          -0.039650                  1.142565   \n",
       "\n",
       "      foreign_rate_bys  over1000_rate_bys  under400_rate_bys  avg_board_bys  \\\n",
       "0            -0.643864           0.842469          -0.637059      -0.298683   \n",
       "1            -0.643864           0.848042          -0.632518      -0.289146   \n",
       "2            -0.645352           0.856400          -0.652700      -0.286212   \n",
       "3            -0.648822           0.847577          -0.661277      -0.278142   \n",
       "4            -0.648822           0.847113          -0.664809      -0.270806   \n",
       "...                ...                ...                ...            ...   \n",
       "1783          1.672838          -0.113698          -0.093660      -0.388184   \n",
       "1784          1.395210          -0.318027           0.255488      -0.456411   \n",
       "1785          1.471558          -0.344497           0.222692      -0.440271   \n",
       "1786          1.545922          -0.256728           0.045091      -0.438804   \n",
       "1787          1.555838          -0.257657          -0.044719      -0.473284   \n",
       "\n",
       "      avg_import_rate  \n",
       "0            0.653842  \n",
       "1            0.825146  \n",
       "2            0.805381  \n",
       "3            1.094339  \n",
       "4            1.151754  \n",
       "...               ...  \n",
       "1783        -0.078436  \n",
       "1784        -0.494460  \n",
       "1785        -1.168382  \n",
       "1786        -1.510991  \n",
       "1787        -1.888424  \n",
       "\n",
       "[1788 rows x 12 columns]"
      ]
     },
     "execution_count": 51,
     "metadata": {},
     "output_type": "execute_result"
    }
   ],
   "source": [
    "X_scaled = pd.DataFrame()\n",
    "a, b = X.shape\n",
    "\n",
    "for i in range(b):\n",
    "    x_new = mean_norm(X[X.columns[i]])\n",
    "    X_scaled.insert(i,X.columns[i],x_new)\n",
    "X_scaled"
   ]
  },
  {
   "cell_type": "code",
   "execution_count": 52,
   "id": "02cb8940",
   "metadata": {},
   "outputs": [
    {
     "name": "stdout",
     "output_type": "stream",
     "text": [
      "N: 1430 D: 12\n"
     ]
    }
   ],
   "source": [
    "#分割資料為 測試集 與 訓練集\n",
    "from sklearn.model_selection import train_test_split\n",
    "X_train, X_test, y_train, y_test = train_test_split(X_scaled, y, test_size=0.2,random_state=1)\n",
    "N, D = X_train.shape\n",
    "print (\"N:\", N, \"D:\", D)"
   ]
  },
  {
   "cell_type": "code",
   "execution_count": null,
   "id": "930f5bcd",
   "metadata": {},
   "outputs": [],
   "source": []
  },
  {
   "cell_type": "markdown",
   "id": "6b0c98f6",
   "metadata": {},
   "source": [
    "<h2> 4-1 以 DNN 類神經網路 實作 - 預測毛利率"
   ]
  },
  {
   "cell_type": "code",
   "execution_count": 53,
   "id": "faf00d11",
   "metadata": {},
   "outputs": [
    {
     "name": "stdout",
     "output_type": "stream",
     "text": [
      "2.6.0\n"
     ]
    }
   ],
   "source": [
    "import tensorflow as tf\n",
    "print(tf.__version__)"
   ]
  },
  {
   "cell_type": "code",
   "execution_count": 54,
   "id": "bf8b64d4",
   "metadata": {},
   "outputs": [],
   "source": [
    "import numpy as np\n",
    "import matplotlib.pyplot as plt\n",
    "from tensorflow.keras.layers import Input, Conv2D, Dense, Flatten, Dropout,LeakyReLU\n",
    "from tensorflow.keras.models import Model\n",
    "from sklearn.metrics import confusion_matrix"
   ]
  },
  {
   "cell_type": "code",
   "execution_count": 55,
   "id": "ae42755d",
   "metadata": {},
   "outputs": [],
   "source": [
    "# 建立TF模型\n",
    "model = tf.keras.models.Sequential([\n",
    "  tf.keras.layers.Input(shape=(D,)),\n",
    "  tf.keras.layers.Dense(128, activation='relu'),\n",
    "  tf.keras.layers.Dropout(0.6),\n",
    "  tf.keras.layers.Dense(64, activation='relu'),\n",
    "  tf.keras.layers.Dropout(0.4),\n",
    "  tf.keras.layers.Dense(16, activation='relu'),\n",
    "  tf.keras.layers.Dropout(0.2),\n",
    "  tf.keras.layers.Dense(1, activation='sigmoid'),\n",
    "])"
   ]
  },
  {
   "cell_type": "code",
   "execution_count": 56,
   "id": "2d6cff9a",
   "metadata": {},
   "outputs": [
    {
     "name": "stdout",
     "output_type": "stream",
     "text": [
      "Model: \"sequential_4\"\n",
      "_________________________________________________________________\n",
      "Layer (type)                 Output Shape              Param #   \n",
      "=================================================================\n",
      "dense_12 (Dense)             (None, 128)               1664      \n",
      "_________________________________________________________________\n",
      "dropout_8 (Dropout)          (None, 128)               0         \n",
      "_________________________________________________________________\n",
      "dense_13 (Dense)             (None, 64)                8256      \n",
      "_________________________________________________________________\n",
      "dropout_9 (Dropout)          (None, 64)                0         \n",
      "_________________________________________________________________\n",
      "dense_14 (Dense)             (None, 16)                1040      \n",
      "_________________________________________________________________\n",
      "dropout_10 (Dropout)         (None, 16)                0         \n",
      "_________________________________________________________________\n",
      "dense_15 (Dense)             (None, 1)                 17        \n",
      "=================================================================\n",
      "Total params: 10,977\n",
      "Trainable params: 10,977\n",
      "Non-trainable params: 0\n",
      "_________________________________________________________________\n"
     ]
    }
   ],
   "source": [
    "model.summary()"
   ]
  },
  {
   "cell_type": "code",
   "execution_count": 57,
   "id": "0f84df70",
   "metadata": {},
   "outputs": [],
   "source": [
    "#編譯模型\n",
    "lr = 0.0003\n",
    "model.compile(tf.keras.optimizers.Adam(learning_rate = lr),\n",
    "              loss='binary_crossentropy',\n",
    "              metrics=['accuracy'])"
   ]
  },
  {
   "cell_type": "code",
   "execution_count": 58,
   "id": "3e79352c",
   "metadata": {
    "scrolled": true
   },
   "outputs": [
    {
     "name": "stdout",
     "output_type": "stream",
     "text": [
      "Epoch 1/200\n",
      "45/45 [==============================] - 1s 3ms/step - loss: 0.7103 - accuracy: 0.5301 - val_loss: 0.6751 - val_accuracy: 0.5978\n",
      "Epoch 2/200\n",
      "45/45 [==============================] - 0s 1ms/step - loss: 0.6892 - accuracy: 0.5490 - val_loss: 0.6647 - val_accuracy: 0.6145\n",
      "Epoch 3/200\n",
      "45/45 [==============================] - 0s 1ms/step - loss: 0.6828 - accuracy: 0.5671 - val_loss: 0.6568 - val_accuracy: 0.6145\n",
      "Epoch 4/200\n",
      "45/45 [==============================] - 0s 2ms/step - loss: 0.6783 - accuracy: 0.5902 - val_loss: 0.6508 - val_accuracy: 0.6257\n",
      "Epoch 5/200\n",
      "45/45 [==============================] - 0s 1ms/step - loss: 0.6763 - accuracy: 0.5839 - val_loss: 0.6446 - val_accuracy: 0.6369\n",
      "Epoch 6/200\n",
      "45/45 [==============================] - 0s 1ms/step - loss: 0.6647 - accuracy: 0.5979 - val_loss: 0.6401 - val_accuracy: 0.6173\n",
      "Epoch 7/200\n",
      "45/45 [==============================] - 0s 1ms/step - loss: 0.6763 - accuracy: 0.5930 - val_loss: 0.6363 - val_accuracy: 0.6229\n",
      "Epoch 8/200\n",
      "45/45 [==============================] - 0s 1ms/step - loss: 0.6594 - accuracy: 0.6168 - val_loss: 0.6339 - val_accuracy: 0.6285\n",
      "Epoch 9/200\n",
      "45/45 [==============================] - 0s 1ms/step - loss: 0.6530 - accuracy: 0.6084 - val_loss: 0.6300 - val_accuracy: 0.6201\n",
      "Epoch 10/200\n",
      "45/45 [==============================] - 0s 1ms/step - loss: 0.6526 - accuracy: 0.6224 - val_loss: 0.6269 - val_accuracy: 0.6229\n",
      "Epoch 11/200\n",
      "45/45 [==============================] - 0s 1ms/step - loss: 0.6497 - accuracy: 0.6126 - val_loss: 0.6236 - val_accuracy: 0.6480\n",
      "Epoch 12/200\n",
      "45/45 [==============================] - 0s 1ms/step - loss: 0.6448 - accuracy: 0.6315 - val_loss: 0.6212 - val_accuracy: 0.6425\n",
      "Epoch 13/200\n",
      "45/45 [==============================] - 0s 1ms/step - loss: 0.6551 - accuracy: 0.6133 - val_loss: 0.6204 - val_accuracy: 0.6369\n",
      "Epoch 14/200\n",
      "45/45 [==============================] - 0s 1ms/step - loss: 0.6474 - accuracy: 0.6245 - val_loss: 0.6180 - val_accuracy: 0.6285\n",
      "Epoch 15/200\n",
      "45/45 [==============================] - 0s 1ms/step - loss: 0.6436 - accuracy: 0.6175 - val_loss: 0.6162 - val_accuracy: 0.6397\n",
      "Epoch 16/200\n",
      "45/45 [==============================] - 0s 1ms/step - loss: 0.6371 - accuracy: 0.6462 - val_loss: 0.6151 - val_accuracy: 0.6397\n",
      "Epoch 17/200\n",
      "45/45 [==============================] - 0s 1ms/step - loss: 0.6421 - accuracy: 0.6294 - val_loss: 0.6123 - val_accuracy: 0.6425\n",
      "Epoch 18/200\n",
      "45/45 [==============================] - 0s 1ms/step - loss: 0.6355 - accuracy: 0.6378 - val_loss: 0.6102 - val_accuracy: 0.6425\n",
      "Epoch 19/200\n",
      "45/45 [==============================] - 0s 1ms/step - loss: 0.6224 - accuracy: 0.6510 - val_loss: 0.6089 - val_accuracy: 0.6425\n",
      "Epoch 20/200\n",
      "45/45 [==============================] - 0s 1ms/step - loss: 0.6257 - accuracy: 0.6531 - val_loss: 0.6061 - val_accuracy: 0.6480\n",
      "Epoch 21/200\n",
      "45/45 [==============================] - 0s 1ms/step - loss: 0.6306 - accuracy: 0.6559 - val_loss: 0.6041 - val_accuracy: 0.6592\n",
      "Epoch 22/200\n",
      "45/45 [==============================] - 0s 1ms/step - loss: 0.6319 - accuracy: 0.6287 - val_loss: 0.6030 - val_accuracy: 0.6508\n",
      "Epoch 23/200\n",
      "45/45 [==============================] - 0s 1ms/step - loss: 0.6231 - accuracy: 0.6462 - val_loss: 0.6012 - val_accuracy: 0.6592\n",
      "Epoch 24/200\n",
      "45/45 [==============================] - 0s 1ms/step - loss: 0.6197 - accuracy: 0.6636 - val_loss: 0.5990 - val_accuracy: 0.6592\n",
      "Epoch 25/200\n",
      "45/45 [==============================] - 0s 1ms/step - loss: 0.6238 - accuracy: 0.6636 - val_loss: 0.5984 - val_accuracy: 0.6508\n",
      "Epoch 26/200\n",
      "45/45 [==============================] - 0s 1ms/step - loss: 0.6294 - accuracy: 0.6497 - val_loss: 0.5975 - val_accuracy: 0.6508\n",
      "Epoch 27/200\n",
      "45/45 [==============================] - 0s 1ms/step - loss: 0.6307 - accuracy: 0.6350 - val_loss: 0.5966 - val_accuracy: 0.6508\n",
      "Epoch 28/200\n",
      "45/45 [==============================] - 0s 1ms/step - loss: 0.6087 - accuracy: 0.6706 - val_loss: 0.5947 - val_accuracy: 0.6564\n",
      "Epoch 29/200\n",
      "45/45 [==============================] - 0s 1ms/step - loss: 0.6127 - accuracy: 0.6531 - val_loss: 0.5928 - val_accuracy: 0.6536\n",
      "Epoch 30/200\n",
      "45/45 [==============================] - 0s 1ms/step - loss: 0.6114 - accuracy: 0.6608 - val_loss: 0.5922 - val_accuracy: 0.6564\n",
      "Epoch 31/200\n",
      "45/45 [==============================] - 0s 1ms/step - loss: 0.6264 - accuracy: 0.6434 - val_loss: 0.5925 - val_accuracy: 0.6592\n",
      "Epoch 32/200\n",
      "45/45 [==============================] - 0s 1ms/step - loss: 0.6090 - accuracy: 0.6650 - val_loss: 0.5909 - val_accuracy: 0.6620\n",
      "Epoch 33/200\n",
      "45/45 [==============================] - 0s 1ms/step - loss: 0.6149 - accuracy: 0.6552 - val_loss: 0.5904 - val_accuracy: 0.6592\n",
      "Epoch 34/200\n",
      "45/45 [==============================] - 0s 1ms/step - loss: 0.6100 - accuracy: 0.6580 - val_loss: 0.5890 - val_accuracy: 0.6564\n",
      "Epoch 35/200\n",
      "45/45 [==============================] - 0s 1ms/step - loss: 0.6103 - accuracy: 0.6713 - val_loss: 0.5877 - val_accuracy: 0.6592\n",
      "Epoch 36/200\n",
      "45/45 [==============================] - 0s 1ms/step - loss: 0.6172 - accuracy: 0.6671 - val_loss: 0.5875 - val_accuracy: 0.6620\n",
      "Epoch 37/200\n",
      "45/45 [==============================] - 0s 1ms/step - loss: 0.6071 - accuracy: 0.6657 - val_loss: 0.5860 - val_accuracy: 0.6620\n",
      "Epoch 38/200\n",
      "45/45 [==============================] - 0s 1ms/step - loss: 0.6049 - accuracy: 0.6762 - val_loss: 0.5844 - val_accuracy: 0.6592\n",
      "Epoch 39/200\n",
      "45/45 [==============================] - 0s 1ms/step - loss: 0.6108 - accuracy: 0.6573 - val_loss: 0.5838 - val_accuracy: 0.6648\n",
      "Epoch 40/200\n",
      "45/45 [==============================] - 0s 2ms/step - loss: 0.6096 - accuracy: 0.6804 - val_loss: 0.5831 - val_accuracy: 0.6676\n",
      "Epoch 41/200\n",
      "45/45 [==============================] - 0s 2ms/step - loss: 0.6044 - accuracy: 0.6636 - val_loss: 0.5819 - val_accuracy: 0.6676\n",
      "Epoch 42/200\n",
      "45/45 [==============================] - 0s 2ms/step - loss: 0.5987 - accuracy: 0.6909 - val_loss: 0.5807 - val_accuracy: 0.6648\n",
      "Epoch 43/200\n",
      "45/45 [==============================] - 0s 1ms/step - loss: 0.5947 - accuracy: 0.6818 - val_loss: 0.5789 - val_accuracy: 0.6704\n",
      "Epoch 44/200\n",
      "45/45 [==============================] - 0s 1ms/step - loss: 0.6005 - accuracy: 0.6727 - val_loss: 0.5788 - val_accuracy: 0.6704\n",
      "Epoch 45/200\n",
      "45/45 [==============================] - 0s 1ms/step - loss: 0.5919 - accuracy: 0.6783 - val_loss: 0.5775 - val_accuracy: 0.6704\n",
      "Epoch 46/200\n",
      "45/45 [==============================] - 0s 2ms/step - loss: 0.6077 - accuracy: 0.6748 - val_loss: 0.5778 - val_accuracy: 0.6704\n",
      "Epoch 47/200\n",
      "45/45 [==============================] - 0s 2ms/step - loss: 0.5988 - accuracy: 0.6741 - val_loss: 0.5773 - val_accuracy: 0.6732\n",
      "Epoch 48/200\n",
      "45/45 [==============================] - 0s 2ms/step - loss: 0.6076 - accuracy: 0.6650 - val_loss: 0.5783 - val_accuracy: 0.6732\n",
      "Epoch 49/200\n",
      "45/45 [==============================] - 0s 2ms/step - loss: 0.5995 - accuracy: 0.6706 - val_loss: 0.5779 - val_accuracy: 0.6704\n",
      "Epoch 50/200\n",
      "45/45 [==============================] - 0s 2ms/step - loss: 0.6019 - accuracy: 0.6881 - val_loss: 0.5768 - val_accuracy: 0.6704\n",
      "Epoch 51/200\n",
      "45/45 [==============================] - 0s 2ms/step - loss: 0.6068 - accuracy: 0.6601 - val_loss: 0.5773 - val_accuracy: 0.6676\n",
      "Epoch 52/200\n",
      "45/45 [==============================] - 0s 1ms/step - loss: 0.5969 - accuracy: 0.6748 - val_loss: 0.5774 - val_accuracy: 0.6732\n",
      "Epoch 53/200\n",
      "45/45 [==============================] - 0s 1ms/step - loss: 0.5974 - accuracy: 0.6811 - val_loss: 0.5760 - val_accuracy: 0.6732\n",
      "Epoch 54/200\n",
      "45/45 [==============================] - 0s 1ms/step - loss: 0.5902 - accuracy: 0.6727 - val_loss: 0.5741 - val_accuracy: 0.6760\n",
      "Epoch 55/200\n",
      "45/45 [==============================] - 0s 1ms/step - loss: 0.6009 - accuracy: 0.6692 - val_loss: 0.5736 - val_accuracy: 0.6704\n",
      "Epoch 56/200\n",
      "45/45 [==============================] - 0s 2ms/step - loss: 0.5875 - accuracy: 0.6867 - val_loss: 0.5728 - val_accuracy: 0.6704\n",
      "Epoch 57/200\n",
      "45/45 [==============================] - 0s 2ms/step - loss: 0.5896 - accuracy: 0.6776 - val_loss: 0.5715 - val_accuracy: 0.6760\n",
      "Epoch 58/200\n",
      "45/45 [==============================] - 0s 1ms/step - loss: 0.5942 - accuracy: 0.6741 - val_loss: 0.5704 - val_accuracy: 0.6760\n"
     ]
    },
    {
     "name": "stdout",
     "output_type": "stream",
     "text": [
      "Epoch 59/200\n",
      "45/45 [==============================] - 0s 1ms/step - loss: 0.6045 - accuracy: 0.6615 - val_loss: 0.5707 - val_accuracy: 0.6788\n",
      "Epoch 60/200\n",
      "45/45 [==============================] - 0s 2ms/step - loss: 0.5948 - accuracy: 0.6678 - val_loss: 0.5705 - val_accuracy: 0.6760\n",
      "Epoch 61/200\n",
      "45/45 [==============================] - 0s 2ms/step - loss: 0.5844 - accuracy: 0.6832 - val_loss: 0.5695 - val_accuracy: 0.6788\n",
      "Epoch 62/200\n",
      "45/45 [==============================] - 0s 2ms/step - loss: 0.5895 - accuracy: 0.6797 - val_loss: 0.5711 - val_accuracy: 0.6760\n",
      "Epoch 63/200\n",
      "45/45 [==============================] - 0s 2ms/step - loss: 0.5863 - accuracy: 0.6867 - val_loss: 0.5694 - val_accuracy: 0.6704\n",
      "Epoch 64/200\n",
      "45/45 [==============================] - 0s 1ms/step - loss: 0.5789 - accuracy: 0.6937 - val_loss: 0.5686 - val_accuracy: 0.6816\n",
      "Epoch 65/200\n",
      "45/45 [==============================] - 0s 1ms/step - loss: 0.5823 - accuracy: 0.6706 - val_loss: 0.5669 - val_accuracy: 0.6788\n",
      "Epoch 66/200\n",
      "45/45 [==============================] - 0s 1ms/step - loss: 0.5809 - accuracy: 0.6937 - val_loss: 0.5656 - val_accuracy: 0.6816\n",
      "Epoch 67/200\n",
      "45/45 [==============================] - 0s 2ms/step - loss: 0.5846 - accuracy: 0.6958 - val_loss: 0.5656 - val_accuracy: 0.6872\n",
      "Epoch 68/200\n",
      "45/45 [==============================] - 0s 2ms/step - loss: 0.5724 - accuracy: 0.6909 - val_loss: 0.5642 - val_accuracy: 0.6816\n",
      "Epoch 69/200\n",
      "45/45 [==============================] - 0s 2ms/step - loss: 0.5855 - accuracy: 0.6769 - val_loss: 0.5635 - val_accuracy: 0.6899\n",
      "Epoch 70/200\n",
      "45/45 [==============================] - 0s 1ms/step - loss: 0.5702 - accuracy: 0.7063 - val_loss: 0.5635 - val_accuracy: 0.6899\n",
      "Epoch 71/200\n",
      "45/45 [==============================] - 0s 1ms/step - loss: 0.5873 - accuracy: 0.6902 - val_loss: 0.5624 - val_accuracy: 0.6899\n",
      "Epoch 72/200\n",
      "45/45 [==============================] - 0s 1ms/step - loss: 0.5808 - accuracy: 0.6930 - val_loss: 0.5632 - val_accuracy: 0.6844\n",
      "Epoch 73/200\n",
      "45/45 [==============================] - 0s 1ms/step - loss: 0.5760 - accuracy: 0.6874 - val_loss: 0.5618 - val_accuracy: 0.6872\n",
      "Epoch 74/200\n",
      "45/45 [==============================] - 0s 1ms/step - loss: 0.5912 - accuracy: 0.6790 - val_loss: 0.5613 - val_accuracy: 0.6760\n",
      "Epoch 75/200\n",
      "45/45 [==============================] - 0s 1ms/step - loss: 0.5847 - accuracy: 0.6846 - val_loss: 0.5616 - val_accuracy: 0.6760\n",
      "Epoch 76/200\n",
      "45/45 [==============================] - 0s 1ms/step - loss: 0.5872 - accuracy: 0.6916 - val_loss: 0.5616 - val_accuracy: 0.6816\n",
      "Epoch 77/200\n",
      "45/45 [==============================] - 0s 2ms/step - loss: 0.5777 - accuracy: 0.6958 - val_loss: 0.5609 - val_accuracy: 0.6816\n",
      "Epoch 78/200\n",
      "45/45 [==============================] - 0s 2ms/step - loss: 0.5779 - accuracy: 0.6895 - val_loss: 0.5600 - val_accuracy: 0.6788\n",
      "Epoch 79/200\n",
      "45/45 [==============================] - 0s 1ms/step - loss: 0.5768 - accuracy: 0.6839 - val_loss: 0.5590 - val_accuracy: 0.6872\n",
      "Epoch 80/200\n",
      "45/45 [==============================] - 0s 1ms/step - loss: 0.5816 - accuracy: 0.6867 - val_loss: 0.5587 - val_accuracy: 0.6872\n",
      "Epoch 81/200\n",
      "45/45 [==============================] - 0s 1ms/step - loss: 0.5684 - accuracy: 0.7028 - val_loss: 0.5573 - val_accuracy: 0.6872\n",
      "Epoch 82/200\n",
      "45/45 [==============================] - 0s 1ms/step - loss: 0.5717 - accuracy: 0.6839 - val_loss: 0.5568 - val_accuracy: 0.6788\n",
      "Epoch 83/200\n",
      "45/45 [==============================] - 0s 1ms/step - loss: 0.5669 - accuracy: 0.7056 - val_loss: 0.5559 - val_accuracy: 0.6872\n",
      "Epoch 84/200\n",
      "45/45 [==============================] - 0s 1ms/step - loss: 0.5763 - accuracy: 0.6986 - val_loss: 0.5555 - val_accuracy: 0.6844\n",
      "Epoch 85/200\n",
      "45/45 [==============================] - 0s 1ms/step - loss: 0.5794 - accuracy: 0.6860 - val_loss: 0.5552 - val_accuracy: 0.6872\n",
      "Epoch 86/200\n",
      "45/45 [==============================] - 0s 1ms/step - loss: 0.5696 - accuracy: 0.6930 - val_loss: 0.5548 - val_accuracy: 0.6899\n",
      "Epoch 87/200\n",
      "45/45 [==============================] - 0s 1ms/step - loss: 0.5669 - accuracy: 0.6951 - val_loss: 0.5536 - val_accuracy: 0.6872\n",
      "Epoch 88/200\n",
      "45/45 [==============================] - 0s 1ms/step - loss: 0.5692 - accuracy: 0.6986 - val_loss: 0.5523 - val_accuracy: 0.6844\n",
      "Epoch 89/200\n",
      "45/45 [==============================] - 0s 1ms/step - loss: 0.5621 - accuracy: 0.7007 - val_loss: 0.5511 - val_accuracy: 0.6844\n",
      "Epoch 90/200\n",
      "45/45 [==============================] - 0s 1ms/step - loss: 0.5620 - accuracy: 0.6972 - val_loss: 0.5507 - val_accuracy: 0.6872\n",
      "Epoch 91/200\n",
      "45/45 [==============================] - 0s 2ms/step - loss: 0.5687 - accuracy: 0.6986 - val_loss: 0.5503 - val_accuracy: 0.6955\n",
      "Epoch 92/200\n",
      "45/45 [==============================] - 0s 1ms/step - loss: 0.5692 - accuracy: 0.6937 - val_loss: 0.5494 - val_accuracy: 0.6955\n",
      "Epoch 93/200\n",
      "45/45 [==============================] - 0s 1ms/step - loss: 0.5786 - accuracy: 0.6853 - val_loss: 0.5498 - val_accuracy: 0.6927\n",
      "Epoch 94/200\n",
      "45/45 [==============================] - 0s 1ms/step - loss: 0.5594 - accuracy: 0.6902 - val_loss: 0.5495 - val_accuracy: 0.6983\n",
      "Epoch 95/200\n",
      "45/45 [==============================] - 0s 1ms/step - loss: 0.5699 - accuracy: 0.6853 - val_loss: 0.5484 - val_accuracy: 0.7011\n",
      "Epoch 96/200\n",
      "45/45 [==============================] - 0s 1ms/step - loss: 0.5599 - accuracy: 0.7000 - val_loss: 0.5481 - val_accuracy: 0.6983\n",
      "Epoch 97/200\n",
      "45/45 [==============================] - 0s 1ms/step - loss: 0.5716 - accuracy: 0.6902 - val_loss: 0.5479 - val_accuracy: 0.6983\n",
      "Epoch 98/200\n",
      "45/45 [==============================] - 0s 1ms/step - loss: 0.5714 - accuracy: 0.6853 - val_loss: 0.5480 - val_accuracy: 0.6927\n",
      "Epoch 99/200\n",
      "45/45 [==============================] - 0s 1ms/step - loss: 0.5543 - accuracy: 0.7049 - val_loss: 0.5467 - val_accuracy: 0.6983\n",
      "Epoch 100/200\n",
      "45/45 [==============================] - 0s 1ms/step - loss: 0.5631 - accuracy: 0.6986 - val_loss: 0.5453 - val_accuracy: 0.7011\n",
      "Epoch 101/200\n",
      "45/45 [==============================] - 0s 1ms/step - loss: 0.5615 - accuracy: 0.7049 - val_loss: 0.5465 - val_accuracy: 0.7011\n",
      "Epoch 102/200\n",
      "45/45 [==============================] - 0s 1ms/step - loss: 0.5560 - accuracy: 0.7105 - val_loss: 0.5452 - val_accuracy: 0.7011\n",
      "Epoch 103/200\n",
      "45/45 [==============================] - 0s 1ms/step - loss: 0.5776 - accuracy: 0.6818 - val_loss: 0.5471 - val_accuracy: 0.7039\n",
      "Epoch 104/200\n",
      "45/45 [==============================] - 0s 1ms/step - loss: 0.5612 - accuracy: 0.7000 - val_loss: 0.5456 - val_accuracy: 0.7039\n",
      "Epoch 105/200\n",
      "45/45 [==============================] - 0s 1ms/step - loss: 0.5483 - accuracy: 0.6993 - val_loss: 0.5439 - val_accuracy: 0.7011\n",
      "Epoch 106/200\n",
      "45/45 [==============================] - 0s 2ms/step - loss: 0.5611 - accuracy: 0.6923 - val_loss: 0.5461 - val_accuracy: 0.7095\n",
      "Epoch 107/200\n",
      "45/45 [==============================] - 0s 2ms/step - loss: 0.5649 - accuracy: 0.6972 - val_loss: 0.5450 - val_accuracy: 0.7067\n",
      "Epoch 108/200\n",
      "45/45 [==============================] - 0s 2ms/step - loss: 0.5565 - accuracy: 0.6972 - val_loss: 0.5461 - val_accuracy: 0.7011\n",
      "Epoch 109/200\n",
      "45/45 [==============================] - 0s 1ms/step - loss: 0.5602 - accuracy: 0.7007 - val_loss: 0.5443 - val_accuracy: 0.7095\n",
      "Epoch 110/200\n",
      "45/45 [==============================] - 0s 1ms/step - loss: 0.5615 - accuracy: 0.7042 - val_loss: 0.5444 - val_accuracy: 0.7095\n",
      "Epoch 111/200\n",
      "45/45 [==============================] - 0s 1ms/step - loss: 0.5518 - accuracy: 0.7056 - val_loss: 0.5437 - val_accuracy: 0.7067\n",
      "Epoch 112/200\n",
      "45/45 [==============================] - 0s 2ms/step - loss: 0.5587 - accuracy: 0.6972 - val_loss: 0.5413 - val_accuracy: 0.7067\n",
      "Epoch 113/200\n",
      "45/45 [==============================] - 0s 2ms/step - loss: 0.5510 - accuracy: 0.6993 - val_loss: 0.5413 - val_accuracy: 0.7123\n",
      "Epoch 114/200\n",
      "45/45 [==============================] - 0s 2ms/step - loss: 0.5575 - accuracy: 0.7126 - val_loss: 0.5403 - val_accuracy: 0.7067\n",
      "Epoch 115/200\n",
      "45/45 [==============================] - 0s 1ms/step - loss: 0.5530 - accuracy: 0.6965 - val_loss: 0.5391 - val_accuracy: 0.7039\n",
      "Epoch 116/200\n"
     ]
    },
    {
     "name": "stdout",
     "output_type": "stream",
     "text": [
      "45/45 [==============================] - 0s 1ms/step - loss: 0.5444 - accuracy: 0.7021 - val_loss: 0.5387 - val_accuracy: 0.7123\n",
      "Epoch 117/200\n",
      "45/45 [==============================] - 0s 1ms/step - loss: 0.5551 - accuracy: 0.7056 - val_loss: 0.5387 - val_accuracy: 0.7095\n",
      "Epoch 118/200\n",
      "45/45 [==============================] - 0s 2ms/step - loss: 0.5496 - accuracy: 0.7014 - val_loss: 0.5372 - val_accuracy: 0.7095\n",
      "Epoch 119/200\n",
      "45/45 [==============================] - 0s 2ms/step - loss: 0.5486 - accuracy: 0.7210 - val_loss: 0.5367 - val_accuracy: 0.7095\n",
      "Epoch 120/200\n",
      "45/45 [==============================] - 0s 1ms/step - loss: 0.5472 - accuracy: 0.7126 - val_loss: 0.5363 - val_accuracy: 0.7095\n",
      "Epoch 121/200\n",
      "45/45 [==============================] - 0s 1ms/step - loss: 0.5545 - accuracy: 0.7126 - val_loss: 0.5371 - val_accuracy: 0.7067\n",
      "Epoch 122/200\n",
      "45/45 [==============================] - 0s 1ms/step - loss: 0.5489 - accuracy: 0.7147 - val_loss: 0.5351 - val_accuracy: 0.7095\n",
      "Epoch 123/200\n",
      "45/45 [==============================] - 0s 1ms/step - loss: 0.5425 - accuracy: 0.7196 - val_loss: 0.5340 - val_accuracy: 0.7095\n",
      "Epoch 124/200\n",
      "45/45 [==============================] - 0s 2ms/step - loss: 0.5432 - accuracy: 0.7175 - val_loss: 0.5338 - val_accuracy: 0.7179\n",
      "Epoch 125/200\n",
      "45/45 [==============================] - 0s 2ms/step - loss: 0.5599 - accuracy: 0.7056 - val_loss: 0.5356 - val_accuracy: 0.7151\n",
      "Epoch 126/200\n",
      "45/45 [==============================] - 0s 1ms/step - loss: 0.5550 - accuracy: 0.7049 - val_loss: 0.5339 - val_accuracy: 0.7151\n",
      "Epoch 127/200\n",
      "45/45 [==============================] - 0s 1ms/step - loss: 0.5450 - accuracy: 0.7105 - val_loss: 0.5329 - val_accuracy: 0.7123\n",
      "Epoch 128/200\n",
      "45/45 [==============================] - 0s 1ms/step - loss: 0.5467 - accuracy: 0.7126 - val_loss: 0.5323 - val_accuracy: 0.7151\n",
      "Epoch 129/200\n",
      "45/45 [==============================] - 0s 1ms/step - loss: 0.5539 - accuracy: 0.7105 - val_loss: 0.5320 - val_accuracy: 0.7207\n",
      "Epoch 130/200\n",
      "45/45 [==============================] - 0s 1ms/step - loss: 0.5432 - accuracy: 0.7084 - val_loss: 0.5319 - val_accuracy: 0.7151\n",
      "Epoch 131/200\n",
      "45/45 [==============================] - 0s 1ms/step - loss: 0.5506 - accuracy: 0.7077 - val_loss: 0.5325 - val_accuracy: 0.7067\n",
      "Epoch 132/200\n",
      "45/45 [==============================] - 0s 1ms/step - loss: 0.5424 - accuracy: 0.6993 - val_loss: 0.5335 - val_accuracy: 0.7123\n",
      "Epoch 133/200\n",
      "45/45 [==============================] - 0s 1ms/step - loss: 0.5411 - accuracy: 0.7119 - val_loss: 0.5330 - val_accuracy: 0.7179\n",
      "Epoch 134/200\n",
      "45/45 [==============================] - 0s 1ms/step - loss: 0.5417 - accuracy: 0.7161 - val_loss: 0.5309 - val_accuracy: 0.7123\n",
      "Epoch 135/200\n",
      "45/45 [==============================] - 0s 1ms/step - loss: 0.5489 - accuracy: 0.7147 - val_loss: 0.5300 - val_accuracy: 0.7123\n",
      "Epoch 136/200\n",
      "45/45 [==============================] - 0s 2ms/step - loss: 0.5373 - accuracy: 0.7021 - val_loss: 0.5283 - val_accuracy: 0.7179\n",
      "Epoch 137/200\n",
      "45/45 [==============================] - 0s 2ms/step - loss: 0.5333 - accuracy: 0.7175 - val_loss: 0.5280 - val_accuracy: 0.7207\n",
      "Epoch 138/200\n",
      "45/45 [==============================] - 0s 2ms/step - loss: 0.5304 - accuracy: 0.7350 - val_loss: 0.5268 - val_accuracy: 0.7207\n",
      "Epoch 139/200\n",
      "45/45 [==============================] - 0s 1ms/step - loss: 0.5394 - accuracy: 0.7133 - val_loss: 0.5271 - val_accuracy: 0.7151\n",
      "Epoch 140/200\n",
      "45/45 [==============================] - 0s 2ms/step - loss: 0.5291 - accuracy: 0.7049 - val_loss: 0.5249 - val_accuracy: 0.7235\n",
      "Epoch 141/200\n",
      "45/45 [==============================] - 0s 1ms/step - loss: 0.5371 - accuracy: 0.7189 - val_loss: 0.5239 - val_accuracy: 0.7291\n",
      "Epoch 142/200\n",
      "45/45 [==============================] - 0s 2ms/step - loss: 0.5431 - accuracy: 0.7175 - val_loss: 0.5232 - val_accuracy: 0.7318\n",
      "Epoch 143/200\n",
      "45/45 [==============================] - 0s 2ms/step - loss: 0.5291 - accuracy: 0.7329 - val_loss: 0.5221 - val_accuracy: 0.7235\n",
      "Epoch 144/200\n",
      "45/45 [==============================] - 0s 2ms/step - loss: 0.5315 - accuracy: 0.7203 - val_loss: 0.5209 - val_accuracy: 0.7346\n",
      "Epoch 145/200\n",
      "45/45 [==============================] - 0s 2ms/step - loss: 0.5282 - accuracy: 0.7294 - val_loss: 0.5205 - val_accuracy: 0.7263\n",
      "Epoch 146/200\n",
      "45/45 [==============================] - 0s 2ms/step - loss: 0.5309 - accuracy: 0.7175 - val_loss: 0.5201 - val_accuracy: 0.7291\n",
      "Epoch 147/200\n",
      "45/45 [==============================] - 0s 2ms/step - loss: 0.5284 - accuracy: 0.7203 - val_loss: 0.5198 - val_accuracy: 0.7346\n",
      "Epoch 148/200\n",
      "45/45 [==============================] - 0s 2ms/step - loss: 0.5210 - accuracy: 0.7336 - val_loss: 0.5210 - val_accuracy: 0.7318\n",
      "Epoch 149/200\n",
      "45/45 [==============================] - 0s 2ms/step - loss: 0.5333 - accuracy: 0.7112 - val_loss: 0.5213 - val_accuracy: 0.7430\n",
      "Epoch 150/200\n",
      "45/45 [==============================] - 0s 2ms/step - loss: 0.5242 - accuracy: 0.7350 - val_loss: 0.5190 - val_accuracy: 0.7318\n",
      "Epoch 151/200\n",
      "45/45 [==============================] - 0s 2ms/step - loss: 0.5288 - accuracy: 0.7294 - val_loss: 0.5188 - val_accuracy: 0.7291\n",
      "Epoch 152/200\n",
      "45/45 [==============================] - 0s 2ms/step - loss: 0.5250 - accuracy: 0.7147 - val_loss: 0.5184 - val_accuracy: 0.7346\n",
      "Epoch 153/200\n",
      "45/45 [==============================] - 0s 3ms/step - loss: 0.5254 - accuracy: 0.7252 - val_loss: 0.5187 - val_accuracy: 0.7318\n",
      "Epoch 154/200\n",
      "45/45 [==============================] - 0s 2ms/step - loss: 0.5265 - accuracy: 0.7266 - val_loss: 0.5176 - val_accuracy: 0.7402\n",
      "Epoch 155/200\n",
      "45/45 [==============================] - 0s 2ms/step - loss: 0.5290 - accuracy: 0.7336 - val_loss: 0.5168 - val_accuracy: 0.7374\n",
      "Epoch 156/200\n",
      "45/45 [==============================] - 0s 2ms/step - loss: 0.5236 - accuracy: 0.7336 - val_loss: 0.5169 - val_accuracy: 0.7402\n",
      "Epoch 157/200\n",
      "45/45 [==============================] - 0s 2ms/step - loss: 0.5231 - accuracy: 0.7287 - val_loss: 0.5150 - val_accuracy: 0.7458\n",
      "Epoch 158/200\n",
      "45/45 [==============================] - 0s 2ms/step - loss: 0.5154 - accuracy: 0.7245 - val_loss: 0.5155 - val_accuracy: 0.7402\n",
      "Epoch 159/200\n",
      "45/45 [==============================] - 0s 2ms/step - loss: 0.5194 - accuracy: 0.7196 - val_loss: 0.5154 - val_accuracy: 0.7374\n",
      "Epoch 160/200\n",
      "45/45 [==============================] - 0s 2ms/step - loss: 0.5223 - accuracy: 0.7231 - val_loss: 0.5161 - val_accuracy: 0.7346\n",
      "Epoch 161/200\n",
      "45/45 [==============================] - 0s 2ms/step - loss: 0.5049 - accuracy: 0.7357 - val_loss: 0.5126 - val_accuracy: 0.7346\n",
      "Epoch 162/200\n",
      "45/45 [==============================] - 0s 2ms/step - loss: 0.5310 - accuracy: 0.7273 - val_loss: 0.5132 - val_accuracy: 0.7374\n",
      "Epoch 163/200\n",
      "45/45 [==============================] - 0s 2ms/step - loss: 0.5182 - accuracy: 0.7350 - val_loss: 0.5124 - val_accuracy: 0.7402\n",
      "Epoch 164/200\n",
      "45/45 [==============================] - 0s 2ms/step - loss: 0.5148 - accuracy: 0.7378 - val_loss: 0.5105 - val_accuracy: 0.7402\n",
      "Epoch 165/200\n",
      "45/45 [==============================] - 0s 2ms/step - loss: 0.5278 - accuracy: 0.7315 - val_loss: 0.5088 - val_accuracy: 0.7430\n",
      "Epoch 166/200\n",
      "45/45 [==============================] - 0s 2ms/step - loss: 0.5240 - accuracy: 0.7287 - val_loss: 0.5106 - val_accuracy: 0.7458\n",
      "Epoch 167/200\n",
      "45/45 [==============================] - 0s 2ms/step - loss: 0.5357 - accuracy: 0.7203 - val_loss: 0.5096 - val_accuracy: 0.7486\n",
      "Epoch 168/200\n",
      "45/45 [==============================] - 0s 2ms/step - loss: 0.5205 - accuracy: 0.7350 - val_loss: 0.5097 - val_accuracy: 0.7458\n",
      "Epoch 169/200\n",
      "45/45 [==============================] - 0s 2ms/step - loss: 0.5225 - accuracy: 0.7343 - val_loss: 0.5093 - val_accuracy: 0.7458\n",
      "Epoch 170/200\n",
      "45/45 [==============================] - 0s 2ms/step - loss: 0.5106 - accuracy: 0.7357 - val_loss: 0.5081 - val_accuracy: 0.7402\n",
      "Epoch 171/200\n",
      "45/45 [==============================] - 0s 2ms/step - loss: 0.5363 - accuracy: 0.7126 - val_loss: 0.5080 - val_accuracy: 0.7430\n",
      "Epoch 172/200\n",
      "45/45 [==============================] - 0s 2ms/step - loss: 0.5283 - accuracy: 0.7259 - val_loss: 0.5070 - val_accuracy: 0.7458\n",
      "Epoch 173/200\n"
     ]
    },
    {
     "name": "stdout",
     "output_type": "stream",
     "text": [
      "45/45 [==============================] - 0s 2ms/step - loss: 0.5237 - accuracy: 0.7427 - val_loss: 0.5069 - val_accuracy: 0.7458\n",
      "Epoch 174/200\n",
      "45/45 [==============================] - 0s 2ms/step - loss: 0.5111 - accuracy: 0.7385 - val_loss: 0.5042 - val_accuracy: 0.7542\n",
      "Epoch 175/200\n",
      "45/45 [==============================] - 0s 2ms/step - loss: 0.5165 - accuracy: 0.7378 - val_loss: 0.5026 - val_accuracy: 0.7570\n",
      "Epoch 176/200\n",
      "45/45 [==============================] - 0s 2ms/step - loss: 0.5067 - accuracy: 0.7406 - val_loss: 0.5028 - val_accuracy: 0.7486\n",
      "Epoch 177/200\n",
      "45/45 [==============================] - 0s 2ms/step - loss: 0.5084 - accuracy: 0.7434 - val_loss: 0.5004 - val_accuracy: 0.7402\n",
      "Epoch 178/200\n",
      "45/45 [==============================] - 0s 2ms/step - loss: 0.5059 - accuracy: 0.7357 - val_loss: 0.4990 - val_accuracy: 0.7514\n",
      "Epoch 179/200\n",
      "45/45 [==============================] - 0s 2ms/step - loss: 0.5197 - accuracy: 0.7357 - val_loss: 0.4975 - val_accuracy: 0.7514\n",
      "Epoch 180/200\n",
      "45/45 [==============================] - 0s 2ms/step - loss: 0.5210 - accuracy: 0.7364 - val_loss: 0.5016 - val_accuracy: 0.7458\n",
      "Epoch 181/200\n",
      "45/45 [==============================] - 0s 2ms/step - loss: 0.5214 - accuracy: 0.7294 - val_loss: 0.5022 - val_accuracy: 0.7430\n",
      "Epoch 182/200\n",
      "45/45 [==============================] - 0s 2ms/step - loss: 0.5058 - accuracy: 0.7329 - val_loss: 0.5024 - val_accuracy: 0.7486\n",
      "Epoch 183/200\n",
      "45/45 [==============================] - 0s 2ms/step - loss: 0.5176 - accuracy: 0.7350 - val_loss: 0.5017 - val_accuracy: 0.7458\n",
      "Epoch 184/200\n",
      "45/45 [==============================] - 0s 2ms/step - loss: 0.5079 - accuracy: 0.7350 - val_loss: 0.5005 - val_accuracy: 0.7318\n",
      "Epoch 185/200\n",
      "45/45 [==============================] - 0s 2ms/step - loss: 0.5108 - accuracy: 0.7378 - val_loss: 0.5011 - val_accuracy: 0.7486\n",
      "Epoch 186/200\n",
      "45/45 [==============================] - 0s 2ms/step - loss: 0.5121 - accuracy: 0.7343 - val_loss: 0.5002 - val_accuracy: 0.7318\n",
      "Epoch 187/200\n",
      "45/45 [==============================] - 0s 2ms/step - loss: 0.5185 - accuracy: 0.7538 - val_loss: 0.5014 - val_accuracy: 0.7486\n",
      "Epoch 188/200\n",
      "45/45 [==============================] - 0s 2ms/step - loss: 0.5087 - accuracy: 0.7413 - val_loss: 0.4976 - val_accuracy: 0.7486\n",
      "Epoch 189/200\n",
      "45/45 [==============================] - 0s 2ms/step - loss: 0.5086 - accuracy: 0.7469 - val_loss: 0.4961 - val_accuracy: 0.7626\n",
      "Epoch 190/200\n",
      "45/45 [==============================] - 0s 2ms/step - loss: 0.5138 - accuracy: 0.7343 - val_loss: 0.4959 - val_accuracy: 0.7626\n",
      "Epoch 191/200\n",
      "45/45 [==============================] - 0s 2ms/step - loss: 0.5058 - accuracy: 0.7350 - val_loss: 0.4968 - val_accuracy: 0.7626\n",
      "Epoch 192/200\n",
      "45/45 [==============================] - 0s 2ms/step - loss: 0.5095 - accuracy: 0.7448 - val_loss: 0.4956 - val_accuracy: 0.7598\n",
      "Epoch 193/200\n",
      "45/45 [==============================] - 0s 2ms/step - loss: 0.4981 - accuracy: 0.7545 - val_loss: 0.4947 - val_accuracy: 0.7430\n",
      "Epoch 194/200\n",
      "45/45 [==============================] - 0s 2ms/step - loss: 0.5140 - accuracy: 0.7524 - val_loss: 0.4937 - val_accuracy: 0.7598\n",
      "Epoch 195/200\n",
      "45/45 [==============================] - 0s 2ms/step - loss: 0.4884 - accuracy: 0.7559 - val_loss: 0.4936 - val_accuracy: 0.7654\n",
      "Epoch 196/200\n",
      "45/45 [==============================] - 0s 2ms/step - loss: 0.4935 - accuracy: 0.7510 - val_loss: 0.4938 - val_accuracy: 0.7542\n",
      "Epoch 197/200\n",
      "45/45 [==============================] - 0s 2ms/step - loss: 0.5139 - accuracy: 0.7413 - val_loss: 0.4928 - val_accuracy: 0.7626\n",
      "Epoch 198/200\n",
      "45/45 [==============================] - 0s 2ms/step - loss: 0.5204 - accuracy: 0.7252 - val_loss: 0.4916 - val_accuracy: 0.7709\n",
      "Epoch 199/200\n",
      "45/45 [==============================] - 0s 2ms/step - loss: 0.5126 - accuracy: 0.7483 - val_loss: 0.4906 - val_accuracy: 0.7514\n",
      "Epoch 200/200\n",
      "45/45 [==============================] - 0s 2ms/step - loss: 0.4938 - accuracy: 0.7469 - val_loss: 0.4912 - val_accuracy: 0.7598\n",
      "=====================================================================\n",
      "45/45 [==============================] - 0s 799us/step - loss: 0.4431 - accuracy: 0.7895\n",
      "Train score: [0.4430609345436096, 0.7895104885101318]\n",
      "12/12 [==============================] - 0s 997us/step - loss: 0.4912 - accuracy: 0.7598\n",
      "Test score: [0.49121764302253723, 0.7597765326499939]\n"
     ]
    }
   ],
   "source": [
    "# 訓練模型\n",
    "r = model.fit(X_train, y_train, validation_data=(X_test, y_test), epochs=200)\n",
    "\n",
    "# 評估模型 - evaluate() returns loss and accuracy\n",
    "print(\"=====================================================================\")\n",
    "print(\"Train score:\", model.evaluate(X_train, y_train))\n",
    "\n",
    "print(\"Test score:\", model.evaluate(X_test, y_test))"
   ]
  },
  {
   "cell_type": "code",
   "execution_count": 94,
   "id": "18761fb6",
   "metadata": {},
   "outputs": [
    {
     "data": {
      "text/plain": [
       "<matplotlib.legend.Legend at 0x146ff6b3700>"
      ]
     },
     "execution_count": 94,
     "metadata": {},
     "output_type": "execute_result"
    },
    {
     "data": {
      "image/png": "[encoded data removed]",
      "text/plain": [
       "<Figure size 432x288 with 1 Axes>"
      ]
     },
     "metadata": {
      "needs_background": "light"
     },
     "output_type": "display_data"
    }
   ],
   "source": [
    "# 劃出 model.fit() training 和 validating 的 loss\n",
    "import matplotlib.pyplot as plt\n",
    "plt.plot(r.history['loss'], label='loss')\n",
    "plt.plot(r.history['val_loss'], label='val_loss')\n",
    "plt.legend()"
   ]
  },
  {
   "cell_type": "code",
   "execution_count": 95,
   "id": "09615e58",
   "metadata": {
    "scrolled": true
   },
   "outputs": [
    {
     "data": {
      "text/plain": [
       "<matplotlib.legend.Legend at 0x146ff793490>"
      ]
     },
     "execution_count": 95,
     "metadata": {},
     "output_type": "execute_result"
    },
    {
     "data": {
      "image/png": "[encoded data removed]",
      "text/plain": [
       "<Figure size 432x288 with 1 Axes>"
      ]
     },
     "metadata": {
      "needs_background": "light"
     },
     "output_type": "display_data"
    }
   ],
   "source": [
    "# 劃出準確性 accuracy \n",
    "plt.plot(r.history['accuracy'], label='acc')\n",
    "plt.plot(r.history['val_accuracy'], label='val_acc')\n",
    "plt.legend()"
   ]
  },
  {
   "cell_type": "code",
   "execution_count": 18,
   "id": "02edf692",
   "metadata": {},
   "outputs": [
    {
     "data": {
      "text/plain": [
       "array([[136,  43],\n",
       "       [ 28, 151]], dtype=int64)"
      ]
     },
     "execution_count": 18,
     "metadata": {},
     "output_type": "execute_result"
    }
   ],
   "source": [
    "pred_test = model.predict(X_test)\n",
    "pred_test = np.round(pred_test).flatten()\n",
    "cm = confusion_matrix(y_test, pred_test)\n",
    "cm"
   ]
  },
  {
   "cell_type": "markdown",
   "id": "ecef6d81",
   "metadata": {},
   "source": [
    "<h1> 4-2 以羅吉斯回歸實作 - 預測毛利率"
   ]
  },
  {
   "cell_type": "code",
   "execution_count": 96,
   "id": "c4fcb370",
   "metadata": {},
   "outputs": [
    {
     "name": "stdout",
     "output_type": "stream",
     "text": [
      "[1 0 0 0 1 0 0 0 1 0 1 0 1 1 1 0 1 0 0 0 0 0 1 1 1 0 1 1 1 1 1 1 0 0 1 1 1\n",
      " 0 1 0 0 0 0 0 1 1 1 1 1 0 1 0 0 1 1 1 1 0 1 0 0 1 1 1 0 0 1 0 1 1 0 0 0 0\n",
      " 0 0 0 0 0 1 0 0 0 1 1 1 0 0 0 0 0 0 1 1 0 0 0 1 0 1 0 1 0 1 0 1 1 1 0 1 1\n",
      " 1 0 1 1 1 0 1 0 1 1 1 0 1 1 0 1 1 0 0 1 1 1 1 1 0 1 1 0 1 0 1 0 0 1 0 0 1\n",
      " 0 1 1 0 1 0 1 0 1 0 1 1 1 0 0 1 1 0 0 0 1 1 0 0 1 1 0 1 1 0 0 1 1 0 0 1 0\n",
      " 0 1 0 0 1 1 1 1 1 0 1 0 1 1 1 1 1 1 0 0 0 0 0 0 1 1 1 1 1 1 1 1 1 1 0 0 1\n",
      " 0 0 1 1 1 0 1 0 0 0 0 0 0 1 1 1 0 1 1 0 1 1 1 0 1 0 1 1 0 1 0 1 0 1 0 1 1\n",
      " 1 1 1 1 1 1 0 0 1 0 0 0 0 1 1 1 1 0 0 1 0 1 1 1 1 0 0 1 1 0 0 0 0 0 1 1 0\n",
      " 1 0 0 0 1 1 0 1 1 0 1 1 1 0 1 0 1 1 1 0 1 1 0 1 0 0 1 0 1 0 1 1 1 1 1 1 1\n",
      " 0 1 1 0 1 0 1 1 1 1 1 0 1 1 1 1 1 1 0 0 1 0 0 0 0]\n",
      "==============================\n",
      "0.6951048951048951\n"
     ]
    }
   ],
   "source": [
    "from sklearn.linear_model import LogisticRegression\n",
    "log = LogisticRegression()\n",
    "log.fit(X_train, y_train)\n",
    "\n",
    "log_pred = log.predict(X_test)\n",
    "print(log_pred)\n",
    "print(\"==============================\")\n",
    "print(log.score(X_train, y_train))\n",
    "# print(y_test)"
   ]
  },
  {
   "cell_type": "code",
   "execution_count": 97,
   "id": "827cadee",
   "metadata": {},
   "outputs": [
    {
     "data": {
      "text/plain": [
       "0.6312849162011173"
      ]
     },
     "execution_count": 97,
     "metadata": {},
     "output_type": "execute_result"
    }
   ],
   "source": [
    "from sklearn.metrics import accuracy_score\n",
    "accuracy = accuracy_score(y_test, log_pred)\n",
    "accuracy"
   ]
  },
  {
   "cell_type": "code",
   "execution_count": 98,
   "id": "c2d40999",
   "metadata": {},
   "outputs": [
    {
     "data": {
      "text/plain": [
       "array([[101,  73],\n",
       "       [ 59, 125]], dtype=int64)"
      ]
     },
     "execution_count": 98,
     "metadata": {},
     "output_type": "execute_result"
    }
   ],
   "source": [
    "cm = confusion_matrix(y_test, log_pred)\n",
    "cm"
   ]
  },
  {
   "cell_type": "markdown",
   "id": "eda2f189",
   "metadata": {},
   "source": [
    "<h2> 4-3 以 SVM 實作 - 預測毛利率"
   ]
  },
  {
   "cell_type": "code",
   "execution_count": null,
   "id": "b3bad173",
   "metadata": {},
   "outputs": [],
   "source": [
    "from sklearn.svm import SVC\n",
    "clf = SVC(C = 1e5, kernel = 'linear')\n",
    "clf.fit(X_train, y_train) "
   ]
  },
  {
   "cell_type": "code",
   "execution_count": null,
   "id": "059c9c5e",
   "metadata": {},
   "outputs": [],
   "source": [
    "pred_clf = clf.predict(X_test)\n",
    "print(pred_clf)\n",
    "print(\"==============================\")\n",
    "print(clf.score(X_train, y_train))"
   ]
  },
  {
   "cell_type": "code",
   "execution_count": null,
   "id": "2680f0cc",
   "metadata": {},
   "outputs": [],
   "source": [
    "accuracy_SVM = accuracy_score(y_test, pred_clf)\n",
    "accuracy_SVM"
   ]
  },
  {
   "cell_type": "markdown",
   "id": "0fa3b608",
   "metadata": {},
   "source": [
    "<h1>4.4 以 RandomForestClassifier 實作 毛利率預測"
   ]
  },
  {
   "cell_type": "code",
   "execution_count": 99,
   "id": "fcd8a7a6",
   "metadata": {},
   "outputs": [
    {
     "name": "stdout",
     "output_type": "stream",
     "text": [
      "1.0\n"
     ]
    }
   ],
   "source": [
    "#Import Random Forest Model\n",
    "from sklearn.ensemble import RandomForestClassifier\n",
    "\n",
    "#Create a Gaussian Classifier\n",
    "forest=RandomForestClassifier(n_estimators=100)\n",
    "\n",
    "\n",
    "#Train the model using the training sets y_pred=clf.predict(X_test)\n",
    "forest.fit(X_train, y_train)\n",
    "print(forest.score(X_train, y_train))"
   ]
  },
  {
   "cell_type": "code",
   "execution_count": 100,
   "id": "cdb4ed51",
   "metadata": {},
   "outputs": [
    {
     "name": "stdout",
     "output_type": "stream",
     "text": [
      "Accuracy: 0.8212290502793296\n"
     ]
    }
   ],
   "source": [
    "from sklearn.metrics import accuracy_score\n",
    "forest_pred=forest.predict(X_test)\n",
    "print(\"Accuracy:\",accuracy_score(y_test, forest_pred))"
   ]
  },
  {
   "cell_type": "code",
   "execution_count": 101,
   "id": "4f8640b4",
   "metadata": {},
   "outputs": [
    {
     "data": {
      "text/plain": [
       "array([[142,  32],\n",
       "       [ 32, 152]], dtype=int64)"
      ]
     },
     "execution_count": 101,
     "metadata": {},
     "output_type": "execute_result"
    }
   ],
   "source": [
    "pred_test = np.round(forest_pred).flatten()\n",
    "cm = confusion_matrix(y_test, pred_test)\n",
    "cm"
   ]
  },
  {
   "cell_type": "markdown",
   "id": "793690b4",
   "metadata": {},
   "source": [
    "<h1> 4.5 以 naive_bayes 實作 毛利率預測"
   ]
  },
  {
   "cell_type": "code",
   "execution_count": 102,
   "id": "3b3a5ef8",
   "metadata": {},
   "outputs": [
    {
     "name": "stdout",
     "output_type": "stream",
     "text": [
      "0.6307692307692307\n"
     ]
    }
   ],
   "source": [
    "from sklearn.naive_bayes import GaussianNB\n",
    "nb = GaussianNB()\n",
    "nb.fit(X_train, y_train)\n",
    "print(nb.score(X_train, y_train))"
   ]
  },
  {
   "cell_type": "code",
   "execution_count": 103,
   "id": "c346ebcb",
   "metadata": {},
   "outputs": [
    {
     "name": "stdout",
     "output_type": "stream",
     "text": [
      "Accuracy: 0.6284916201117319\n"
     ]
    }
   ],
   "source": [
    "nb_pred = nb.predict(X_test)\n",
    "print(\"Accuracy:\",accuracy_score(y_test, nb_pred))"
   ]
  },
  {
   "cell_type": "code",
   "execution_count": 104,
   "id": "4ba1b1f4",
   "metadata": {},
   "outputs": [
    {
     "data": {
      "text/plain": [
       "array([[121,  53],\n",
       "       [ 80, 104]], dtype=int64)"
      ]
     },
     "execution_count": 104,
     "metadata": {},
     "output_type": "execute_result"
    }
   ],
   "source": [
    "pred_test = np.round(nb_pred).flatten()\n",
    "cm = confusion_matrix(y_test, pred_test)\n",
    "cm"
   ]
  },
  {
   "cell_type": "markdown",
   "id": "d24245a4",
   "metadata": {},
   "source": [
    "<h1> 4.6 以 KNN 實作 毛利率預測"
   ]
  },
  {
   "cell_type": "code",
   "execution_count": 105,
   "id": "56b1a51d",
   "metadata": {},
   "outputs": [
    {
     "name": "stdout",
     "output_type": "stream",
     "text": [
      "0.7195804195804196\n"
     ]
    }
   ],
   "source": [
    "from sklearn.neighbors import KNeighborsClassifier\n",
    "knn = KNeighborsClassifier()\n",
    "knn.fit(X_train, y_train)\n",
    "print(knn.score(X_train, y_train))"
   ]
  },
  {
   "cell_type": "code",
   "execution_count": 106,
   "id": "346b9134",
   "metadata": {},
   "outputs": [
    {
     "name": "stdout",
     "output_type": "stream",
     "text": [
      "Accuracy: 0.5949720670391061\n"
     ]
    }
   ],
   "source": [
    "knn_pred = knn.predict(X_test)\n",
    "print(\"Accuracy:\",accuracy_score(y_test, knn_pred))"
   ]
  },
  {
   "cell_type": "code",
   "execution_count": 107,
   "id": "a7aa67fe",
   "metadata": {},
   "outputs": [
    {
     "data": {
      "text/plain": [
       "array([[ 92,  82],\n",
       "       [ 63, 121]], dtype=int64)"
      ]
     },
     "execution_count": 107,
     "metadata": {},
     "output_type": "execute_result"
    }
   ],
   "source": [
    "pred_test = np.round(knn_pred).flatten()\n",
    "cm = confusion_matrix(y_test, pred_test)\n",
    "cm"
   ]
  },
  {
   "cell_type": "code",
   "execution_count": null,
   "id": "6a4968bf",
   "metadata": {},
   "outputs": [],
   "source": []
  },
  {
   "cell_type": "code",
   "execution_count": null,
   "id": "d72ed6b8",
   "metadata": {},
   "outputs": [],
   "source": []
  },
  {
   "cell_type": "markdown",
   "id": "ef2d3aca",
   "metadata": {},
   "source": [
    "<h2> 5-1 以 DNN 實作預測 淨利率"
   ]
  },
  {
   "cell_type": "code",
   "execution_count": 108,
   "id": "7f4bbb93",
   "metadata": {},
   "outputs": [
    {
     "name": "stdout",
     "output_type": "stream",
     "text": [
      "N: 1430 D: 28\n"
     ]
    }
   ],
   "source": [
    "X_train, X_test, y1_train, y1_test = train_test_split(X_scaled, y1, test_size=0.2)\n",
    "N, D = X_train.shape\n",
    "print (\"N:\", N, \"D:\", D)"
   ]
  },
  {
   "cell_type": "code",
   "execution_count": 109,
   "id": "8f96279a",
   "metadata": {},
   "outputs": [],
   "source": [
    "# 建立TF模型 for 淨利\n",
    "model1 = tf.keras.models.Sequential([\n",
    "  tf.keras.layers.Input(shape=(D,)),\n",
    "  tf.keras.layers.Dense(64, activation='relu'),\n",
    "  tf.keras.layers.Dropout(0.2),\n",
    "  tf.keras.layers.Dense(32, activation='relu'),\n",
    "  tf.keras.layers.Dropout(0.2),\n",
    "  tf.keras.layers.Dense(1, activation='sigmoid')\n",
    "  ])\n",
    "\n",
    "#編譯模型\n",
    "lr = 0.0003\n",
    "model1.compile(tf.keras.optimizers.Adam(learning_rate = lr),\n",
    "              loss='binary_crossentropy',\n",
    "              metrics=['accuracy'])"
   ]
  },
  {
   "cell_type": "code",
   "execution_count": 110,
   "id": "e0e127d8",
   "metadata": {},
   "outputs": [
    {
     "name": "stdout",
     "output_type": "stream",
     "text": [
      "Model: \"sequential_1\"\n",
      "_________________________________________________________________\n",
      "Layer (type)                 Output Shape              Param #   \n",
      "=================================================================\n",
      "dense_4 (Dense)              (None, 64)                1856      \n",
      "_________________________________________________________________\n",
      "dropout_3 (Dropout)          (None, 64)                0         \n",
      "_________________________________________________________________\n",
      "dense_5 (Dense)              (None, 32)                2080      \n",
      "_________________________________________________________________\n",
      "dropout_4 (Dropout)          (None, 32)                0         \n",
      "_________________________________________________________________\n",
      "dense_6 (Dense)              (None, 1)                 33        \n",
      "=================================================================\n",
      "Total params: 3,969\n",
      "Trainable params: 3,969\n",
      "Non-trainable params: 0\n",
      "_________________________________________________________________\n"
     ]
    }
   ],
   "source": [
    "model1.summary()"
   ]
  },
  {
   "cell_type": "code",
   "execution_count": 111,
   "id": "914e9486",
   "metadata": {},
   "outputs": [
    {
     "name": "stdout",
     "output_type": "stream",
     "text": [
      "Epoch 1/120\n",
      "45/45 [==============================] - 1s 4ms/step - loss: 0.7189 - accuracy: 0.5350 - val_loss: 0.6128 - val_accuracy: 0.6732\n",
      "Epoch 2/120\n",
      "45/45 [==============================] - 0s 1ms/step - loss: 0.6227 - accuracy: 0.6720 - val_loss: 0.5761 - val_accuracy: 0.7011\n",
      "Epoch 3/120\n",
      "45/45 [==============================] - 0s 1ms/step - loss: 0.6030 - accuracy: 0.6762 - val_loss: 0.5582 - val_accuracy: 0.7039\n",
      "Epoch 4/120\n",
      "45/45 [==============================] - 0s 1ms/step - loss: 0.5769 - accuracy: 0.7007 - val_loss: 0.5458 - val_accuracy: 0.7011\n",
      "Epoch 5/120\n",
      "45/45 [==============================] - 0s 1ms/step - loss: 0.5741 - accuracy: 0.7105 - val_loss: 0.5345 - val_accuracy: 0.7179\n",
      "Epoch 6/120\n",
      "45/45 [==============================] - 0s 1ms/step - loss: 0.5555 - accuracy: 0.7161 - val_loss: 0.5248 - val_accuracy: 0.7235\n",
      "Epoch 7/120\n",
      "45/45 [==============================] - 0s 1ms/step - loss: 0.5399 - accuracy: 0.7224 - val_loss: 0.5176 - val_accuracy: 0.7291\n",
      "Epoch 8/120\n",
      "45/45 [==============================] - 0s 1ms/step - loss: 0.5355 - accuracy: 0.7259 - val_loss: 0.5111 - val_accuracy: 0.7318\n",
      "Epoch 9/120\n",
      "45/45 [==============================] - 0s 1ms/step - loss: 0.5417 - accuracy: 0.7329 - val_loss: 0.5038 - val_accuracy: 0.7430\n",
      "Epoch 10/120\n",
      "45/45 [==============================] - 0s 1ms/step - loss: 0.5282 - accuracy: 0.7266 - val_loss: 0.5001 - val_accuracy: 0.7514\n",
      "Epoch 11/120\n",
      "45/45 [==============================] - 0s 1ms/step - loss: 0.5289 - accuracy: 0.7392 - val_loss: 0.4960 - val_accuracy: 0.7514\n",
      "Epoch 12/120\n",
      "45/45 [==============================] - 0s 1ms/step - loss: 0.5136 - accuracy: 0.7510 - val_loss: 0.4919 - val_accuracy: 0.7626\n",
      "Epoch 13/120\n",
      "45/45 [==============================] - 0s 2ms/step - loss: 0.5117 - accuracy: 0.7434 - val_loss: 0.4882 - val_accuracy: 0.7626\n",
      "Epoch 14/120\n",
      "45/45 [==============================] - 0s 1ms/step - loss: 0.5044 - accuracy: 0.7538 - val_loss: 0.4851 - val_accuracy: 0.7598\n",
      "Epoch 15/120\n",
      "45/45 [==============================] - 0s 1ms/step - loss: 0.5025 - accuracy: 0.7566 - val_loss: 0.4833 - val_accuracy: 0.7598\n",
      "Epoch 16/120\n",
      "45/45 [==============================] - 0s 1ms/step - loss: 0.4953 - accuracy: 0.7503 - val_loss: 0.4808 - val_accuracy: 0.7598\n",
      "Epoch 17/120\n",
      "45/45 [==============================] - 0s 1ms/step - loss: 0.5038 - accuracy: 0.7413 - val_loss: 0.4782 - val_accuracy: 0.7626\n",
      "Epoch 18/120\n",
      "45/45 [==============================] - 0s 1ms/step - loss: 0.4962 - accuracy: 0.7664 - val_loss: 0.4759 - val_accuracy: 0.7626\n",
      "Epoch 19/120\n",
      "45/45 [==============================] - 0s 2ms/step - loss: 0.4986 - accuracy: 0.7531 - val_loss: 0.4747 - val_accuracy: 0.7682\n",
      "Epoch 20/120\n",
      "45/45 [==============================] - 0s 2ms/step - loss: 0.4898 - accuracy: 0.7629 - val_loss: 0.4747 - val_accuracy: 0.7682\n",
      "Epoch 21/120\n",
      "45/45 [==============================] - 0s 1ms/step - loss: 0.4795 - accuracy: 0.7685 - val_loss: 0.4743 - val_accuracy: 0.7626\n",
      "Epoch 22/120\n",
      "45/45 [==============================] - 0s 1ms/step - loss: 0.4815 - accuracy: 0.7720 - val_loss: 0.4727 - val_accuracy: 0.7737\n",
      "Epoch 23/120\n",
      "45/45 [==============================] - 0s 1ms/step - loss: 0.4756 - accuracy: 0.7692 - val_loss: 0.4731 - val_accuracy: 0.7682\n",
      "Epoch 24/120\n",
      "45/45 [==============================] - 0s 1ms/step - loss: 0.4731 - accuracy: 0.7699 - val_loss: 0.4698 - val_accuracy: 0.7709\n",
      "Epoch 25/120\n",
      "45/45 [==============================] - 0s 1ms/step - loss: 0.4898 - accuracy: 0.7622 - val_loss: 0.4687 - val_accuracy: 0.7821\n",
      "Epoch 26/120\n",
      "45/45 [==============================] - 0s 1ms/step - loss: 0.4831 - accuracy: 0.7636 - val_loss: 0.4673 - val_accuracy: 0.7849\n",
      "Epoch 27/120\n",
      "45/45 [==============================] - 0s 2ms/step - loss: 0.4764 - accuracy: 0.7657 - val_loss: 0.4676 - val_accuracy: 0.7821\n",
      "Epoch 28/120\n",
      "45/45 [==============================] - 0s 1ms/step - loss: 0.4748 - accuracy: 0.7734 - val_loss: 0.4682 - val_accuracy: 0.7821\n",
      "Epoch 29/120\n",
      "45/45 [==============================] - 0s 1ms/step - loss: 0.4737 - accuracy: 0.7748 - val_loss: 0.4668 - val_accuracy: 0.7793\n",
      "Epoch 30/120\n",
      "45/45 [==============================] - 0s 1ms/step - loss: 0.4663 - accuracy: 0.7825 - val_loss: 0.4667 - val_accuracy: 0.7905\n",
      "Epoch 31/120\n",
      "45/45 [==============================] - 0s 1ms/step - loss: 0.4673 - accuracy: 0.7762 - val_loss: 0.4659 - val_accuracy: 0.7877\n",
      "Epoch 32/120\n",
      "45/45 [==============================] - 0s 1ms/step - loss: 0.4715 - accuracy: 0.7846 - val_loss: 0.4662 - val_accuracy: 0.7821\n",
      "Epoch 33/120\n",
      "45/45 [==============================] - 0s 1ms/step - loss: 0.4574 - accuracy: 0.7895 - val_loss: 0.4671 - val_accuracy: 0.7905\n",
      "Epoch 34/120\n",
      "45/45 [==============================] - 0s 1ms/step - loss: 0.4687 - accuracy: 0.7895 - val_loss: 0.4659 - val_accuracy: 0.7877\n",
      "Epoch 35/120\n",
      "45/45 [==============================] - 0s 1ms/step - loss: 0.4765 - accuracy: 0.7692 - val_loss: 0.4663 - val_accuracy: 0.7905\n",
      "Epoch 36/120\n",
      "45/45 [==============================] - 0s 1ms/step - loss: 0.4758 - accuracy: 0.7762 - val_loss: 0.4669 - val_accuracy: 0.7821\n",
      "Epoch 37/120\n",
      "45/45 [==============================] - 0s 1ms/step - loss: 0.4667 - accuracy: 0.7853 - val_loss: 0.4664 - val_accuracy: 0.7905\n",
      "Epoch 38/120\n",
      "45/45 [==============================] - 0s 1ms/step - loss: 0.4552 - accuracy: 0.7839 - val_loss: 0.4652 - val_accuracy: 0.7905\n",
      "Epoch 39/120\n",
      "45/45 [==============================] - 0s 1ms/step - loss: 0.4562 - accuracy: 0.7853 - val_loss: 0.4663 - val_accuracy: 0.7821\n",
      "Epoch 40/120\n",
      "45/45 [==============================] - 0s 1ms/step - loss: 0.4620 - accuracy: 0.7853 - val_loss: 0.4661 - val_accuracy: 0.7849\n",
      "Epoch 41/120\n",
      "45/45 [==============================] - 0s 1ms/step - loss: 0.4556 - accuracy: 0.7762 - val_loss: 0.4644 - val_accuracy: 0.7849\n",
      "Epoch 42/120\n",
      "45/45 [==============================] - 0s 1ms/step - loss: 0.4520 - accuracy: 0.7860 - val_loss: 0.4634 - val_accuracy: 0.7877\n",
      "Epoch 43/120\n",
      "45/45 [==============================] - 0s 1ms/step - loss: 0.4611 - accuracy: 0.7804 - val_loss: 0.4619 - val_accuracy: 0.7905\n",
      "Epoch 44/120\n",
      "45/45 [==============================] - 0s 1ms/step - loss: 0.4526 - accuracy: 0.7888 - val_loss: 0.4631 - val_accuracy: 0.7905\n",
      "Epoch 45/120\n",
      "45/45 [==============================] - 0s 1ms/step - loss: 0.4514 - accuracy: 0.7818 - val_loss: 0.4618 - val_accuracy: 0.7905\n",
      "Epoch 46/120\n",
      "45/45 [==============================] - 0s 1ms/step - loss: 0.4469 - accuracy: 0.7923 - val_loss: 0.4616 - val_accuracy: 0.7933\n",
      "Epoch 47/120\n",
      "45/45 [==============================] - 0s 1ms/step - loss: 0.4504 - accuracy: 0.7860 - val_loss: 0.4617 - val_accuracy: 0.7905\n",
      "Epoch 48/120\n",
      "45/45 [==============================] - 0s 1ms/step - loss: 0.4495 - accuracy: 0.7713 - val_loss: 0.4605 - val_accuracy: 0.7961\n",
      "Epoch 49/120\n",
      "45/45 [==============================] - 0s 1ms/step - loss: 0.4512 - accuracy: 0.7895 - val_loss: 0.4603 - val_accuracy: 0.7905\n",
      "Epoch 50/120\n",
      "45/45 [==============================] - 0s 1ms/step - loss: 0.4504 - accuracy: 0.7930 - val_loss: 0.4611 - val_accuracy: 0.7905\n",
      "Epoch 51/120\n",
      "45/45 [==============================] - 0s 1ms/step - loss: 0.4502 - accuracy: 0.8000 - val_loss: 0.4591 - val_accuracy: 0.7961\n",
      "Epoch 52/120\n",
      "45/45 [==============================] - 0s 1ms/step - loss: 0.4474 - accuracy: 0.7797 - val_loss: 0.4590 - val_accuracy: 0.7933\n",
      "Epoch 53/120\n",
      "45/45 [==============================] - 0s 1ms/step - loss: 0.4382 - accuracy: 0.7965 - val_loss: 0.4588 - val_accuracy: 0.7961\n",
      "Epoch 54/120\n",
      "45/45 [==============================] - 0s 1ms/step - loss: 0.4487 - accuracy: 0.7839 - val_loss: 0.4598 - val_accuracy: 0.7961\n",
      "Epoch 55/120\n",
      "45/45 [==============================] - 0s 1ms/step - loss: 0.4500 - accuracy: 0.7804 - val_loss: 0.4603 - val_accuracy: 0.7905\n",
      "Epoch 56/120\n",
      "45/45 [==============================] - 0s 1ms/step - loss: 0.4458 - accuracy: 0.7923 - val_loss: 0.4594 - val_accuracy: 0.7989\n",
      "Epoch 57/120\n",
      "45/45 [==============================] - 0s 1ms/step - loss: 0.4451 - accuracy: 0.7853 - val_loss: 0.4582 - val_accuracy: 0.8045\n",
      "Epoch 58/120\n",
      "45/45 [==============================] - 0s 1ms/step - loss: 0.4370 - accuracy: 0.7958 - val_loss: 0.4579 - val_accuracy: 0.8045\n"
     ]
    },
    {
     "name": "stdout",
     "output_type": "stream",
     "text": [
      "Epoch 59/120\n",
      "45/45 [==============================] - 0s 1ms/step - loss: 0.4472 - accuracy: 0.7958 - val_loss: 0.4568 - val_accuracy: 0.8017\n",
      "Epoch 60/120\n",
      "45/45 [==============================] - 0s 1ms/step - loss: 0.4386 - accuracy: 0.7916 - val_loss: 0.4582 - val_accuracy: 0.7989\n",
      "Epoch 61/120\n",
      "45/45 [==============================] - 0s 1ms/step - loss: 0.4426 - accuracy: 0.7944 - val_loss: 0.4572 - val_accuracy: 0.7961\n",
      "Epoch 62/120\n",
      "45/45 [==============================] - 0s 1ms/step - loss: 0.4402 - accuracy: 0.8014 - val_loss: 0.4581 - val_accuracy: 0.7989\n",
      "Epoch 63/120\n",
      "45/45 [==============================] - 0s 1ms/step - loss: 0.4422 - accuracy: 0.7937 - val_loss: 0.4592 - val_accuracy: 0.7933\n",
      "Epoch 64/120\n",
      "45/45 [==============================] - 0s 1ms/step - loss: 0.4331 - accuracy: 0.7993 - val_loss: 0.4601 - val_accuracy: 0.8017\n",
      "Epoch 65/120\n",
      "45/45 [==============================] - 0s 1ms/step - loss: 0.4334 - accuracy: 0.7930 - val_loss: 0.4599 - val_accuracy: 0.7989\n",
      "Epoch 66/120\n",
      "45/45 [==============================] - 0s 1ms/step - loss: 0.4283 - accuracy: 0.8035 - val_loss: 0.4591 - val_accuracy: 0.7933\n",
      "Epoch 67/120\n",
      "45/45 [==============================] - 0s 1ms/step - loss: 0.4354 - accuracy: 0.7937 - val_loss: 0.4594 - val_accuracy: 0.7961\n",
      "Epoch 68/120\n",
      "45/45 [==============================] - 0s 1ms/step - loss: 0.4286 - accuracy: 0.8014 - val_loss: 0.4609 - val_accuracy: 0.7961\n",
      "Epoch 69/120\n",
      "45/45 [==============================] - 0s 1ms/step - loss: 0.4341 - accuracy: 0.7965 - val_loss: 0.4606 - val_accuracy: 0.7961\n",
      "Epoch 70/120\n",
      "45/45 [==============================] - 0s 1ms/step - loss: 0.4280 - accuracy: 0.8014 - val_loss: 0.4601 - val_accuracy: 0.7877\n",
      "Epoch 71/120\n",
      "45/45 [==============================] - 0s 1ms/step - loss: 0.4417 - accuracy: 0.7930 - val_loss: 0.4594 - val_accuracy: 0.7905\n",
      "Epoch 72/120\n",
      "45/45 [==============================] - 0s 1ms/step - loss: 0.4243 - accuracy: 0.8028 - val_loss: 0.4607 - val_accuracy: 0.7849\n",
      "Epoch 73/120\n",
      "45/45 [==============================] - 0s 1ms/step - loss: 0.4347 - accuracy: 0.8021 - val_loss: 0.4593 - val_accuracy: 0.7849\n",
      "Epoch 74/120\n",
      "45/45 [==============================] - 0s 1ms/step - loss: 0.4307 - accuracy: 0.7965 - val_loss: 0.4576 - val_accuracy: 0.7877\n",
      "Epoch 75/120\n",
      "45/45 [==============================] - 0s 1ms/step - loss: 0.4271 - accuracy: 0.8098 - val_loss: 0.4555 - val_accuracy: 0.7933\n",
      "Epoch 76/120\n",
      "45/45 [==============================] - 0s 1ms/step - loss: 0.4166 - accuracy: 0.8140 - val_loss: 0.4563 - val_accuracy: 0.7877\n",
      "Epoch 77/120\n",
      "45/45 [==============================] - 0s 1ms/step - loss: 0.4136 - accuracy: 0.8070 - val_loss: 0.4557 - val_accuracy: 0.7933\n",
      "Epoch 78/120\n",
      "45/45 [==============================] - 0s 1ms/step - loss: 0.4293 - accuracy: 0.7923 - val_loss: 0.4554 - val_accuracy: 0.7905\n",
      "Epoch 79/120\n",
      "45/45 [==============================] - 0s 1ms/step - loss: 0.4282 - accuracy: 0.8056 - val_loss: 0.4545 - val_accuracy: 0.7821\n",
      "Epoch 80/120\n",
      "45/45 [==============================] - 0s 1ms/step - loss: 0.4099 - accuracy: 0.8161 - val_loss: 0.4567 - val_accuracy: 0.7849\n",
      "Epoch 81/120\n",
      "45/45 [==============================] - 0s 1ms/step - loss: 0.4264 - accuracy: 0.7965 - val_loss: 0.4562 - val_accuracy: 0.7905\n",
      "Epoch 82/120\n",
      "45/45 [==============================] - 0s 1ms/step - loss: 0.4093 - accuracy: 0.8133 - val_loss: 0.4534 - val_accuracy: 0.7793\n",
      "Epoch 83/120\n",
      "45/45 [==============================] - 0s 2ms/step - loss: 0.4259 - accuracy: 0.8056 - val_loss: 0.4560 - val_accuracy: 0.7877\n",
      "Epoch 84/120\n",
      "45/45 [==============================] - 0s 1ms/step - loss: 0.4242 - accuracy: 0.8077 - val_loss: 0.4569 - val_accuracy: 0.7793\n",
      "Epoch 85/120\n",
      "45/45 [==============================] - 0s 1ms/step - loss: 0.4310 - accuracy: 0.7986 - val_loss: 0.4572 - val_accuracy: 0.7821\n",
      "Epoch 86/120\n",
      "45/45 [==============================] - 0s 1ms/step - loss: 0.4096 - accuracy: 0.8224 - val_loss: 0.4563 - val_accuracy: 0.7821\n",
      "Epoch 87/120\n",
      "45/45 [==============================] - 0s 1ms/step - loss: 0.4129 - accuracy: 0.8126 - val_loss: 0.4563 - val_accuracy: 0.7821\n",
      "Epoch 88/120\n",
      "45/45 [==============================] - 0s 1ms/step - loss: 0.4137 - accuracy: 0.8140 - val_loss: 0.4558 - val_accuracy: 0.7821\n",
      "Epoch 89/120\n",
      "45/45 [==============================] - 0s 1ms/step - loss: 0.4161 - accuracy: 0.8042 - val_loss: 0.4553 - val_accuracy: 0.7849\n",
      "Epoch 90/120\n",
      "45/45 [==============================] - 0s 1ms/step - loss: 0.4041 - accuracy: 0.8168 - val_loss: 0.4572 - val_accuracy: 0.7877\n",
      "Epoch 91/120\n",
      "45/45 [==============================] - 0s 1ms/step - loss: 0.4130 - accuracy: 0.8126 - val_loss: 0.4579 - val_accuracy: 0.7849\n",
      "Epoch 92/120\n",
      "45/45 [==============================] - 0s 1ms/step - loss: 0.4020 - accuracy: 0.8154 - val_loss: 0.4588 - val_accuracy: 0.7877\n",
      "Epoch 93/120\n",
      "45/45 [==============================] - 0s 1ms/step - loss: 0.4194 - accuracy: 0.8063 - val_loss: 0.4567 - val_accuracy: 0.7849\n",
      "Epoch 94/120\n",
      "45/45 [==============================] - 0s 1ms/step - loss: 0.4096 - accuracy: 0.8196 - val_loss: 0.4542 - val_accuracy: 0.7905\n",
      "Epoch 95/120\n",
      "45/45 [==============================] - 0s 1ms/step - loss: 0.4164 - accuracy: 0.8049 - val_loss: 0.4554 - val_accuracy: 0.7793\n",
      "Epoch 96/120\n",
      "45/45 [==============================] - 0s 1ms/step - loss: 0.4160 - accuracy: 0.8070 - val_loss: 0.4551 - val_accuracy: 0.7905\n",
      "Epoch 97/120\n",
      "45/45 [==============================] - 0s 1ms/step - loss: 0.4193 - accuracy: 0.8000 - val_loss: 0.4527 - val_accuracy: 0.7877\n",
      "Epoch 98/120\n",
      "45/45 [==============================] - 0s 1ms/step - loss: 0.4188 - accuracy: 0.8007 - val_loss: 0.4517 - val_accuracy: 0.7905\n",
      "Epoch 99/120\n",
      "45/45 [==============================] - 0s 1ms/step - loss: 0.4085 - accuracy: 0.8175 - val_loss: 0.4515 - val_accuracy: 0.7905\n",
      "Epoch 100/120\n",
      "45/45 [==============================] - 0s 1ms/step - loss: 0.4154 - accuracy: 0.8161 - val_loss: 0.4509 - val_accuracy: 0.8045\n",
      "Epoch 101/120\n",
      "45/45 [==============================] - 0s 1ms/step - loss: 0.4125 - accuracy: 0.8210 - val_loss: 0.4534 - val_accuracy: 0.7961\n",
      "Epoch 102/120\n",
      "45/45 [==============================] - 0s 1ms/step - loss: 0.4144 - accuracy: 0.8063 - val_loss: 0.4526 - val_accuracy: 0.7989\n",
      "Epoch 103/120\n",
      "45/45 [==============================] - 0s 1ms/step - loss: 0.4030 - accuracy: 0.8224 - val_loss: 0.4543 - val_accuracy: 0.8045\n",
      "Epoch 104/120\n",
      "45/45 [==============================] - 0s 1ms/step - loss: 0.4110 - accuracy: 0.8133 - val_loss: 0.4529 - val_accuracy: 0.8017\n",
      "Epoch 105/120\n",
      "45/45 [==============================] - 0s 1ms/step - loss: 0.4016 - accuracy: 0.8203 - val_loss: 0.4529 - val_accuracy: 0.7989\n",
      "Epoch 106/120\n",
      "45/45 [==============================] - 0s 1ms/step - loss: 0.3992 - accuracy: 0.8238 - val_loss: 0.4527 - val_accuracy: 0.7933\n",
      "Epoch 107/120\n",
      "45/45 [==============================] - 0s 1ms/step - loss: 0.4048 - accuracy: 0.8196 - val_loss: 0.4510 - val_accuracy: 0.7989\n",
      "Epoch 108/120\n",
      "45/45 [==============================] - 0s 1ms/step - loss: 0.3975 - accuracy: 0.8203 - val_loss: 0.4503 - val_accuracy: 0.7989\n",
      "Epoch 109/120\n",
      "45/45 [==============================] - 0s 1ms/step - loss: 0.3995 - accuracy: 0.8217 - val_loss: 0.4521 - val_accuracy: 0.7961\n",
      "Epoch 110/120\n",
      "45/45 [==============================] - 0s 1ms/step - loss: 0.4074 - accuracy: 0.8098 - val_loss: 0.4541 - val_accuracy: 0.7989\n",
      "Epoch 111/120\n",
      "45/45 [==============================] - 0s 1ms/step - loss: 0.3980 - accuracy: 0.8273 - val_loss: 0.4517 - val_accuracy: 0.8017\n",
      "Epoch 112/120\n",
      "45/45 [==============================] - 0s 1ms/step - loss: 0.3841 - accuracy: 0.8329 - val_loss: 0.4526 - val_accuracy: 0.7961\n",
      "Epoch 113/120\n",
      "45/45 [==============================] - 0s 1ms/step - loss: 0.4037 - accuracy: 0.8280 - val_loss: 0.4528 - val_accuracy: 0.7989\n",
      "Epoch 114/120\n",
      "45/45 [==============================] - 0s 1ms/step - loss: 0.4097 - accuracy: 0.8210 - val_loss: 0.4542 - val_accuracy: 0.7933\n",
      "Epoch 115/120\n",
      "45/45 [==============================] - 0s 1ms/step - loss: 0.3952 - accuracy: 0.8259 - val_loss: 0.4543 - val_accuracy: 0.7877\n",
      "Epoch 116/120\n",
      "45/45 [==============================] - 0s 1ms/step - loss: 0.4037 - accuracy: 0.8119 - val_loss: 0.4528 - val_accuracy: 0.7933\n",
      "Epoch 117/120\n",
      "45/45 [==============================] - 0s 1ms/step - loss: 0.3905 - accuracy: 0.8315 - val_loss: 0.4517 - val_accuracy: 0.7905\n",
      "Epoch 118/120\n",
      "45/45 [==============================] - 0s 1ms/step - loss: 0.4097 - accuracy: 0.8133 - val_loss: 0.4536 - val_accuracy: 0.7905\n",
      "Epoch 119/120\n",
      "45/45 [==============================] - 0s 1ms/step - loss: 0.4059 - accuracy: 0.8140 - val_loss: 0.4535 - val_accuracy: 0.7877\n",
      "Epoch 120/120\n",
      "45/45 [==============================] - 0s 1ms/step - loss: 0.4090 - accuracy: 0.8021 - val_loss: 0.4544 - val_accuracy: 0.7933\n",
      "45/45 [==============================] - 0s 532us/step - loss: 0.3577 - accuracy: 0.8503\n",
      "Train score: [0.35766518115997314, 0.8503496646881104]\n",
      "12/12 [==============================] - 0s 710us/step - loss: 0.4544 - accuracy: 0.7933\n",
      "Test score: [0.45442110300064087, 0.7932960987091064]\n"
     ]
    }
   ],
   "source": [
    "# 訓練模型\n",
    "r1 = model1.fit(X_train, y1_train, validation_data=(X_test, y1_test), epochs=120)\n",
    "\n",
    "# 評估模型 - evaluate() returns loss and accuracy\n",
    "print(\"Train score:\", model1.evaluate(X_train, y1_train))\n",
    "print(\"Test score:\", model1.evaluate(X_test, y1_test))"
   ]
  },
  {
   "cell_type": "code",
   "execution_count": 112,
   "id": "7ccf0d27",
   "metadata": {},
   "outputs": [
    {
     "data": {
      "text/plain": [
       "<matplotlib.legend.Legend at 0x146871197c0>"
      ]
     },
     "execution_count": 112,
     "metadata": {},
     "output_type": "execute_result"
    },
    {
     "data": {
      "image/png": "[encoded data removed]",
      "text/plain": [
       "<Figure size 432x288 with 1 Axes>"
      ]
     },
     "metadata": {
      "needs_background": "light"
     },
     "output_type": "display_data"
    }
   ],
   "source": [
    "# 劃出 model.fit() training 和 validating 的 loss\n",
    "import matplotlib.pyplot as plt\n",
    "plt.plot(r1.history['loss'], label='loss')\n",
    "plt.plot(r1.history['val_loss'], label='val_loss')\n",
    "plt.legend()"
   ]
  },
  {
   "cell_type": "code",
   "execution_count": 113,
   "id": "4ac991d4",
   "metadata": {
    "scrolled": true
   },
   "outputs": [
    {
     "data": {
      "text/plain": [
       "<matplotlib.legend.Legend at 0x1468712b550>"
      ]
     },
     "execution_count": 113,
     "metadata": {},
     "output_type": "execute_result"
    },
    {
     "data": {
      "image/png": "[encoded data removed]",
      "text/plain": [
       "<Figure size 432x288 with 1 Axes>"
      ]
     },
     "metadata": {
      "needs_background": "light"
     },
     "output_type": "display_data"
    }
   ],
   "source": [
    "# 劃出準確性 accuracy \n",
    "plt.plot(r1.history['accuracy'], label='acc')\n",
    "plt.plot(r1.history['val_accuracy'], label='val_acc')\n",
    "plt.legend()"
   ]
  },
  {
   "cell_type": "code",
   "execution_count": 114,
   "id": "bfe852ef",
   "metadata": {},
   "outputs": [],
   "source": [
    "model.save('./net_profit_model.h5')"
   ]
  },
  {
   "cell_type": "markdown",
   "id": "ace5ee79",
   "metadata": {},
   "source": [
    "<h1> 5-2 用羅吉斯回歸實作 預測淨利率"
   ]
  },
  {
   "cell_type": "code",
   "execution_count": 115,
   "id": "02febdef",
   "metadata": {},
   "outputs": [
    {
     "name": "stdout",
     "output_type": "stream",
     "text": [
      "[1 1 1 1 1 1 1 1 1 1 1 1 1 0 0 1 1 1 0 1 1 0 1 1 0 1 0 1 1 1 1 0 0 1 1 1 1\n",
      " 1 1 1 1 1 0 1 1 1 1 1 1 1 1 0 1 0 1 1 1 1 0 0 0 0 1 0 0 1 0 1 0 0 1 1 1 0\n",
      " 1 1 1 1 0 1 1 1 1 1 0 1 1 1 0 1 1 1 1 1 1 1 1 1 1 0 1 1 1 1 0 0 1 1 1 1 0\n",
      " 0 1 1 0 0 1 1 1 1 0 1 0 1 1 1 0 1 1 1 1 1 1 1 1 1 0 1 1 1 0 1 1 1 1 0 1 0\n",
      " 1 1 1 1 1 0 0 1 1 1 1 0 1 1 1 1 1 1 1 1 1 1 0 1 0 0 0 0 1 1 1 1 1 1 1 0 1\n",
      " 0 1 1 1 1 1 1 1 1 1 1 1 1 1 1 1 1 1 1 1 1 1 1 1 1 1 1 1 1 1 1 1 0 1 0 0 1\n",
      " 1 0 1 1 1 1 1 1 1 1 1 1 1 0 1 1 1 1 0 1 1 1 0 0 0 1 1 1 1 1 1 1 1 0 1 1 1\n",
      " 0 1 1 1 1 0 1 1 1 1 1 1 1 1 1 1 0 1 1 0 1 1 1 1 1 1 1 1 0 0 1 1 1 1 0 1 1\n",
      " 1 1 1 1 1 1 1 1 1 1 0 1 1 1 0 1 1 0 1 1 1 1 1 1 1 1 1 0 1 0 1 1 1 1 1 1 0\n",
      " 1 0 0 1 1 1 1 1 1 1 1 0 1 1 0 1 1 1 1 1 1 1 1 1 0]\n",
      "==============================\n",
      "0.7706293706293706\n"
     ]
    }
   ],
   "source": [
    "from sklearn.linear_model import LogisticRegression\n",
    "log1 = LogisticRegression()\n",
    "log1.fit(X_train, y1_train)\n",
    "\n",
    "pred1 = log1.predict(X_test)\n",
    "print(pred1)\n",
    "print(\"==============================\")\n",
    "print(log1.score(X_train, y1_train))\n",
    "# print(y_test)"
   ]
  },
  {
   "cell_type": "code",
   "execution_count": 116,
   "id": "b9a2851b",
   "metadata": {},
   "outputs": [
    {
     "data": {
      "text/plain": [
       "0.776536312849162"
      ]
     },
     "execution_count": 116,
     "metadata": {},
     "output_type": "execute_result"
    }
   ],
   "source": [
    "accuracy1 = accuracy_score(y1_test, pred1)\n",
    "accuracy1"
   ]
  },
  {
   "cell_type": "markdown",
   "id": "d1581602",
   "metadata": {},
   "source": [
    "<h1> 5-3 以 SVM 實作 預測淨利率"
   ]
  },
  {
   "cell_type": "code",
   "execution_count": null,
   "id": "fcda9d9d",
   "metadata": {},
   "outputs": [],
   "source": [
    "from sklearn.svm import SVC\n",
    "clf1 = SVC(C = 1e5, kernel = 'linear')\n",
    "clf1.fit(X_train, y1_train) \n",
    "pred_clf1 = clf1.predict(X_test)\n",
    "print(pred_clf1)\n",
    "print(\"==============================\")\n",
    "print(clf1.score(X_train, y1_train))"
   ]
  },
  {
   "cell_type": "code",
   "execution_count": null,
   "id": "48835389",
   "metadata": {},
   "outputs": [],
   "source": [
    "accuracy_SVM = accuracy_score(y1_test, pred_clf1)\n",
    "accuracy_SVM"
   ]
  },
  {
   "cell_type": "markdown",
   "id": "12324f7f",
   "metadata": {},
   "source": [
    "<h1>5-4 以 RandomForestClassifier 實作 淨利率 預測"
   ]
  },
  {
   "cell_type": "code",
   "execution_count": 117,
   "id": "6f86f383",
   "metadata": {},
   "outputs": [
    {
     "name": "stdout",
     "output_type": "stream",
     "text": [
      "1.0\n"
     ]
    }
   ],
   "source": [
    "#Import Random Forest Model\n",
    "from sklearn.ensemble import RandomForestClassifier\n",
    "\n",
    "#Create a Gaussian Classifier\n",
    "forest1=RandomForestClassifier(n_estimators=100)\n",
    "\n",
    "#Train the model using the training sets y_pred=clf.predict(X_test)\n",
    "forest1.fit(X_train, y1_train)\n",
    "print(forest1.score(X_train, y1_train))"
   ]
  },
  {
   "cell_type": "code",
   "execution_count": 118,
   "id": "3665d143",
   "metadata": {},
   "outputs": [
    {
     "name": "stdout",
     "output_type": "stream",
     "text": [
      "Accuracy: 0.8184357541899442\n"
     ]
    }
   ],
   "source": [
    "from sklearn.metrics import accuracy_score\n",
    "forest_pred1=forest1.predict(X_test)\n",
    "print(\"Accuracy:\",accuracy_score(y1_test, forest_pred1))"
   ]
  },
  {
   "cell_type": "markdown",
   "id": "c03d9ad1",
   "metadata": {},
   "source": [
    "<h1> 5-5 以 naive_bayes 實作 淨利率 預測"
   ]
  },
  {
   "cell_type": "code",
   "execution_count": 119,
   "id": "e0e50d52",
   "metadata": {},
   "outputs": [
    {
     "name": "stdout",
     "output_type": "stream",
     "text": [
      "0.7461538461538462\n"
     ]
    }
   ],
   "source": [
    "from sklearn.naive_bayes import GaussianNB\n",
    "nb1 = GaussianNB()\n",
    "nb1.fit(X_train, y1_train)\n",
    "print(nb1.score(X_train, y1_train))"
   ]
  },
  {
   "cell_type": "code",
   "execution_count": 120,
   "id": "0fd64006",
   "metadata": {},
   "outputs": [
    {
     "name": "stdout",
     "output_type": "stream",
     "text": [
      "Accuracy: 0.7458100558659218\n"
     ]
    }
   ],
   "source": [
    "nb1_pred = nb1.predict(X_test)\n",
    "print(\"Accuracy:\",accuracy_score(y1_test, nb1_pred))"
   ]
  },
  {
   "cell_type": "markdown",
   "id": "fe3c15aa",
   "metadata": {},
   "source": [
    "<h1> 5-6 以 KNN 實作 淨利率 預測"
   ]
  },
  {
   "cell_type": "code",
   "execution_count": 121,
   "id": "af8cbd99",
   "metadata": {},
   "outputs": [
    {
     "name": "stdout",
     "output_type": "stream",
     "text": [
      "0.8272727272727273\n"
     ]
    }
   ],
   "source": [
    "from sklearn.neighbors import KNeighborsClassifier\n",
    "knn1 = KNeighborsClassifier()\n",
    "knn1.fit(X_train, y1_train)\n",
    "print(knn1.score(X_train, y1_train))"
   ]
  },
  {
   "cell_type": "code",
   "execution_count": 122,
   "id": "7b3ca9dd",
   "metadata": {},
   "outputs": [
    {
     "name": "stdout",
     "output_type": "stream",
     "text": [
      "Accuracy: 0.7150837988826816\n"
     ]
    }
   ],
   "source": [
    "knn1_pred = knn1.predict(X_test)\n",
    "print(\"Accuracy:\",accuracy_score(y1_test, knn1_pred))"
   ]
  },
  {
   "cell_type": "code",
   "execution_count": null,
   "id": "27f58e37",
   "metadata": {},
   "outputs": [],
   "source": []
  },
  {
   "cell_type": "code",
   "execution_count": 60,
   "id": "f6113468",
   "metadata": {},
   "outputs": [
    {
     "data": {
      "text/html": [
       "<div>\n",
       "<style scoped>\n",
       "    .dataframe tbody tr th:only-of-type {\n",
       "        vertical-align: middle;\n",
       "    }\n",
       "\n",
       "    .dataframe tbody tr th {\n",
       "        vertical-align: top;\n",
       "    }\n",
       "\n",
       "    .dataframe thead th {\n",
       "        text-align: right;\n",
       "    }\n",
       "</style>\n",
       "<table border=\"1\" class=\"dataframe\">\n",
       "  <thead>\n",
       "    <tr style=\"text-align: right;\">\n",
       "      <th></th>\n",
       "      <th>current_rate</th>\n",
       "      <th>quick_rate</th>\n",
       "      <th>debt_rate</th>\n",
       "      <th>operating_gross_rate</th>\n",
       "      <th>receivables_turnover_rate</th>\n",
       "      <th>cash_reinvest_rate</th>\n",
       "      <th>avg_director_rate</th>\n",
       "      <th>avg_director_pledge_rate</th>\n",
       "      <th>foreign_rate_bys</th>\n",
       "      <th>over1000_rate_bys</th>\n",
       "      <th>under400_rate_bys</th>\n",
       "      <th>avg_board_bys</th>\n",
       "      <th>avg_import_rate</th>\n",
       "    </tr>\n",
       "  </thead>\n",
       "  <tbody>\n",
       "    <tr>\n",
       "      <th>0</th>\n",
       "      <td>-0.497595</td>\n",
       "      <td>-0.459666</td>\n",
       "      <td>-0.824804</td>\n",
       "      <td>0.293646</td>\n",
       "      <td>-0.159355</td>\n",
       "      <td>-0.233499</td>\n",
       "      <td>0.437739</td>\n",
       "      <td>-0.405628</td>\n",
       "      <td>-0.643864</td>\n",
       "      <td>0.842469</td>\n",
       "      <td>-0.637059</td>\n",
       "      <td>-0.298683</td>\n",
       "      <td>0.653842</td>\n",
       "    </tr>\n",
       "    <tr>\n",
       "      <th>1</th>\n",
       "      <td>-0.468749</td>\n",
       "      <td>-0.443455</td>\n",
       "      <td>-0.904884</td>\n",
       "      <td>0.406062</td>\n",
       "      <td>-0.060091</td>\n",
       "      <td>-0.268016</td>\n",
       "      <td>0.437739</td>\n",
       "      <td>-0.405628</td>\n",
       "      <td>-0.643864</td>\n",
       "      <td>0.848042</td>\n",
       "      <td>-0.632518</td>\n",
       "      <td>-0.289146</td>\n",
       "      <td>0.825146</td>\n",
       "    </tr>\n",
       "    <tr>\n",
       "      <th>2</th>\n",
       "      <td>-0.457062</td>\n",
       "      <td>-0.444712</td>\n",
       "      <td>-0.933148</td>\n",
       "      <td>0.254882</td>\n",
       "      <td>-0.380792</td>\n",
       "      <td>-0.253346</td>\n",
       "      <td>0.437739</td>\n",
       "      <td>-0.405628</td>\n",
       "      <td>-0.645352</td>\n",
       "      <td>0.856400</td>\n",
       "      <td>-0.652700</td>\n",
       "      <td>-0.286212</td>\n",
       "      <td>0.805381</td>\n",
       "    </tr>\n",
       "    <tr>\n",
       "      <th>3</th>\n",
       "      <td>-0.450589</td>\n",
       "      <td>-0.432874</td>\n",
       "      <td>-0.918427</td>\n",
       "      <td>0.063776</td>\n",
       "      <td>-0.284391</td>\n",
       "      <td>-0.196393</td>\n",
       "      <td>0.437739</td>\n",
       "      <td>-0.405628</td>\n",
       "      <td>-0.648822</td>\n",
       "      <td>0.847577</td>\n",
       "      <td>-0.661277</td>\n",
       "      <td>-0.278142</td>\n",
       "      <td>1.094339</td>\n",
       "    </tr>\n",
       "    <tr>\n",
       "      <th>4</th>\n",
       "      <td>-0.461485</td>\n",
       "      <td>-0.427728</td>\n",
       "      <td>-0.870144</td>\n",
       "      <td>-0.064920</td>\n",
       "      <td>-0.179399</td>\n",
       "      <td>-0.010865</td>\n",
       "      <td>0.437739</td>\n",
       "      <td>-0.405628</td>\n",
       "      <td>-0.648822</td>\n",
       "      <td>0.847113</td>\n",
       "      <td>-0.664809</td>\n",
       "      <td>-0.270806</td>\n",
       "      <td>1.151754</td>\n",
       "    </tr>\n",
       "    <tr>\n",
       "      <th>...</th>\n",
       "      <td>...</td>\n",
       "      <td>...</td>\n",
       "      <td>...</td>\n",
       "      <td>...</td>\n",
       "      <td>...</td>\n",
       "      <td>...</td>\n",
       "      <td>...</td>\n",
       "      <td>...</td>\n",
       "      <td>...</td>\n",
       "      <td>...</td>\n",
       "      <td>...</td>\n",
       "      <td>...</td>\n",
       "      <td>...</td>\n",
       "    </tr>\n",
       "    <tr>\n",
       "      <th>1783</th>\n",
       "      <td>-0.160125</td>\n",
       "      <td>-0.271150</td>\n",
       "      <td>-0.264240</td>\n",
       "      <td>-0.220751</td>\n",
       "      <td>-0.066772</td>\n",
       "      <td>0.176390</td>\n",
       "      <td>-0.080402</td>\n",
       "      <td>0.701591</td>\n",
       "      <td>1.672838</td>\n",
       "      <td>-0.113698</td>\n",
       "      <td>-0.093660</td>\n",
       "      <td>-0.388184</td>\n",
       "      <td>-0.078436</td>\n",
       "    </tr>\n",
       "    <tr>\n",
       "      <th>1784</th>\n",
       "      <td>-0.009934</td>\n",
       "      <td>-0.128851</td>\n",
       "      <td>-0.504482</td>\n",
       "      <td>-0.304094</td>\n",
       "      <td>0.116486</td>\n",
       "      <td>0.069387</td>\n",
       "      <td>-0.049547</td>\n",
       "      <td>1.151263</td>\n",
       "      <td>1.395210</td>\n",
       "      <td>-0.318027</td>\n",
       "      <td>0.255488</td>\n",
       "      <td>-0.456411</td>\n",
       "      <td>-0.494460</td>\n",
       "    </tr>\n",
       "    <tr>\n",
       "      <th>1785</th>\n",
       "      <td>-0.118567</td>\n",
       "      <td>-0.154049</td>\n",
       "      <td>-0.361397</td>\n",
       "      <td>-0.287038</td>\n",
       "      <td>0.299745</td>\n",
       "      <td>0.589730</td>\n",
       "      <td>-0.039650</td>\n",
       "      <td>1.142565</td>\n",
       "      <td>1.471558</td>\n",
       "      <td>-0.344497</td>\n",
       "      <td>0.222692</td>\n",
       "      <td>-0.440271</td>\n",
       "      <td>-1.168382</td>\n",
       "    </tr>\n",
       "    <tr>\n",
       "      <th>1786</th>\n",
       "      <td>-0.201031</td>\n",
       "      <td>-0.246508</td>\n",
       "      <td>-0.171205</td>\n",
       "      <td>-0.028870</td>\n",
       "      <td>-0.289163</td>\n",
       "      <td>-0.702930</td>\n",
       "      <td>-0.039650</td>\n",
       "      <td>1.142565</td>\n",
       "      <td>1.545922</td>\n",
       "      <td>-0.256728</td>\n",
       "      <td>0.045091</td>\n",
       "      <td>-0.438804</td>\n",
       "      <td>-1.510991</td>\n",
       "    </tr>\n",
       "    <tr>\n",
       "      <th>1787</th>\n",
       "      <td>-0.365145</td>\n",
       "      <td>-0.377307</td>\n",
       "      <td>0.391714</td>\n",
       "      <td>0.083158</td>\n",
       "      <td>-0.086816</td>\n",
       "      <td>-0.582983</td>\n",
       "      <td>-0.039650</td>\n",
       "      <td>1.142565</td>\n",
       "      <td>1.555838</td>\n",
       "      <td>-0.257657</td>\n",
       "      <td>-0.044719</td>\n",
       "      <td>-0.473284</td>\n",
       "      <td>-1.888424</td>\n",
       "    </tr>\n",
       "  </tbody>\n",
       "</table>\n",
       "<p>1788 rows × 13 columns</p>\n",
       "</div>"
      ],
      "text/plain": [
       "      current_rate  quick_rate  debt_rate  operating_gross_rate  \\\n",
       "0        -0.497595   -0.459666  -0.824804              0.293646   \n",
       "1        -0.468749   -0.443455  -0.904884              0.406062   \n",
       "2        -0.457062   -0.444712  -0.933148              0.254882   \n",
       "3        -0.450589   -0.432874  -0.918427              0.063776   \n",
       "4        -0.461485   -0.427728  -0.870144             -0.064920   \n",
       "...            ...         ...        ...                   ...   \n",
       "1783     -0.160125   -0.271150  -0.264240             -0.220751   \n",
       "1784     -0.009934   -0.128851  -0.504482             -0.304094   \n",
       "1785     -0.118567   -0.154049  -0.361397             -0.287038   \n",
       "1786     -0.201031   -0.246508  -0.171205             -0.028870   \n",
       "1787     -0.365145   -0.377307   0.391714              0.083158   \n",
       "\n",
       "      receivables_turnover_rate  cash_reinvest_rate  avg_director_rate  \\\n",
       "0                     -0.159355           -0.233499           0.437739   \n",
       "1                     -0.060091           -0.268016           0.437739   \n",
       "2                     -0.380792           -0.253346           0.437739   \n",
       "3                     -0.284391           -0.196393           0.437739   \n",
       "4                     -0.179399           -0.010865           0.437739   \n",
       "...                         ...                 ...                ...   \n",
       "1783                  -0.066772            0.176390          -0.080402   \n",
       "1784                   0.116486            0.069387          -0.049547   \n",
       "1785                   0.299745            0.589730          -0.039650   \n",
       "1786                  -0.289163           -0.702930          -0.039650   \n",
       "1787                  -0.086816           -0.582983          -0.039650   \n",
       "\n",
       "      avg_director_pledge_rate  foreign_rate_bys  over1000_rate_bys  \\\n",
       "0                    -0.405628         -0.643864           0.842469   \n",
       "1                    -0.405628         -0.643864           0.848042   \n",
       "2                    -0.405628         -0.645352           0.856400   \n",
       "3                    -0.405628         -0.648822           0.847577   \n",
       "4                    -0.405628         -0.648822           0.847113   \n",
       "...                        ...               ...                ...   \n",
       "1783                  0.701591          1.672838          -0.113698   \n",
       "1784                  1.151263          1.395210          -0.318027   \n",
       "1785                  1.142565          1.471558          -0.344497   \n",
       "1786                  1.142565          1.545922          -0.256728   \n",
       "1787                  1.142565          1.555838          -0.257657   \n",
       "\n",
       "      under400_rate_bys  avg_board_bys  avg_import_rate  \n",
       "0             -0.637059      -0.298683         0.653842  \n",
       "1             -0.632518      -0.289146         0.825146  \n",
       "2             -0.652700      -0.286212         0.805381  \n",
       "3             -0.661277      -0.278142         1.094339  \n",
       "4             -0.664809      -0.270806         1.151754  \n",
       "...                 ...            ...              ...  \n",
       "1783          -0.093660      -0.388184        -0.078436  \n",
       "1784           0.255488      -0.456411        -0.494460  \n",
       "1785           0.222692      -0.440271        -1.168382  \n",
       "1786           0.045091      -0.438804        -1.510991  \n",
       "1787          -0.044719      -0.473284        -1.888424  \n",
       "\n",
       "[1788 rows x 13 columns]"
      ]
     },
     "execution_count": 60,
     "metadata": {},
     "output_type": "execute_result"
    }
   ],
   "source": [
    "X1_scaled = pd.DataFrame()\n",
    "a, b = X1.shape\n",
    "\n",
    "for i in range(b):\n",
    "    x1_new = mean_norm(X1[X1.columns[i]])\n",
    "    X1_scaled.insert(i,X1.columns[i],x1_new)\n",
    "X1_scaled"
   ]
  },
  {
   "cell_type": "code",
   "execution_count": 61,
   "id": "a6293590",
   "metadata": {},
   "outputs": [
    {
     "name": "stdout",
     "output_type": "stream",
     "text": [
      "N: 1430 D: 13\n"
     ]
    }
   ],
   "source": [
    "#分割資料為 測試集 與 訓練集\n",
    "from sklearn.model_selection import train_test_split\n",
    "X1_train, X1_test, y2_train, y2_test = train_test_split(X1_scaled, y2, test_size=0.2,random_state=1)\n",
    "N, D = X1_train.shape\n",
    "print (\"N:\", N, \"D:\", D)"
   ]
  },
  {
   "cell_type": "markdown",
   "id": "28bba307",
   "metadata": {},
   "source": [
    "<h2> 6-1 以 DNN 實作預測 ROE"
   ]
  },
  {
   "cell_type": "code",
   "execution_count": 62,
   "id": "ae09e5d8",
   "metadata": {},
   "outputs": [],
   "source": [
    "# 建立TF模型 for 淨利\n",
    "model3 = tf.keras.models.Sequential([\n",
    "  tf.keras.layers.Input(shape=(D,)),\n",
    "  tf.keras.layers.Dense(64, activation='relu'),\n",
    "  tf.keras.layers.Dropout(0.2),\n",
    "  tf.keras.layers.Dense(32, activation='relu'),\n",
    "  tf.keras.layers.Dropout(0.2),\n",
    "  tf.keras.layers.Dense(1, activation='sigmoid')\n",
    "  ])\n",
    "\n",
    "#編譯模型\n",
    "lr = 0.0003\n",
    "model3.compile(tf.keras.optimizers.Adam(learning_rate = lr),\n",
    "              loss='binary_crossentropy',\n",
    "              metrics=['accuracy'])"
   ]
  },
  {
   "cell_type": "code",
   "execution_count": 63,
   "id": "09053596",
   "metadata": {},
   "outputs": [
    {
     "name": "stdout",
     "output_type": "stream",
     "text": [
      "Model: \"sequential_5\"\n",
      "_________________________________________________________________\n",
      "Layer (type)                 Output Shape              Param #   \n",
      "=================================================================\n",
      "dense_16 (Dense)             (None, 64)                896       \n",
      "_________________________________________________________________\n",
      "dropout_11 (Dropout)         (None, 64)                0         \n",
      "_________________________________________________________________\n",
      "dense_17 (Dense)             (None, 32)                2080      \n",
      "_________________________________________________________________\n",
      "dropout_12 (Dropout)         (None, 32)                0         \n",
      "_________________________________________________________________\n",
      "dense_18 (Dense)             (None, 1)                 33        \n",
      "=================================================================\n",
      "Total params: 3,009\n",
      "Trainable params: 3,009\n",
      "Non-trainable params: 0\n",
      "_________________________________________________________________\n"
     ]
    }
   ],
   "source": [
    "model3.summary()"
   ]
  },
  {
   "cell_type": "code",
   "execution_count": 64,
   "id": "9bacd773",
   "metadata": {},
   "outputs": [
    {
     "name": "stdout",
     "output_type": "stream",
     "text": [
      "Epoch 1/150\n",
      "45/45 [==============================] - 0s 3ms/step - loss: 0.6821 - accuracy: 0.5797 - val_loss: 0.6290 - val_accuracy: 0.6927\n",
      "Epoch 2/150\n",
      "45/45 [==============================] - 0s 1ms/step - loss: 0.6403 - accuracy: 0.6378 - val_loss: 0.6028 - val_accuracy: 0.7235\n",
      "Epoch 3/150\n",
      "45/45 [==============================] - 0s 1ms/step - loss: 0.6179 - accuracy: 0.6615 - val_loss: 0.5806 - val_accuracy: 0.7207\n",
      "Epoch 4/150\n",
      "45/45 [==============================] - 0s 1ms/step - loss: 0.5995 - accuracy: 0.6874 - val_loss: 0.5630 - val_accuracy: 0.7346\n",
      "Epoch 5/150\n",
      "45/45 [==============================] - 0s 1ms/step - loss: 0.5903 - accuracy: 0.6881 - val_loss: 0.5488 - val_accuracy: 0.7458\n",
      "Epoch 6/150\n",
      "45/45 [==============================] - 0s 1ms/step - loss: 0.5685 - accuracy: 0.7105 - val_loss: 0.5353 - val_accuracy: 0.7598\n",
      "Epoch 7/150\n",
      "45/45 [==============================] - 0s 1ms/step - loss: 0.5476 - accuracy: 0.7301 - val_loss: 0.5236 - val_accuracy: 0.7654\n",
      "Epoch 8/150\n",
      "45/45 [==============================] - 0s 1ms/step - loss: 0.5505 - accuracy: 0.7315 - val_loss: 0.5152 - val_accuracy: 0.7654\n",
      "Epoch 9/150\n",
      "45/45 [==============================] - 0s 1ms/step - loss: 0.5374 - accuracy: 0.7392 - val_loss: 0.5070 - val_accuracy: 0.7654\n",
      "Epoch 10/150\n",
      "45/45 [==============================] - 0s 1ms/step - loss: 0.5473 - accuracy: 0.7266 - val_loss: 0.5018 - val_accuracy: 0.7598\n",
      "Epoch 11/150\n",
      "45/45 [==============================] - 0s 1ms/step - loss: 0.5290 - accuracy: 0.7378 - val_loss: 0.4973 - val_accuracy: 0.7626\n",
      "Epoch 12/150\n",
      "45/45 [==============================] - 0s 1ms/step - loss: 0.5194 - accuracy: 0.7476 - val_loss: 0.4912 - val_accuracy: 0.7626\n",
      "Epoch 13/150\n",
      "45/45 [==============================] - 0s 1ms/step - loss: 0.5164 - accuracy: 0.7559 - val_loss: 0.4864 - val_accuracy: 0.7570\n",
      "Epoch 14/150\n",
      "45/45 [==============================] - 0s 1ms/step - loss: 0.5082 - accuracy: 0.7566 - val_loss: 0.4840 - val_accuracy: 0.7570\n",
      "Epoch 15/150\n",
      "45/45 [==============================] - 0s 1ms/step - loss: 0.5058 - accuracy: 0.7657 - val_loss: 0.4830 - val_accuracy: 0.7542\n",
      "Epoch 16/150\n",
      "45/45 [==============================] - 0s 1ms/step - loss: 0.5231 - accuracy: 0.7538 - val_loss: 0.4819 - val_accuracy: 0.7570\n",
      "Epoch 17/150\n",
      "45/45 [==============================] - 0s 1ms/step - loss: 0.5001 - accuracy: 0.7608 - val_loss: 0.4780 - val_accuracy: 0.7570\n",
      "Epoch 18/150\n",
      "45/45 [==============================] - 0s 1ms/step - loss: 0.5022 - accuracy: 0.7629 - val_loss: 0.4754 - val_accuracy: 0.7570\n",
      "Epoch 19/150\n",
      "45/45 [==============================] - 0s 1ms/step - loss: 0.4928 - accuracy: 0.7706 - val_loss: 0.4725 - val_accuracy: 0.7654\n",
      "Epoch 20/150\n",
      "45/45 [==============================] - 0s 1ms/step - loss: 0.4991 - accuracy: 0.7629 - val_loss: 0.4731 - val_accuracy: 0.7598\n",
      "Epoch 21/150\n",
      "45/45 [==============================] - 0s 1ms/step - loss: 0.4978 - accuracy: 0.7643 - val_loss: 0.4714 - val_accuracy: 0.7570\n",
      "Epoch 22/150\n",
      "45/45 [==============================] - 0s 1ms/step - loss: 0.4924 - accuracy: 0.7650 - val_loss: 0.4694 - val_accuracy: 0.7598\n",
      "Epoch 23/150\n",
      "45/45 [==============================] - 0s 1ms/step - loss: 0.4835 - accuracy: 0.7706 - val_loss: 0.4669 - val_accuracy: 0.7682\n",
      "Epoch 24/150\n",
      "45/45 [==============================] - 0s 1ms/step - loss: 0.4931 - accuracy: 0.7643 - val_loss: 0.4660 - val_accuracy: 0.7682\n",
      "Epoch 25/150\n",
      "45/45 [==============================] - 0s 1ms/step - loss: 0.4868 - accuracy: 0.7699 - val_loss: 0.4666 - val_accuracy: 0.7570\n",
      "Epoch 26/150\n",
      "45/45 [==============================] - 0s 1ms/step - loss: 0.4797 - accuracy: 0.7825 - val_loss: 0.4645 - val_accuracy: 0.7626\n",
      "Epoch 27/150\n",
      "45/45 [==============================] - 0s 1ms/step - loss: 0.4745 - accuracy: 0.7811 - val_loss: 0.4631 - val_accuracy: 0.7654\n",
      "Epoch 28/150\n",
      "45/45 [==============================] - 0s 1ms/step - loss: 0.4835 - accuracy: 0.7769 - val_loss: 0.4635 - val_accuracy: 0.7682\n",
      "Epoch 29/150\n",
      "45/45 [==============================] - 0s 1ms/step - loss: 0.4744 - accuracy: 0.7797 - val_loss: 0.4619 - val_accuracy: 0.7709\n",
      "Epoch 30/150\n",
      "45/45 [==============================] - 0s 1ms/step - loss: 0.4658 - accuracy: 0.7825 - val_loss: 0.4609 - val_accuracy: 0.7737\n",
      "Epoch 31/150\n",
      "45/45 [==============================] - 0s 1ms/step - loss: 0.4790 - accuracy: 0.7846 - val_loss: 0.4599 - val_accuracy: 0.7737\n",
      "Epoch 32/150\n",
      "45/45 [==============================] - 0s 1ms/step - loss: 0.4707 - accuracy: 0.7783 - val_loss: 0.4602 - val_accuracy: 0.7737\n",
      "Epoch 33/150\n",
      "45/45 [==============================] - 0s 1ms/step - loss: 0.4779 - accuracy: 0.7874 - val_loss: 0.4589 - val_accuracy: 0.7709\n",
      "Epoch 34/150\n",
      "45/45 [==============================] - 0s 1ms/step - loss: 0.4604 - accuracy: 0.7916 - val_loss: 0.4584 - val_accuracy: 0.7709\n",
      "Epoch 35/150\n",
      "45/45 [==============================] - 0s 1ms/step - loss: 0.4732 - accuracy: 0.7734 - val_loss: 0.4571 - val_accuracy: 0.7709\n",
      "Epoch 36/150\n",
      "45/45 [==============================] - 0s 1ms/step - loss: 0.4733 - accuracy: 0.7832 - val_loss: 0.4580 - val_accuracy: 0.7737\n",
      "Epoch 37/150\n",
      "45/45 [==============================] - 0s 1ms/step - loss: 0.4659 - accuracy: 0.7895 - val_loss: 0.4567 - val_accuracy: 0.7709\n",
      "Epoch 38/150\n",
      "45/45 [==============================] - 0s 1ms/step - loss: 0.4551 - accuracy: 0.7930 - val_loss: 0.4579 - val_accuracy: 0.7765\n",
      "Epoch 39/150\n",
      "45/45 [==============================] - 0s 1ms/step - loss: 0.4532 - accuracy: 0.7888 - val_loss: 0.4563 - val_accuracy: 0.7765\n",
      "Epoch 40/150\n",
      "45/45 [==============================] - 0s 1ms/step - loss: 0.4616 - accuracy: 0.7867 - val_loss: 0.4555 - val_accuracy: 0.7765\n",
      "Epoch 41/150\n",
      "45/45 [==============================] - 0s 1ms/step - loss: 0.4578 - accuracy: 0.7888 - val_loss: 0.4526 - val_accuracy: 0.7821\n",
      "Epoch 42/150\n",
      "45/45 [==============================] - 0s 1ms/step - loss: 0.4569 - accuracy: 0.7916 - val_loss: 0.4558 - val_accuracy: 0.7737\n",
      "Epoch 43/150\n",
      "45/45 [==============================] - 0s 1ms/step - loss: 0.4585 - accuracy: 0.7825 - val_loss: 0.4539 - val_accuracy: 0.7709\n",
      "Epoch 44/150\n",
      "45/45 [==============================] - 0s 1ms/step - loss: 0.4535 - accuracy: 0.7895 - val_loss: 0.4529 - val_accuracy: 0.7709\n",
      "Epoch 45/150\n",
      "45/45 [==============================] - 0s 1ms/step - loss: 0.4380 - accuracy: 0.8014 - val_loss: 0.4519 - val_accuracy: 0.7793\n",
      "Epoch 46/150\n",
      "45/45 [==============================] - 0s 1ms/step - loss: 0.4521 - accuracy: 0.7832 - val_loss: 0.4547 - val_accuracy: 0.7737\n",
      "Epoch 47/150\n",
      "45/45 [==============================] - 0s 1ms/step - loss: 0.4424 - accuracy: 0.8049 - val_loss: 0.4527 - val_accuracy: 0.7765\n",
      "Epoch 48/150\n",
      "45/45 [==============================] - 0s 1ms/step - loss: 0.4541 - accuracy: 0.7860 - val_loss: 0.4525 - val_accuracy: 0.7737\n",
      "Epoch 49/150\n",
      "45/45 [==============================] - 0s 1ms/step - loss: 0.4551 - accuracy: 0.7790 - val_loss: 0.4522 - val_accuracy: 0.7793\n",
      "Epoch 50/150\n",
      "45/45 [==============================] - 0s 1ms/step - loss: 0.4490 - accuracy: 0.7972 - val_loss: 0.4520 - val_accuracy: 0.7737\n",
      "Epoch 51/150\n",
      "45/45 [==============================] - 0s 1ms/step - loss: 0.4461 - accuracy: 0.7986 - val_loss: 0.4482 - val_accuracy: 0.7737\n",
      "Epoch 52/150\n",
      "45/45 [==============================] - 0s 1ms/step - loss: 0.4399 - accuracy: 0.8042 - val_loss: 0.4515 - val_accuracy: 0.7765\n",
      "Epoch 53/150\n",
      "45/45 [==============================] - 0s 1ms/step - loss: 0.4526 - accuracy: 0.7853 - val_loss: 0.4470 - val_accuracy: 0.7765\n",
      "Epoch 54/150\n",
      "45/45 [==============================] - 0s 1ms/step - loss: 0.4517 - accuracy: 0.7895 - val_loss: 0.4467 - val_accuracy: 0.7821\n",
      "Epoch 55/150\n",
      "45/45 [==============================] - 0s 1ms/step - loss: 0.4327 - accuracy: 0.7986 - val_loss: 0.4481 - val_accuracy: 0.7793\n",
      "Epoch 56/150\n",
      "45/45 [==============================] - 0s 1ms/step - loss: 0.4372 - accuracy: 0.8084 - val_loss: 0.4476 - val_accuracy: 0.7821\n",
      "Epoch 57/150\n",
      "45/45 [==============================] - 0s 1ms/step - loss: 0.4376 - accuracy: 0.8091 - val_loss: 0.4463 - val_accuracy: 0.7849\n",
      "Epoch 58/150\n",
      "45/45 [==============================] - 0s 1ms/step - loss: 0.4414 - accuracy: 0.7958 - val_loss: 0.4472 - val_accuracy: 0.7849\n"
     ]
    },
    {
     "name": "stdout",
     "output_type": "stream",
     "text": [
      "Epoch 59/150\n",
      "45/45 [==============================] - 0s 1ms/step - loss: 0.4319 - accuracy: 0.8070 - val_loss: 0.4442 - val_accuracy: 0.7877\n",
      "Epoch 60/150\n",
      "45/45 [==============================] - 0s 1ms/step - loss: 0.4388 - accuracy: 0.7930 - val_loss: 0.4451 - val_accuracy: 0.7793\n",
      "Epoch 61/150\n",
      "45/45 [==============================] - 0s 1ms/step - loss: 0.4271 - accuracy: 0.8126 - val_loss: 0.4451 - val_accuracy: 0.7849\n",
      "Epoch 62/150\n",
      "45/45 [==============================] - 0s 1ms/step - loss: 0.4376 - accuracy: 0.7965 - val_loss: 0.4452 - val_accuracy: 0.7821\n",
      "Epoch 63/150\n",
      "45/45 [==============================] - 0s 1ms/step - loss: 0.4423 - accuracy: 0.7916 - val_loss: 0.4450 - val_accuracy: 0.7849\n",
      "Epoch 64/150\n",
      "45/45 [==============================] - 0s 1ms/step - loss: 0.4252 - accuracy: 0.8126 - val_loss: 0.4435 - val_accuracy: 0.7765\n",
      "Epoch 65/150\n",
      "45/45 [==============================] - 0s 1ms/step - loss: 0.4353 - accuracy: 0.7916 - val_loss: 0.4431 - val_accuracy: 0.7821\n",
      "Epoch 66/150\n",
      "45/45 [==============================] - 0s 1ms/step - loss: 0.4278 - accuracy: 0.8084 - val_loss: 0.4416 - val_accuracy: 0.7849\n",
      "Epoch 67/150\n",
      "45/45 [==============================] - 0s 1ms/step - loss: 0.4223 - accuracy: 0.8007 - val_loss: 0.4431 - val_accuracy: 0.7821\n",
      "Epoch 68/150\n",
      "45/45 [==============================] - 0s 1ms/step - loss: 0.4132 - accuracy: 0.8189 - val_loss: 0.4417 - val_accuracy: 0.7793\n",
      "Epoch 69/150\n",
      "45/45 [==============================] - 0s 1ms/step - loss: 0.4228 - accuracy: 0.8056 - val_loss: 0.4435 - val_accuracy: 0.7793\n",
      "Epoch 70/150\n",
      "45/45 [==============================] - 0s 1ms/step - loss: 0.4119 - accuracy: 0.8147 - val_loss: 0.4443 - val_accuracy: 0.7793\n",
      "Epoch 71/150\n",
      "45/45 [==============================] - 0s 1ms/step - loss: 0.4325 - accuracy: 0.8021 - val_loss: 0.4432 - val_accuracy: 0.7793\n",
      "Epoch 72/150\n",
      "45/45 [==============================] - 0s 1ms/step - loss: 0.4158 - accuracy: 0.8210 - val_loss: 0.4412 - val_accuracy: 0.7849\n",
      "Epoch 73/150\n",
      "45/45 [==============================] - 0s 1ms/step - loss: 0.4236 - accuracy: 0.8077 - val_loss: 0.4436 - val_accuracy: 0.7821\n",
      "Epoch 74/150\n",
      "45/45 [==============================] - 0s 1ms/step - loss: 0.4390 - accuracy: 0.7972 - val_loss: 0.4412 - val_accuracy: 0.7849\n",
      "Epoch 75/150\n",
      "45/45 [==============================] - 0s 1ms/step - loss: 0.4185 - accuracy: 0.8182 - val_loss: 0.4375 - val_accuracy: 0.7877\n",
      "Epoch 76/150\n",
      "45/45 [==============================] - 0s 1ms/step - loss: 0.4270 - accuracy: 0.8042 - val_loss: 0.4378 - val_accuracy: 0.7849\n",
      "Epoch 77/150\n",
      "45/45 [==============================] - 0s 1ms/step - loss: 0.4170 - accuracy: 0.8056 - val_loss: 0.4371 - val_accuracy: 0.7905\n",
      "Epoch 78/150\n",
      "45/45 [==============================] - 0s 1ms/step - loss: 0.4082 - accuracy: 0.8189 - val_loss: 0.4397 - val_accuracy: 0.7821\n",
      "Epoch 79/150\n",
      "45/45 [==============================] - 0s 1ms/step - loss: 0.4152 - accuracy: 0.8098 - val_loss: 0.4399 - val_accuracy: 0.7793\n",
      "Epoch 80/150\n",
      "45/45 [==============================] - 0s 1ms/step - loss: 0.4285 - accuracy: 0.7951 - val_loss: 0.4382 - val_accuracy: 0.7877\n",
      "Epoch 81/150\n",
      "45/45 [==============================] - 0s 1ms/step - loss: 0.4166 - accuracy: 0.8014 - val_loss: 0.4385 - val_accuracy: 0.7877\n",
      "Epoch 82/150\n",
      "45/45 [==============================] - 0s 1ms/step - loss: 0.4107 - accuracy: 0.8035 - val_loss: 0.4374 - val_accuracy: 0.7905\n",
      "Epoch 83/150\n",
      "45/45 [==============================] - 0s 1ms/step - loss: 0.4119 - accuracy: 0.8147 - val_loss: 0.4389 - val_accuracy: 0.7905\n",
      "Epoch 84/150\n",
      "45/45 [==============================] - 0s 1ms/step - loss: 0.4192 - accuracy: 0.8063 - val_loss: 0.4403 - val_accuracy: 0.7877\n",
      "Epoch 85/150\n",
      "45/45 [==============================] - 0s 1ms/step - loss: 0.4143 - accuracy: 0.8161 - val_loss: 0.4390 - val_accuracy: 0.7849\n",
      "Epoch 86/150\n",
      "45/45 [==============================] - 0s 1ms/step - loss: 0.4139 - accuracy: 0.8091 - val_loss: 0.4412 - val_accuracy: 0.7905\n",
      "Epoch 87/150\n",
      "45/45 [==============================] - 0s 1ms/step - loss: 0.4177 - accuracy: 0.8154 - val_loss: 0.4425 - val_accuracy: 0.7849\n",
      "Epoch 88/150\n",
      "45/45 [==============================] - 0s 1ms/step - loss: 0.4125 - accuracy: 0.8028 - val_loss: 0.4407 - val_accuracy: 0.7849\n",
      "Epoch 89/150\n",
      "45/45 [==============================] - 0s 1ms/step - loss: 0.4220 - accuracy: 0.8035 - val_loss: 0.4401 - val_accuracy: 0.7877\n",
      "Epoch 90/150\n",
      "45/45 [==============================] - 0s 1ms/step - loss: 0.4032 - accuracy: 0.8203 - val_loss: 0.4393 - val_accuracy: 0.7905\n",
      "Epoch 91/150\n",
      "45/45 [==============================] - 0s 1ms/step - loss: 0.4125 - accuracy: 0.8161 - val_loss: 0.4406 - val_accuracy: 0.7849\n",
      "Epoch 92/150\n",
      "45/45 [==============================] - 0s 1ms/step - loss: 0.4111 - accuracy: 0.8189 - val_loss: 0.4371 - val_accuracy: 0.7933\n",
      "Epoch 93/150\n",
      "45/45 [==============================] - 0s 1ms/step - loss: 0.4075 - accuracy: 0.8217 - val_loss: 0.4373 - val_accuracy: 0.7877\n",
      "Epoch 94/150\n",
      "45/45 [==============================] - 0s 1ms/step - loss: 0.4059 - accuracy: 0.8161 - val_loss: 0.4379 - val_accuracy: 0.7933\n",
      "Epoch 95/150\n",
      "45/45 [==============================] - 0s 1ms/step - loss: 0.4168 - accuracy: 0.8028 - val_loss: 0.4375 - val_accuracy: 0.7877\n",
      "Epoch 96/150\n",
      "45/45 [==============================] - 0s 1ms/step - loss: 0.4023 - accuracy: 0.8238 - val_loss: 0.4352 - val_accuracy: 0.7905\n",
      "Epoch 97/150\n",
      "45/45 [==============================] - 0s 1ms/step - loss: 0.4154 - accuracy: 0.8154 - val_loss: 0.4348 - val_accuracy: 0.7905\n",
      "Epoch 98/150\n",
      "45/45 [==============================] - 0s 1ms/step - loss: 0.4167 - accuracy: 0.8196 - val_loss: 0.4368 - val_accuracy: 0.7961\n",
      "Epoch 99/150\n",
      "45/45 [==============================] - 0s 1ms/step - loss: 0.4122 - accuracy: 0.8203 - val_loss: 0.4391 - val_accuracy: 0.7933\n",
      "Epoch 100/150\n",
      "45/45 [==============================] - 0s 1ms/step - loss: 0.4005 - accuracy: 0.8189 - val_loss: 0.4367 - val_accuracy: 0.7905\n",
      "Epoch 101/150\n",
      "45/45 [==============================] - 0s 1ms/step - loss: 0.4093 - accuracy: 0.8217 - val_loss: 0.4361 - val_accuracy: 0.7933\n",
      "Epoch 102/150\n",
      "45/45 [==============================] - 0s 1ms/step - loss: 0.4060 - accuracy: 0.8161 - val_loss: 0.4366 - val_accuracy: 0.7933\n",
      "Epoch 103/150\n",
      "45/45 [==============================] - 0s 1ms/step - loss: 0.4062 - accuracy: 0.8161 - val_loss: 0.4362 - val_accuracy: 0.7905\n",
      "Epoch 104/150\n",
      "45/45 [==============================] - 0s 1ms/step - loss: 0.4069 - accuracy: 0.8175 - val_loss: 0.4368 - val_accuracy: 0.7961\n",
      "Epoch 105/150\n",
      "45/45 [==============================] - 0s 1ms/step - loss: 0.4087 - accuracy: 0.8077 - val_loss: 0.4349 - val_accuracy: 0.7961\n",
      "Epoch 106/150\n",
      "45/45 [==============================] - 0s 1ms/step - loss: 0.4026 - accuracy: 0.8189 - val_loss: 0.4358 - val_accuracy: 0.7989\n",
      "Epoch 107/150\n",
      "45/45 [==============================] - 0s 1ms/step - loss: 0.4053 - accuracy: 0.8154 - val_loss: 0.4374 - val_accuracy: 0.7989\n",
      "Epoch 108/150\n",
      "45/45 [==============================] - 0s 1ms/step - loss: 0.4021 - accuracy: 0.8238 - val_loss: 0.4381 - val_accuracy: 0.7933\n",
      "Epoch 109/150\n",
      "45/45 [==============================] - 0s 1ms/step - loss: 0.3942 - accuracy: 0.8231 - val_loss: 0.4371 - val_accuracy: 0.7989\n",
      "Epoch 110/150\n",
      "45/45 [==============================] - 0s 1ms/step - loss: 0.3985 - accuracy: 0.8189 - val_loss: 0.4366 - val_accuracy: 0.7933\n",
      "Epoch 111/150\n",
      "45/45 [==============================] - 0s 1ms/step - loss: 0.3996 - accuracy: 0.8203 - val_loss: 0.4367 - val_accuracy: 0.7933\n",
      "Epoch 112/150\n",
      "45/45 [==============================] - 0s 1ms/step - loss: 0.4095 - accuracy: 0.8126 - val_loss: 0.4344 - val_accuracy: 0.8017\n",
      "Epoch 113/150\n",
      "45/45 [==============================] - 0s 1ms/step - loss: 0.3915 - accuracy: 0.8231 - val_loss: 0.4347 - val_accuracy: 0.7933\n",
      "Epoch 114/150\n",
      "45/45 [==============================] - 0s 1ms/step - loss: 0.3927 - accuracy: 0.8238 - val_loss: 0.4343 - val_accuracy: 0.7989\n",
      "Epoch 115/150\n",
      "45/45 [==============================] - 0s 1ms/step - loss: 0.4102 - accuracy: 0.8168 - val_loss: 0.4341 - val_accuracy: 0.7989\n",
      "Epoch 116/150\n"
     ]
    },
    {
     "name": "stdout",
     "output_type": "stream",
     "text": [
      "45/45 [==============================] - 0s 1ms/step - loss: 0.3938 - accuracy: 0.8175 - val_loss: 0.4358 - val_accuracy: 0.8017\n",
      "Epoch 117/150\n",
      "45/45 [==============================] - 0s 1ms/step - loss: 0.3921 - accuracy: 0.8252 - val_loss: 0.4357 - val_accuracy: 0.8045\n",
      "Epoch 118/150\n",
      "45/45 [==============================] - 0s 1ms/step - loss: 0.3849 - accuracy: 0.8294 - val_loss: 0.4367 - val_accuracy: 0.8017\n",
      "Epoch 119/150\n",
      "45/45 [==============================] - 0s 1ms/step - loss: 0.4008 - accuracy: 0.8231 - val_loss: 0.4341 - val_accuracy: 0.7905\n",
      "Epoch 120/150\n",
      "45/45 [==============================] - 0s 1ms/step - loss: 0.3833 - accuracy: 0.8315 - val_loss: 0.4341 - val_accuracy: 0.7933\n",
      "Epoch 121/150\n",
      "45/45 [==============================] - 0s 1ms/step - loss: 0.4060 - accuracy: 0.8210 - val_loss: 0.4351 - val_accuracy: 0.7905\n",
      "Epoch 122/150\n",
      "45/45 [==============================] - 0s 1ms/step - loss: 0.3914 - accuracy: 0.8336 - val_loss: 0.4363 - val_accuracy: 0.7905\n",
      "Epoch 123/150\n",
      "45/45 [==============================] - 0s 1ms/step - loss: 0.3915 - accuracy: 0.8301 - val_loss: 0.4354 - val_accuracy: 0.7961\n",
      "Epoch 124/150\n",
      "45/45 [==============================] - 0s 1ms/step - loss: 0.3975 - accuracy: 0.8161 - val_loss: 0.4347 - val_accuracy: 0.7905\n",
      "Epoch 125/150\n",
      "45/45 [==============================] - 0s 1ms/step - loss: 0.3950 - accuracy: 0.8147 - val_loss: 0.4350 - val_accuracy: 0.7905\n",
      "Epoch 126/150\n",
      "45/45 [==============================] - 0s 1ms/step - loss: 0.3900 - accuracy: 0.8147 - val_loss: 0.4339 - val_accuracy: 0.7933\n",
      "Epoch 127/150\n",
      "45/45 [==============================] - 0s 1ms/step - loss: 0.3960 - accuracy: 0.8252 - val_loss: 0.4346 - val_accuracy: 0.7905\n",
      "Epoch 128/150\n",
      "45/45 [==============================] - 0s 1ms/step - loss: 0.3932 - accuracy: 0.8196 - val_loss: 0.4348 - val_accuracy: 0.7933\n",
      "Epoch 129/150\n",
      "45/45 [==============================] - 0s 1ms/step - loss: 0.3891 - accuracy: 0.8252 - val_loss: 0.4362 - val_accuracy: 0.7961\n",
      "Epoch 130/150\n",
      "45/45 [==============================] - 0s 1ms/step - loss: 0.3929 - accuracy: 0.8273 - val_loss: 0.4386 - val_accuracy: 0.7933\n",
      "Epoch 131/150\n",
      "45/45 [==============================] - 0s 1ms/step - loss: 0.3896 - accuracy: 0.8273 - val_loss: 0.4371 - val_accuracy: 0.7961\n",
      "Epoch 132/150\n",
      "45/45 [==============================] - 0s 1ms/step - loss: 0.3847 - accuracy: 0.8280 - val_loss: 0.4359 - val_accuracy: 0.7933\n",
      "Epoch 133/150\n",
      "45/45 [==============================] - 0s 1ms/step - loss: 0.3777 - accuracy: 0.8315 - val_loss: 0.4356 - val_accuracy: 0.7961\n",
      "Epoch 134/150\n",
      "45/45 [==============================] - 0s 1ms/step - loss: 0.3727 - accuracy: 0.8357 - val_loss: 0.4358 - val_accuracy: 0.7989\n",
      "Epoch 135/150\n",
      "45/45 [==============================] - 0s 1ms/step - loss: 0.3854 - accuracy: 0.8238 - val_loss: 0.4353 - val_accuracy: 0.7933\n",
      "Epoch 136/150\n",
      "45/45 [==============================] - 0s 1ms/step - loss: 0.3869 - accuracy: 0.8329 - val_loss: 0.4371 - val_accuracy: 0.7905\n",
      "Epoch 137/150\n",
      "45/45 [==============================] - 0s 1ms/step - loss: 0.3844 - accuracy: 0.8217 - val_loss: 0.4344 - val_accuracy: 0.7905\n",
      "Epoch 138/150\n",
      "45/45 [==============================] - 0s 1ms/step - loss: 0.3986 - accuracy: 0.8210 - val_loss: 0.4384 - val_accuracy: 0.7961\n",
      "Epoch 139/150\n",
      "45/45 [==============================] - 0s 1ms/step - loss: 0.3816 - accuracy: 0.8273 - val_loss: 0.4377 - val_accuracy: 0.7961\n",
      "Epoch 140/150\n",
      "45/45 [==============================] - 0s 1ms/step - loss: 0.3744 - accuracy: 0.8371 - val_loss: 0.4387 - val_accuracy: 0.8017\n",
      "Epoch 141/150\n",
      "45/45 [==============================] - 0s 1ms/step - loss: 0.3833 - accuracy: 0.8245 - val_loss: 0.4385 - val_accuracy: 0.7989\n",
      "Epoch 142/150\n",
      "45/45 [==============================] - 0s 1ms/step - loss: 0.3968 - accuracy: 0.8203 - val_loss: 0.4396 - val_accuracy: 0.7989\n",
      "Epoch 143/150\n",
      "45/45 [==============================] - 0s 1ms/step - loss: 0.3930 - accuracy: 0.8231 - val_loss: 0.4391 - val_accuracy: 0.7933\n",
      "Epoch 144/150\n",
      "45/45 [==============================] - 0s 1ms/step - loss: 0.3760 - accuracy: 0.8280 - val_loss: 0.4402 - val_accuracy: 0.7933\n",
      "Epoch 145/150\n",
      "45/45 [==============================] - 0s 1ms/step - loss: 0.3794 - accuracy: 0.8350 - val_loss: 0.4394 - val_accuracy: 0.7961\n",
      "Epoch 146/150\n",
      "45/45 [==============================] - 0s 1ms/step - loss: 0.3801 - accuracy: 0.8343 - val_loss: 0.4439 - val_accuracy: 0.7933\n",
      "Epoch 147/150\n",
      "45/45 [==============================] - 0s 1ms/step - loss: 0.3879 - accuracy: 0.8301 - val_loss: 0.4389 - val_accuracy: 0.7877\n",
      "Epoch 148/150\n",
      "45/45 [==============================] - 0s 1ms/step - loss: 0.3835 - accuracy: 0.8294 - val_loss: 0.4413 - val_accuracy: 0.7933\n",
      "Epoch 149/150\n",
      "45/45 [==============================] - 0s 1ms/step - loss: 0.3792 - accuracy: 0.8364 - val_loss: 0.4410 - val_accuracy: 0.7849\n",
      "Epoch 150/150\n",
      "45/45 [==============================] - 0s 1ms/step - loss: 0.3765 - accuracy: 0.8350 - val_loss: 0.4404 - val_accuracy: 0.7877\n",
      "45/45 [==============================] - 0s 521us/step - loss: 0.3417 - accuracy: 0.8594\n",
      "Train score: [0.34166187047958374, 0.8594405651092529]\n",
      "12/12 [==============================] - 0s 709us/step - loss: 0.4404 - accuracy: 0.7877\n",
      "Test score: [0.4404246509075165, 0.7877094745635986]\n"
     ]
    }
   ],
   "source": [
    "# 訓練模型\n",
    "r3 = model3.fit(X1_train, y2_train, validation_data=(X1_test, y2_test), epochs=150)\n",
    "\n",
    "# 評估模型 - evaluate() returns loss and accuracy\n",
    "print(\"Train score:\", model3.evaluate(X1_train, y2_train))\n",
    "print(\"Test score:\", model3.evaluate(X1_test, y2_test))"
   ]
  },
  {
   "cell_type": "code",
   "execution_count": 65,
   "id": "0c979e96",
   "metadata": {},
   "outputs": [
    {
     "data": {
      "text/plain": [
       "<matplotlib.legend.Legend at 0x27177e7a700>"
      ]
     },
     "execution_count": 65,
     "metadata": {},
     "output_type": "execute_result"
    },
    {
     "data": {
      "image/png": "[encoded data removed]",
      "text/plain": [
       "<Figure size 432x288 with 1 Axes>"
      ]
     },
     "metadata": {
      "needs_background": "light"
     },
     "output_type": "display_data"
    }
   ],
   "source": [
    "# 劃出 model.fit() training 和 validating 的 loss\n",
    "import matplotlib.pyplot as plt\n",
    "plt.plot(r3.history['loss'], label='loss')\n",
    "plt.plot(r3.history['val_loss'], label='val_loss')\n",
    "plt.legend()"
   ]
  },
  {
   "cell_type": "code",
   "execution_count": 66,
   "id": "cf5e3082",
   "metadata": {
    "scrolled": false
   },
   "outputs": [
    {
     "data": {
      "text/plain": [
       "<matplotlib.legend.Legend at 0x27179138e50>"
      ]
     },
     "execution_count": 66,
     "metadata": {},
     "output_type": "execute_result"
    },
    {
     "data": {
      "image/png": "[encoded data removed]",
      "text/plain": [
       "<Figure size 432x288 with 1 Axes>"
      ]
     },
     "metadata": {
      "needs_background": "light"
     },
     "output_type": "display_data"
    }
   ],
   "source": [
    "# 劃出準確性 accuracy \n",
    "plt.plot(r3.history['accuracy'], label='acc')\n",
    "plt.plot(r3.history['val_accuracy'], label='val_acc')\n",
    "plt.legend()"
   ]
  },
  {
   "cell_type": "code",
   "execution_count": 67,
   "id": "621d83f0",
   "metadata": {},
   "outputs": [
    {
     "data": {
      "text/plain": [
       "array([[128,  45],\n",
       "       [ 31, 154]], dtype=int64)"
      ]
     },
     "execution_count": 67,
     "metadata": {},
     "output_type": "execute_result"
    }
   ],
   "source": [
    "pred_test = model3.predict(X1_test)\n",
    "pred_test = np.round(pred_test).flatten()\n",
    "cm = confusion_matrix(y2_test, pred_test)\n",
    "cm"
   ]
  },
  {
   "cell_type": "code",
   "execution_count": 58,
   "id": "979a284b",
   "metadata": {},
   "outputs": [],
   "source": [
    "model3.save('./ROE_model.h5')"
   ]
  },
  {
   "cell_type": "markdown",
   "id": "72c5625e",
   "metadata": {},
   "source": [
    "<h1> 6-2 用羅吉斯回歸實作 預測 ROE"
   ]
  },
  {
   "cell_type": "code",
   "execution_count": 133,
   "id": "e8e6d218",
   "metadata": {},
   "outputs": [
    {
     "name": "stdout",
     "output_type": "stream",
     "text": [
      "[0 0 0 1 1 0 1 0 1 0 1 1 1 0 0 1 1 0 0 0 0 1 1 1 1 1 1 1 1 0 0 0 1 0 1 1 1\n",
      " 1 1 1 1 0 1 1 1 1 1 1 1 1 1 0 0 1 1 0 0 1 0 1 1 1 0 1 1 0 0 0 1 0 1 0 0 0\n",
      " 1 0 1 1 1 1 1 1 1 0 0 1 1 1 0 0 1 0 0 1 1 0 1 1 1 1 1 0 1 1 0 1 1 1 0 0 1\n",
      " 0 1 1 1 1 0 0 0 0 1 1 0 1 1 1 0 1 0 1 0 0 0 1 1 0 1 0 1 1 1 1 1 1 1 0 1 0\n",
      " 1 1 0 1 1 1 0 1 0 1 1 0 0 0 0 0 1 0 1 0 0 1 1 0 0 1 1 0 1 1 1 1 0 1 0 1 1\n",
      " 0 0 1 1 1 1 1 1 1 0 1 1 0 0 1 0 0 1 1 1 1 0 1 1 0 0 0 1 0 0 0 0 1 0 0 1 1\n",
      " 0 0 1 0 1 1 1 0 1 1 1 0 0 0 1 0 0 1 0 0 1 0 0 1 1 0 0 0 1 1 0 1 1 1 1 0 0\n",
      " 0 0 1 1 1 1 0 1 0 0 1 1 1 0 0 0 0 1 0 1 1 1 0 1 0 1 1 1 1 0 1 0 1 1 1 1 1\n",
      " 0 1 1 1 1 0 1 0 1 1 0 1 1 1 0 1 1 1 0 1 1 1 0 0 0 0 0 0 1 0 1 0 1 1 1 1 1\n",
      " 1 1 1 1 1 0 0 0 1 0 1 0 0 0 0 0 1 1 1 1 0 0 0 0 1]\n",
      "==============================\n",
      "0.7622377622377622\n"
     ]
    }
   ],
   "source": [
    "from sklearn.linear_model import LogisticRegression\n",
    "log3 = LogisticRegression()\n",
    "log3.fit(X1_train, y2_train)\n",
    "\n",
    "pred3 = log3.predict(X1_test)\n",
    "print(pred3)\n",
    "print(\"==============================\")\n",
    "print(log3.score(X1_train, y2_train))\n",
    "# print(y_test)"
   ]
  },
  {
   "cell_type": "code",
   "execution_count": 134,
   "id": "d11cb7a4",
   "metadata": {},
   "outputs": [
    {
     "data": {
      "text/plain": [
       "0.7625698324022346"
      ]
     },
     "execution_count": 134,
     "metadata": {},
     "output_type": "execute_result"
    }
   ],
   "source": [
    "accuracy3 = accuracy_score(y2_test, pred3)\n",
    "accuracy3"
   ]
  },
  {
   "cell_type": "markdown",
   "id": "dae2738a",
   "metadata": {},
   "source": [
    "<h1> 6-3 以 SVM 實作 預測 ROE"
   ]
  },
  {
   "cell_type": "code",
   "execution_count": null,
   "id": "d4a14483",
   "metadata": {},
   "outputs": [],
   "source": [
    "from sklearn.svm import SVC\n",
    "clf3 = SVC(C = 1e5, kernel = 'linear')\n",
    "clf3.fit(X1_train, y2_train) \n",
    "pred_clf3 = clf3.predict(X1_test)\n",
    "print(pred_clf3)\n",
    "print(\"==============================\")\n",
    "print(clf3.score(X1_train, y2_train))"
   ]
  },
  {
   "cell_type": "code",
   "execution_count": null,
   "id": "4263871a",
   "metadata": {},
   "outputs": [],
   "source": [
    "accuracy_SVM = accuracy_score(y2_test, pred_clf3)\n",
    "accuracy_SVM"
   ]
  },
  {
   "cell_type": "markdown",
   "id": "d98d2cba",
   "metadata": {},
   "source": [
    "<h1>6.4 以 RandomForestClassifier 實作 ROE 預測"
   ]
  },
  {
   "cell_type": "code",
   "execution_count": 135,
   "id": "44e037a6",
   "metadata": {},
   "outputs": [
    {
     "name": "stdout",
     "output_type": "stream",
     "text": [
      "1.0\n"
     ]
    }
   ],
   "source": [
    "#Import Random Forest Model\n",
    "from sklearn.ensemble import RandomForestClassifier\n",
    "\n",
    "#Create a Gaussian Classifier\n",
    "forest3=RandomForestClassifier(n_estimators=100)\n",
    "\n",
    "#Train the model using the training sets y_pred=clf.predict(X_test)\n",
    "forest3.fit(X1_train, y2_train)\n",
    "print(forest3.score(X1_train, y2_train))"
   ]
  },
  {
   "cell_type": "code",
   "execution_count": 136,
   "id": "2fdfb50e",
   "metadata": {},
   "outputs": [
    {
     "name": "stdout",
     "output_type": "stream",
     "text": [
      "Accuracy: 0.8016759776536313\n"
     ]
    }
   ],
   "source": [
    "from sklearn.metrics import accuracy_score\n",
    "forest_pred3 = forest3.predict(X1_test)\n",
    "print(\"Accuracy:\",accuracy_score(y2_test, forest_pred3))"
   ]
  },
  {
   "cell_type": "markdown",
   "id": "324886cb",
   "metadata": {},
   "source": [
    "<h1> 6.5 以 naive_bayes 實作 ROE 預測"
   ]
  },
  {
   "cell_type": "code",
   "execution_count": 137,
   "id": "5650c1fb",
   "metadata": {},
   "outputs": [
    {
     "name": "stdout",
     "output_type": "stream",
     "text": [
      "0.6986013986013986\n"
     ]
    }
   ],
   "source": [
    "from sklearn.naive_bayes import GaussianNB\n",
    "nb3 = GaussianNB()\n",
    "nb3.fit(X1_train, y2_train)\n",
    "print(nb3.score(X1_train, y2_train))"
   ]
  },
  {
   "cell_type": "code",
   "execution_count": 138,
   "id": "5a59a774",
   "metadata": {},
   "outputs": [
    {
     "name": "stdout",
     "output_type": "stream",
     "text": [
      "Accuracy: 0.6815642458100558\n"
     ]
    }
   ],
   "source": [
    "nb3_pred = nb3.predict(X1_test)\n",
    "print(\"Accuracy:\",accuracy_score(y2_test, nb3_pred))"
   ]
  },
  {
   "cell_type": "markdown",
   "id": "39cd2e85",
   "metadata": {},
   "source": [
    "<h1> 6.6 以 KNN 實作 ROE 預測"
   ]
  },
  {
   "cell_type": "code",
   "execution_count": 139,
   "id": "fd9b2e55",
   "metadata": {},
   "outputs": [
    {
     "name": "stdout",
     "output_type": "stream",
     "text": [
      "0.7909090909090909\n"
     ]
    }
   ],
   "source": [
    "from sklearn.neighbors import KNeighborsClassifier\n",
    "knn3 = KNeighborsClassifier()\n",
    "knn3.fit(X1_train, y2_train)\n",
    "print(knn3.score(X1_train, y2_train))"
   ]
  },
  {
   "cell_type": "code",
   "execution_count": 140,
   "id": "6c08c182",
   "metadata": {},
   "outputs": [
    {
     "name": "stdout",
     "output_type": "stream",
     "text": [
      "Accuracy: 0.7206703910614525\n"
     ]
    }
   ],
   "source": [
    "knn3_pred = knn3.predict(X1_test)\n",
    "print(\"Accuracy:\",accuracy_score(y2_test, knn3_pred))"
   ]
  },
  {
   "cell_type": "code",
   "execution_count": null,
   "id": "7de5159d",
   "metadata": {},
   "outputs": [],
   "source": []
  }
 ],
 "metadata": {
  "kernelspec": {
   "display_name": "Python 3",
   "language": "python",
   "name": "python3"
  },
  "language_info": {
   "codemirror_mode": {
    "name": "ipython",
    "version": 3
   },
   "file_extension": ".py",
   "mimetype": "text/x-python",
   "name": "python",
   "nbconvert_exporter": "python",
   "pygments_lexer": "ipython3",
   "version": "3.8.8"
  },
  "toc": {
   "base_numbering": 1,
   "nav_menu": {},
   "number_sections": true,
   "sideBar": true,
   "skip_h1_title": false,
   "title_cell": "Table of Contents",
   "title_sidebar": "Contents",
   "toc_cell": false,
   "toc_position": {},
   "toc_section_display": true,
   "toc_window_display": false
  }
 },
 "nbformat": 4,
 "nbformat_minor": 5
}
