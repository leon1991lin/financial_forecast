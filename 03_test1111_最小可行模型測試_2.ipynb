{
 "cells": [
  {
   "cell_type": "code",
   "execution_count": 1,
   "id": "c0c79ecc",
   "metadata": {},
   "outputs": [],
   "source": [
    "import matplotlib.pyplot as plt\n",
    "import pandas as pd\n",
    "from sqlalchemy import create_engine\n",
    "import seaborn as sns\n",
    "import sklearn\n",
    "\n",
    "#建立與 MySQL 的連結\n",
    "class mysql_engine():\n",
    " def __init__(self,db):\n",
    "  self.user='root'\n",
    "  self.passwd=''\n",
    "  self.host='localhost'\n",
    "  self.port = '3306'\n",
    "  self.db_name= db\n",
    "  self.engine = create_engine('mysql+pymysql://{0}:{1}@{2}:{3}/{4}?charset=utf8'.format(self.user,self.passwd,self.host,self.port,self.db_name))\n",
    "\n",
    "def get_data(sql,db):\n",
    " pg_enine = mysql_engine(db)\n",
    " try:\n",
    "  with pg_enine.engine.connect() as con, con.begin():\n",
    "   df = pd.read_sql(sql,con) # 獲取資料\n",
    "  con.close()\n",
    " except:\n",
    "  df = None\n",
    " return df"
   ]
  },
  {
   "cell_type": "code",
   "execution_count": 2,
   "id": "96065a10",
   "metadata": {},
   "outputs": [
    {
     "data": {
      "text/html": [
       "<div>\n",
       "<style scoped>\n",
       "    .dataframe tbody tr th:only-of-type {\n",
       "        vertical-align: middle;\n",
       "    }\n",
       "\n",
       "    .dataframe tbody tr th {\n",
       "        vertical-align: top;\n",
       "    }\n",
       "\n",
       "    .dataframe thead th {\n",
       "        text-align: right;\n",
       "    }\n",
       "</style>\n",
       "<table border=\"1\" class=\"dataframe\">\n",
       "  <thead>\n",
       "    <tr style=\"text-align: right;\">\n",
       "      <th></th>\n",
       "      <th>stock_code</th>\n",
       "      <th>stock_report_date</th>\n",
       "      <th>operating_gross_rate</th>\n",
       "      <th>net_profit_rate</th>\n",
       "      <th>revenue_growth_rate</th>\n",
       "      <th>current_rate</th>\n",
       "      <th>quick_rate</th>\n",
       "      <th>debt_rate</th>\n",
       "      <th>receivables_turnover_rate</th>\n",
       "      <th>cash_reinvest_rate</th>\n",
       "      <th>...</th>\n",
       "      <th>export_usd_value_37071000</th>\n",
       "      <th>export_usd_value_37079090</th>\n",
       "      <th>export_usd_value_37050000306</th>\n",
       "      <th>export_usd_value_848620</th>\n",
       "      <th>export_usd_value_848610</th>\n",
       "      <th>export_usd_value_381800</th>\n",
       "      <th>new_cases_smoothed_USA</th>\n",
       "      <th>new_cases_smoothed_OWID_EUR</th>\n",
       "      <th>new_cases_smoothed_TWN</th>\n",
       "      <th>people_fully_vaccinated_per_hundred_USA</th>\n",
       "    </tr>\n",
       "  </thead>\n",
       "  <tbody>\n",
       "    <tr>\n",
       "      <th>0</th>\n",
       "      <td>2302</td>\n",
       "      <td>20183</td>\n",
       "      <td>38.03</td>\n",
       "      <td>13.35</td>\n",
       "      <td>17.77</td>\n",
       "      <td>154.53</td>\n",
       "      <td>103.70</td>\n",
       "      <td>18.22</td>\n",
       "      <td>3.31</td>\n",
       "      <td>1.74</td>\n",
       "      <td>...</td>\n",
       "      <td>433</td>\n",
       "      <td>15698</td>\n",
       "      <td>18323</td>\n",
       "      <td>61504</td>\n",
       "      <td>3021</td>\n",
       "      <td>107270</td>\n",
       "      <td>0.00</td>\n",
       "      <td>0.00</td>\n",
       "      <td>0.00</td>\n",
       "      <td>0.00</td>\n",
       "    </tr>\n",
       "    <tr>\n",
       "      <th>1</th>\n",
       "      <td>2302</td>\n",
       "      <td>20184</td>\n",
       "      <td>40.93</td>\n",
       "      <td>5.22</td>\n",
       "      <td>-0.91</td>\n",
       "      <td>166.92</td>\n",
       "      <td>110.41</td>\n",
       "      <td>16.86</td>\n",
       "      <td>4.35</td>\n",
       "      <td>1.34</td>\n",
       "      <td>...</td>\n",
       "      <td>395</td>\n",
       "      <td>17864</td>\n",
       "      <td>27973</td>\n",
       "      <td>93168</td>\n",
       "      <td>2669</td>\n",
       "      <td>112119</td>\n",
       "      <td>0.00</td>\n",
       "      <td>0.00</td>\n",
       "      <td>0.00</td>\n",
       "      <td>0.00</td>\n",
       "    </tr>\n",
       "    <tr>\n",
       "      <th>2</th>\n",
       "      <td>2302</td>\n",
       "      <td>20191</td>\n",
       "      <td>37.03</td>\n",
       "      <td>-3.00</td>\n",
       "      <td>-6.33</td>\n",
       "      <td>171.94</td>\n",
       "      <td>109.89</td>\n",
       "      <td>16.38</td>\n",
       "      <td>0.99</td>\n",
       "      <td>1.51</td>\n",
       "      <td>...</td>\n",
       "      <td>309</td>\n",
       "      <td>16779</td>\n",
       "      <td>17192</td>\n",
       "      <td>72410</td>\n",
       "      <td>4024</td>\n",
       "      <td>96978</td>\n",
       "      <td>0.00</td>\n",
       "      <td>0.00</td>\n",
       "      <td>0.00</td>\n",
       "      <td>0.00</td>\n",
       "    </tr>\n",
       "    <tr>\n",
       "      <th>3</th>\n",
       "      <td>2302</td>\n",
       "      <td>20192</td>\n",
       "      <td>32.10</td>\n",
       "      <td>10.26</td>\n",
       "      <td>-2.46</td>\n",
       "      <td>174.72</td>\n",
       "      <td>114.79</td>\n",
       "      <td>16.63</td>\n",
       "      <td>2.00</td>\n",
       "      <td>2.17</td>\n",
       "      <td>...</td>\n",
       "      <td>326</td>\n",
       "      <td>19927</td>\n",
       "      <td>19788</td>\n",
       "      <td>77517</td>\n",
       "      <td>3432</td>\n",
       "      <td>98799</td>\n",
       "      <td>0.00</td>\n",
       "      <td>0.00</td>\n",
       "      <td>0.00</td>\n",
       "      <td>0.00</td>\n",
       "    </tr>\n",
       "    <tr>\n",
       "      <th>4</th>\n",
       "      <td>2302</td>\n",
       "      <td>20193</td>\n",
       "      <td>28.78</td>\n",
       "      <td>2.29</td>\n",
       "      <td>-6.54</td>\n",
       "      <td>170.04</td>\n",
       "      <td>116.92</td>\n",
       "      <td>17.45</td>\n",
       "      <td>3.10</td>\n",
       "      <td>4.32</td>\n",
       "      <td>...</td>\n",
       "      <td>339</td>\n",
       "      <td>20499</td>\n",
       "      <td>19911</td>\n",
       "      <td>118643</td>\n",
       "      <td>3547</td>\n",
       "      <td>90681</td>\n",
       "      <td>0.00</td>\n",
       "      <td>0.00</td>\n",
       "      <td>0.00</td>\n",
       "      <td>0.00</td>\n",
       "    </tr>\n",
       "    <tr>\n",
       "      <th>...</th>\n",
       "      <td>...</td>\n",
       "      <td>...</td>\n",
       "      <td>...</td>\n",
       "      <td>...</td>\n",
       "      <td>...</td>\n",
       "      <td>...</td>\n",
       "      <td>...</td>\n",
       "      <td>...</td>\n",
       "      <td>...</td>\n",
       "      <td>...</td>\n",
       "      <td>...</td>\n",
       "      <td>...</td>\n",
       "      <td>...</td>\n",
       "      <td>...</td>\n",
       "      <td>...</td>\n",
       "      <td>...</td>\n",
       "      <td>...</td>\n",
       "      <td>...</td>\n",
       "      <td>...</td>\n",
       "      <td>...</td>\n",
       "      <td>...</td>\n",
       "    </tr>\n",
       "    <tr>\n",
       "      <th>1783</th>\n",
       "      <td>8299</td>\n",
       "      <td>20202</td>\n",
       "      <td>24.76</td>\n",
       "      <td>10.91</td>\n",
       "      <td>10.95</td>\n",
       "      <td>299.48</td>\n",
       "      <td>181.73</td>\n",
       "      <td>27.74</td>\n",
       "      <td>4.28</td>\n",
       "      <td>6.49</td>\n",
       "      <td>...</td>\n",
       "      <td>474</td>\n",
       "      <td>20831</td>\n",
       "      <td>23548</td>\n",
       "      <td>83758</td>\n",
       "      <td>1824</td>\n",
       "      <td>93532</td>\n",
       "      <td>26218.70</td>\n",
       "      <td>22066.62</td>\n",
       "      <td>4.34</td>\n",
       "      <td>0.00</td>\n",
       "    </tr>\n",
       "    <tr>\n",
       "      <th>1784</th>\n",
       "      <td>8299</td>\n",
       "      <td>20203</td>\n",
       "      <td>22.61</td>\n",
       "      <td>15.41</td>\n",
       "      <td>-3.71</td>\n",
       "      <td>363.99</td>\n",
       "      <td>240.63</td>\n",
       "      <td>23.66</td>\n",
       "      <td>6.20</td>\n",
       "      <td>5.25</td>\n",
       "      <td>...</td>\n",
       "      <td>362</td>\n",
       "      <td>21623</td>\n",
       "      <td>21166</td>\n",
       "      <td>88039</td>\n",
       "      <td>509</td>\n",
       "      <td>96949</td>\n",
       "      <td>50018.10</td>\n",
       "      <td>27565.47</td>\n",
       "      <td>4.07</td>\n",
       "      <td>0.00</td>\n",
       "    </tr>\n",
       "    <tr>\n",
       "      <th>1785</th>\n",
       "      <td>8299</td>\n",
       "      <td>20204</td>\n",
       "      <td>23.05</td>\n",
       "      <td>29.47</td>\n",
       "      <td>-2.52</td>\n",
       "      <td>317.33</td>\n",
       "      <td>230.20</td>\n",
       "      <td>26.09</td>\n",
       "      <td>8.12</td>\n",
       "      <td>11.28</td>\n",
       "      <td>...</td>\n",
       "      <td>338</td>\n",
       "      <td>22734</td>\n",
       "      <td>26507</td>\n",
       "      <td>125111</td>\n",
       "      <td>2209</td>\n",
       "      <td>104276</td>\n",
       "      <td>134753.31</td>\n",
       "      <td>197678.98</td>\n",
       "      <td>7.04</td>\n",
       "      <td>0.29</td>\n",
       "    </tr>\n",
       "    <tr>\n",
       "      <th>1786</th>\n",
       "      <td>8299</td>\n",
       "      <td>20211</td>\n",
       "      <td>29.71</td>\n",
       "      <td>13.09</td>\n",
       "      <td>0.17</td>\n",
       "      <td>281.91</td>\n",
       "      <td>191.93</td>\n",
       "      <td>29.32</td>\n",
       "      <td>1.95</td>\n",
       "      <td>-3.70</td>\n",
       "      <td>...</td>\n",
       "      <td>295</td>\n",
       "      <td>21578</td>\n",
       "      <td>21595</td>\n",
       "      <td>173860</td>\n",
       "      <td>3284</td>\n",
       "      <td>108639</td>\n",
       "      <td>120178.33</td>\n",
       "      <td>179397.16</td>\n",
       "      <td>6.49</td>\n",
       "      <td>15.95</td>\n",
       "    </tr>\n",
       "    <tr>\n",
       "      <th>1787</th>\n",
       "      <td>8299</td>\n",
       "      <td>20212</td>\n",
       "      <td>32.60</td>\n",
       "      <td>14.23</td>\n",
       "      <td>46.57</td>\n",
       "      <td>211.42</td>\n",
       "      <td>137.79</td>\n",
       "      <td>38.88</td>\n",
       "      <td>4.07</td>\n",
       "      <td>-2.31</td>\n",
       "      <td>...</td>\n",
       "      <td>429</td>\n",
       "      <td>21381</td>\n",
       "      <td>26217</td>\n",
       "      <td>146656</td>\n",
       "      <td>2919</td>\n",
       "      <td>115335</td>\n",
       "      <td>36919.59</td>\n",
       "      <td>101066.76</td>\n",
       "      <td>153.18</td>\n",
       "      <td>49.46</td>\n",
       "    </tr>\n",
       "  </tbody>\n",
       "</table>\n",
       "<p>1788 rows × 63 columns</p>\n",
       "</div>"
      ],
      "text/plain": [
       "     stock_code stock_report_date  operating_gross_rate  net_profit_rate  \\\n",
       "0          2302             20183                 38.03            13.35   \n",
       "1          2302             20184                 40.93             5.22   \n",
       "2          2302             20191                 37.03            -3.00   \n",
       "3          2302             20192                 32.10            10.26   \n",
       "4          2302             20193                 28.78             2.29   \n",
       "...         ...               ...                   ...              ...   \n",
       "1783       8299             20202                 24.76            10.91   \n",
       "1784       8299             20203                 22.61            15.41   \n",
       "1785       8299             20204                 23.05            29.47   \n",
       "1786       8299             20211                 29.71            13.09   \n",
       "1787       8299             20212                 32.60            14.23   \n",
       "\n",
       "      revenue_growth_rate  current_rate  quick_rate  debt_rate  \\\n",
       "0                   17.77        154.53      103.70      18.22   \n",
       "1                   -0.91        166.92      110.41      16.86   \n",
       "2                   -6.33        171.94      109.89      16.38   \n",
       "3                   -2.46        174.72      114.79      16.63   \n",
       "4                   -6.54        170.04      116.92      17.45   \n",
       "...                   ...           ...         ...        ...   \n",
       "1783                10.95        299.48      181.73      27.74   \n",
       "1784                -3.71        363.99      240.63      23.66   \n",
       "1785                -2.52        317.33      230.20      26.09   \n",
       "1786                 0.17        281.91      191.93      29.32   \n",
       "1787                46.57        211.42      137.79      38.88   \n",
       "\n",
       "      receivables_turnover_rate  cash_reinvest_rate  ...  \\\n",
       "0                          3.31                1.74  ...   \n",
       "1                          4.35                1.34  ...   \n",
       "2                          0.99                1.51  ...   \n",
       "3                          2.00                2.17  ...   \n",
       "4                          3.10                4.32  ...   \n",
       "...                         ...                 ...  ...   \n",
       "1783                       4.28                6.49  ...   \n",
       "1784                       6.20                5.25  ...   \n",
       "1785                       8.12               11.28  ...   \n",
       "1786                       1.95               -3.70  ...   \n",
       "1787                       4.07               -2.31  ...   \n",
       "\n",
       "      export_usd_value_37071000  export_usd_value_37079090  \\\n",
       "0                           433                      15698   \n",
       "1                           395                      17864   \n",
       "2                           309                      16779   \n",
       "3                           326                      19927   \n",
       "4                           339                      20499   \n",
       "...                         ...                        ...   \n",
       "1783                        474                      20831   \n",
       "1784                        362                      21623   \n",
       "1785                        338                      22734   \n",
       "1786                        295                      21578   \n",
       "1787                        429                      21381   \n",
       "\n",
       "      export_usd_value_37050000306  export_usd_value_848620  \\\n",
       "0                            18323                    61504   \n",
       "1                            27973                    93168   \n",
       "2                            17192                    72410   \n",
       "3                            19788                    77517   \n",
       "4                            19911                   118643   \n",
       "...                            ...                      ...   \n",
       "1783                         23548                    83758   \n",
       "1784                         21166                    88039   \n",
       "1785                         26507                   125111   \n",
       "1786                         21595                   173860   \n",
       "1787                         26217                   146656   \n",
       "\n",
       "      export_usd_value_848610  export_usd_value_381800  \\\n",
       "0                        3021                   107270   \n",
       "1                        2669                   112119   \n",
       "2                        4024                    96978   \n",
       "3                        3432                    98799   \n",
       "4                        3547                    90681   \n",
       "...                       ...                      ...   \n",
       "1783                     1824                    93532   \n",
       "1784                      509                    96949   \n",
       "1785                     2209                   104276   \n",
       "1786                     3284                   108639   \n",
       "1787                     2919                   115335   \n",
       "\n",
       "      new_cases_smoothed_USA  new_cases_smoothed_OWID_EUR  \\\n",
       "0                       0.00                         0.00   \n",
       "1                       0.00                         0.00   \n",
       "2                       0.00                         0.00   \n",
       "3                       0.00                         0.00   \n",
       "4                       0.00                         0.00   \n",
       "...                      ...                          ...   \n",
       "1783                26218.70                     22066.62   \n",
       "1784                50018.10                     27565.47   \n",
       "1785               134753.31                    197678.98   \n",
       "1786               120178.33                    179397.16   \n",
       "1787                36919.59                    101066.76   \n",
       "\n",
       "      new_cases_smoothed_TWN  people_fully_vaccinated_per_hundred_USA  \n",
       "0                       0.00                                     0.00  \n",
       "1                       0.00                                     0.00  \n",
       "2                       0.00                                     0.00  \n",
       "3                       0.00                                     0.00  \n",
       "4                       0.00                                     0.00  \n",
       "...                      ...                                      ...  \n",
       "1783                    4.34                                     0.00  \n",
       "1784                    4.07                                     0.00  \n",
       "1785                    7.04                                     0.29  \n",
       "1786                    6.49                                    15.95  \n",
       "1787                  153.18                                    49.46  \n",
       "\n",
       "[1788 rows x 63 columns]"
      ]
     },
     "execution_count": 2,
     "metadata": {},
     "output_type": "execute_result"
    }
   ],
   "source": [
    "company_factor = get_data(\"\"\"SELECT * FROM tfb103d_project.datamining_alldata_afetl;\"\"\",'tfb103d_project')\n",
    "company_factor"
   ]
  },
  {
   "cell_type": "markdown",
   "id": "68c203bc",
   "metadata": {},
   "source": [
    "# 以財務數據預測 毛利率"
   ]
  },
  {
   "cell_type": "markdown",
   "id": "c04c9285",
   "metadata": {},
   "source": [
    "資料前處理"
   ]
  },
  {
   "cell_type": "code",
   "execution_count": 3,
   "id": "d18df1dc",
   "metadata": {},
   "outputs": [
    {
     "data": {
      "text/html": [
       "<div>\n",
       "<style scoped>\n",
       "    .dataframe tbody tr th:only-of-type {\n",
       "        vertical-align: middle;\n",
       "    }\n",
       "\n",
       "    .dataframe tbody tr th {\n",
       "        vertical-align: top;\n",
       "    }\n",
       "\n",
       "    .dataframe thead th {\n",
       "        text-align: right;\n",
       "    }\n",
       "</style>\n",
       "<table border=\"1\" class=\"dataframe\">\n",
       "  <thead>\n",
       "    <tr style=\"text-align: right;\">\n",
       "      <th></th>\n",
       "      <th>stock_code</th>\n",
       "      <th>stock_report_date</th>\n",
       "      <th>net_profit_rate</th>\n",
       "      <th>operating_gross_rate</th>\n",
       "      <th>current_rate</th>\n",
       "      <th>quick_rate</th>\n",
       "      <th>debt_rate</th>\n",
       "      <th>receivables_turnover_rate</th>\n",
       "      <th>cash_reinvest_rate</th>\n",
       "      <th>roe_rate</th>\n",
       "      <th>roa_rate</th>\n",
       "      <th>avg_director_rate</th>\n",
       "      <th>avg_director_pledge_rate</th>\n",
       "      <th>foreign_rate_bys</th>\n",
       "      <th>over1000_rate_bys</th>\n",
       "      <th>under400_rate_bys</th>\n",
       "      <th>avg_board_bys</th>\n",
       "    </tr>\n",
       "  </thead>\n",
       "  <tbody>\n",
       "    <tr>\n",
       "      <th>0</th>\n",
       "      <td>2302</td>\n",
       "      <td>20183</td>\n",
       "      <td>13.35</td>\n",
       "      <td>38.03</td>\n",
       "      <td>154.53</td>\n",
       "      <td>103.70</td>\n",
       "      <td>18.22</td>\n",
       "      <td>3.31</td>\n",
       "      <td>1.74</td>\n",
       "      <td>1.07</td>\n",
       "      <td>0.91</td>\n",
       "      <td>26.60</td>\n",
       "      <td>0.00</td>\n",
       "      <td>4.40</td>\n",
       "      <td>62.23</td>\n",
       "      <td>33.99</td>\n",
       "      <td>8.73</td>\n",
       "    </tr>\n",
       "    <tr>\n",
       "      <th>1</th>\n",
       "      <td>2302</td>\n",
       "      <td>20184</td>\n",
       "      <td>5.22</td>\n",
       "      <td>40.93</td>\n",
       "      <td>166.92</td>\n",
       "      <td>110.41</td>\n",
       "      <td>16.86</td>\n",
       "      <td>4.35</td>\n",
       "      <td>1.34</td>\n",
       "      <td>0.42</td>\n",
       "      <td>0.37</td>\n",
       "      <td>26.60</td>\n",
       "      <td>0.00</td>\n",
       "      <td>4.40</td>\n",
       "      <td>62.35</td>\n",
       "      <td>34.08</td>\n",
       "      <td>8.86</td>\n",
       "    </tr>\n",
       "    <tr>\n",
       "      <th>2</th>\n",
       "      <td>2302</td>\n",
       "      <td>20191</td>\n",
       "      <td>-3.00</td>\n",
       "      <td>37.03</td>\n",
       "      <td>171.94</td>\n",
       "      <td>109.89</td>\n",
       "      <td>16.38</td>\n",
       "      <td>0.99</td>\n",
       "      <td>1.51</td>\n",
       "      <td>-0.20</td>\n",
       "      <td>-0.14</td>\n",
       "      <td>26.60</td>\n",
       "      <td>0.00</td>\n",
       "      <td>4.37</td>\n",
       "      <td>62.53</td>\n",
       "      <td>33.68</td>\n",
       "      <td>8.90</td>\n",
       "    </tr>\n",
       "    <tr>\n",
       "      <th>3</th>\n",
       "      <td>2302</td>\n",
       "      <td>20192</td>\n",
       "      <td>10.26</td>\n",
       "      <td>32.10</td>\n",
       "      <td>174.72</td>\n",
       "      <td>114.79</td>\n",
       "      <td>16.63</td>\n",
       "      <td>2.00</td>\n",
       "      <td>2.17</td>\n",
       "      <td>0.85</td>\n",
       "      <td>0.74</td>\n",
       "      <td>26.60</td>\n",
       "      <td>0.00</td>\n",
       "      <td>4.30</td>\n",
       "      <td>62.34</td>\n",
       "      <td>33.51</td>\n",
       "      <td>9.01</td>\n",
       "    </tr>\n",
       "    <tr>\n",
       "      <th>4</th>\n",
       "      <td>2302</td>\n",
       "      <td>20193</td>\n",
       "      <td>2.29</td>\n",
       "      <td>28.78</td>\n",
       "      <td>170.04</td>\n",
       "      <td>116.92</td>\n",
       "      <td>17.45</td>\n",
       "      <td>3.10</td>\n",
       "      <td>4.32</td>\n",
       "      <td>0.17</td>\n",
       "      <td>0.17</td>\n",
       "      <td>26.60</td>\n",
       "      <td>0.00</td>\n",
       "      <td>4.30</td>\n",
       "      <td>62.33</td>\n",
       "      <td>33.44</td>\n",
       "      <td>9.11</td>\n",
       "    </tr>\n",
       "    <tr>\n",
       "      <th>...</th>\n",
       "      <td>...</td>\n",
       "      <td>...</td>\n",
       "      <td>...</td>\n",
       "      <td>...</td>\n",
       "      <td>...</td>\n",
       "      <td>...</td>\n",
       "      <td>...</td>\n",
       "      <td>...</td>\n",
       "      <td>...</td>\n",
       "      <td>...</td>\n",
       "      <td>...</td>\n",
       "      <td>...</td>\n",
       "      <td>...</td>\n",
       "      <td>...</td>\n",
       "      <td>...</td>\n",
       "      <td>...</td>\n",
       "      <td>...</td>\n",
       "    </tr>\n",
       "    <tr>\n",
       "      <th>1783</th>\n",
       "      <td>8299</td>\n",
       "      <td>20202</td>\n",
       "      <td>10.91</td>\n",
       "      <td>24.76</td>\n",
       "      <td>299.48</td>\n",
       "      <td>181.73</td>\n",
       "      <td>27.74</td>\n",
       "      <td>4.28</td>\n",
       "      <td>6.49</td>\n",
       "      <td>4.01</td>\n",
       "      <td>2.97</td>\n",
       "      <td>17.70</td>\n",
       "      <td>12.73</td>\n",
       "      <td>51.13</td>\n",
       "      <td>41.64</td>\n",
       "      <td>44.76</td>\n",
       "      <td>7.51</td>\n",
       "    </tr>\n",
       "    <tr>\n",
       "      <th>1784</th>\n",
       "      <td>8299</td>\n",
       "      <td>20203</td>\n",
       "      <td>15.41</td>\n",
       "      <td>22.61</td>\n",
       "      <td>363.99</td>\n",
       "      <td>240.63</td>\n",
       "      <td>23.66</td>\n",
       "      <td>6.20</td>\n",
       "      <td>5.25</td>\n",
       "      <td>6.07</td>\n",
       "      <td>4.61</td>\n",
       "      <td>18.23</td>\n",
       "      <td>17.90</td>\n",
       "      <td>45.53</td>\n",
       "      <td>37.24</td>\n",
       "      <td>51.68</td>\n",
       "      <td>6.58</td>\n",
       "    </tr>\n",
       "    <tr>\n",
       "      <th>1785</th>\n",
       "      <td>8299</td>\n",
       "      <td>20204</td>\n",
       "      <td>29.47</td>\n",
       "      <td>23.05</td>\n",
       "      <td>317.33</td>\n",
       "      <td>230.20</td>\n",
       "      <td>26.09</td>\n",
       "      <td>8.12</td>\n",
       "      <td>11.28</td>\n",
       "      <td>11.76</td>\n",
       "      <td>8.79</td>\n",
       "      <td>18.40</td>\n",
       "      <td>17.80</td>\n",
       "      <td>47.07</td>\n",
       "      <td>36.67</td>\n",
       "      <td>51.03</td>\n",
       "      <td>6.80</td>\n",
       "    </tr>\n",
       "    <tr>\n",
       "      <th>1786</th>\n",
       "      <td>8299</td>\n",
       "      <td>20211</td>\n",
       "      <td>13.09</td>\n",
       "      <td>29.71</td>\n",
       "      <td>281.91</td>\n",
       "      <td>191.93</td>\n",
       "      <td>29.32</td>\n",
       "      <td>1.95</td>\n",
       "      <td>-3.70</td>\n",
       "      <td>4.71</td>\n",
       "      <td>3.41</td>\n",
       "      <td>18.40</td>\n",
       "      <td>17.80</td>\n",
       "      <td>48.57</td>\n",
       "      <td>38.56</td>\n",
       "      <td>47.51</td>\n",
       "      <td>6.82</td>\n",
       "    </tr>\n",
       "    <tr>\n",
       "      <th>1787</th>\n",
       "      <td>8299</td>\n",
       "      <td>20212</td>\n",
       "      <td>14.23</td>\n",
       "      <td>32.60</td>\n",
       "      <td>211.42</td>\n",
       "      <td>137.79</td>\n",
       "      <td>38.88</td>\n",
       "      <td>4.07</td>\n",
       "      <td>-2.31</td>\n",
       "      <td>6.52</td>\n",
       "      <td>4.38</td>\n",
       "      <td>18.40</td>\n",
       "      <td>17.80</td>\n",
       "      <td>48.77</td>\n",
       "      <td>38.54</td>\n",
       "      <td>45.73</td>\n",
       "      <td>6.35</td>\n",
       "    </tr>\n",
       "  </tbody>\n",
       "</table>\n",
       "<p>1788 rows × 17 columns</p>\n",
       "</div>"
      ],
      "text/plain": [
       "     stock_code stock_report_date  net_profit_rate  operating_gross_rate  \\\n",
       "0          2302             20183            13.35                 38.03   \n",
       "1          2302             20184             5.22                 40.93   \n",
       "2          2302             20191            -3.00                 37.03   \n",
       "3          2302             20192            10.26                 32.10   \n",
       "4          2302             20193             2.29                 28.78   \n",
       "...         ...               ...              ...                   ...   \n",
       "1783       8299             20202            10.91                 24.76   \n",
       "1784       8299             20203            15.41                 22.61   \n",
       "1785       8299             20204            29.47                 23.05   \n",
       "1786       8299             20211            13.09                 29.71   \n",
       "1787       8299             20212            14.23                 32.60   \n",
       "\n",
       "      current_rate  quick_rate  debt_rate  receivables_turnover_rate  \\\n",
       "0           154.53      103.70      18.22                       3.31   \n",
       "1           166.92      110.41      16.86                       4.35   \n",
       "2           171.94      109.89      16.38                       0.99   \n",
       "3           174.72      114.79      16.63                       2.00   \n",
       "4           170.04      116.92      17.45                       3.10   \n",
       "...            ...         ...        ...                        ...   \n",
       "1783        299.48      181.73      27.74                       4.28   \n",
       "1784        363.99      240.63      23.66                       6.20   \n",
       "1785        317.33      230.20      26.09                       8.12   \n",
       "1786        281.91      191.93      29.32                       1.95   \n",
       "1787        211.42      137.79      38.88                       4.07   \n",
       "\n",
       "      cash_reinvest_rate  roe_rate  roa_rate  avg_director_rate  \\\n",
       "0                   1.74      1.07      0.91              26.60   \n",
       "1                   1.34      0.42      0.37              26.60   \n",
       "2                   1.51     -0.20     -0.14              26.60   \n",
       "3                   2.17      0.85      0.74              26.60   \n",
       "4                   4.32      0.17      0.17              26.60   \n",
       "...                  ...       ...       ...                ...   \n",
       "1783                6.49      4.01      2.97              17.70   \n",
       "1784                5.25      6.07      4.61              18.23   \n",
       "1785               11.28     11.76      8.79              18.40   \n",
       "1786               -3.70      4.71      3.41              18.40   \n",
       "1787               -2.31      6.52      4.38              18.40   \n",
       "\n",
       "      avg_director_pledge_rate  foreign_rate_bys  over1000_rate_bys  \\\n",
       "0                         0.00              4.40              62.23   \n",
       "1                         0.00              4.40              62.35   \n",
       "2                         0.00              4.37              62.53   \n",
       "3                         0.00              4.30              62.34   \n",
       "4                         0.00              4.30              62.33   \n",
       "...                        ...               ...                ...   \n",
       "1783                     12.73             51.13              41.64   \n",
       "1784                     17.90             45.53              37.24   \n",
       "1785                     17.80             47.07              36.67   \n",
       "1786                     17.80             48.57              38.56   \n",
       "1787                     17.80             48.77              38.54   \n",
       "\n",
       "      under400_rate_bys  avg_board_bys  \n",
       "0                 33.99           8.73  \n",
       "1                 34.08           8.86  \n",
       "2                 33.68           8.90  \n",
       "3                 33.51           9.01  \n",
       "4                 33.44           9.11  \n",
       "...                 ...            ...  \n",
       "1783              44.76           7.51  \n",
       "1784              51.68           6.58  \n",
       "1785              51.03           6.80  \n",
       "1786              47.51           6.82  \n",
       "1787              45.73           6.35  \n",
       "\n",
       "[1788 rows x 17 columns]"
      ]
     },
     "execution_count": 3,
     "metadata": {},
     "output_type": "execute_result"
    }
   ],
   "source": [
    "#取得需要的特徵\n",
    "financial_ratio = company_factor[['stock_code',\n",
    "                                  'stock_report_date',\n",
    "                                  'net_profit_rate', #稅後淨利率\n",
    "                                  'operating_gross_rate', #營業毛利率\n",
    "                                  'current_rate', #流動比率\n",
    "                                  'quick_rate',  #速動比率\n",
    "                                  'debt_rate',  #負債比率\n",
    "                                  'receivables_turnover_rate', #應收帳款週轉率\n",
    "#                                   'inventory_turnover_rate',  #存貨週轉率\n",
    "                                  'cash_reinvest_rate', #現金再投資比率\n",
    "                                  'roe_rate', #股東權益報酬率,\n",
    "                                  'roa_rate', #資產報酬率\n",
    "                                  'avg_director_rate', #董監事持股比利\n",
    "                                  'avg_director_pledge_rate', #董監事質押比利\n",
    "                                  'foreign_rate_bys', #外資持股比例\n",
    "                                  'over1000_rate_bys', # >1000張大股東持股比率\n",
    "                                  'under400_rate_bys', # <400張股東持股比率\n",
    "                                  'avg_board_bys' #平均持股張數\n",
    "                                 ]].copy() \n",
    "financial_ratio"
   ]
  },
  {
   "cell_type": "code",
   "execution_count": 4,
   "id": "1c6fa79c",
   "metadata": {
    "scrolled": true
   },
   "outputs": [
    {
     "data": {
      "text/plain": [
       "stock_code                   0\n",
       "stock_report_date            0\n",
       "net_profit_rate              0\n",
       "operating_gross_rate         0\n",
       "current_rate                 0\n",
       "quick_rate                   0\n",
       "debt_rate                    0\n",
       "receivables_turnover_rate    0\n",
       "cash_reinvest_rate           0\n",
       "roe_rate                     0\n",
       "roa_rate                     0\n",
       "avg_director_rate            0\n",
       "avg_director_pledge_rate     0\n",
       "foreign_rate_bys             0\n",
       "over1000_rate_bys            0\n",
       "under400_rate_bys            0\n",
       "avg_board_bys                0\n",
       "dtype: int64"
      ]
     },
     "execution_count": 4,
     "metadata": {},
     "output_type": "execute_result"
    }
   ],
   "source": [
    "#缺值檢視\n",
    "financial_ratio.isnull().sum()"
   ]
  },
  {
   "cell_type": "code",
   "execution_count": 5,
   "id": "aa2a4196",
   "metadata": {},
   "outputs": [],
   "source": [
    "# 將數值轉為 1,0 編碼，作為模型的預測目標(應變數)\n",
    "def encoding(r,th):\n",
    "    if r >= th:\n",
    "        return 1\n",
    "    else:\n",
    "        return 0"
   ]
  },
  {
   "cell_type": "code",
   "execution_count": 6,
   "id": "82d2eda1",
   "metadata": {},
   "outputs": [],
   "source": [
    "#定義毛利率 >平均者為表現良好\n",
    "m0 = financial_ratio['operating_gross_rate'].mean()\n",
    "financial_ratio['operating_gross_rate1'] = financial_ratio.apply(lambda r : encoding(r['operating_gross_rate'],m0), axis = 1)\n",
    "\n",
    "#定義淨利率 >平均者為表現良好\n",
    "m1 = financial_ratio['net_profit_rate'].mean()\n",
    "financial_ratio['net_profit_rate1'] = financial_ratio.apply(lambda r : encoding(r['net_profit_rate'],m1), axis = 1)\n",
    "\n",
    "#定義股東權益報酬率 >平均者為表現良好\n",
    "m2 = financial_ratio['roe_rate'].mean()\n",
    "financial_ratio['roe_rate1'] = financial_ratio.apply(lambda r : encoding(r['roe_rate'],m2), axis = 1)"
   ]
  },
  {
   "cell_type": "code",
   "execution_count": 7,
   "id": "dc6d72d6",
   "metadata": {},
   "outputs": [
    {
     "name": "stdout",
     "output_type": "stream",
     "text": [
      "y.shape:  (1788,)\n",
      "y.sum(): 955\n",
      "y1.shape:  (1788,)\n",
      "y1.sum(): 1261\n",
      "y2.shape:  (1788,)\n",
      "y2.sum(): 960\n"
     ]
    }
   ],
   "source": [
    "X = financial_ratio[['current_rate', 'quick_rate', 'debt_rate', 'receivables_turnover_rate', \n",
    "                     'cash_reinvest_rate','roe_rate','roa_rate','avg_director_rate', \n",
    "                     'avg_director_pledge_rate','foreign_rate_bys','over1000_rate_bys',\n",
    "                     'under400_rate_bys','avg_board_bys']]\n",
    "X1 = financial_ratio[['current_rate', 'quick_rate', 'debt_rate', 'receivables_turnover_rate', \n",
    "                      'cash_reinvest_rate','roa_rate','avg_director_rate',\n",
    "                      'avg_director_pledge_rate','foreign_rate_bys','over1000_rate_bys',\n",
    "                      'under400_rate_bys','avg_board_bys','operating_gross_rate','net_profit_rate']]\n",
    "y = financial_ratio['operating_gross_rate1']\n",
    "y1 = financial_ratio['net_profit_rate1']\n",
    "y2 = financial_ratio['roe_rate1']\n",
    "print(\"y.shape: \" ,y.shape)\n",
    "print('y.sum():',y.sum())\n",
    "print(\"y1.shape: \" ,y1.shape)\n",
    "print('y1.sum():',y1.sum())\n",
    "print(\"y2.shape: \" ,y2.shape)\n",
    "print('y2.sum():',y2.sum())"
   ]
  },
  {
   "cell_type": "markdown",
   "id": "ce922e8d",
   "metadata": {},
   "source": [
    "<h3>毛利率: 833 筆標記為 0 ； 955 筆為 1\n",
    "<h3>淨利率: 527 筆標記為 0 ； 1261 筆為 1\n",
    "<h3>ROE:  828 筆標記為 0 ； 960 筆為 1"
   ]
  },
  {
   "cell_type": "code",
   "execution_count": 8,
   "id": "1a2794c7",
   "metadata": {},
   "outputs": [],
   "source": [
    "# 輸入數據調成標準值以免各特徵影響不同\n",
    "# you'll learn why scaling is needed in a later course\n",
    "from sklearn.preprocessing import StandardScaler\n",
    "\n",
    "scaler = StandardScaler()\n",
    "X_scaled = scaler.fit_transform(X)\n",
    "\n",
    "scaler1 = StandardScaler()\n",
    "X1_scaled = scaler1.fit_transform(X)"
   ]
  },
  {
   "cell_type": "code",
   "execution_count": 9,
   "id": "170d89f7",
   "metadata": {},
   "outputs": [
    {
     "name": "stdout",
     "output_type": "stream",
     "text": [
      "N: 1430 D: 13\n"
     ]
    }
   ],
   "source": [
    "#分割資料為 測試集 與 訓練集\n",
    "from sklearn.model_selection import train_test_split\n",
    "X_train, X_test, y_train, y_test = train_test_split(X_scaled, y, test_size=0.2)\n",
    "N, D = X_train.shape\n",
    "print (\"N:\", N, \"D:\", D)"
   ]
  },
  {
   "cell_type": "markdown",
   "id": "1fd5b92d",
   "metadata": {},
   "source": [
    "<h2> 1-1 以 DNN 類神經網路 實作 - 預測毛利率"
   ]
  },
  {
   "cell_type": "code",
   "execution_count": 10,
   "id": "48c285d5",
   "metadata": {},
   "outputs": [
    {
     "name": "stdout",
     "output_type": "stream",
     "text": [
      "2.6.0\n"
     ]
    }
   ],
   "source": [
    "import tensorflow as tf\n",
    "print(tf.__version__)"
   ]
  },
  {
   "cell_type": "code",
   "execution_count": 11,
   "id": "b3624053",
   "metadata": {},
   "outputs": [],
   "source": [
    "import numpy as np\n",
    "import matplotlib.pyplot as plt\n",
    "from tensorflow.keras.layers import Input, Conv2D, Dense, Flatten, Dropout,LeakyReLU\n",
    "from tensorflow.keras.models import Model\n",
    "from sklearn.metrics import confusion_matrix"
   ]
  },
  {
   "cell_type": "code",
   "execution_count": 12,
   "id": "05de8c6d",
   "metadata": {},
   "outputs": [],
   "source": [
    "# 建立TF模型\n",
    "model = tf.keras.models.Sequential([\n",
    "  tf.keras.layers.Input(shape=(D,)),\n",
    "  tf.keras.layers.Dense(512, activation='relu'),\n",
    "  tf.keras.layers.Dropout(0.6),\n",
    "  tf.keras.layers.Dense(128, activation='relu'),\n",
    "  tf.keras.layers.Dropout(0.4),\n",
    "  tf.keras.layers.Dense(16, activation='relu'),\n",
    "  tf.keras.layers.Dropout(0.2),\n",
    "  tf.keras.layers.Dense(1, activation='sigmoid'),\n",
    "])"
   ]
  },
  {
   "cell_type": "code",
   "execution_count": 13,
   "id": "b59291e7",
   "metadata": {},
   "outputs": [
    {
     "name": "stdout",
     "output_type": "stream",
     "text": [
      "Model: \"sequential\"\n",
      "_________________________________________________________________\n",
      "Layer (type)                 Output Shape              Param #   \n",
      "=================================================================\n",
      "dense (Dense)                (None, 512)               7168      \n",
      "_________________________________________________________________\n",
      "dropout (Dropout)            (None, 512)               0         \n",
      "_________________________________________________________________\n",
      "dense_1 (Dense)              (None, 128)               65664     \n",
      "_________________________________________________________________\n",
      "dropout_1 (Dropout)          (None, 128)               0         \n",
      "_________________________________________________________________\n",
      "dense_2 (Dense)              (None, 16)                2064      \n",
      "_________________________________________________________________\n",
      "dropout_2 (Dropout)          (None, 16)                0         \n",
      "_________________________________________________________________\n",
      "dense_3 (Dense)              (None, 1)                 17        \n",
      "=================================================================\n",
      "Total params: 74,913\n",
      "Trainable params: 74,913\n",
      "Non-trainable params: 0\n",
      "_________________________________________________________________\n"
     ]
    }
   ],
   "source": [
    "model.summary()"
   ]
  },
  {
   "cell_type": "code",
   "execution_count": 14,
   "id": "d4637fa2",
   "metadata": {},
   "outputs": [],
   "source": [
    "#編譯模型\n",
    "lr = 0.0002\n",
    "model.compile(tf.keras.optimizers.Adam(learning_rate = lr),\n",
    "              loss='binary_crossentropy',\n",
    "              metrics=['accuracy'])"
   ]
  },
  {
   "cell_type": "code",
   "execution_count": 15,
   "id": "6f666c55",
   "metadata": {
    "scrolled": true
   },
   "outputs": [
    {
     "name": "stdout",
     "output_type": "stream",
     "text": [
      "Epoch 1/200\n",
      "45/45 [==============================] - 2s 18ms/step - loss: 0.6790 - accuracy: 0.5783 - val_loss: 0.6514 - val_accuracy: 0.6676\n",
      "Epoch 2/200\n",
      "45/45 [==============================] - 0s 8ms/step - loss: 0.6534 - accuracy: 0.6336 - val_loss: 0.6176 - val_accuracy: 0.7039\n",
      "Epoch 3/200\n",
      "45/45 [==============================] - 0s 9ms/step - loss: 0.6305 - accuracy: 0.6643 - val_loss: 0.5913 - val_accuracy: 0.7039\n",
      "Epoch 4/200\n",
      "45/45 [==============================] - 0s 9ms/step - loss: 0.6005 - accuracy: 0.6860 - val_loss: 0.5722 - val_accuracy: 0.7179\n",
      "Epoch 5/200\n",
      "45/45 [==============================] - 0s 9ms/step - loss: 0.5879 - accuracy: 0.7000 - val_loss: 0.5618 - val_accuracy: 0.7067\n",
      "Epoch 6/200\n",
      "45/45 [==============================] - 0s 9ms/step - loss: 0.5820 - accuracy: 0.7098 - val_loss: 0.5565 - val_accuracy: 0.7011\n",
      "Epoch 7/200\n",
      "45/45 [==============================] - 0s 9ms/step - loss: 0.5790 - accuracy: 0.7098 - val_loss: 0.5520 - val_accuracy: 0.7011\n",
      "Epoch 8/200\n",
      "45/45 [==============================] - 0s 9ms/step - loss: 0.5657 - accuracy: 0.7007 - val_loss: 0.5462 - val_accuracy: 0.7123\n",
      "Epoch 9/200\n",
      "45/45 [==============================] - 0s 9ms/step - loss: 0.5687 - accuracy: 0.7196 - val_loss: 0.5425 - val_accuracy: 0.7179\n",
      "Epoch 10/200\n",
      "45/45 [==============================] - 0s 9ms/step - loss: 0.5509 - accuracy: 0.7252 - val_loss: 0.5388 - val_accuracy: 0.7291\n",
      "Epoch 11/200\n",
      "45/45 [==============================] - 0s 9ms/step - loss: 0.5578 - accuracy: 0.7329 - val_loss: 0.5355 - val_accuracy: 0.7263\n",
      "Epoch 12/200\n",
      "45/45 [==============================] - 0s 9ms/step - loss: 0.5488 - accuracy: 0.7266 - val_loss: 0.5324 - val_accuracy: 0.7374\n",
      "Epoch 13/200\n",
      "45/45 [==============================] - 0s 9ms/step - loss: 0.5518 - accuracy: 0.7364 - val_loss: 0.5303 - val_accuracy: 0.7346\n",
      "Epoch 14/200\n",
      "45/45 [==============================] - 0s 9ms/step - loss: 0.5476 - accuracy: 0.7287 - val_loss: 0.5269 - val_accuracy: 0.7374\n",
      "Epoch 15/200\n",
      "45/45 [==============================] - 0s 9ms/step - loss: 0.5387 - accuracy: 0.7336 - val_loss: 0.5240 - val_accuracy: 0.7402\n",
      "Epoch 16/200\n",
      "45/45 [==============================] - 0s 9ms/step - loss: 0.5309 - accuracy: 0.7336 - val_loss: 0.5225 - val_accuracy: 0.7430\n",
      "Epoch 17/200\n",
      "45/45 [==============================] - 0s 8ms/step - loss: 0.5416 - accuracy: 0.7343 - val_loss: 0.5202 - val_accuracy: 0.7430\n",
      "Epoch 18/200\n",
      "45/45 [==============================] - 0s 8ms/step - loss: 0.5386 - accuracy: 0.7378 - val_loss: 0.5183 - val_accuracy: 0.7458\n",
      "Epoch 19/200\n",
      "45/45 [==============================] - 0s 9ms/step - loss: 0.5223 - accuracy: 0.7427 - val_loss: 0.5166 - val_accuracy: 0.7458\n",
      "Epoch 20/200\n",
      "45/45 [==============================] - 0s 9ms/step - loss: 0.5262 - accuracy: 0.7455 - val_loss: 0.5150 - val_accuracy: 0.7486\n",
      "Epoch 21/200\n",
      "45/45 [==============================] - 0s 9ms/step - loss: 0.5277 - accuracy: 0.7420 - val_loss: 0.5123 - val_accuracy: 0.7542\n",
      "Epoch 22/200\n",
      "45/45 [==============================] - 0s 9ms/step - loss: 0.5328 - accuracy: 0.7448 - val_loss: 0.5116 - val_accuracy: 0.7458\n",
      "Epoch 23/200\n",
      "45/45 [==============================] - 0s 9ms/step - loss: 0.5249 - accuracy: 0.7343 - val_loss: 0.5090 - val_accuracy: 0.7542\n",
      "Epoch 24/200\n",
      "45/45 [==============================] - 0s 9ms/step - loss: 0.5218 - accuracy: 0.7566 - val_loss: 0.5058 - val_accuracy: 0.7542\n",
      "Epoch 25/200\n",
      "45/45 [==============================] - 0s 10ms/step - loss: 0.5229 - accuracy: 0.7483 - val_loss: 0.5048 - val_accuracy: 0.7542\n",
      "Epoch 26/200\n",
      "45/45 [==============================] - 0s 8ms/step - loss: 0.5220 - accuracy: 0.7455 - val_loss: 0.5032 - val_accuracy: 0.7542\n",
      "Epoch 27/200\n",
      "45/45 [==============================] - 0s 9ms/step - loss: 0.5148 - accuracy: 0.7566 - val_loss: 0.5026 - val_accuracy: 0.7542\n",
      "Epoch 28/200\n",
      "45/45 [==============================] - 0s 9ms/step - loss: 0.4995 - accuracy: 0.7538 - val_loss: 0.5013 - val_accuracy: 0.7486\n",
      "Epoch 29/200\n",
      "45/45 [==============================] - 0s 9ms/step - loss: 0.5070 - accuracy: 0.7671 - val_loss: 0.4999 - val_accuracy: 0.7486\n",
      "Epoch 30/200\n",
      "45/45 [==============================] - 0s 9ms/step - loss: 0.5097 - accuracy: 0.7580 - val_loss: 0.4992 - val_accuracy: 0.7486\n",
      "Epoch 31/200\n",
      "45/45 [==============================] - 0s 9ms/step - loss: 0.4992 - accuracy: 0.7608 - val_loss: 0.4949 - val_accuracy: 0.7570\n",
      "Epoch 32/200\n",
      "45/45 [==============================] - 0s 9ms/step - loss: 0.4974 - accuracy: 0.7497 - val_loss: 0.4942 - val_accuracy: 0.7570\n",
      "Epoch 33/200\n",
      "45/45 [==============================] - 0s 9ms/step - loss: 0.4955 - accuracy: 0.7636 - val_loss: 0.4952 - val_accuracy: 0.7570\n",
      "Epoch 34/200\n",
      "45/45 [==============================] - 0s 9ms/step - loss: 0.5122 - accuracy: 0.7455 - val_loss: 0.4953 - val_accuracy: 0.7542\n",
      "Epoch 35/200\n",
      "45/45 [==============================] - 0s 10ms/step - loss: 0.5014 - accuracy: 0.7573 - val_loss: 0.4954 - val_accuracy: 0.7514\n",
      "Epoch 36/200\n",
      "45/45 [==============================] - 0s 10ms/step - loss: 0.4931 - accuracy: 0.7629 - val_loss: 0.4952 - val_accuracy: 0.7542\n",
      "Epoch 37/200\n",
      "45/45 [==============================] - 0s 10ms/step - loss: 0.5105 - accuracy: 0.7580 - val_loss: 0.4946 - val_accuracy: 0.7486\n",
      "Epoch 38/200\n",
      "45/45 [==============================] - 0s 10ms/step - loss: 0.4946 - accuracy: 0.7692 - val_loss: 0.4889 - val_accuracy: 0.7598\n",
      "Epoch 39/200\n",
      "45/45 [==============================] - 0s 10ms/step - loss: 0.4875 - accuracy: 0.7692 - val_loss: 0.4906 - val_accuracy: 0.7570\n",
      "Epoch 40/200\n",
      "45/45 [==============================] - 0s 10ms/step - loss: 0.4906 - accuracy: 0.7657 - val_loss: 0.4886 - val_accuracy: 0.7682\n",
      "Epoch 41/200\n",
      "45/45 [==============================] - 0s 10ms/step - loss: 0.4893 - accuracy: 0.7566 - val_loss: 0.4894 - val_accuracy: 0.7654\n",
      "Epoch 42/200\n",
      "45/45 [==============================] - 0s 9ms/step - loss: 0.4815 - accuracy: 0.7720 - val_loss: 0.4877 - val_accuracy: 0.7682\n",
      "Epoch 43/200\n",
      "45/45 [==============================] - 0s 10ms/step - loss: 0.4858 - accuracy: 0.7671 - val_loss: 0.4907 - val_accuracy: 0.7654\n",
      "Epoch 44/200\n",
      "45/45 [==============================] - 0s 10ms/step - loss: 0.4920 - accuracy: 0.7734 - val_loss: 0.4881 - val_accuracy: 0.7654\n",
      "Epoch 45/200\n",
      "45/45 [==============================] - 0s 10ms/step - loss: 0.4926 - accuracy: 0.7727 - val_loss: 0.4865 - val_accuracy: 0.7626\n",
      "Epoch 46/200\n",
      "45/45 [==============================] - 0s 10ms/step - loss: 0.4746 - accuracy: 0.7650 - val_loss: 0.4852 - val_accuracy: 0.7654\n",
      "Epoch 47/200\n",
      "45/45 [==============================] - 0s 9ms/step - loss: 0.4883 - accuracy: 0.7531 - val_loss: 0.4848 - val_accuracy: 0.7654\n",
      "Epoch 48/200\n",
      "45/45 [==============================] - 0s 9ms/step - loss: 0.4915 - accuracy: 0.7713 - val_loss: 0.4834 - val_accuracy: 0.7654\n",
      "Epoch 49/200\n",
      "45/45 [==============================] - 0s 10ms/step - loss: 0.4836 - accuracy: 0.7671 - val_loss: 0.4842 - val_accuracy: 0.7654\n",
      "Epoch 50/200\n",
      "45/45 [==============================] - 0s 10ms/step - loss: 0.4716 - accuracy: 0.7650 - val_loss: 0.4853 - val_accuracy: 0.7626\n",
      "Epoch 51/200\n",
      "45/45 [==============================] - 0s 9ms/step - loss: 0.4785 - accuracy: 0.7741 - val_loss: 0.4825 - val_accuracy: 0.7682\n",
      "Epoch 52/200\n",
      "45/45 [==============================] - 0s 10ms/step - loss: 0.4702 - accuracy: 0.7776 - val_loss: 0.4840 - val_accuracy: 0.7598\n",
      "Epoch 53/200\n",
      "45/45 [==============================] - 0s 10ms/step - loss: 0.4820 - accuracy: 0.7699 - val_loss: 0.4795 - val_accuracy: 0.7654\n",
      "Epoch 54/200\n",
      "45/45 [==============================] - 0s 10ms/step - loss: 0.4701 - accuracy: 0.7713 - val_loss: 0.4806 - val_accuracy: 0.7682\n",
      "Epoch 55/200\n",
      "45/45 [==============================] - 0s 9ms/step - loss: 0.4695 - accuracy: 0.7797 - val_loss: 0.4821 - val_accuracy: 0.7598\n",
      "Epoch 56/200\n",
      "45/45 [==============================] - 0s 9ms/step - loss: 0.4715 - accuracy: 0.7783 - val_loss: 0.4802 - val_accuracy: 0.7626\n",
      "Epoch 57/200\n",
      "45/45 [==============================] - 0s 9ms/step - loss: 0.4654 - accuracy: 0.7727 - val_loss: 0.4809 - val_accuracy: 0.7598\n",
      "Epoch 58/200\n"
     ]
    },
    {
     "name": "stdout",
     "output_type": "stream",
     "text": [
      "45/45 [==============================] - 0s 10ms/step - loss: 0.4642 - accuracy: 0.7874 - val_loss: 0.4772 - val_accuracy: 0.7626\n",
      "Epoch 59/200\n",
      "45/45 [==============================] - 0s 10ms/step - loss: 0.4682 - accuracy: 0.7853 - val_loss: 0.4747 - val_accuracy: 0.7709\n",
      "Epoch 60/200\n",
      "45/45 [==============================] - 0s 9ms/step - loss: 0.4647 - accuracy: 0.7790 - val_loss: 0.4752 - val_accuracy: 0.7682\n",
      "Epoch 61/200\n",
      "45/45 [==============================] - 0s 9ms/step - loss: 0.4467 - accuracy: 0.7769 - val_loss: 0.4795 - val_accuracy: 0.7682\n",
      "Epoch 62/200\n",
      "45/45 [==============================] - 0s 9ms/step - loss: 0.4476 - accuracy: 0.7818 - val_loss: 0.4817 - val_accuracy: 0.7570\n",
      "Epoch 63/200\n",
      "45/45 [==============================] - 0s 9ms/step - loss: 0.4568 - accuracy: 0.7769 - val_loss: 0.4800 - val_accuracy: 0.7598\n",
      "Epoch 64/200\n",
      "45/45 [==============================] - 0s 9ms/step - loss: 0.4563 - accuracy: 0.7853 - val_loss: 0.4747 - val_accuracy: 0.7793\n",
      "Epoch 65/200\n",
      "45/45 [==============================] - 0s 9ms/step - loss: 0.4384 - accuracy: 0.7811 - val_loss: 0.4778 - val_accuracy: 0.7626\n",
      "Epoch 66/200\n",
      "45/45 [==============================] - 0s 9ms/step - loss: 0.4544 - accuracy: 0.7797 - val_loss: 0.4754 - val_accuracy: 0.7626\n",
      "Epoch 67/200\n",
      "45/45 [==============================] - 0s 9ms/step - loss: 0.4565 - accuracy: 0.7804 - val_loss: 0.4802 - val_accuracy: 0.7626\n",
      "Epoch 68/200\n",
      "45/45 [==============================] - 0s 9ms/step - loss: 0.4627 - accuracy: 0.7818 - val_loss: 0.4764 - val_accuracy: 0.7542\n",
      "Epoch 69/200\n",
      "45/45 [==============================] - 0s 9ms/step - loss: 0.4487 - accuracy: 0.7832 - val_loss: 0.4766 - val_accuracy: 0.7765\n",
      "Epoch 70/200\n",
      "45/45 [==============================] - 0s 9ms/step - loss: 0.4444 - accuracy: 0.7867 - val_loss: 0.4747 - val_accuracy: 0.7765\n",
      "Epoch 71/200\n",
      "45/45 [==============================] - 0s 9ms/step - loss: 0.4498 - accuracy: 0.7804 - val_loss: 0.4709 - val_accuracy: 0.7765\n",
      "Epoch 72/200\n",
      "45/45 [==============================] - 0s 9ms/step - loss: 0.4351 - accuracy: 0.7811 - val_loss: 0.4730 - val_accuracy: 0.7765\n",
      "Epoch 73/200\n",
      "45/45 [==============================] - 0s 9ms/step - loss: 0.4567 - accuracy: 0.7811 - val_loss: 0.4706 - val_accuracy: 0.7709\n",
      "Epoch 74/200\n",
      "45/45 [==============================] - 0s 9ms/step - loss: 0.4505 - accuracy: 0.7748 - val_loss: 0.4732 - val_accuracy: 0.7682\n",
      "Epoch 75/200\n",
      "45/45 [==============================] - 0s 9ms/step - loss: 0.4386 - accuracy: 0.8035 - val_loss: 0.4732 - val_accuracy: 0.7709\n",
      "Epoch 76/200\n",
      "45/45 [==============================] - 0s 9ms/step - loss: 0.4227 - accuracy: 0.7972 - val_loss: 0.4693 - val_accuracy: 0.7654\n",
      "Epoch 77/200\n",
      "45/45 [==============================] - 0s 9ms/step - loss: 0.4489 - accuracy: 0.7818 - val_loss: 0.4701 - val_accuracy: 0.7765\n",
      "Epoch 78/200\n",
      "45/45 [==============================] - 0s 9ms/step - loss: 0.4440 - accuracy: 0.7923 - val_loss: 0.4672 - val_accuracy: 0.7765\n",
      "Epoch 79/200\n",
      "45/45 [==============================] - 0s 9ms/step - loss: 0.4390 - accuracy: 0.7804 - val_loss: 0.4682 - val_accuracy: 0.7709\n",
      "Epoch 80/200\n",
      "45/45 [==============================] - 0s 8ms/step - loss: 0.4295 - accuracy: 0.7993 - val_loss: 0.4668 - val_accuracy: 0.7709\n",
      "Epoch 81/200\n",
      "45/45 [==============================] - 0s 8ms/step - loss: 0.4320 - accuracy: 0.7881 - val_loss: 0.4670 - val_accuracy: 0.7737\n",
      "Epoch 82/200\n",
      "45/45 [==============================] - 0s 9ms/step - loss: 0.4401 - accuracy: 0.7916 - val_loss: 0.4690 - val_accuracy: 0.7709\n",
      "Epoch 83/200\n",
      "45/45 [==============================] - 0s 9ms/step - loss: 0.4301 - accuracy: 0.7909 - val_loss: 0.4689 - val_accuracy: 0.7737\n",
      "Epoch 84/200\n",
      "45/45 [==============================] - 0s 9ms/step - loss: 0.4267 - accuracy: 0.8035 - val_loss: 0.4678 - val_accuracy: 0.7765\n",
      "Epoch 85/200\n",
      "45/45 [==============================] - 0s 9ms/step - loss: 0.4441 - accuracy: 0.7874 - val_loss: 0.4667 - val_accuracy: 0.7821\n",
      "Epoch 86/200\n",
      "45/45 [==============================] - 0s 9ms/step - loss: 0.4125 - accuracy: 0.8161 - val_loss: 0.4612 - val_accuracy: 0.7821\n",
      "Epoch 87/200\n",
      "45/45 [==============================] - 0s 9ms/step - loss: 0.4388 - accuracy: 0.7909 - val_loss: 0.4643 - val_accuracy: 0.7905\n",
      "Epoch 88/200\n",
      "45/45 [==============================] - 0s 9ms/step - loss: 0.4411 - accuracy: 0.7916 - val_loss: 0.4617 - val_accuracy: 0.7877\n",
      "Epoch 89/200\n",
      "45/45 [==============================] - 0s 8ms/step - loss: 0.4377 - accuracy: 0.7895 - val_loss: 0.4656 - val_accuracy: 0.7821\n",
      "Epoch 90/200\n",
      "45/45 [==============================] - 0s 9ms/step - loss: 0.4229 - accuracy: 0.8014 - val_loss: 0.4618 - val_accuracy: 0.7821\n",
      "Epoch 91/200\n",
      "45/45 [==============================] - 0s 9ms/step - loss: 0.4325 - accuracy: 0.8063 - val_loss: 0.4628 - val_accuracy: 0.7849\n",
      "Epoch 92/200\n",
      "45/45 [==============================] - 0s 9ms/step - loss: 0.4261 - accuracy: 0.8112 - val_loss: 0.4610 - val_accuracy: 0.7793\n",
      "Epoch 93/200\n",
      "45/45 [==============================] - 0s 9ms/step - loss: 0.4157 - accuracy: 0.8112 - val_loss: 0.4637 - val_accuracy: 0.7793\n",
      "Epoch 94/200\n",
      "45/45 [==============================] - 0s 9ms/step - loss: 0.4097 - accuracy: 0.8126 - val_loss: 0.4609 - val_accuracy: 0.7849\n",
      "Epoch 95/200\n",
      "45/45 [==============================] - 0s 9ms/step - loss: 0.4212 - accuracy: 0.7937 - val_loss: 0.4609 - val_accuracy: 0.7821\n",
      "Epoch 96/200\n",
      "45/45 [==============================] - 0s 9ms/step - loss: 0.4264 - accuracy: 0.7944 - val_loss: 0.4592 - val_accuracy: 0.7821\n",
      "Epoch 97/200\n",
      "45/45 [==============================] - 0s 9ms/step - loss: 0.4083 - accuracy: 0.8196 - val_loss: 0.4586 - val_accuracy: 0.7793\n",
      "Epoch 98/200\n",
      "45/45 [==============================] - 0s 8ms/step - loss: 0.4260 - accuracy: 0.7951 - val_loss: 0.4563 - val_accuracy: 0.7821\n",
      "Epoch 99/200\n",
      "45/45 [==============================] - 0s 9ms/step - loss: 0.4234 - accuracy: 0.8014 - val_loss: 0.4588 - val_accuracy: 0.7793\n",
      "Epoch 100/200\n",
      "45/45 [==============================] - 0s 9ms/step - loss: 0.4230 - accuracy: 0.8147 - val_loss: 0.4599 - val_accuracy: 0.7821\n",
      "Epoch 101/200\n",
      "45/45 [==============================] - 0s 9ms/step - loss: 0.4088 - accuracy: 0.8112 - val_loss: 0.4541 - val_accuracy: 0.7933\n",
      "Epoch 102/200\n",
      "45/45 [==============================] - 0s 9ms/step - loss: 0.4192 - accuracy: 0.8035 - val_loss: 0.4570 - val_accuracy: 0.7933\n",
      "Epoch 103/200\n",
      "45/45 [==============================] - 0s 9ms/step - loss: 0.4132 - accuracy: 0.8133 - val_loss: 0.4561 - val_accuracy: 0.7933\n",
      "Epoch 104/200\n",
      "45/45 [==============================] - 0s 9ms/step - loss: 0.4102 - accuracy: 0.8091 - val_loss: 0.4535 - val_accuracy: 0.7877\n",
      "Epoch 105/200\n",
      "45/45 [==============================] - 0s 9ms/step - loss: 0.3954 - accuracy: 0.8189 - val_loss: 0.4539 - val_accuracy: 0.7877\n",
      "Epoch 106/200\n",
      "45/45 [==============================] - 0s 9ms/step - loss: 0.4096 - accuracy: 0.8196 - val_loss: 0.4566 - val_accuracy: 0.7877\n",
      "Epoch 107/200\n",
      "45/45 [==============================] - 0s 9ms/step - loss: 0.4043 - accuracy: 0.8168 - val_loss: 0.4575 - val_accuracy: 0.7765\n",
      "Epoch 108/200\n",
      "45/45 [==============================] - 0s 9ms/step - loss: 0.3998 - accuracy: 0.8161 - val_loss: 0.4534 - val_accuracy: 0.7877\n",
      "Epoch 109/200\n",
      "45/45 [==============================] - 0s 8ms/step - loss: 0.4098 - accuracy: 0.8231 - val_loss: 0.4543 - val_accuracy: 0.7877\n",
      "Epoch 110/200\n",
      "45/45 [==============================] - 0s 8ms/step - loss: 0.3934 - accuracy: 0.8189 - val_loss: 0.4541 - val_accuracy: 0.7793\n",
      "Epoch 111/200\n",
      "45/45 [==============================] - 0s 8ms/step - loss: 0.4027 - accuracy: 0.8063 - val_loss: 0.4529 - val_accuracy: 0.7765\n",
      "Epoch 112/200\n",
      "45/45 [==============================] - 0s 9ms/step - loss: 0.4152 - accuracy: 0.8098 - val_loss: 0.4542 - val_accuracy: 0.7849\n",
      "Epoch 113/200\n",
      "45/45 [==============================] - 0s 9ms/step - loss: 0.3981 - accuracy: 0.8210 - val_loss: 0.4494 - val_accuracy: 0.7849\n",
      "Epoch 114/200\n",
      "45/45 [==============================] - 0s 9ms/step - loss: 0.3998 - accuracy: 0.8210 - val_loss: 0.4527 - val_accuracy: 0.7905\n",
      "Epoch 115/200\n"
     ]
    },
    {
     "name": "stdout",
     "output_type": "stream",
     "text": [
      "45/45 [==============================] - 0s 9ms/step - loss: 0.4023 - accuracy: 0.8098 - val_loss: 0.4513 - val_accuracy: 0.7737\n",
      "Epoch 116/200\n",
      "45/45 [==============================] - 0s 9ms/step - loss: 0.4125 - accuracy: 0.8098 - val_loss: 0.4489 - val_accuracy: 0.7961\n",
      "Epoch 117/200\n",
      "45/45 [==============================] - 0s 8ms/step - loss: 0.4103 - accuracy: 0.8217 - val_loss: 0.4463 - val_accuracy: 0.7933\n",
      "Epoch 118/200\n",
      "45/45 [==============================] - 0s 9ms/step - loss: 0.3985 - accuracy: 0.8112 - val_loss: 0.4491 - val_accuracy: 0.7933\n",
      "Epoch 119/200\n",
      "45/45 [==============================] - 0s 9ms/step - loss: 0.3973 - accuracy: 0.8154 - val_loss: 0.4470 - val_accuracy: 0.7821\n",
      "Epoch 120/200\n",
      "45/45 [==============================] - 0s 9ms/step - loss: 0.4032 - accuracy: 0.8091 - val_loss: 0.4480 - val_accuracy: 0.7961\n",
      "Epoch 121/200\n",
      "45/45 [==============================] - 0s 9ms/step - loss: 0.4024 - accuracy: 0.8056 - val_loss: 0.4467 - val_accuracy: 0.7933\n",
      "Epoch 122/200\n",
      "45/45 [==============================] - 0s 9ms/step - loss: 0.3973 - accuracy: 0.8140 - val_loss: 0.4470 - val_accuracy: 0.7933\n",
      "Epoch 123/200\n",
      "45/45 [==============================] - 0s 9ms/step - loss: 0.3851 - accuracy: 0.8287 - val_loss: 0.4446 - val_accuracy: 0.7961\n",
      "Epoch 124/200\n",
      "45/45 [==============================] - 0s 9ms/step - loss: 0.3885 - accuracy: 0.8280 - val_loss: 0.4408 - val_accuracy: 0.7905\n",
      "Epoch 125/200\n",
      "45/45 [==============================] - 0s 9ms/step - loss: 0.4036 - accuracy: 0.8091 - val_loss: 0.4425 - val_accuracy: 0.7989\n",
      "Epoch 126/200\n",
      "45/45 [==============================] - 0s 9ms/step - loss: 0.3945 - accuracy: 0.8266 - val_loss: 0.4419 - val_accuracy: 0.7961\n",
      "Epoch 127/200\n",
      "45/45 [==============================] - 0s 10ms/step - loss: 0.3937 - accuracy: 0.8273 - val_loss: 0.4434 - val_accuracy: 0.7989\n",
      "Epoch 128/200\n",
      "45/45 [==============================] - 0s 9ms/step - loss: 0.3779 - accuracy: 0.8350 - val_loss: 0.4441 - val_accuracy: 0.7961\n",
      "Epoch 129/200\n",
      "45/45 [==============================] - 0s 9ms/step - loss: 0.3914 - accuracy: 0.8105 - val_loss: 0.4423 - val_accuracy: 0.7989\n",
      "Epoch 130/200\n",
      "45/45 [==============================] - 0s 9ms/step - loss: 0.3900 - accuracy: 0.8203 - val_loss: 0.4396 - val_accuracy: 0.7961\n",
      "Epoch 131/200\n",
      "45/45 [==============================] - 0s 9ms/step - loss: 0.3891 - accuracy: 0.8245 - val_loss: 0.4435 - val_accuracy: 0.8101\n",
      "Epoch 132/200\n",
      "45/45 [==============================] - 0s 9ms/step - loss: 0.3719 - accuracy: 0.8357 - val_loss: 0.4388 - val_accuracy: 0.7989\n",
      "Epoch 133/200\n",
      "45/45 [==============================] - 0s 8ms/step - loss: 0.3842 - accuracy: 0.8203 - val_loss: 0.4404 - val_accuracy: 0.7989\n",
      "Epoch 134/200\n",
      "45/45 [==============================] - 0s 8ms/step - loss: 0.3940 - accuracy: 0.8154 - val_loss: 0.4366 - val_accuracy: 0.8017\n",
      "Epoch 135/200\n",
      "45/45 [==============================] - 0s 9ms/step - loss: 0.3860 - accuracy: 0.8259 - val_loss: 0.4403 - val_accuracy: 0.7989\n",
      "Epoch 136/200\n",
      "45/45 [==============================] - 0s 9ms/step - loss: 0.3823 - accuracy: 0.8308 - val_loss: 0.4367 - val_accuracy: 0.7989\n",
      "Epoch 137/200\n",
      "45/45 [==============================] - 0s 9ms/step - loss: 0.3769 - accuracy: 0.8280 - val_loss: 0.4345 - val_accuracy: 0.8073\n",
      "Epoch 138/200\n",
      "45/45 [==============================] - 0s 9ms/step - loss: 0.3800 - accuracy: 0.8280 - val_loss: 0.4308 - val_accuracy: 0.8101\n",
      "Epoch 139/200\n",
      "45/45 [==============================] - 0s 9ms/step - loss: 0.3634 - accuracy: 0.8301 - val_loss: 0.4305 - val_accuracy: 0.8073\n",
      "Epoch 140/200\n",
      "45/45 [==============================] - 0s 9ms/step - loss: 0.3741 - accuracy: 0.8378 - val_loss: 0.4296 - val_accuracy: 0.8073\n",
      "Epoch 141/200\n",
      "45/45 [==============================] - 0s 9ms/step - loss: 0.3815 - accuracy: 0.8238 - val_loss: 0.4285 - val_accuracy: 0.8156\n",
      "Epoch 142/200\n",
      "45/45 [==============================] - 0s 9ms/step - loss: 0.3770 - accuracy: 0.8322 - val_loss: 0.4286 - val_accuracy: 0.8045\n",
      "Epoch 143/200\n",
      "45/45 [==============================] - 0s 9ms/step - loss: 0.3683 - accuracy: 0.8371 - val_loss: 0.4291 - val_accuracy: 0.8101\n",
      "Epoch 144/200\n",
      "45/45 [==============================] - 0s 9ms/step - loss: 0.3795 - accuracy: 0.8280 - val_loss: 0.4338 - val_accuracy: 0.8128\n",
      "Epoch 145/200\n",
      "45/45 [==============================] - 0s 9ms/step - loss: 0.3683 - accuracy: 0.8329 - val_loss: 0.4303 - val_accuracy: 0.8101\n",
      "Epoch 146/200\n",
      "45/45 [==============================] - 0s 9ms/step - loss: 0.3570 - accuracy: 0.8350 - val_loss: 0.4289 - val_accuracy: 0.8101\n",
      "Epoch 147/200\n",
      "45/45 [==============================] - 0s 9ms/step - loss: 0.3668 - accuracy: 0.8245 - val_loss: 0.4364 - val_accuracy: 0.8073\n",
      "Epoch 148/200\n",
      "45/45 [==============================] - 0s 9ms/step - loss: 0.3831 - accuracy: 0.8301 - val_loss: 0.4314 - val_accuracy: 0.8156\n",
      "Epoch 149/200\n",
      "45/45 [==============================] - 0s 9ms/step - loss: 0.3668 - accuracy: 0.8462 - val_loss: 0.4258 - val_accuracy: 0.8045\n",
      "Epoch 150/200\n",
      "45/45 [==============================] - 0s 9ms/step - loss: 0.3693 - accuracy: 0.8252 - val_loss: 0.4262 - val_accuracy: 0.8156\n",
      "Epoch 151/200\n",
      "45/45 [==============================] - 0s 9ms/step - loss: 0.3669 - accuracy: 0.8371 - val_loss: 0.4267 - val_accuracy: 0.8101\n",
      "Epoch 152/200\n",
      "45/45 [==============================] - 0s 9ms/step - loss: 0.3715 - accuracy: 0.8434 - val_loss: 0.4303 - val_accuracy: 0.8128\n",
      "Epoch 153/200\n",
      "45/45 [==============================] - 0s 9ms/step - loss: 0.3576 - accuracy: 0.8538 - val_loss: 0.4264 - val_accuracy: 0.8101\n",
      "Epoch 154/200\n",
      "45/45 [==============================] - 0s 8ms/step - loss: 0.3604 - accuracy: 0.8455 - val_loss: 0.4257 - val_accuracy: 0.8128\n",
      "Epoch 155/200\n",
      "45/45 [==============================] - 0s 9ms/step - loss: 0.3667 - accuracy: 0.8420 - val_loss: 0.4253 - val_accuracy: 0.8156\n",
      "Epoch 156/200\n",
      "45/45 [==============================] - 0s 9ms/step - loss: 0.3700 - accuracy: 0.8434 - val_loss: 0.4245 - val_accuracy: 0.8101\n",
      "Epoch 157/200\n",
      "45/45 [==============================] - 0s 9ms/step - loss: 0.3619 - accuracy: 0.8364 - val_loss: 0.4281 - val_accuracy: 0.8101\n",
      "Epoch 158/200\n",
      "45/45 [==============================] - 0s 9ms/step - loss: 0.3634 - accuracy: 0.8427 - val_loss: 0.4278 - val_accuracy: 0.8045\n",
      "Epoch 159/200\n",
      "45/45 [==============================] - 0s 9ms/step - loss: 0.3714 - accuracy: 0.8343 - val_loss: 0.4257 - val_accuracy: 0.8045\n",
      "Epoch 160/200\n",
      "45/45 [==============================] - 0s 10ms/step - loss: 0.3569 - accuracy: 0.8455 - val_loss: 0.4245 - val_accuracy: 0.8073\n",
      "Epoch 161/200\n",
      "45/45 [==============================] - 0s 8ms/step - loss: 0.3752 - accuracy: 0.8287 - val_loss: 0.4210 - val_accuracy: 0.8101\n",
      "Epoch 162/200\n",
      "45/45 [==============================] - 0s 9ms/step - loss: 0.3451 - accuracy: 0.8510 - val_loss: 0.4215 - val_accuracy: 0.8073\n",
      "Epoch 163/200\n",
      "45/45 [==============================] - 0s 10ms/step - loss: 0.3598 - accuracy: 0.8420 - val_loss: 0.4245 - val_accuracy: 0.8101\n",
      "Epoch 164/200\n",
      "45/45 [==============================] - 0s 10ms/step - loss: 0.3526 - accuracy: 0.8441 - val_loss: 0.4224 - val_accuracy: 0.8128\n",
      "Epoch 165/200\n",
      "45/45 [==============================] - 0s 9ms/step - loss: 0.3646 - accuracy: 0.8364 - val_loss: 0.4239 - val_accuracy: 0.8045\n",
      "Epoch 166/200\n",
      "45/45 [==============================] - 0s 8ms/step - loss: 0.3599 - accuracy: 0.8469 - val_loss: 0.4231 - val_accuracy: 0.8073\n",
      "Epoch 167/200\n",
      "45/45 [==============================] - 0s 5ms/step - loss: 0.3522 - accuracy: 0.8483 - val_loss: 0.4177 - val_accuracy: 0.8128\n",
      "Epoch 168/200\n",
      "45/45 [==============================] - 0s 4ms/step - loss: 0.3442 - accuracy: 0.8510 - val_loss: 0.4232 - val_accuracy: 0.8101\n",
      "Epoch 169/200\n",
      "45/45 [==============================] - 0s 5ms/step - loss: 0.3448 - accuracy: 0.8455 - val_loss: 0.4230 - val_accuracy: 0.8156\n",
      "Epoch 170/200\n",
      "45/45 [==============================] - 0s 6ms/step - loss: 0.3531 - accuracy: 0.8538 - val_loss: 0.4208 - val_accuracy: 0.8045\n",
      "Epoch 171/200\n",
      "45/45 [==============================] - 0s 6ms/step - loss: 0.3305 - accuracy: 0.8524 - val_loss: 0.4199 - val_accuracy: 0.8128\n",
      "Epoch 172/200\n"
     ]
    },
    {
     "name": "stdout",
     "output_type": "stream",
     "text": [
      "45/45 [==============================] - 0s 6ms/step - loss: 0.3530 - accuracy: 0.8427 - val_loss: 0.4207 - val_accuracy: 0.8101\n",
      "Epoch 173/200\n",
      "45/45 [==============================] - 0s 10ms/step - loss: 0.3632 - accuracy: 0.8301 - val_loss: 0.4156 - val_accuracy: 0.8101\n",
      "Epoch 174/200\n",
      "45/45 [==============================] - 0s 9ms/step - loss: 0.3560 - accuracy: 0.8399 - val_loss: 0.4162 - val_accuracy: 0.8073\n",
      "Epoch 175/200\n",
      "45/45 [==============================] - 0s 9ms/step - loss: 0.3453 - accuracy: 0.8490 - val_loss: 0.4154 - val_accuracy: 0.8128\n",
      "Epoch 176/200\n",
      "45/45 [==============================] - 0s 9ms/step - loss: 0.3399 - accuracy: 0.8531 - val_loss: 0.4160 - val_accuracy: 0.8101\n",
      "Epoch 177/200\n",
      "45/45 [==============================] - 0s 9ms/step - loss: 0.3418 - accuracy: 0.8524 - val_loss: 0.4155 - val_accuracy: 0.8128\n",
      "Epoch 178/200\n",
      "45/45 [==============================] - 0s 9ms/step - loss: 0.3453 - accuracy: 0.8524 - val_loss: 0.4132 - val_accuracy: 0.8156\n",
      "Epoch 179/200\n",
      "45/45 [==============================] - 0s 9ms/step - loss: 0.3469 - accuracy: 0.8434 - val_loss: 0.4132 - val_accuracy: 0.8128\n",
      "Epoch 180/200\n",
      "45/45 [==============================] - 0s 9ms/step - loss: 0.3529 - accuracy: 0.8490 - val_loss: 0.4119 - val_accuracy: 0.8128\n",
      "Epoch 181/200\n",
      "45/45 [==============================] - 0s 10ms/step - loss: 0.3283 - accuracy: 0.8601 - val_loss: 0.4134 - val_accuracy: 0.8184\n",
      "Epoch 182/200\n",
      "45/45 [==============================] - 0s 10ms/step - loss: 0.3253 - accuracy: 0.8531 - val_loss: 0.4171 - val_accuracy: 0.8128\n",
      "Epoch 183/200\n",
      "45/45 [==============================] - 0s 10ms/step - loss: 0.3574 - accuracy: 0.8434 - val_loss: 0.4172 - val_accuracy: 0.8128\n",
      "Epoch 184/200\n",
      "45/45 [==============================] - 0s 10ms/step - loss: 0.3381 - accuracy: 0.8490 - val_loss: 0.4152 - val_accuracy: 0.8045\n",
      "Epoch 185/200\n",
      "45/45 [==============================] - 0s 9ms/step - loss: 0.3342 - accuracy: 0.8427 - val_loss: 0.4171 - val_accuracy: 0.8073\n",
      "Epoch 186/200\n",
      "45/45 [==============================] - 0s 10ms/step - loss: 0.3236 - accuracy: 0.8629 - val_loss: 0.4176 - val_accuracy: 0.8073\n",
      "Epoch 187/200\n",
      "45/45 [==============================] - 0s 9ms/step - loss: 0.3384 - accuracy: 0.8490 - val_loss: 0.4120 - val_accuracy: 0.8184\n",
      "Epoch 188/200\n",
      "45/45 [==============================] - 0s 9ms/step - loss: 0.3410 - accuracy: 0.8601 - val_loss: 0.4073 - val_accuracy: 0.8156\n",
      "Epoch 189/200\n",
      "45/45 [==============================] - 0s 10ms/step - loss: 0.3474 - accuracy: 0.8399 - val_loss: 0.4066 - val_accuracy: 0.8156\n",
      "Epoch 190/200\n",
      "45/45 [==============================] - 0s 10ms/step - loss: 0.3336 - accuracy: 0.8490 - val_loss: 0.4058 - val_accuracy: 0.8128\n",
      "Epoch 191/200\n",
      "45/45 [==============================] - 0s 9ms/step - loss: 0.3555 - accuracy: 0.8448 - val_loss: 0.4082 - val_accuracy: 0.8073\n",
      "Epoch 192/200\n",
      "45/45 [==============================] - 0s 9ms/step - loss: 0.3511 - accuracy: 0.8497 - val_loss: 0.4058 - val_accuracy: 0.8128\n",
      "Epoch 193/200\n",
      "45/45 [==============================] - 0s 9ms/step - loss: 0.3170 - accuracy: 0.8692 - val_loss: 0.4061 - val_accuracy: 0.8184\n",
      "Epoch 194/200\n",
      "45/45 [==============================] - 0s 9ms/step - loss: 0.3308 - accuracy: 0.8608 - val_loss: 0.4076 - val_accuracy: 0.8156\n",
      "Epoch 195/200\n",
      "45/45 [==============================] - 0s 9ms/step - loss: 0.3086 - accuracy: 0.8720 - val_loss: 0.4113 - val_accuracy: 0.8156\n",
      "Epoch 196/200\n",
      "45/45 [==============================] - 0s 9ms/step - loss: 0.3196 - accuracy: 0.8622 - val_loss: 0.4127 - val_accuracy: 0.8101\n",
      "Epoch 197/200\n",
      "45/45 [==============================] - 0s 9ms/step - loss: 0.3357 - accuracy: 0.8510 - val_loss: 0.4126 - val_accuracy: 0.8128\n",
      "Epoch 198/200\n",
      "45/45 [==============================] - 0s 9ms/step - loss: 0.3217 - accuracy: 0.8580 - val_loss: 0.4090 - val_accuracy: 0.8101\n",
      "Epoch 199/200\n",
      "45/45 [==============================] - 0s 9ms/step - loss: 0.3304 - accuracy: 0.8503 - val_loss: 0.4071 - val_accuracy: 0.8156\n",
      "Epoch 200/200\n",
      "45/45 [==============================] - 0s 9ms/step - loss: 0.3228 - accuracy: 0.8629 - val_loss: 0.4107 - val_accuracy: 0.8073\n",
      "=====================================================================\n",
      "45/45 [==============================] - 0s 3ms/step - loss: 0.2517 - accuracy: 0.8993\n",
      "Train score: [0.2516773045063019, 0.8993006944656372]\n",
      "12/12 [==============================] - 0s 3ms/step - loss: 0.4107 - accuracy: 0.8073\n",
      "Test score: [0.4107111394405365, 0.8072625994682312]\n"
     ]
    }
   ],
   "source": [
    "# 訓練模型\n",
    "r = model.fit(X_train, y_train, validation_data=(X_test, y_test), epochs=200)\n",
    "\n",
    "# 評估模型 - evaluate() returns loss and accuracy\n",
    "print(\"=====================================================================\")\n",
    "print(\"Train score:\", model.evaluate(X_train, y_train))\n",
    "\n",
    "print(\"Test score:\", model.evaluate(X_test, y_test))"
   ]
  },
  {
   "cell_type": "code",
   "execution_count": 16,
   "id": "13deec6d",
   "metadata": {},
   "outputs": [
    {
     "data": {
      "text/plain": [
       "<matplotlib.legend.Legend at 0x1b82fa3a700>"
      ]
     },
     "execution_count": 16,
     "metadata": {},
     "output_type": "execute_result"
    },
    {
     "data": {
      "image/png": "[encoded data removed]",
      "text/plain": [
       "<Figure size 432x288 with 1 Axes>"
      ]
     },
     "metadata": {
      "needs_background": "light"
     },
     "output_type": "display_data"
    }
   ],
   "source": [
    "# 劃出 model.fit() training 和 validating 的 loss\n",
    "import matplotlib.pyplot as plt\n",
    "plt.plot(r.history['loss'], label='loss')\n",
    "plt.plot(r.history['val_loss'], label='val_loss')\n",
    "plt.legend()"
   ]
  },
  {
   "cell_type": "code",
   "execution_count": 17,
   "id": "420ad5dd",
   "metadata": {
    "scrolled": true
   },
   "outputs": [
    {
     "data": {
      "text/plain": [
       "<matplotlib.legend.Legend at 0x1b82faf7dc0>"
      ]
     },
     "execution_count": 17,
     "metadata": {},
     "output_type": "execute_result"
    },
    {
     "data": {
      "image/png": "[encoded data removed]",
      "text/plain": [
       "<Figure size 432x288 with 1 Axes>"
      ]
     },
     "metadata": {
      "needs_background": "light"
     },
     "output_type": "display_data"
    }
   ],
   "source": [
    "# 劃出準確性 accuracy \n",
    "plt.plot(r.history['accuracy'], label='acc')\n",
    "plt.plot(r.history['val_accuracy'], label='val_acc')\n",
    "plt.legend()"
   ]
  },
  {
   "cell_type": "code",
   "execution_count": 18,
   "id": "0803368b",
   "metadata": {},
   "outputs": [
    {
     "data": {
      "text/plain": [
       "array([[136,  27],\n",
       "       [ 42, 153]], dtype=int64)"
      ]
     },
     "execution_count": 18,
     "metadata": {},
     "output_type": "execute_result"
    }
   ],
   "source": [
    "pred_test = model.predict(X_test)\n",
    "pred_test = np.round(pred_test).flatten()\n",
    "cm = confusion_matrix(y_test, pred_test)\n",
    "cm"
   ]
  },
  {
   "cell_type": "markdown",
   "id": "5225e38f",
   "metadata": {},
   "source": [
    "<h1> 1-2 以羅吉斯回歸實作 - 預測毛利率"
   ]
  },
  {
   "cell_type": "code",
   "execution_count": 19,
   "id": "6d609fac",
   "metadata": {},
   "outputs": [
    {
     "name": "stdout",
     "output_type": "stream",
     "text": [
      "[0 0 1 1 0 1 1 0 1 1 0 1 0 0 0 1 1 1 1 1 1 1 1 0 0 1 0 0 0 0 1 1 1 0 0 1 0\n",
      " 0 1 1 0 1 1 1 1 0 1 0 0 0 1 0 1 0 1 0 1 0 1 1 0 0 1 1 0 1 1 1 1 1 1 1 0 1\n",
      " 1 0 0 1 1 0 1 0 1 0 0 1 1 1 1 1 0 1 1 1 0 0 1 0 0 0 1 0 1 1 1 1 0 0 0 0 0\n",
      " 0 1 1 1 0 0 1 0 0 1 0 1 1 0 1 1 0 0 1 1 1 1 0 1 1 0 0 0 0 0 0 0 0 1 1 0 1\n",
      " 0 0 0 1 1 0 1 0 1 0 1 0 1 0 0 0 1 0 0 0 0 1 1 1 0 0 1 0 1 0 0 1 1 1 1 1 1\n",
      " 1 1 0 0 0 0 0 1 1 0 1 1 1 0 1 1 0 0 1 0 0 1 0 1 1 0 0 0 1 1 0 0 0 1 1 1 1\n",
      " 0 1 0 0 1 1 1 0 0 0 1 0 1 0 0 1 0 0 1 0 1 1 0 0 1 0 1 1 0 1 1 0 0 1 0 1 1\n",
      " 1 1 0 1 1 0 1 1 1 0 0 0 0 0 0 1 1 1 1 1 1 0 0 1 1 0 1 0 0 0 0 0 1 0 0 0 0\n",
      " 0 1 0 1 0 0 1 0 0 1 1 0 1 1 0 1 1 1 0 1 1 0 0 0 1 0 0 0 0 0 0 1 1 1 1 1 1\n",
      " 1 1 0 1 1 0 1 0 1 0 0 1 0 1 1 1 0 1 1 0 1 0 1 0 1]\n",
      "==============================\n",
      "0.7132867132867133\n"
     ]
    }
   ],
   "source": [
    "from sklearn.linear_model import LogisticRegression\n",
    "log = LogisticRegression()\n",
    "log.fit(X_train, y_train)\n",
    "\n",
    "log_pred = log.predict(X_test)\n",
    "print(log_pred)\n",
    "print(\"==============================\")\n",
    "print(log.score(X_train, y_train))\n",
    "# print(y_test)"
   ]
  },
  {
   "cell_type": "code",
   "execution_count": 20,
   "id": "cd4f949d",
   "metadata": {},
   "outputs": [
    {
     "data": {
      "text/plain": [
       "0.6899441340782123"
      ]
     },
     "execution_count": 20,
     "metadata": {},
     "output_type": "execute_result"
    }
   ],
   "source": [
    "from sklearn.metrics import accuracy_score\n",
    "accuracy = accuracy_score(y_test, log_pred)\n",
    "accuracy"
   ]
  },
  {
   "cell_type": "code",
   "execution_count": 21,
   "id": "b882b067",
   "metadata": {},
   "outputs": [
    {
     "data": {
      "text/plain": [
       "array([[112,  51],\n",
       "       [ 60, 135]], dtype=int64)"
      ]
     },
     "execution_count": 21,
     "metadata": {},
     "output_type": "execute_result"
    }
   ],
   "source": [
    "cm = confusion_matrix(y_test, log_pred)\n",
    "cm"
   ]
  },
  {
   "cell_type": "markdown",
   "id": "9d1ecbb3",
   "metadata": {},
   "source": [
    "<h2> 1-3 以 SVM 實作 - 預測毛利率"
   ]
  },
  {
   "cell_type": "code",
   "execution_count": 61,
   "id": "4dc3bf4a",
   "metadata": {},
   "outputs": [
    {
     "data": {
      "text/plain": [
       "SVC(C=100000.0, kernel='linear')"
      ]
     },
     "execution_count": 61,
     "metadata": {},
     "output_type": "execute_result"
    }
   ],
   "source": [
    "from sklearn.svm import SVC\n",
    "clf = SVC(C = 1e5, kernel = 'linear')\n",
    "clf.fit(X_train, y_train) "
   ]
  },
  {
   "cell_type": "code",
   "execution_count": 62,
   "id": "75f12e12",
   "metadata": {},
   "outputs": [
    {
     "name": "stdout",
     "output_type": "stream",
     "text": [
      "[1 0 0 1 1 1 0 1 0 1 1 1 1 1 1 1 1 1 1 1 1 1 1 1 1 1 1 1 1 1 1 1 1 1 1 1 1\n",
      " 1 1 1 1 0 1 1 0 1 0 1 1 1 1 0 1 1 1 1 1 1 1 1 1 1 0 1 1 1 0 1 0 1 1 1 1 1\n",
      " 1 1 1 1 1 1 1 1 0 1 1 1 0 1 0 1 1 0 1 1 1 0 1 0 1 1 1 1 1 1 1 1 0 0 0 1 1\n",
      " 1 1 1 0 0 0 0 1 1 1 0 1 1 1 1 0 1 1 1 1 1 1 0 1 0 1 1 1 1 1 1 1 0 1 1 0 1\n",
      " 1 1 1 1 1 0 1 0 1 1 0 1 1 0 1 1 1 1 1 1 1 1 1 1 1 1 1 1 1 1 0 1 1 0 1 1 1\n",
      " 1 1 1 1 1 0 0 1 1 1 1 1 1 0 1 1 1 1 0 1 1 0 1 1 1 1 1 0 1 1 1 1 1 1 1 1 1\n",
      " 1 1 1 1 1 1 1 1 0 0 1 1 1 1 1 1 0 1 0 1 1 1 1 1 1 1 1 1 1 1 1 1 1 0 0 1 0\n",
      " 1 1 0 1 1 0 0 1 1 1 0 1 1 0 1 1 1 1 0 1 1 1 1 1 1 1 1 1 1 0 1 1 0 1 1 1 0\n",
      " 1 0 1 1 1 1 0 1 1 1 1 1 1 1 0 1 0 1 0 0 1 0 0 1 0 1 1 1 1 1 1 1 1 1 1 1 0\n",
      " 1 1 1 1 1 1 1 1 1 1 1 1 0 1 1 1 1 1 1 0 0 1 0 1 1]\n",
      "==============================\n",
      "0.5552447552447553\n"
     ]
    }
   ],
   "source": [
    "pred_clf = clf.predict(X_test)\n",
    "print(pred_clf)\n",
    "print(\"==============================\")\n",
    "print(clf.score(X_train, y_train))"
   ]
  },
  {
   "cell_type": "code",
   "execution_count": 63,
   "id": "632736be",
   "metadata": {},
   "outputs": [
    {
     "data": {
      "text/plain": [
       "0.5"
      ]
     },
     "execution_count": 63,
     "metadata": {},
     "output_type": "execute_result"
    }
   ],
   "source": [
    "accuracy_SVM = accuracy_score(y_test, pred_clf)\n",
    "accuracy_SVM"
   ]
  },
  {
   "cell_type": "markdown",
   "id": "62fe4711",
   "metadata": {},
   "source": [
    "<h1>1.4 以 RandomForestClassifier 實作 毛利率預測"
   ]
  },
  {
   "cell_type": "code",
   "execution_count": 22,
   "id": "174523b4",
   "metadata": {},
   "outputs": [
    {
     "name": "stdout",
     "output_type": "stream",
     "text": [
      "1.0\n"
     ]
    }
   ],
   "source": [
    "#Import Random Forest Model\n",
    "from sklearn.ensemble import RandomForestClassifier\n",
    "\n",
    "#Create a Gaussian Classifier\n",
    "forest=RandomForestClassifier(n_estimators=100)\n",
    "\n",
    "\n",
    "#Train the model using the training sets y_pred=clf.predict(X_test)\n",
    "forest.fit(X_train, y_train)\n",
    "print(forest.score(X_train, y_train))"
   ]
  },
  {
   "cell_type": "code",
   "execution_count": 23,
   "id": "17ab6cb8",
   "metadata": {},
   "outputs": [
    {
     "name": "stdout",
     "output_type": "stream",
     "text": [
      "Accuracy: 0.8379888268156425\n"
     ]
    }
   ],
   "source": [
    "from sklearn.metrics import accuracy_score\n",
    "forest_pred=forest.predict(X_test)\n",
    "print(\"Accuracy:\",accuracy_score(y_test, forest_pred))"
   ]
  },
  {
   "cell_type": "code",
   "execution_count": 24,
   "id": "2c12d233",
   "metadata": {},
   "outputs": [
    {
     "data": {
      "text/plain": [
       "array([[139,  24],\n",
       "       [ 34, 161]], dtype=int64)"
      ]
     },
     "execution_count": 24,
     "metadata": {},
     "output_type": "execute_result"
    }
   ],
   "source": [
    "pred_test = np.round(forest_pred).flatten()\n",
    "cm = confusion_matrix(y_test, pred_test)\n",
    "cm"
   ]
  },
  {
   "cell_type": "markdown",
   "id": "37daa5e7",
   "metadata": {},
   "source": [
    "<h1> 1.5 以 naive_bayes 實作 毛利率預測"
   ]
  },
  {
   "cell_type": "code",
   "execution_count": 25,
   "id": "15203661",
   "metadata": {},
   "outputs": [
    {
     "name": "stdout",
     "output_type": "stream",
     "text": [
      "0.6734265734265734\n"
     ]
    }
   ],
   "source": [
    "from sklearn.naive_bayes import GaussianNB\n",
    "nb = GaussianNB()\n",
    "nb.fit(X_train, y_train)\n",
    "print(nb.score(X_train, y_train))"
   ]
  },
  {
   "cell_type": "code",
   "execution_count": 26,
   "id": "26ef1090",
   "metadata": {},
   "outputs": [
    {
     "name": "stdout",
     "output_type": "stream",
     "text": [
      "Accuracy: 0.6843575418994413\n"
     ]
    }
   ],
   "source": [
    "nb_pred = nb.predict(X_test)\n",
    "print(\"Accuracy:\",accuracy_score(y_test, nb_pred))"
   ]
  },
  {
   "cell_type": "code",
   "execution_count": 27,
   "id": "0ec96b1a",
   "metadata": {},
   "outputs": [
    {
     "data": {
      "text/plain": [
       "array([[107,  56],\n",
       "       [ 57, 138]], dtype=int64)"
      ]
     },
     "execution_count": 27,
     "metadata": {},
     "output_type": "execute_result"
    }
   ],
   "source": [
    "pred_test = np.round(nb_pred).flatten()\n",
    "cm = confusion_matrix(y_test, pred_test)\n",
    "cm"
   ]
  },
  {
   "cell_type": "markdown",
   "id": "b48f655f",
   "metadata": {},
   "source": [
    "<h1> 1.6 以 KNN 實作 毛利率預測"
   ]
  },
  {
   "cell_type": "code",
   "execution_count": 28,
   "id": "f55e6cd7",
   "metadata": {},
   "outputs": [
    {
     "name": "stdout",
     "output_type": "stream",
     "text": [
      "0.893006993006993\n"
     ]
    }
   ],
   "source": [
    "from sklearn.neighbors import KNeighborsClassifier\n",
    "knn = KNeighborsClassifier()\n",
    "knn.fit(X_train, y_train)\n",
    "print(knn.score(X_train, y_train))"
   ]
  },
  {
   "cell_type": "code",
   "execution_count": 29,
   "id": "acd59602",
   "metadata": {},
   "outputs": [
    {
     "name": "stdout",
     "output_type": "stream",
     "text": [
      "Accuracy: 0.8268156424581006\n"
     ]
    }
   ],
   "source": [
    "knn_pred = knn.predict(X_test)\n",
    "print(\"Accuracy:\",accuracy_score(y_test, knn_pred))"
   ]
  },
  {
   "cell_type": "code",
   "execution_count": 30,
   "id": "18f19cf7",
   "metadata": {},
   "outputs": [
    {
     "data": {
      "text/plain": [
       "array([[142,  21],\n",
       "       [ 41, 154]], dtype=int64)"
      ]
     },
     "execution_count": 30,
     "metadata": {},
     "output_type": "execute_result"
    }
   ],
   "source": [
    "pred_test = np.round(knn_pred).flatten()\n",
    "cm = confusion_matrix(y_test, pred_test)\n",
    "cm"
   ]
  },
  {
   "cell_type": "markdown",
   "id": "3042eab3",
   "metadata": {},
   "source": [
    "<h2>初步測試預測\"毛利率\"結果:</h2>\n",
    "<h4>1-1 DNN: \n",
    "    <h4>測試資料集準確度 0.8779; 訓練資料準確度 0.7836</h4>\n",
    "<h4>1-2 Logistic:\n",
    "    <h4>測試資料集準確度 0.7204; 訓練資料準確度 0.6648</h4>\n",
    "<h4>1-3 SVM: \n",
    "    <h4>測試資料集準確度 0.5316; 訓練資料準確度 0.5068</h4>\n",
    "<h4>1-4 RandomForestClassifier: \n",
    "    <h4>測試資料集準確度 1.0000; 訓練資料準確度 0.8366</h4>\n",
    "<h4>1-5 naive_bayes: \n",
    "    <h4>測試資料集準確度 0.5275; 訓練資料準確度 0.4930</h4>\n",
    "<h4>1-6 KNN: \n",
    "    <h4>測試資料集準確度 0.6944; 訓練資料準確度 0.4676</h4>"
   ]
  },
  {
   "cell_type": "markdown",
   "id": "0cb32a58",
   "metadata": {},
   "source": [
    "<h3>目前\"毛利率\"表現最佳者為 RandomForestClassifier，DNN 其次"
   ]
  },
  {
   "cell_type": "markdown",
   "id": "c23c6198",
   "metadata": {},
   "source": [
    "<h3>_____________________分隔_______________________"
   ]
  },
  {
   "cell_type": "markdown",
   "id": "c09ef211",
   "metadata": {},
   "source": [
    "# 以財務數據預測 淨利率"
   ]
  },
  {
   "cell_type": "markdown",
   "id": "7dc8b41f",
   "metadata": {},
   "source": [
    "<h2> 2-1 以 DNN 實作預測 淨利率"
   ]
  },
  {
   "cell_type": "code",
   "execution_count": 31,
   "id": "4edc023f",
   "metadata": {},
   "outputs": [
    {
     "name": "stdout",
     "output_type": "stream",
     "text": [
      "N: 1430 D: 13\n"
     ]
    }
   ],
   "source": [
    "X_train, X_test, y1_train, y1_test = train_test_split(X_scaled, y1, test_size=0.2)\n",
    "N, D = X_train.shape\n",
    "print (\"N:\", N, \"D:\", D)"
   ]
  },
  {
   "cell_type": "code",
   "execution_count": 32,
   "id": "8f7bfb90",
   "metadata": {},
   "outputs": [],
   "source": [
    "# 建立TF模型 for 淨利\n",
    "model1 = tf.keras.models.Sequential([\n",
    "  tf.keras.layers.Input(shape=(D,)),\n",
    "  tf.keras.layers.Dense(64, activation='relu'),\n",
    "  tf.keras.layers.Dropout(0.2),\n",
    "  tf.keras.layers.Dense(32, activation='relu'),\n",
    "  tf.keras.layers.Dropout(0.2),\n",
    "  tf.keras.layers.Dense(1, activation='sigmoid')\n",
    "  ])\n",
    "\n",
    "#編譯模型\n",
    "lr = 0.0003\n",
    "model1.compile(tf.keras.optimizers.Adam(learning_rate = lr),\n",
    "              loss='binary_crossentropy',\n",
    "              metrics=['accuracy'])"
   ]
  },
  {
   "cell_type": "code",
   "execution_count": 33,
   "id": "b7eb8971",
   "metadata": {},
   "outputs": [
    {
     "name": "stdout",
     "output_type": "stream",
     "text": [
      "Model: \"sequential_1\"\n",
      "_________________________________________________________________\n",
      "Layer (type)                 Output Shape              Param #   \n",
      "=================================================================\n",
      "dense_4 (Dense)              (None, 64)                896       \n",
      "_________________________________________________________________\n",
      "dropout_3 (Dropout)          (None, 64)                0         \n",
      "_________________________________________________________________\n",
      "dense_5 (Dense)              (None, 32)                2080      \n",
      "_________________________________________________________________\n",
      "dropout_4 (Dropout)          (None, 32)                0         \n",
      "_________________________________________________________________\n",
      "dense_6 (Dense)              (None, 1)                 33        \n",
      "=================================================================\n",
      "Total params: 3,009\n",
      "Trainable params: 3,009\n",
      "Non-trainable params: 0\n",
      "_________________________________________________________________\n"
     ]
    }
   ],
   "source": [
    "model1.summary()"
   ]
  },
  {
   "cell_type": "code",
   "execution_count": 34,
   "id": "7f791217",
   "metadata": {},
   "outputs": [
    {
     "name": "stdout",
     "output_type": "stream",
     "text": [
      "Epoch 1/120\n",
      "45/45 [==============================] - 2s 18ms/step - loss: 0.6446 - accuracy: 0.6406 - val_loss: 0.5801 - val_accuracy: 0.8715\n",
      "Epoch 2/120\n",
      "45/45 [==============================] - 0s 7ms/step - loss: 0.5544 - accuracy: 0.8049 - val_loss: 0.4932 - val_accuracy: 0.9050\n",
      "Epoch 3/120\n",
      "45/45 [==============================] - 0s 6ms/step - loss: 0.4960 - accuracy: 0.8371 - val_loss: 0.4197 - val_accuracy: 0.9134\n",
      "Epoch 4/120\n",
      "45/45 [==============================] - 0s 7ms/step - loss: 0.4249 - accuracy: 0.8531 - val_loss: 0.3586 - val_accuracy: 0.9190\n",
      "Epoch 5/120\n",
      "45/45 [==============================] - 0s 7ms/step - loss: 0.3661 - accuracy: 0.8762 - val_loss: 0.3099 - val_accuracy: 0.9162\n",
      "Epoch 6/120\n",
      "45/45 [==============================] - 0s 7ms/step - loss: 0.3328 - accuracy: 0.8825 - val_loss: 0.2740 - val_accuracy: 0.9302\n",
      "Epoch 7/120\n",
      "45/45 [==============================] - 0s 6ms/step - loss: 0.2966 - accuracy: 0.9007 - val_loss: 0.2435 - val_accuracy: 0.9330\n",
      "Epoch 8/120\n",
      "45/45 [==============================] - 0s 7ms/step - loss: 0.2642 - accuracy: 0.9042 - val_loss: 0.2207 - val_accuracy: 0.9413\n",
      "Epoch 9/120\n",
      "45/45 [==============================] - 0s 7ms/step - loss: 0.2465 - accuracy: 0.9084 - val_loss: 0.2015 - val_accuracy: 0.9441\n",
      "Epoch 10/120\n",
      "45/45 [==============================] - 0s 8ms/step - loss: 0.2307 - accuracy: 0.9091 - val_loss: 0.1898 - val_accuracy: 0.9469\n",
      "Epoch 11/120\n",
      "45/45 [==============================] - 0s 8ms/step - loss: 0.2065 - accuracy: 0.9245 - val_loss: 0.1778 - val_accuracy: 0.9525\n",
      "Epoch 12/120\n",
      "45/45 [==============================] - 0s 7ms/step - loss: 0.1933 - accuracy: 0.9280 - val_loss: 0.1701 - val_accuracy: 0.9525\n",
      "Epoch 13/120\n",
      "45/45 [==============================] - 0s 7ms/step - loss: 0.1813 - accuracy: 0.9308 - val_loss: 0.1622 - val_accuracy: 0.9497\n",
      "Epoch 14/120\n",
      "45/45 [==============================] - 0s 7ms/step - loss: 0.1752 - accuracy: 0.9287 - val_loss: 0.1576 - val_accuracy: 0.9469\n",
      "Epoch 15/120\n",
      "45/45 [==============================] - 0s 6ms/step - loss: 0.1602 - accuracy: 0.9371 - val_loss: 0.1531 - val_accuracy: 0.9469\n",
      "Epoch 16/120\n",
      "45/45 [==============================] - 0s 7ms/step - loss: 0.1692 - accuracy: 0.9315 - val_loss: 0.1507 - val_accuracy: 0.9497\n",
      "Epoch 17/120\n",
      "45/45 [==============================] - 0s 7ms/step - loss: 0.1569 - accuracy: 0.9385 - val_loss: 0.1471 - val_accuracy: 0.9497\n",
      "Epoch 18/120\n",
      "45/45 [==============================] - 0s 6ms/step - loss: 0.1469 - accuracy: 0.9392 - val_loss: 0.1439 - val_accuracy: 0.9525\n",
      "Epoch 19/120\n",
      "45/45 [==============================] - 0s 7ms/step - loss: 0.1491 - accuracy: 0.9336 - val_loss: 0.1408 - val_accuracy: 0.9525\n",
      "Epoch 20/120\n",
      "45/45 [==============================] - 0s 7ms/step - loss: 0.1456 - accuracy: 0.9350 - val_loss: 0.1393 - val_accuracy: 0.9553\n",
      "Epoch 21/120\n",
      "45/45 [==============================] - 0s 6ms/step - loss: 0.1375 - accuracy: 0.9441 - val_loss: 0.1367 - val_accuracy: 0.9553\n",
      "Epoch 22/120\n",
      "45/45 [==============================] - 0s 7ms/step - loss: 0.1420 - accuracy: 0.9413 - val_loss: 0.1375 - val_accuracy: 0.9553\n",
      "Epoch 23/120\n",
      "45/45 [==============================] - 0s 7ms/step - loss: 0.1342 - accuracy: 0.9490 - val_loss: 0.1341 - val_accuracy: 0.9553\n",
      "Epoch 24/120\n",
      "45/45 [==============================] - 0s 8ms/step - loss: 0.1357 - accuracy: 0.9420 - val_loss: 0.1312 - val_accuracy: 0.9581\n",
      "Epoch 25/120\n",
      "45/45 [==============================] - 0s 7ms/step - loss: 0.1300 - accuracy: 0.9483 - val_loss: 0.1333 - val_accuracy: 0.9553\n",
      "Epoch 26/120\n",
      "45/45 [==============================] - 0s 8ms/step - loss: 0.1310 - accuracy: 0.9469 - val_loss: 0.1313 - val_accuracy: 0.9525\n",
      "Epoch 27/120\n",
      "45/45 [==============================] - 0s 7ms/step - loss: 0.1296 - accuracy: 0.9427 - val_loss: 0.1328 - val_accuracy: 0.9525\n",
      "Epoch 28/120\n",
      "45/45 [==============================] - 0s 7ms/step - loss: 0.1287 - accuracy: 0.9469 - val_loss: 0.1316 - val_accuracy: 0.9525\n",
      "Epoch 29/120\n",
      "45/45 [==============================] - 0s 7ms/step - loss: 0.1189 - accuracy: 0.9510 - val_loss: 0.1289 - val_accuracy: 0.9525\n",
      "Epoch 30/120\n",
      "45/45 [==============================] - 0s 7ms/step - loss: 0.1169 - accuracy: 0.9552 - val_loss: 0.1321 - val_accuracy: 0.9525\n",
      "Epoch 31/120\n",
      "45/45 [==============================] - 0s 7ms/step - loss: 0.1264 - accuracy: 0.9552 - val_loss: 0.1279 - val_accuracy: 0.9497\n",
      "Epoch 32/120\n",
      "45/45 [==============================] - 0s 7ms/step - loss: 0.1165 - accuracy: 0.9510 - val_loss: 0.1287 - val_accuracy: 0.9497\n",
      "Epoch 33/120\n",
      "45/45 [==============================] - 0s 7ms/step - loss: 0.1177 - accuracy: 0.9531 - val_loss: 0.1288 - val_accuracy: 0.9497\n",
      "Epoch 34/120\n",
      "45/45 [==============================] - 0s 8ms/step - loss: 0.1162 - accuracy: 0.9531 - val_loss: 0.1271 - val_accuracy: 0.9497\n",
      "Epoch 35/120\n",
      "45/45 [==============================] - 0s 8ms/step - loss: 0.1148 - accuracy: 0.9538 - val_loss: 0.1235 - val_accuracy: 0.9497\n",
      "Epoch 36/120\n",
      "45/45 [==============================] - 0s 7ms/step - loss: 0.1151 - accuracy: 0.9566 - val_loss: 0.1252 - val_accuracy: 0.9469\n",
      "Epoch 37/120\n",
      "45/45 [==============================] - 0s 7ms/step - loss: 0.1160 - accuracy: 0.9573 - val_loss: 0.1287 - val_accuracy: 0.9525\n",
      "Epoch 38/120\n",
      "45/45 [==============================] - 0s 8ms/step - loss: 0.1119 - accuracy: 0.9524 - val_loss: 0.1245 - val_accuracy: 0.9525\n",
      "Epoch 39/120\n",
      "45/45 [==============================] - 0s 7ms/step - loss: 0.1116 - accuracy: 0.9552 - val_loss: 0.1228 - val_accuracy: 0.9525\n",
      "Epoch 40/120\n",
      "45/45 [==============================] - 0s 6ms/step - loss: 0.1069 - accuracy: 0.9573 - val_loss: 0.1251 - val_accuracy: 0.9497\n",
      "Epoch 41/120\n",
      "45/45 [==============================] - 0s 7ms/step - loss: 0.1079 - accuracy: 0.9594 - val_loss: 0.1241 - val_accuracy: 0.9497\n",
      "Epoch 42/120\n",
      "45/45 [==============================] - 0s 6ms/step - loss: 0.1081 - accuracy: 0.9559 - val_loss: 0.1236 - val_accuracy: 0.9525\n",
      "Epoch 43/120\n",
      "45/45 [==============================] - 0s 7ms/step - loss: 0.1070 - accuracy: 0.9587 - val_loss: 0.1232 - val_accuracy: 0.9553\n",
      "Epoch 44/120\n",
      "45/45 [==============================] - 0s 7ms/step - loss: 0.1044 - accuracy: 0.9608 - val_loss: 0.1259 - val_accuracy: 0.9497\n",
      "Epoch 45/120\n",
      "45/45 [==============================] - 0s 7ms/step - loss: 0.1090 - accuracy: 0.9531 - val_loss: 0.1265 - val_accuracy: 0.9469\n",
      "Epoch 46/120\n",
      "45/45 [==============================] - 0s 7ms/step - loss: 0.1021 - accuracy: 0.9566 - val_loss: 0.1221 - val_accuracy: 0.9469\n",
      "Epoch 47/120\n",
      "45/45 [==============================] - 0s 7ms/step - loss: 0.0992 - accuracy: 0.9587 - val_loss: 0.1205 - val_accuracy: 0.9497\n",
      "Epoch 48/120\n",
      "45/45 [==============================] - 0s 7ms/step - loss: 0.1079 - accuracy: 0.9566 - val_loss: 0.1200 - val_accuracy: 0.9497\n",
      "Epoch 49/120\n",
      "45/45 [==============================] - 0s 7ms/step - loss: 0.1070 - accuracy: 0.9545 - val_loss: 0.1207 - val_accuracy: 0.9553\n",
      "Epoch 50/120\n",
      "45/45 [==============================] - 0s 7ms/step - loss: 0.0959 - accuracy: 0.9643 - val_loss: 0.1228 - val_accuracy: 0.9469\n",
      "Epoch 51/120\n",
      "45/45 [==============================] - 0s 7ms/step - loss: 0.1071 - accuracy: 0.9538 - val_loss: 0.1219 - val_accuracy: 0.9469\n",
      "Epoch 52/120\n",
      "45/45 [==============================] - 0s 6ms/step - loss: 0.1036 - accuracy: 0.9580 - val_loss: 0.1245 - val_accuracy: 0.9469\n",
      "Epoch 53/120\n",
      "45/45 [==============================] - 0s 6ms/step - loss: 0.1110 - accuracy: 0.9559 - val_loss: 0.1214 - val_accuracy: 0.9497\n",
      "Epoch 54/120\n",
      "45/45 [==============================] - 0s 6ms/step - loss: 0.1040 - accuracy: 0.9573 - val_loss: 0.1222 - val_accuracy: 0.9497\n",
      "Epoch 55/120\n",
      "45/45 [==============================] - 0s 6ms/step - loss: 0.0935 - accuracy: 0.9629 - val_loss: 0.1196 - val_accuracy: 0.9497\n",
      "Epoch 56/120\n",
      "45/45 [==============================] - 0s 7ms/step - loss: 0.1070 - accuracy: 0.9608 - val_loss: 0.1179 - val_accuracy: 0.9525\n",
      "Epoch 57/120\n",
      "45/45 [==============================] - 0s 8ms/step - loss: 0.1010 - accuracy: 0.9608 - val_loss: 0.1195 - val_accuracy: 0.9525\n",
      "Epoch 58/120\n",
      "45/45 [==============================] - 0s 7ms/step - loss: 0.0951 - accuracy: 0.9622 - val_loss: 0.1186 - val_accuracy: 0.9525\n"
     ]
    },
    {
     "name": "stdout",
     "output_type": "stream",
     "text": [
      "Epoch 59/120\n",
      "45/45 [==============================] - 0s 6ms/step - loss: 0.0986 - accuracy: 0.9580 - val_loss: 0.1186 - val_accuracy: 0.9525\n",
      "Epoch 60/120\n",
      "45/45 [==============================] - 0s 6ms/step - loss: 0.0913 - accuracy: 0.9713 - val_loss: 0.1198 - val_accuracy: 0.9497\n",
      "Epoch 61/120\n",
      "45/45 [==============================] - 0s 7ms/step - loss: 0.0876 - accuracy: 0.9636 - val_loss: 0.1159 - val_accuracy: 0.9553\n",
      "Epoch 62/120\n",
      "45/45 [==============================] - 0s 7ms/step - loss: 0.0970 - accuracy: 0.9601 - val_loss: 0.1208 - val_accuracy: 0.9525\n",
      "Epoch 63/120\n",
      "45/45 [==============================] - 0s 6ms/step - loss: 0.0922 - accuracy: 0.9636 - val_loss: 0.1193 - val_accuracy: 0.9525\n",
      "Epoch 64/120\n",
      "45/45 [==============================] - 0s 7ms/step - loss: 0.0819 - accuracy: 0.9706 - val_loss: 0.1179 - val_accuracy: 0.9553\n",
      "Epoch 65/120\n",
      "45/45 [==============================] - 0s 6ms/step - loss: 0.0897 - accuracy: 0.9678 - val_loss: 0.1182 - val_accuracy: 0.9553\n",
      "Epoch 66/120\n",
      "45/45 [==============================] - 0s 6ms/step - loss: 0.0853 - accuracy: 0.9685 - val_loss: 0.1174 - val_accuracy: 0.9553\n",
      "Epoch 67/120\n",
      "45/45 [==============================] - 0s 6ms/step - loss: 0.0899 - accuracy: 0.9636 - val_loss: 0.1182 - val_accuracy: 0.9581\n",
      "Epoch 68/120\n",
      "45/45 [==============================] - 0s 6ms/step - loss: 0.0958 - accuracy: 0.9629 - val_loss: 0.1169 - val_accuracy: 0.9581\n",
      "Epoch 69/120\n",
      "45/45 [==============================] - 0s 6ms/step - loss: 0.0942 - accuracy: 0.9671 - val_loss: 0.1151 - val_accuracy: 0.9581\n",
      "Epoch 70/120\n",
      "45/45 [==============================] - 0s 6ms/step - loss: 0.0836 - accuracy: 0.9706 - val_loss: 0.1153 - val_accuracy: 0.9553\n",
      "Epoch 71/120\n",
      "45/45 [==============================] - 0s 6ms/step - loss: 0.0827 - accuracy: 0.9664 - val_loss: 0.1164 - val_accuracy: 0.9553\n",
      "Epoch 72/120\n",
      "45/45 [==============================] - 0s 6ms/step - loss: 0.0833 - accuracy: 0.9657 - val_loss: 0.1138 - val_accuracy: 0.9581\n",
      "Epoch 73/120\n",
      "45/45 [==============================] - 0s 6ms/step - loss: 0.0873 - accuracy: 0.9720 - val_loss: 0.1146 - val_accuracy: 0.9581\n",
      "Epoch 74/120\n",
      "45/45 [==============================] - 0s 6ms/step - loss: 0.0872 - accuracy: 0.9650 - val_loss: 0.1178 - val_accuracy: 0.9581\n",
      "Epoch 75/120\n",
      "45/45 [==============================] - 0s 6ms/step - loss: 0.0839 - accuracy: 0.9643 - val_loss: 0.1151 - val_accuracy: 0.9581\n",
      "Epoch 76/120\n",
      "45/45 [==============================] - 0s 6ms/step - loss: 0.0931 - accuracy: 0.9678 - val_loss: 0.1148 - val_accuracy: 0.9581\n",
      "Epoch 77/120\n",
      "45/45 [==============================] - 0s 6ms/step - loss: 0.0881 - accuracy: 0.9643 - val_loss: 0.1169 - val_accuracy: 0.9553\n",
      "Epoch 78/120\n",
      "45/45 [==============================] - 0s 6ms/step - loss: 0.0820 - accuracy: 0.9657 - val_loss: 0.1138 - val_accuracy: 0.9553\n",
      "Epoch 79/120\n",
      "45/45 [==============================] - 0s 6ms/step - loss: 0.0845 - accuracy: 0.9671 - val_loss: 0.1122 - val_accuracy: 0.9581\n",
      "Epoch 80/120\n",
      "45/45 [==============================] - 0s 6ms/step - loss: 0.0859 - accuracy: 0.9650 - val_loss: 0.1130 - val_accuracy: 0.9581\n",
      "Epoch 81/120\n",
      "45/45 [==============================] - 0s 6ms/step - loss: 0.0870 - accuracy: 0.9678 - val_loss: 0.1154 - val_accuracy: 0.9525\n",
      "Epoch 82/120\n",
      "45/45 [==============================] - 0s 7ms/step - loss: 0.0810 - accuracy: 0.9664 - val_loss: 0.1145 - val_accuracy: 0.9553\n",
      "Epoch 83/120\n",
      "45/45 [==============================] - 0s 7ms/step - loss: 0.0791 - accuracy: 0.9678 - val_loss: 0.1156 - val_accuracy: 0.9581\n",
      "Epoch 84/120\n",
      "45/45 [==============================] - 0s 7ms/step - loss: 0.0842 - accuracy: 0.9685 - val_loss: 0.1138 - val_accuracy: 0.9581\n",
      "Epoch 85/120\n",
      "45/45 [==============================] - 0s 7ms/step - loss: 0.0807 - accuracy: 0.9650 - val_loss: 0.1159 - val_accuracy: 0.9581\n",
      "Epoch 86/120\n",
      "45/45 [==============================] - 0s 7ms/step - loss: 0.0809 - accuracy: 0.9664 - val_loss: 0.1158 - val_accuracy: 0.9581\n",
      "Epoch 87/120\n",
      "45/45 [==============================] - 0s 6ms/step - loss: 0.0822 - accuracy: 0.9664 - val_loss: 0.1162 - val_accuracy: 0.9553\n",
      "Epoch 88/120\n",
      "45/45 [==============================] - 0s 7ms/step - loss: 0.0844 - accuracy: 0.9671 - val_loss: 0.1151 - val_accuracy: 0.9581\n",
      "Epoch 89/120\n",
      "45/45 [==============================] - 0s 7ms/step - loss: 0.0813 - accuracy: 0.9706 - val_loss: 0.1145 - val_accuracy: 0.9581\n",
      "Epoch 90/120\n",
      "45/45 [==============================] - 0s 8ms/step - loss: 0.0932 - accuracy: 0.9587 - val_loss: 0.1133 - val_accuracy: 0.9581\n",
      "Epoch 91/120\n",
      "45/45 [==============================] - 0s 7ms/step - loss: 0.0730 - accuracy: 0.9713 - val_loss: 0.1155 - val_accuracy: 0.9581\n",
      "Epoch 92/120\n",
      "45/45 [==============================] - 0s 7ms/step - loss: 0.0772 - accuracy: 0.9685 - val_loss: 0.1169 - val_accuracy: 0.9553\n",
      "Epoch 93/120\n",
      "45/45 [==============================] - 0s 7ms/step - loss: 0.0804 - accuracy: 0.9685 - val_loss: 0.1122 - val_accuracy: 0.9553\n",
      "Epoch 94/120\n",
      "45/45 [==============================] - 0s 7ms/step - loss: 0.0814 - accuracy: 0.9713 - val_loss: 0.1138 - val_accuracy: 0.9553\n",
      "Epoch 95/120\n",
      "45/45 [==============================] - 0s 7ms/step - loss: 0.0774 - accuracy: 0.9713 - val_loss: 0.1146 - val_accuracy: 0.9553\n",
      "Epoch 96/120\n",
      "45/45 [==============================] - 0s 7ms/step - loss: 0.0726 - accuracy: 0.9727 - val_loss: 0.1157 - val_accuracy: 0.9581\n",
      "Epoch 97/120\n",
      "45/45 [==============================] - 0s 7ms/step - loss: 0.0780 - accuracy: 0.9727 - val_loss: 0.1161 - val_accuracy: 0.9581\n",
      "Epoch 98/120\n",
      "45/45 [==============================] - 0s 7ms/step - loss: 0.0736 - accuracy: 0.9678 - val_loss: 0.1168 - val_accuracy: 0.9581\n",
      "Epoch 99/120\n",
      "45/45 [==============================] - 0s 7ms/step - loss: 0.0740 - accuracy: 0.9713 - val_loss: 0.1148 - val_accuracy: 0.9581\n",
      "Epoch 100/120\n",
      "45/45 [==============================] - 0s 7ms/step - loss: 0.0740 - accuracy: 0.9699 - val_loss: 0.1129 - val_accuracy: 0.9581\n",
      "Epoch 101/120\n",
      "45/45 [==============================] - 0s 7ms/step - loss: 0.0705 - accuracy: 0.9741 - val_loss: 0.1138 - val_accuracy: 0.9553\n",
      "Epoch 102/120\n",
      "45/45 [==============================] - 0s 7ms/step - loss: 0.0792 - accuracy: 0.9699 - val_loss: 0.1129 - val_accuracy: 0.9553\n",
      "Epoch 103/120\n",
      "45/45 [==============================] - 0s 7ms/step - loss: 0.0711 - accuracy: 0.9762 - val_loss: 0.1143 - val_accuracy: 0.9581\n",
      "Epoch 104/120\n",
      "45/45 [==============================] - 0s 7ms/step - loss: 0.0716 - accuracy: 0.9678 - val_loss: 0.1164 - val_accuracy: 0.9525\n",
      "Epoch 105/120\n",
      "45/45 [==============================] - 0s 7ms/step - loss: 0.0753 - accuracy: 0.9734 - val_loss: 0.1156 - val_accuracy: 0.9553\n",
      "Epoch 106/120\n",
      "45/45 [==============================] - 0s 7ms/step - loss: 0.0716 - accuracy: 0.9741 - val_loss: 0.1126 - val_accuracy: 0.9525\n",
      "Epoch 107/120\n",
      "45/45 [==============================] - 0s 7ms/step - loss: 0.0757 - accuracy: 0.9699 - val_loss: 0.1153 - val_accuracy: 0.9553\n",
      "Epoch 108/120\n",
      "45/45 [==============================] - 0s 7ms/step - loss: 0.0718 - accuracy: 0.9741 - val_loss: 0.1148 - val_accuracy: 0.9525\n",
      "Epoch 109/120\n",
      "45/45 [==============================] - 0s 7ms/step - loss: 0.0793 - accuracy: 0.9678 - val_loss: 0.1135 - val_accuracy: 0.9553\n",
      "Epoch 110/120\n",
      "45/45 [==============================] - 0s 7ms/step - loss: 0.0725 - accuracy: 0.9720 - val_loss: 0.1144 - val_accuracy: 0.9553\n",
      "Epoch 111/120\n",
      "45/45 [==============================] - 0s 8ms/step - loss: 0.0764 - accuracy: 0.9713 - val_loss: 0.1122 - val_accuracy: 0.9553\n",
      "Epoch 112/120\n",
      "45/45 [==============================] - 0s 8ms/step - loss: 0.0763 - accuracy: 0.9713 - val_loss: 0.1131 - val_accuracy: 0.9525\n",
      "Epoch 113/120\n",
      "45/45 [==============================] - 0s 7ms/step - loss: 0.0785 - accuracy: 0.9713 - val_loss: 0.1121 - val_accuracy: 0.9525\n",
      "Epoch 114/120\n",
      "45/45 [==============================] - 0s 8ms/step - loss: 0.0751 - accuracy: 0.9699 - val_loss: 0.1142 - val_accuracy: 0.9497\n",
      "Epoch 115/120\n",
      "45/45 [==============================] - 0s 7ms/step - loss: 0.0743 - accuracy: 0.9720 - val_loss: 0.1162 - val_accuracy: 0.9497\n",
      "Epoch 116/120\n"
     ]
    },
    {
     "name": "stdout",
     "output_type": "stream",
     "text": [
      "45/45 [==============================] - 0s 8ms/step - loss: 0.0802 - accuracy: 0.9699 - val_loss: 0.1140 - val_accuracy: 0.9553\n",
      "Epoch 117/120\n",
      "45/45 [==============================] - 0s 7ms/step - loss: 0.0761 - accuracy: 0.9727 - val_loss: 0.1125 - val_accuracy: 0.9553\n",
      "Epoch 118/120\n",
      "45/45 [==============================] - 0s 7ms/step - loss: 0.0689 - accuracy: 0.9713 - val_loss: 0.1157 - val_accuracy: 0.9525\n",
      "Epoch 119/120\n",
      "45/45 [==============================] - 0s 7ms/step - loss: 0.0757 - accuracy: 0.9713 - val_loss: 0.1170 - val_accuracy: 0.9525\n",
      "Epoch 120/120\n",
      "45/45 [==============================] - 0s 7ms/step - loss: 0.0695 - accuracy: 0.9755 - val_loss: 0.1123 - val_accuracy: 0.9553\n",
      "45/45 [==============================] - 0s 3ms/step - loss: 0.0552 - accuracy: 0.9804\n",
      "Train score: [0.055209334939718246, 0.9804195761680603]\n",
      "12/12 [==============================] - 0s 3ms/step - loss: 0.1123 - accuracy: 0.9553\n",
      "Test score: [0.11231399327516556, 0.9553072452545166]\n"
     ]
    }
   ],
   "source": [
    "# 訓練模型\n",
    "r1 = model1.fit(X_train, y1_train, validation_data=(X_test, y1_test), epochs=120)\n",
    "\n",
    "# 評估模型 - evaluate() returns loss and accuracy\n",
    "print(\"Train score:\", model1.evaluate(X_train, y1_train))\n",
    "print(\"Test score:\", model1.evaluate(X_test, y1_test))"
   ]
  },
  {
   "cell_type": "code",
   "execution_count": 35,
   "id": "d49212cb",
   "metadata": {},
   "outputs": [
    {
     "data": {
      "text/plain": [
       "<matplotlib.legend.Legend at 0x1b8310446d0>"
      ]
     },
     "execution_count": 35,
     "metadata": {},
     "output_type": "execute_result"
    },
    {
     "data": {
      "image/png": "[encoded data removed]",
      "text/plain": [
       "<Figure size 432x288 with 1 Axes>"
      ]
     },
     "metadata": {
      "needs_background": "light"
     },
     "output_type": "display_data"
    }
   ],
   "source": [
    "# 劃出 model.fit() training 和 validating 的 loss\n",
    "import matplotlib.pyplot as plt\n",
    "plt.plot(r1.history['loss'], label='loss')\n",
    "plt.plot(r1.history['val_loss'], label='val_loss')\n",
    "plt.legend()"
   ]
  },
  {
   "cell_type": "code",
   "execution_count": 36,
   "id": "b8c4a154",
   "metadata": {
    "scrolled": true
   },
   "outputs": [
    {
     "data": {
      "text/plain": [
       "<matplotlib.legend.Legend at 0x1b831037160>"
      ]
     },
     "execution_count": 36,
     "metadata": {},
     "output_type": "execute_result"
    },
    {
     "data": {
      "image/png": "[encoded data removed]",
      "text/plain": [
       "<Figure size 432x288 with 1 Axes>"
      ]
     },
     "metadata": {
      "needs_background": "light"
     },
     "output_type": "display_data"
    }
   ],
   "source": [
    "# 劃出準確性 accuracy \n",
    "plt.plot(r1.history['accuracy'], label='acc')\n",
    "plt.plot(r1.history['val_accuracy'], label='val_acc')\n",
    "plt.legend()"
   ]
  },
  {
   "cell_type": "code",
   "execution_count": 45,
   "id": "06b7c26a",
   "metadata": {},
   "outputs": [],
   "source": [
    "model.save('./net_profit_model.h5')"
   ]
  },
  {
   "cell_type": "markdown",
   "id": "adb3180e",
   "metadata": {},
   "source": [
    "<h1> 2-2 用羅吉斯回歸實作 預測淨利率"
   ]
  },
  {
   "cell_type": "code",
   "execution_count": 37,
   "id": "7154de80",
   "metadata": {},
   "outputs": [
    {
     "name": "stdout",
     "output_type": "stream",
     "text": [
      "[1 1 1 1 1 1 1 1 1 0 1 1 1 1 1 1 1 0 1 1 1 1 1 1 1 1 1 1 1 1 1 1 1 0 1 1 0\n",
      " 1 1 1 1 1 1 0 1 1 0 0 1 1 1 1 1 1 0 1 1 1 1 1 1 0 0 1 1 1 1 1 1 1 1 1 0 1\n",
      " 1 1 1 0 0 1 1 1 0 1 1 0 1 0 1 1 1 1 1 1 1 1 1 1 0 0 1 1 1 1 1 1 0 1 1 1 0\n",
      " 0 1 0 1 1 1 1 1 1 0 0 1 1 1 1 1 0 1 1 1 1 0 1 1 1 1 1 1 0 1 0 1 1 1 1 1 1\n",
      " 1 1 1 0 1 1 1 1 1 0 0 1 0 1 0 0 1 1 1 0 1 1 0 1 1 1 1 1 0 1 1 1 0 0 1 1 1\n",
      " 1 0 1 0 0 1 0 1 1 1 1 1 1 1 1 1 1 0 1 1 0 1 0 1 0 0 1 1 1 0 1 1 1 1 1 0 1\n",
      " 1 1 0 1 0 0 0 0 1 0 1 0 1 1 1 1 0 1 0 1 0 1 0 0 1 1 0 0 1 0 1 1 0 1 1 1 1\n",
      " 1 1 1 1 0 0 1 0 1 0 1 1 1 1 1 1 1 1 1 1 1 1 0 1 1 0 1 1 1 1 0 0 1 1 1 0 1\n",
      " 1 1 1 1 0 1 1 0 1 1 1 1 1 1 1 0 0 1 0 1 1 1 1 1 0 1 1 1 1 0 0 1 1 1 0 1 1\n",
      " 0 0 0 1 1 1 1 1 0 1 1 0 0 1 0 1 1 1 1 1 1 1 1 1 1]\n",
      "==============================\n",
      "0.9643356643356643\n"
     ]
    }
   ],
   "source": [
    "from sklearn.linear_model import LogisticRegression\n",
    "log1 = LogisticRegression()\n",
    "log1.fit(X_train, y1_train)\n",
    "\n",
    "pred1 = log1.predict(X_test)\n",
    "print(pred1)\n",
    "print(\"==============================\")\n",
    "print(log1.score(X_train, y1_train))\n",
    "# print(y_test)"
   ]
  },
  {
   "cell_type": "code",
   "execution_count": 38,
   "id": "589ce6e9",
   "metadata": {},
   "outputs": [
    {
     "data": {
      "text/plain": [
       "0.9636871508379888"
      ]
     },
     "execution_count": 38,
     "metadata": {},
     "output_type": "execute_result"
    }
   ],
   "source": [
    "accuracy1 = accuracy_score(y1_test, pred1)\n",
    "accuracy1"
   ]
  },
  {
   "cell_type": "markdown",
   "id": "30a6e31d",
   "metadata": {},
   "source": [
    "<h1> 2-3 以 SVM 實作 預測淨利率"
   ]
  },
  {
   "cell_type": "code",
   "execution_count": 64,
   "id": "fbb27d86",
   "metadata": {},
   "outputs": [
    {
     "name": "stdout",
     "output_type": "stream",
     "text": [
      "[1 1 1 1 1 1 1 1 1 0 1 1 1 1 1 1 1 0 1 1 1 1 1 1 1 1 1 1 1 1 1 1 1 0 1 1 0\n",
      " 1 1 1 1 1 1 0 1 1 0 0 1 1 1 1 1 1 0 1 1 1 1 1 1 0 0 1 1 1 1 1 1 1 1 1 0 1\n",
      " 1 1 1 0 0 1 1 1 0 1 1 0 1 0 1 1 1 1 1 1 1 1 1 1 0 0 1 1 1 1 1 1 0 1 1 1 0\n",
      " 0 1 0 1 1 1 1 1 1 0 0 1 1 1 1 1 0 1 1 1 1 0 1 1 1 1 1 1 0 1 0 1 1 1 1 1 1\n",
      " 1 1 1 0 1 1 1 1 0 0 0 1 0 1 0 0 1 1 1 0 1 1 0 1 1 1 1 1 0 1 1 1 0 0 1 1 1\n",
      " 1 0 1 0 0 1 0 1 1 1 1 1 1 1 1 1 1 0 1 1 0 1 1 1 0 0 1 1 1 0 1 1 1 1 1 0 1\n",
      " 1 1 0 1 0 0 0 0 1 0 1 0 1 1 1 1 0 1 0 1 0 1 0 0 1 1 0 0 1 0 1 1 0 1 1 1 1\n",
      " 1 1 1 1 0 0 1 0 1 0 1 1 1 1 1 1 1 1 1 1 1 1 1 1 1 0 1 1 1 1 0 0 1 1 1 0 1\n",
      " 1 1 1 1 0 1 1 0 1 1 1 1 1 0 1 0 0 1 0 1 1 1 1 1 0 0 1 1 1 0 0 1 1 1 0 1 1\n",
      " 0 0 0 1 1 1 1 1 0 1 1 0 0 1 0 1 1 1 1 1 1 1 1 1 1]\n",
      "==============================\n",
      "0.9671328671328672\n"
     ]
    }
   ],
   "source": [
    "from sklearn.svm import SVC\n",
    "clf1 = SVC(C = 1e5, kernel = 'linear')\n",
    "clf1.fit(X_train, y1_train) \n",
    "pred_clf1 = clf1.predict(X_test)\n",
    "print(pred_clf1)\n",
    "print(\"==============================\")\n",
    "print(clf1.score(X_train, y1_train))"
   ]
  },
  {
   "cell_type": "code",
   "execution_count": 65,
   "id": "a68b5de0",
   "metadata": {},
   "outputs": [
    {
     "data": {
      "text/plain": [
       "0.9553072625698324"
      ]
     },
     "execution_count": 65,
     "metadata": {},
     "output_type": "execute_result"
    }
   ],
   "source": [
    "accuracy_SVM = accuracy_score(y1_test, pred_clf1)\n",
    "accuracy_SVM"
   ]
  },
  {
   "cell_type": "markdown",
   "id": "63c1c911",
   "metadata": {},
   "source": [
    "<h1>2.4 以 RandomForestClassifier 實作 淨利率 預測"
   ]
  },
  {
   "cell_type": "code",
   "execution_count": 39,
   "id": "d644e176",
   "metadata": {},
   "outputs": [
    {
     "name": "stdout",
     "output_type": "stream",
     "text": [
      "1.0\n"
     ]
    }
   ],
   "source": [
    "#Import Random Forest Model\n",
    "from sklearn.ensemble import RandomForestClassifier\n",
    "\n",
    "#Create a Gaussian Classifier\n",
    "forest1=RandomForestClassifier(n_estimators=100)\n",
    "\n",
    "#Train the model using the training sets y_pred=clf.predict(X_test)\n",
    "forest1.fit(X_train, y1_train)\n",
    "print(forest1.score(X_train, y1_train))"
   ]
  },
  {
   "cell_type": "code",
   "execution_count": 40,
   "id": "da84a36a",
   "metadata": {},
   "outputs": [
    {
     "name": "stdout",
     "output_type": "stream",
     "text": [
      "Accuracy: 0.9636871508379888\n"
     ]
    }
   ],
   "source": [
    "from sklearn.metrics import accuracy_score\n",
    "forest_pred1=forest1.predict(X_test)\n",
    "print(\"Accuracy:\",accuracy_score(y1_test, forest_pred1))"
   ]
  },
  {
   "cell_type": "markdown",
   "id": "f06e1f83",
   "metadata": {},
   "source": [
    "<h1> 2.5 以 naive_bayes 實作 淨利率 預測"
   ]
  },
  {
   "cell_type": "code",
   "execution_count": 41,
   "id": "61d72300",
   "metadata": {},
   "outputs": [
    {
     "name": "stdout",
     "output_type": "stream",
     "text": [
      "0.8566433566433567\n"
     ]
    }
   ],
   "source": [
    "from sklearn.naive_bayes import GaussianNB\n",
    "nb1 = GaussianNB()\n",
    "nb1.fit(X_train, y1_train)\n",
    "print(nb1.score(X_train, y1_train))"
   ]
  },
  {
   "cell_type": "code",
   "execution_count": 42,
   "id": "9a3bda01",
   "metadata": {},
   "outputs": [
    {
     "name": "stdout",
     "output_type": "stream",
     "text": [
      "Accuracy: 0.8519553072625698\n"
     ]
    }
   ],
   "source": [
    "nb1_pred = nb1.predict(X_test)\n",
    "print(\"Accuracy:\",accuracy_score(y1_test, nb1_pred))"
   ]
  },
  {
   "cell_type": "markdown",
   "id": "92776f00",
   "metadata": {},
   "source": [
    "<h1> 2.6 以 KNN 實作 淨利率 預測"
   ]
  },
  {
   "cell_type": "code",
   "execution_count": 43,
   "id": "2a0780ab",
   "metadata": {},
   "outputs": [
    {
     "name": "stdout",
     "output_type": "stream",
     "text": [
      "0.9300699300699301\n"
     ]
    }
   ],
   "source": [
    "from sklearn.neighbors import KNeighborsClassifier\n",
    "knn1 = KNeighborsClassifier()\n",
    "knn1.fit(X_train, y1_train)\n",
    "print(knn1.score(X_train, y1_train))"
   ]
  },
  {
   "cell_type": "code",
   "execution_count": 44,
   "id": "fc143d25",
   "metadata": {},
   "outputs": [
    {
     "name": "stdout",
     "output_type": "stream",
     "text": [
      "Accuracy: 0.9050279329608939\n"
     ]
    }
   ],
   "source": [
    "knn1_pred = knn1.predict(X_test)\n",
    "print(\"Accuracy:\",accuracy_score(y1_test, knn1_pred))"
   ]
  },
  {
   "cell_type": "markdown",
   "id": "49ec323b",
   "metadata": {},
   "source": [
    "<h3>初步測試預測\"淨利率\"結果:</h3>\n",
    "<h4>1-1 DNN: \n",
    "    <h4>測試資料集準確度 0.8237; 訓練資料準確度 0.7753</h4>\n",
    "<h4>1-2 Logistic:\n",
    "    <h4>測試資料集準確度 0.7428 ; 訓練資料準確度 0.7726</h4>\n",
    "<h4>1-3 SVM: \n",
    "    <h4>測試資料集準確度 0.7479; 訓練資料準確度 0.7239</h4>\n",
    "<h4>1-4 RandomForestClassifier: \n",
    "    <h4>測試資料集準確度 1.0000; 訓練資料準確度 0.7915</h4>\n",
    "<h4>1-5 naive_bayes: \n",
    "    <h4>測試資料集準確度 0.7246; 訓練資料準確度 0.7211</h4>\n",
    "<h4>1-6 KNN: \n",
    "    <h4>測試資料集準確度 0.8655; 訓練資料準確度 0.8169</h4>"
   ]
  },
  {
   "cell_type": "markdown",
   "id": "1af31c62",
   "metadata": {},
   "source": [
    "<h3>目前 \"淨利率預測\" 各演算法表現相近，最佳者為 KNN ，RandomForestClassifier 其次"
   ]
  },
  {
   "cell_type": "markdown",
   "id": "64e83299",
   "metadata": {},
   "source": [
    "<h3>_____________________分隔_______________________"
   ]
  },
  {
   "cell_type": "markdown",
   "id": "46cfd6d1",
   "metadata": {},
   "source": [
    "# 以財務數據預測 ROE"
   ]
  },
  {
   "cell_type": "code",
   "execution_count": 46,
   "id": "fabd9241",
   "metadata": {},
   "outputs": [
    {
     "name": "stdout",
     "output_type": "stream",
     "text": [
      "N: 1430 D: 13\n"
     ]
    }
   ],
   "source": [
    "X1_train, X1_test, y2_train, y2_test = train_test_split(X1_scaled, y2, test_size=0.2)\n",
    "N, D = X1_train.shape\n",
    "print (\"N:\", N, \"D:\", D)"
   ]
  },
  {
   "cell_type": "markdown",
   "id": "4211f7e8",
   "metadata": {},
   "source": [
    "<h2> 3-1 以 DNN 實作預測 ROE"
   ]
  },
  {
   "cell_type": "code",
   "execution_count": 47,
   "id": "5500f53e",
   "metadata": {},
   "outputs": [],
   "source": [
    "# 建立TF模型 for 淨利\n",
    "model3 = tf.keras.models.Sequential([\n",
    "  tf.keras.layers.Input(shape=(D,)),\n",
    "  tf.keras.layers.Dense(64, activation='relu'),\n",
    "  tf.keras.layers.Dropout(0.2),\n",
    "  tf.keras.layers.Dense(32, activation='relu'),\n",
    "  tf.keras.layers.Dropout(0.2),\n",
    "  tf.keras.layers.Dense(1, activation='sigmoid')\n",
    "  ])\n",
    "\n",
    "#編譯模型\n",
    "lr = 0.0003\n",
    "model3.compile(tf.keras.optimizers.Adam(learning_rate = lr),\n",
    "              loss='binary_crossentropy',\n",
    "              metrics=['accuracy'])"
   ]
  },
  {
   "cell_type": "code",
   "execution_count": 48,
   "id": "6c658781",
   "metadata": {},
   "outputs": [
    {
     "name": "stdout",
     "output_type": "stream",
     "text": [
      "Model: \"sequential_2\"\n",
      "_________________________________________________________________\n",
      "Layer (type)                 Output Shape              Param #   \n",
      "=================================================================\n",
      "dense_7 (Dense)              (None, 64)                896       \n",
      "_________________________________________________________________\n",
      "dropout_5 (Dropout)          (None, 64)                0         \n",
      "_________________________________________________________________\n",
      "dense_8 (Dense)              (None, 32)                2080      \n",
      "_________________________________________________________________\n",
      "dropout_6 (Dropout)          (None, 32)                0         \n",
      "_________________________________________________________________\n",
      "dense_9 (Dense)              (None, 1)                 33        \n",
      "=================================================================\n",
      "Total params: 3,009\n",
      "Trainable params: 3,009\n",
      "Non-trainable params: 0\n",
      "_________________________________________________________________\n"
     ]
    }
   ],
   "source": [
    "model3.summary()"
   ]
  },
  {
   "cell_type": "code",
   "execution_count": 49,
   "id": "87ebd2d2",
   "metadata": {},
   "outputs": [
    {
     "name": "stdout",
     "output_type": "stream",
     "text": [
      "Epoch 1/120\n",
      "45/45 [==============================] - 2s 11ms/step - loss: 0.7206 - accuracy: 0.5070 - val_loss: 0.6629 - val_accuracy: 0.4888\n",
      "Epoch 2/120\n",
      "45/45 [==============================] - 0s 6ms/step - loss: 0.6306 - accuracy: 0.6203 - val_loss: 0.5807 - val_accuracy: 0.7263\n",
      "Epoch 3/120\n",
      "45/45 [==============================] - 0s 7ms/step - loss: 0.5695 - accuracy: 0.7210 - val_loss: 0.5175 - val_accuracy: 0.8184\n",
      "Epoch 4/120\n",
      "45/45 [==============================] - 0s 6ms/step - loss: 0.5100 - accuracy: 0.8091 - val_loss: 0.4584 - val_accuracy: 0.8799\n",
      "Epoch 5/120\n",
      "45/45 [==============================] - 0s 7ms/step - loss: 0.4556 - accuracy: 0.8497 - val_loss: 0.4033 - val_accuracy: 0.9022\n",
      "Epoch 6/120\n",
      "45/45 [==============================] - 0s 8ms/step - loss: 0.3987 - accuracy: 0.8825 - val_loss: 0.3519 - val_accuracy: 0.9162\n",
      "Epoch 7/120\n",
      "45/45 [==============================] - 0s 8ms/step - loss: 0.3568 - accuracy: 0.8888 - val_loss: 0.3068 - val_accuracy: 0.9358\n",
      "Epoch 8/120\n",
      "45/45 [==============================] - 0s 7ms/step - loss: 0.3151 - accuracy: 0.9112 - val_loss: 0.2698 - val_accuracy: 0.9497\n",
      "Epoch 9/120\n",
      "45/45 [==============================] - 0s 7ms/step - loss: 0.2756 - accuracy: 0.9217 - val_loss: 0.2363 - val_accuracy: 0.9413\n",
      "Epoch 10/120\n",
      "45/45 [==============================] - 0s 7ms/step - loss: 0.2505 - accuracy: 0.9196 - val_loss: 0.2081 - val_accuracy: 0.9525\n",
      "Epoch 11/120\n",
      "45/45 [==============================] - 0s 7ms/step - loss: 0.2279 - accuracy: 0.9329 - val_loss: 0.1856 - val_accuracy: 0.9581\n",
      "Epoch 12/120\n",
      "45/45 [==============================] - 0s 7ms/step - loss: 0.1997 - accuracy: 0.9420 - val_loss: 0.1680 - val_accuracy: 0.9609\n",
      "Epoch 13/120\n",
      "45/45 [==============================] - 0s 7ms/step - loss: 0.1796 - accuracy: 0.9413 - val_loss: 0.1526 - val_accuracy: 0.9637\n",
      "Epoch 14/120\n",
      "45/45 [==============================] - 0s 8ms/step - loss: 0.1751 - accuracy: 0.9434 - val_loss: 0.1408 - val_accuracy: 0.9637\n",
      "Epoch 15/120\n",
      "45/45 [==============================] - 0s 9ms/step - loss: 0.1605 - accuracy: 0.9469 - val_loss: 0.1292 - val_accuracy: 0.9637\n",
      "Epoch 16/120\n",
      "45/45 [==============================] - 0s 8ms/step - loss: 0.1501 - accuracy: 0.9497 - val_loss: 0.1194 - val_accuracy: 0.9637\n",
      "Epoch 17/120\n",
      "45/45 [==============================] - 0s 8ms/step - loss: 0.1451 - accuracy: 0.9538 - val_loss: 0.1120 - val_accuracy: 0.9665\n",
      "Epoch 18/120\n",
      "45/45 [==============================] - 0s 7ms/step - loss: 0.1290 - accuracy: 0.9608 - val_loss: 0.1059 - val_accuracy: 0.9665\n",
      "Epoch 19/120\n",
      "45/45 [==============================] - 0s 7ms/step - loss: 0.1278 - accuracy: 0.9559 - val_loss: 0.1004 - val_accuracy: 0.9637\n",
      "Epoch 20/120\n",
      "45/45 [==============================] - 0s 6ms/step - loss: 0.1235 - accuracy: 0.9643 - val_loss: 0.0955 - val_accuracy: 0.9665\n",
      "Epoch 21/120\n",
      "45/45 [==============================] - 0s 7ms/step - loss: 0.1076 - accuracy: 0.9685 - val_loss: 0.0906 - val_accuracy: 0.9665\n",
      "Epoch 22/120\n",
      "45/45 [==============================] - 0s 7ms/step - loss: 0.1077 - accuracy: 0.9601 - val_loss: 0.0869 - val_accuracy: 0.9693\n",
      "Epoch 23/120\n",
      "45/45 [==============================] - 0s 7ms/step - loss: 0.1011 - accuracy: 0.9608 - val_loss: 0.0834 - val_accuracy: 0.9693\n",
      "Epoch 24/120\n",
      "45/45 [==============================] - 0s 7ms/step - loss: 0.1037 - accuracy: 0.9671 - val_loss: 0.0804 - val_accuracy: 0.9693\n",
      "Epoch 25/120\n",
      "45/45 [==============================] - 0s 8ms/step - loss: 0.0932 - accuracy: 0.9657 - val_loss: 0.0783 - val_accuracy: 0.9721\n",
      "Epoch 26/120\n",
      "45/45 [==============================] - 0s 8ms/step - loss: 0.0881 - accuracy: 0.9678 - val_loss: 0.0751 - val_accuracy: 0.9693\n",
      "Epoch 27/120\n",
      "45/45 [==============================] - 0s 7ms/step - loss: 0.0858 - accuracy: 0.9650 - val_loss: 0.0728 - val_accuracy: 0.9693\n",
      "Epoch 28/120\n",
      "45/45 [==============================] - 0s 8ms/step - loss: 0.0834 - accuracy: 0.9699 - val_loss: 0.0719 - val_accuracy: 0.9721\n",
      "Epoch 29/120\n",
      "45/45 [==============================] - 0s 7ms/step - loss: 0.0806 - accuracy: 0.9741 - val_loss: 0.0692 - val_accuracy: 0.9693\n",
      "Epoch 30/120\n",
      "45/45 [==============================] - 0s 6ms/step - loss: 0.0750 - accuracy: 0.9769 - val_loss: 0.0676 - val_accuracy: 0.9721\n",
      "Epoch 31/120\n",
      "45/45 [==============================] - 0s 3ms/step - loss: 0.0791 - accuracy: 0.9727 - val_loss: 0.0665 - val_accuracy: 0.9721\n",
      "Epoch 32/120\n",
      "45/45 [==============================] - 0s 4ms/step - loss: 0.0738 - accuracy: 0.9748 - val_loss: 0.0649 - val_accuracy: 0.9721\n",
      "Epoch 33/120\n",
      "45/45 [==============================] - 0s 4ms/step - loss: 0.0787 - accuracy: 0.9713 - val_loss: 0.0639 - val_accuracy: 0.9721\n",
      "Epoch 34/120\n",
      "45/45 [==============================] - 0s 4ms/step - loss: 0.0752 - accuracy: 0.9685 - val_loss: 0.0628 - val_accuracy: 0.9721\n",
      "Epoch 35/120\n",
      "45/45 [==============================] - 0s 4ms/step - loss: 0.0712 - accuracy: 0.9678 - val_loss: 0.0602 - val_accuracy: 0.9721\n",
      "Epoch 36/120\n",
      "45/45 [==============================] - 0s 5ms/step - loss: 0.0735 - accuracy: 0.9762 - val_loss: 0.0597 - val_accuracy: 0.9721\n",
      "Epoch 37/120\n",
      "45/45 [==============================] - 0s 8ms/step - loss: 0.0662 - accuracy: 0.9783 - val_loss: 0.0585 - val_accuracy: 0.9749\n",
      "Epoch 38/120\n",
      "45/45 [==============================] - 0s 8ms/step - loss: 0.0626 - accuracy: 0.9769 - val_loss: 0.0571 - val_accuracy: 0.9749\n",
      "Epoch 39/120\n",
      "45/45 [==============================] - 0s 7ms/step - loss: 0.0632 - accuracy: 0.9776 - val_loss: 0.0567 - val_accuracy: 0.9777\n",
      "Epoch 40/120\n",
      "45/45 [==============================] - 0s 8ms/step - loss: 0.0572 - accuracy: 0.9825 - val_loss: 0.0557 - val_accuracy: 0.9804\n",
      "Epoch 41/120\n",
      "45/45 [==============================] - 0s 5ms/step - loss: 0.0582 - accuracy: 0.9783 - val_loss: 0.0553 - val_accuracy: 0.9777\n",
      "Epoch 42/120\n",
      "45/45 [==============================] - 0s 4ms/step - loss: 0.0574 - accuracy: 0.9783 - val_loss: 0.0543 - val_accuracy: 0.9777\n",
      "Epoch 43/120\n",
      "45/45 [==============================] - 0s 7ms/step - loss: 0.0551 - accuracy: 0.9783 - val_loss: 0.0533 - val_accuracy: 0.9777\n",
      "Epoch 44/120\n",
      "45/45 [==============================] - 0s 6ms/step - loss: 0.0559 - accuracy: 0.9776 - val_loss: 0.0538 - val_accuracy: 0.9749\n",
      "Epoch 45/120\n",
      "45/45 [==============================] - 0s 7ms/step - loss: 0.0465 - accuracy: 0.9874 - val_loss: 0.0548 - val_accuracy: 0.9693\n",
      "Epoch 46/120\n",
      "45/45 [==============================] - 0s 8ms/step - loss: 0.0495 - accuracy: 0.9832 - val_loss: 0.0543 - val_accuracy: 0.9693\n",
      "Epoch 47/120\n",
      "45/45 [==============================] - 0s 8ms/step - loss: 0.0453 - accuracy: 0.9839 - val_loss: 0.0508 - val_accuracy: 0.9804\n",
      "Epoch 48/120\n",
      "45/45 [==============================] - 0s 8ms/step - loss: 0.0484 - accuracy: 0.9853 - val_loss: 0.0517 - val_accuracy: 0.9777\n",
      "Epoch 49/120\n",
      "45/45 [==============================] - 0s 7ms/step - loss: 0.0472 - accuracy: 0.9846 - val_loss: 0.0516 - val_accuracy: 0.9804\n",
      "Epoch 50/120\n",
      "45/45 [==============================] - 0s 7ms/step - loss: 0.0470 - accuracy: 0.9825 - val_loss: 0.0488 - val_accuracy: 0.9804\n",
      "Epoch 51/120\n",
      "45/45 [==============================] - 0s 7ms/step - loss: 0.0510 - accuracy: 0.9769 - val_loss: 0.0488 - val_accuracy: 0.9777\n",
      "Epoch 52/120\n",
      "45/45 [==============================] - 0s 7ms/step - loss: 0.0410 - accuracy: 0.9895 - val_loss: 0.0489 - val_accuracy: 0.9777\n",
      "Epoch 53/120\n",
      "45/45 [==============================] - 0s 7ms/step - loss: 0.0424 - accuracy: 0.9853 - val_loss: 0.0476 - val_accuracy: 0.9777\n",
      "Epoch 54/120\n",
      "45/45 [==============================] - 0s 6ms/step - loss: 0.0504 - accuracy: 0.9776 - val_loss: 0.0487 - val_accuracy: 0.9721\n",
      "Epoch 55/120\n",
      "45/45 [==============================] - 0s 7ms/step - loss: 0.0507 - accuracy: 0.9804 - val_loss: 0.0458 - val_accuracy: 0.9804\n",
      "Epoch 56/120\n",
      "45/45 [==============================] - 0s 6ms/step - loss: 0.0432 - accuracy: 0.9839 - val_loss: 0.0467 - val_accuracy: 0.9804\n",
      "Epoch 57/120\n",
      "45/45 [==============================] - 0s 7ms/step - loss: 0.0473 - accuracy: 0.9846 - val_loss: 0.0446 - val_accuracy: 0.9832\n",
      "Epoch 58/120\n",
      "45/45 [==============================] - 0s 8ms/step - loss: 0.0425 - accuracy: 0.9797 - val_loss: 0.0454 - val_accuracy: 0.9777\n"
     ]
    },
    {
     "name": "stdout",
     "output_type": "stream",
     "text": [
      "Epoch 59/120\n",
      "45/45 [==============================] - 0s 7ms/step - loss: 0.0379 - accuracy: 0.9874 - val_loss: 0.0454 - val_accuracy: 0.9777\n",
      "Epoch 60/120\n",
      "45/45 [==============================] - 0s 7ms/step - loss: 0.0408 - accuracy: 0.9860 - val_loss: 0.0473 - val_accuracy: 0.9749\n",
      "Epoch 61/120\n",
      "45/45 [==============================] - 0s 6ms/step - loss: 0.0437 - accuracy: 0.9846 - val_loss: 0.0472 - val_accuracy: 0.9777\n",
      "Epoch 62/120\n",
      "45/45 [==============================] - 0s 7ms/step - loss: 0.0400 - accuracy: 0.9860 - val_loss: 0.0459 - val_accuracy: 0.9777\n",
      "Epoch 63/120\n",
      "45/45 [==============================] - 0s 7ms/step - loss: 0.0438 - accuracy: 0.9825 - val_loss: 0.0454 - val_accuracy: 0.9749\n",
      "Epoch 64/120\n",
      "45/45 [==============================] - 0s 7ms/step - loss: 0.0396 - accuracy: 0.9846 - val_loss: 0.0456 - val_accuracy: 0.9804\n",
      "Epoch 65/120\n",
      "45/45 [==============================] - 0s 7ms/step - loss: 0.0319 - accuracy: 0.9923 - val_loss: 0.0442 - val_accuracy: 0.9804\n",
      "Epoch 66/120\n",
      "45/45 [==============================] - 0s 6ms/step - loss: 0.0376 - accuracy: 0.9860 - val_loss: 0.0447 - val_accuracy: 0.9777\n",
      "Epoch 67/120\n",
      "45/45 [==============================] - 0s 8ms/step - loss: 0.0349 - accuracy: 0.9874 - val_loss: 0.0452 - val_accuracy: 0.9777\n",
      "Epoch 68/120\n",
      "45/45 [==============================] - 0s 7ms/step - loss: 0.0305 - accuracy: 0.9888 - val_loss: 0.0440 - val_accuracy: 0.9804\n",
      "Epoch 69/120\n",
      "45/45 [==============================] - 0s 7ms/step - loss: 0.0335 - accuracy: 0.9860 - val_loss: 0.0456 - val_accuracy: 0.9777\n",
      "Epoch 70/120\n",
      "45/45 [==============================] - 0s 7ms/step - loss: 0.0274 - accuracy: 0.9888 - val_loss: 0.0439 - val_accuracy: 0.9777\n",
      "Epoch 71/120\n",
      "45/45 [==============================] - 0s 7ms/step - loss: 0.0258 - accuracy: 0.9916 - val_loss: 0.0442 - val_accuracy: 0.9777\n",
      "Epoch 72/120\n",
      "45/45 [==============================] - 0s 7ms/step - loss: 0.0295 - accuracy: 0.9881 - val_loss: 0.0450 - val_accuracy: 0.9749\n",
      "Epoch 73/120\n",
      "45/45 [==============================] - 0s 7ms/step - loss: 0.0298 - accuracy: 0.9832 - val_loss: 0.0462 - val_accuracy: 0.9777\n",
      "Epoch 74/120\n",
      "45/45 [==============================] - 0s 7ms/step - loss: 0.0331 - accuracy: 0.9874 - val_loss: 0.0464 - val_accuracy: 0.9777\n",
      "Epoch 75/120\n",
      "45/45 [==============================] - 0s 6ms/step - loss: 0.0276 - accuracy: 0.9895 - val_loss: 0.0447 - val_accuracy: 0.9777\n",
      "Epoch 76/120\n",
      "45/45 [==============================] - 0s 7ms/step - loss: 0.0272 - accuracy: 0.9916 - val_loss: 0.0432 - val_accuracy: 0.9804\n",
      "Epoch 77/120\n",
      "45/45 [==============================] - 0s 6ms/step - loss: 0.0314 - accuracy: 0.9895 - val_loss: 0.0436 - val_accuracy: 0.9777\n",
      "Epoch 78/120\n",
      "45/45 [==============================] - 0s 6ms/step - loss: 0.0240 - accuracy: 0.9937 - val_loss: 0.0432 - val_accuracy: 0.9777\n",
      "Epoch 79/120\n",
      "45/45 [==============================] - 0s 6ms/step - loss: 0.0296 - accuracy: 0.9874 - val_loss: 0.0427 - val_accuracy: 0.9777\n",
      "Epoch 80/120\n",
      "45/45 [==============================] - 0s 6ms/step - loss: 0.0283 - accuracy: 0.9881 - val_loss: 0.0423 - val_accuracy: 0.9804\n",
      "Epoch 81/120\n",
      "45/45 [==============================] - 0s 7ms/step - loss: 0.0307 - accuracy: 0.9874 - val_loss: 0.0441 - val_accuracy: 0.9777\n",
      "Epoch 82/120\n",
      "45/45 [==============================] - 0s 7ms/step - loss: 0.0230 - accuracy: 0.9937 - val_loss: 0.0447 - val_accuracy: 0.9777\n",
      "Epoch 83/120\n",
      "45/45 [==============================] - 0s 6ms/step - loss: 0.0277 - accuracy: 0.9923 - val_loss: 0.0425 - val_accuracy: 0.9777\n",
      "Epoch 84/120\n",
      "45/45 [==============================] - 0s 6ms/step - loss: 0.0319 - accuracy: 0.9867 - val_loss: 0.0410 - val_accuracy: 0.9804\n",
      "Epoch 85/120\n",
      "45/45 [==============================] - 0s 7ms/step - loss: 0.0249 - accuracy: 0.9923 - val_loss: 0.0416 - val_accuracy: 0.9832\n",
      "Epoch 86/120\n",
      "45/45 [==============================] - 0s 7ms/step - loss: 0.0260 - accuracy: 0.9916 - val_loss: 0.0398 - val_accuracy: 0.9804\n",
      "Epoch 87/120\n",
      "45/45 [==============================] - 0s 7ms/step - loss: 0.0278 - accuracy: 0.9909 - val_loss: 0.0406 - val_accuracy: 0.9804\n",
      "Epoch 88/120\n",
      "45/45 [==============================] - 0s 6ms/step - loss: 0.0212 - accuracy: 0.9944 - val_loss: 0.0427 - val_accuracy: 0.9804\n",
      "Epoch 89/120\n",
      "45/45 [==============================] - 0s 6ms/step - loss: 0.0251 - accuracy: 0.9916 - val_loss: 0.0419 - val_accuracy: 0.9777\n",
      "Epoch 90/120\n",
      "45/45 [==============================] - 0s 7ms/step - loss: 0.0221 - accuracy: 0.9923 - val_loss: 0.0409 - val_accuracy: 0.9832\n",
      "Epoch 91/120\n",
      "45/45 [==============================] - 0s 6ms/step - loss: 0.0267 - accuracy: 0.9881 - val_loss: 0.0410 - val_accuracy: 0.9832\n",
      "Epoch 92/120\n",
      "45/45 [==============================] - 0s 6ms/step - loss: 0.0223 - accuracy: 0.9923 - val_loss: 0.0426 - val_accuracy: 0.9777\n",
      "Epoch 93/120\n",
      "45/45 [==============================] - 0s 6ms/step - loss: 0.0260 - accuracy: 0.9937 - val_loss: 0.0425 - val_accuracy: 0.9804\n",
      "Epoch 94/120\n",
      "45/45 [==============================] - 0s 7ms/step - loss: 0.0249 - accuracy: 0.9888 - val_loss: 0.0408 - val_accuracy: 0.9804\n",
      "Epoch 95/120\n",
      "45/45 [==============================] - 0s 7ms/step - loss: 0.0222 - accuracy: 0.9923 - val_loss: 0.0404 - val_accuracy: 0.9832\n",
      "Epoch 96/120\n",
      "45/45 [==============================] - 0s 7ms/step - loss: 0.0204 - accuracy: 0.9937 - val_loss: 0.0399 - val_accuracy: 0.9832\n",
      "Epoch 97/120\n",
      "45/45 [==============================] - 0s 7ms/step - loss: 0.0192 - accuracy: 0.9944 - val_loss: 0.0420 - val_accuracy: 0.9777\n",
      "Epoch 98/120\n",
      "45/45 [==============================] - 0s 7ms/step - loss: 0.0289 - accuracy: 0.9902 - val_loss: 0.0420 - val_accuracy: 0.9777\n",
      "Epoch 99/120\n",
      "45/45 [==============================] - 0s 7ms/step - loss: 0.0191 - accuracy: 0.9944 - val_loss: 0.0425 - val_accuracy: 0.9804\n",
      "Epoch 100/120\n",
      "45/45 [==============================] - 0s 7ms/step - loss: 0.0204 - accuracy: 0.9916 - val_loss: 0.0413 - val_accuracy: 0.9804\n",
      "Epoch 101/120\n",
      "45/45 [==============================] - 0s 6ms/step - loss: 0.0192 - accuracy: 0.9930 - val_loss: 0.0409 - val_accuracy: 0.9804\n",
      "Epoch 102/120\n",
      "45/45 [==============================] - 0s 6ms/step - loss: 0.0224 - accuracy: 0.9923 - val_loss: 0.0431 - val_accuracy: 0.9749\n",
      "Epoch 103/120\n",
      "45/45 [==============================] - 0s 7ms/step - loss: 0.0246 - accuracy: 0.9895 - val_loss: 0.0427 - val_accuracy: 0.9777\n",
      "Epoch 104/120\n",
      "45/45 [==============================] - 0s 7ms/step - loss: 0.0223 - accuracy: 0.9930 - val_loss: 0.0431 - val_accuracy: 0.9804\n",
      "Epoch 105/120\n",
      "45/45 [==============================] - ETA: 0s - loss: 0.0214 - accuracy: 0.98 - 0s 7ms/step - loss: 0.0215 - accuracy: 0.9902 - val_loss: 0.0421 - val_accuracy: 0.9804\n",
      "Epoch 106/120\n",
      "45/45 [==============================] - 0s 7ms/step - loss: 0.0214 - accuracy: 0.9937 - val_loss: 0.0434 - val_accuracy: 0.9777\n",
      "Epoch 107/120\n",
      "45/45 [==============================] - 0s 7ms/step - loss: 0.0224 - accuracy: 0.9895 - val_loss: 0.0418 - val_accuracy: 0.9832\n",
      "Epoch 108/120\n",
      "45/45 [==============================] - 0s 8ms/step - loss: 0.0211 - accuracy: 0.9930 - val_loss: 0.0447 - val_accuracy: 0.9777\n",
      "Epoch 109/120\n",
      "45/45 [==============================] - 0s 6ms/step - loss: 0.0252 - accuracy: 0.9909 - val_loss: 0.0424 - val_accuracy: 0.9804\n",
      "Epoch 110/120\n",
      "45/45 [==============================] - 0s 7ms/step - loss: 0.0198 - accuracy: 0.9937 - val_loss: 0.0411 - val_accuracy: 0.9832\n",
      "Epoch 111/120\n",
      "45/45 [==============================] - 0s 8ms/step - loss: 0.0163 - accuracy: 0.9944 - val_loss: 0.0420 - val_accuracy: 0.9804\n",
      "Epoch 112/120\n",
      "45/45 [==============================] - 0s 8ms/step - loss: 0.0189 - accuracy: 0.9930 - val_loss: 0.0417 - val_accuracy: 0.9832\n",
      "Epoch 113/120\n",
      "45/45 [==============================] - 0s 7ms/step - loss: 0.0189 - accuracy: 0.9888 - val_loss: 0.0407 - val_accuracy: 0.9832\n",
      "Epoch 114/120\n",
      "45/45 [==============================] - 0s 7ms/step - loss: 0.0218 - accuracy: 0.9895 - val_loss: 0.0406 - val_accuracy: 0.9860\n",
      "Epoch 115/120\n",
      "45/45 [==============================] - 0s 8ms/step - loss: 0.0224 - accuracy: 0.9909 - val_loss: 0.0427 - val_accuracy: 0.9777\n",
      "Epoch 116/120\n"
     ]
    },
    {
     "name": "stdout",
     "output_type": "stream",
     "text": [
      "45/45 [==============================] - 0s 8ms/step - loss: 0.0202 - accuracy: 0.9923 - val_loss: 0.0414 - val_accuracy: 0.9832\n",
      "Epoch 117/120\n",
      "45/45 [==============================] - 0s 8ms/step - loss: 0.0188 - accuracy: 0.9951 - val_loss: 0.0416 - val_accuracy: 0.9832\n",
      "Epoch 118/120\n",
      "45/45 [==============================] - 0s 8ms/step - loss: 0.0287 - accuracy: 0.9881 - val_loss: 0.0405 - val_accuracy: 0.9832\n",
      "Epoch 119/120\n",
      "45/45 [==============================] - 0s 7ms/step - loss: 0.0198 - accuracy: 0.9923 - val_loss: 0.0386 - val_accuracy: 0.9860\n",
      "Epoch 120/120\n",
      "45/45 [==============================] - 0s 7ms/step - loss: 0.0193 - accuracy: 0.9930 - val_loss: 0.0397 - val_accuracy: 0.9860\n",
      "45/45 [==============================] - 0s 4ms/step - loss: 0.0090 - accuracy: 1.0000\n",
      "Train score: [0.009017647244036198, 1.0]\n",
      "12/12 [==============================] - 0s 3ms/step - loss: 0.0397 - accuracy: 0.9860\n",
      "Test score: [0.039725594222545624, 0.9860334992408752]\n"
     ]
    }
   ],
   "source": [
    "# 訓練模型\n",
    "r3 = model3.fit(X1_train, y2_train, validation_data=(X1_test, y2_test), epochs=120)\n",
    "\n",
    "# 評估模型 - evaluate() returns loss and accuracy\n",
    "print(\"Train score:\", model3.evaluate(X1_train, y2_train))\n",
    "print(\"Test score:\", model3.evaluate(X1_test, y2_test))"
   ]
  },
  {
   "cell_type": "code",
   "execution_count": 50,
   "id": "7aff8692",
   "metadata": {},
   "outputs": [
    {
     "data": {
      "text/plain": [
       "<matplotlib.legend.Legend at 0x1b83325efd0>"
      ]
     },
     "execution_count": 50,
     "metadata": {},
     "output_type": "execute_result"
    },
    {
     "data": {
      "image/png": "[encoded data removed]",
      "text/plain": [
       "<Figure size 432x288 with 1 Axes>"
      ]
     },
     "metadata": {
      "needs_background": "light"
     },
     "output_type": "display_data"
    }
   ],
   "source": [
    "# 劃出 model.fit() training 和 validating 的 loss\n",
    "import matplotlib.pyplot as plt\n",
    "plt.plot(r3.history['loss'], label='loss')\n",
    "plt.plot(r3.history['val_loss'], label='val_loss')\n",
    "plt.legend()"
   ]
  },
  {
   "cell_type": "code",
   "execution_count": 51,
   "id": "7d3238e3",
   "metadata": {
    "scrolled": false
   },
   "outputs": [
    {
     "data": {
      "text/plain": [
       "<matplotlib.legend.Legend at 0x1b8332809a0>"
      ]
     },
     "execution_count": 51,
     "metadata": {},
     "output_type": "execute_result"
    },
    {
     "data": {
      "image/png": "[encoded data removed]",
      "text/plain": [
       "<Figure size 432x288 with 1 Axes>"
      ]
     },
     "metadata": {
      "needs_background": "light"
     },
     "output_type": "display_data"
    }
   ],
   "source": [
    "# 劃出準確性 accuracy \n",
    "plt.plot(r3.history['accuracy'], label='acc')\n",
    "plt.plot(r3.history['val_accuracy'], label='val_acc')\n",
    "plt.legend()"
   ]
  },
  {
   "cell_type": "code",
   "execution_count": 52,
   "id": "b98a0458",
   "metadata": {},
   "outputs": [
    {
     "data": {
      "text/plain": [
       "array([[150,   3],\n",
       "       [  2, 203]], dtype=int64)"
      ]
     },
     "execution_count": 52,
     "metadata": {},
     "output_type": "execute_result"
    }
   ],
   "source": [
    "pred_test = model3.predict(X1_test)\n",
    "pred_test = np.round(pred_test).flatten()\n",
    "cm = confusion_matrix(y2_test, pred_test)\n",
    "cm"
   ]
  },
  {
   "cell_type": "code",
   "execution_count": 58,
   "id": "7831a8ff",
   "metadata": {},
   "outputs": [],
   "source": [
    "model3.save('./ROE_model.h5')"
   ]
  },
  {
   "cell_type": "markdown",
   "id": "e294196e",
   "metadata": {},
   "source": [
    "<h1> 3-2 用羅吉斯回歸實作 預測 ROE"
   ]
  },
  {
   "cell_type": "code",
   "execution_count": 53,
   "id": "0959140d",
   "metadata": {},
   "outputs": [
    {
     "name": "stdout",
     "output_type": "stream",
     "text": [
      "[0 1 1 0 1 1 0 1 1 1 0 1 1 0 1 0 1 1 1 1 1 0 1 1 1 1 1 0 1 0 0 1 0 1 0 1 0\n",
      " 1 1 1 0 1 1 1 1 1 1 1 1 1 1 0 1 0 1 0 1 0 0 1 1 1 1 1 1 0 1 1 0 1 0 1 1 0\n",
      " 1 0 1 1 1 1 0 1 1 1 1 1 1 1 0 0 1 1 1 1 0 0 1 0 1 1 1 1 1 0 0 1 1 0 0 1 0\n",
      " 0 1 1 0 1 1 0 1 0 1 0 1 0 0 1 0 0 1 1 0 1 0 0 0 1 0 1 1 0 1 0 1 1 0 0 0 1\n",
      " 1 1 1 0 1 0 0 1 0 1 1 0 0 0 1 1 1 1 1 0 1 1 0 1 1 0 0 1 0 0 0 0 1 1 1 0 0\n",
      " 1 1 1 0 1 0 0 1 1 1 0 1 0 0 0 1 1 1 0 0 1 0 0 1 1 1 1 0 0 0 1 0 0 1 1 1 0\n",
      " 1 0 1 0 0 0 1 0 1 1 0 0 1 1 0 1 1 1 1 1 1 1 1 0 1 0 1 1 0 1 0 1 0 1 1 0 1\n",
      " 1 1 0 1 0 1 1 0 1 0 0 1 0 1 1 1 1 0 0 1 1 0 1 1 0 1 0 0 1 1 0 0 0 1 0 1 1\n",
      " 0 0 1 0 0 1 1 0 1 0 1 1 0 1 0 0 1 0 1 0 0 0 1 0 1 0 1 0 0 1 1 0 0 1 0 1 0\n",
      " 1 1 0 0 1 1 1 1 1 1 0 0 0 0 1 0 0 1 1 1 0 0 1 0 1]\n",
      "==============================\n",
      "0.990909090909091\n"
     ]
    }
   ],
   "source": [
    "from sklearn.linear_model import LogisticRegression\n",
    "log3 = LogisticRegression()\n",
    "log3.fit(X1_train, y2_train)\n",
    "\n",
    "pred3 = log3.predict(X1_test)\n",
    "print(pred3)\n",
    "print(\"==============================\")\n",
    "print(log3.score(X1_train, y2_train))\n",
    "# print(y_test)"
   ]
  },
  {
   "cell_type": "code",
   "execution_count": 54,
   "id": "9f75754b",
   "metadata": {},
   "outputs": [
    {
     "data": {
      "text/plain": [
       "0.9804469273743017"
      ]
     },
     "execution_count": 54,
     "metadata": {},
     "output_type": "execute_result"
    }
   ],
   "source": [
    "accuracy3 = accuracy_score(y2_test, pred3)\n",
    "accuracy3"
   ]
  },
  {
   "cell_type": "markdown",
   "id": "e106d7c8",
   "metadata": {},
   "source": [
    "<h1> 3-3 以 SVM 實作 預測 ROE"
   ]
  },
  {
   "cell_type": "code",
   "execution_count": 66,
   "id": "2c9ca8bc",
   "metadata": {},
   "outputs": [
    {
     "name": "stdout",
     "output_type": "stream",
     "text": [
      "[0 1 1 0 1 1 0 1 1 1 0 1 1 0 1 0 1 1 1 0 1 0 1 1 1 1 1 0 1 0 0 1 0 1 0 1 0\n",
      " 1 1 1 0 1 1 1 1 1 1 1 1 1 1 0 1 0 1 0 1 0 0 1 1 1 1 1 1 0 1 1 0 1 0 1 1 0\n",
      " 1 0 1 1 1 1 0 1 1 1 1 1 1 1 0 0 1 1 1 1 0 0 1 0 1 1 1 1 1 0 0 1 1 0 0 1 0\n",
      " 0 1 1 0 1 1 0 1 0 1 0 1 0 0 1 0 0 1 1 0 1 0 0 0 1 0 1 1 0 1 0 1 1 0 0 0 1\n",
      " 1 1 1 0 1 0 0 1 0 1 1 0 0 0 1 1 1 1 1 0 1 0 0 1 1 0 0 1 0 0 0 0 1 0 0 0 0\n",
      " 1 1 1 0 1 0 0 1 1 0 0 1 0 0 0 1 1 1 0 0 1 0 0 1 1 1 1 0 0 0 1 0 0 1 1 1 0\n",
      " 1 0 1 0 0 0 1 0 1 1 0 0 1 1 0 1 1 1 1 1 1 1 1 0 1 0 1 1 0 1 0 1 0 1 1 0 1\n",
      " 1 1 0 1 0 1 1 0 1 0 0 1 0 1 1 1 1 0 0 1 1 0 1 1 0 1 0 0 1 1 0 0 0 1 0 1 1\n",
      " 0 0 1 0 0 1 1 0 1 0 1 1 0 1 0 0 1 1 1 0 0 0 1 0 1 0 1 0 0 1 1 0 0 1 0 1 0\n",
      " 1 1 0 0 1 1 1 1 1 1 0 0 0 0 1 0 0 1 1 1 0 0 1 0 1]\n",
      "==============================\n",
      "1.0\n"
     ]
    }
   ],
   "source": [
    "from sklearn.svm import SVC\n",
    "clf3 = SVC(C = 1e5, kernel = 'linear')\n",
    "clf3.fit(X1_train, y2_train) \n",
    "pred_clf3 = clf3.predict(X1_test)\n",
    "print(pred_clf3)\n",
    "print(\"==============================\")\n",
    "print(clf3.score(X1_train, y2_train))"
   ]
  },
  {
   "cell_type": "code",
   "execution_count": 67,
   "id": "29465655",
   "metadata": {},
   "outputs": [
    {
     "data": {
      "text/plain": [
       "0.9916201117318436"
      ]
     },
     "execution_count": 67,
     "metadata": {},
     "output_type": "execute_result"
    }
   ],
   "source": [
    "accuracy_SVM = accuracy_score(y2_test, pred_clf3)\n",
    "accuracy_SVM"
   ]
  },
  {
   "cell_type": "markdown",
   "id": "93a8b767",
   "metadata": {},
   "source": [
    "<h1>3.4 以 RandomForestClassifier 實作 ROE 預測"
   ]
  },
  {
   "cell_type": "code",
   "execution_count": 55,
   "id": "98fb969d",
   "metadata": {},
   "outputs": [
    {
     "name": "stdout",
     "output_type": "stream",
     "text": [
      "1.0\n"
     ]
    }
   ],
   "source": [
    "#Import Random Forest Model\n",
    "from sklearn.ensemble import RandomForestClassifier\n",
    "\n",
    "#Create a Gaussian Classifier\n",
    "forest3=RandomForestClassifier(n_estimators=100)\n",
    "\n",
    "#Train the model using the training sets y_pred=clf.predict(X_test)\n",
    "forest3.fit(X1_train, y2_train)\n",
    "print(forest3.score(X1_train, y2_train))"
   ]
  },
  {
   "cell_type": "code",
   "execution_count": 56,
   "id": "1b8284aa",
   "metadata": {},
   "outputs": [
    {
     "name": "stdout",
     "output_type": "stream",
     "text": [
      "Accuracy: 1.0\n"
     ]
    }
   ],
   "source": [
    "from sklearn.metrics import accuracy_score\n",
    "forest_pred3 = forest3.predict(X1_test)\n",
    "print(\"Accuracy:\",accuracy_score(y2_test, forest_pred3))"
   ]
  },
  {
   "cell_type": "markdown",
   "id": "e8900ad1",
   "metadata": {},
   "source": [
    "<h1> 3.5 以 naive_bayes 實作 ROE 預測"
   ]
  },
  {
   "cell_type": "code",
   "execution_count": 57,
   "id": "64fa2284",
   "metadata": {},
   "outputs": [
    {
     "name": "stdout",
     "output_type": "stream",
     "text": [
      "0.7972027972027972\n"
     ]
    }
   ],
   "source": [
    "from sklearn.naive_bayes import GaussianNB\n",
    "nb3 = GaussianNB()\n",
    "nb3.fit(X1_train, y2_train)\n",
    "print(nb3.score(X1_train, y2_train))"
   ]
  },
  {
   "cell_type": "code",
   "execution_count": 58,
   "id": "7206209a",
   "metadata": {},
   "outputs": [
    {
     "name": "stdout",
     "output_type": "stream",
     "text": [
      "Accuracy: 0.8296089385474861\n"
     ]
    }
   ],
   "source": [
    "nb3_pred = nb3.predict(X1_test)\n",
    "print(\"Accuracy:\",accuracy_score(y2_test, nb3_pred))"
   ]
  },
  {
   "cell_type": "markdown",
   "id": "4b3592d2",
   "metadata": {},
   "source": [
    "<h1> 3.6 以 KNN 實作 ROE 預測"
   ]
  },
  {
   "cell_type": "code",
   "execution_count": 59,
   "id": "29783c54",
   "metadata": {},
   "outputs": [
    {
     "name": "stdout",
     "output_type": "stream",
     "text": [
      "0.9314685314685315\n"
     ]
    }
   ],
   "source": [
    "from sklearn.neighbors import KNeighborsClassifier\n",
    "knn3 = KNeighborsClassifier()\n",
    "knn3.fit(X1_train, y2_train)\n",
    "print(knn3.score(X1_train, y2_train))"
   ]
  },
  {
   "cell_type": "code",
   "execution_count": 60,
   "id": "6b93e3bc",
   "metadata": {},
   "outputs": [
    {
     "name": "stdout",
     "output_type": "stream",
     "text": [
      "Accuracy: 0.9078212290502793\n"
     ]
    }
   ],
   "source": [
    "knn3_pred = knn3.predict(X1_test)\n",
    "print(\"Accuracy:\",accuracy_score(y2_test, knn3_pred))"
   ]
  },
  {
   "cell_type": "markdown",
   "id": "467d9ecb",
   "metadata": {},
   "source": [
    "<h3>初步測試預測\"ROA\"結果:</h3>\n",
    "<h4>1-1 DNN: \n",
    "    <h4>測試資料集準確度 0.9979; 訓練資料準確度 0.9915</h4>\n",
    "<h4>1-2 Logistic:\n",
    "    <h4>測試資料集準確度 0.9908 ; 訓練資料準確度 0.9887</h4>\n",
    "<h4>1-3 SVM: \n",
    "    <h4>測試資料集準確度 1.0000; 訓練資料準確度 0.9972</h4>\n",
    "<h4>1-4 RandomForestClassifier: \n",
    "    <h4>測試資料集準確度 1.0000; 訓練資料準確度 1.0000</h4>\n",
    "<h4>1-5 naive_bayes: \n",
    "    <h4>測試資料集準確度 0.8654; 訓練資料準確度 0.8676</h4>\n",
    "<h4>1-6 KNN: \n",
    "    <h4>測試資料集準確度 0.9323; 訓練資料準確度 0.8789</h4>"
   ]
  },
  {
   "cell_type": "markdown",
   "id": "20a40671",
   "metadata": {},
   "source": [
    "<h3>___________終止線_______________"
   ]
  },
  {
   "cell_type": "markdown",
   "id": "b1fd1af4",
   "metadata": {},
   "source": [
    "<h1>加入 運費指標 (BDI 與 航空燃油) "
   ]
  },
  {
   "cell_type": "markdown",
   "id": "73c85420",
   "metadata": {},
   "source": [
    "<h2>資料前處理"
   ]
  },
  {
   "cell_type": "code",
   "execution_count": 84,
   "id": "eaa30995",
   "metadata": {},
   "outputs": [],
   "source": [
    "\n",
    "#建立與 MySQL 的連結\n",
    "# class mysql_engine():\n",
    "#  def __init__(self,db):\n",
    "#   self.user='root'\n",
    "#   self.passwd='ian1991'\n",
    "#   self.host='localhost'\n",
    "#   self.port = '3306'\n",
    "#   self.db_name= db\n",
    "#   self.engine = create_engine('mysql+pymysql://{0}:{1}@{2}:{3}/{4}?charset=utf8'.format(self.user,self.passwd,self.host,self.port,self.db_name))\n",
    "\n",
    "# #設定讀取 MySQL 中的資料表並轉為 DataFrame 的功能\n",
    "# def get_data1(sql):\n",
    "#  pg_enine=mysql_engine1()\n",
    "#  try:\n",
    "#   with pg_enine.engine.connect() as con, con.begin():\n",
    "#    df=pd.read_sql(sql,con)# 獲取資料\n",
    "#   con.close()\n",
    "#  except:\n",
    "#   df=None\n",
    "#  return df"
   ]
  },
  {
   "cell_type": "code",
   "execution_count": 102,
   "id": "4720a7ec",
   "metadata": {},
   "outputs": [
    {
     "data": {
      "text/html": [
       "<div>\n",
       "<style scoped>\n",
       "    .dataframe tbody tr th:only-of-type {\n",
       "        vertical-align: middle;\n",
       "    }\n",
       "\n",
       "    .dataframe tbody tr th {\n",
       "        vertical-align: top;\n",
       "    }\n",
       "\n",
       "    .dataframe thead th {\n",
       "        text-align: right;\n",
       "    }\n",
       "</style>\n",
       "<table border=\"1\" class=\"dataframe\">\n",
       "  <thead>\n",
       "    <tr style=\"text-align: right;\">\n",
       "      <th></th>\n",
       "      <th>data_date</th>\n",
       "      <th>BDI</th>\n",
       "      <th>BCI</th>\n",
       "      <th>BPI</th>\n",
       "      <th>N1NG</th>\n",
       "      <th>avgas_cpc</th>\n",
       "      <th>avgas_fpg</th>\n",
       "      <th>Dubai</th>\n",
       "      <th>WTI_future</th>\n",
       "      <th>WTI_now</th>\n",
       "      <th>...</th>\n",
       "      <th>people_fully_vaccinated_per_hundred_USA</th>\n",
       "      <th>people_fully_vaccinated_per_hundred_OWID_EUR</th>\n",
       "      <th>people_fully_vaccinated_per_hundred_GBR</th>\n",
       "      <th>people_fully_vaccinated_per_hundred_FRA</th>\n",
       "      <th>people_fully_vaccinated_per_hundred_JPN</th>\n",
       "      <th>people_fully_vaccinated_per_hundred_CHN</th>\n",
       "      <th>people_fully_vaccinated_per_hundred_TWN</th>\n",
       "      <th>people_fully_vaccinated_per_hundred_OWID_WRL</th>\n",
       "      <th>people_fully_vaccinated_per_hundred_HKG</th>\n",
       "      <th>people_fully_vaccinated_per_hundred_SGP</th>\n",
       "    </tr>\n",
       "  </thead>\n",
       "  <tbody>\n",
       "    <tr>\n",
       "      <th>0</th>\n",
       "      <td>20182</td>\n",
       "      <td>1818.56</td>\n",
       "      <td>2880.00</td>\n",
       "      <td>1828.22</td>\n",
       "      <td>3.94</td>\n",
       "      <td>0.65</td>\n",
       "      <td>0.65</td>\n",
       "      <td>78.83</td>\n",
       "      <td>75.69</td>\n",
       "      <td>75.67</td>\n",
       "      <td>...</td>\n",
       "      <td>NaN</td>\n",
       "      <td>NaN</td>\n",
       "      <td>NaN</td>\n",
       "      <td>NaN</td>\n",
       "      <td>NaN</td>\n",
       "      <td>NaN</td>\n",
       "      <td>NaN</td>\n",
       "      <td>NaN</td>\n",
       "      <td>NaN</td>\n",
       "      <td>NaN</td>\n",
       "    </tr>\n",
       "    <tr>\n",
       "      <th>1</th>\n",
       "      <td>20183</td>\n",
       "      <td>1609.62</td>\n",
       "      <td>2865.92</td>\n",
       "      <td>1524.85</td>\n",
       "      <td>2.89</td>\n",
       "      <td>0.60</td>\n",
       "      <td>0.60</td>\n",
       "      <td>73.92</td>\n",
       "      <td>69.47</td>\n",
       "      <td>69.61</td>\n",
       "      <td>...</td>\n",
       "      <td>NaN</td>\n",
       "      <td>NaN</td>\n",
       "      <td>NaN</td>\n",
       "      <td>NaN</td>\n",
       "      <td>NaN</td>\n",
       "      <td>NaN</td>\n",
       "      <td>NaN</td>\n",
       "      <td>NaN</td>\n",
       "      <td>NaN</td>\n",
       "      <td>NaN</td>\n",
       "    </tr>\n",
       "    <tr>\n",
       "      <th>2</th>\n",
       "      <td>20184</td>\n",
       "      <td>1340.21</td>\n",
       "      <td>1960.14</td>\n",
       "      <td>1528.79</td>\n",
       "      <td>3.71</td>\n",
       "      <td>0.62</td>\n",
       "      <td>0.62</td>\n",
       "      <td>64.96</td>\n",
       "      <td>57.40</td>\n",
       "      <td>57.31</td>\n",
       "      <td>...</td>\n",
       "      <td>NaN</td>\n",
       "      <td>NaN</td>\n",
       "      <td>NaN</td>\n",
       "      <td>NaN</td>\n",
       "      <td>NaN</td>\n",
       "      <td>NaN</td>\n",
       "      <td>NaN</td>\n",
       "      <td>NaN</td>\n",
       "      <td>NaN</td>\n",
       "      <td>NaN</td>\n",
       "    </tr>\n",
       "    <tr>\n",
       "      <th>3</th>\n",
       "      <td>20191</td>\n",
       "      <td>799.00</td>\n",
       "      <td>950.23</td>\n",
       "      <td>879.00</td>\n",
       "      <td>2.85</td>\n",
       "      <td>0.51</td>\n",
       "      <td>0.52</td>\n",
       "      <td>63.88</td>\n",
       "      <td>55.19</td>\n",
       "      <td>55.03</td>\n",
       "      <td>...</td>\n",
       "      <td>NaN</td>\n",
       "      <td>NaN</td>\n",
       "      <td>NaN</td>\n",
       "      <td>NaN</td>\n",
       "      <td>NaN</td>\n",
       "      <td>NaN</td>\n",
       "      <td>NaN</td>\n",
       "      <td>NaN</td>\n",
       "      <td>NaN</td>\n",
       "      <td>NaN</td>\n",
       "    </tr>\n",
       "    <tr>\n",
       "      <th>4</th>\n",
       "      <td>20192</td>\n",
       "      <td>1010.15</td>\n",
       "      <td>1360.31</td>\n",
       "      <td>1195.62</td>\n",
       "      <td>2.48</td>\n",
       "      <td>0.56</td>\n",
       "      <td>0.56</td>\n",
       "      <td>67.03</td>\n",
       "      <td>59.65</td>\n",
       "      <td>59.53</td>\n",
       "      <td>...</td>\n",
       "      <td>NaN</td>\n",
       "      <td>NaN</td>\n",
       "      <td>NaN</td>\n",
       "      <td>NaN</td>\n",
       "      <td>NaN</td>\n",
       "      <td>NaN</td>\n",
       "      <td>NaN</td>\n",
       "      <td>NaN</td>\n",
       "      <td>NaN</td>\n",
       "      <td>NaN</td>\n",
       "    </tr>\n",
       "    <tr>\n",
       "      <th>5</th>\n",
       "      <td>20193</td>\n",
       "      <td>2049.54</td>\n",
       "      <td>3899.77</td>\n",
       "      <td>2027.46</td>\n",
       "      <td>2.32</td>\n",
       "      <td>0.53</td>\n",
       "      <td>0.53</td>\n",
       "      <td>60.61</td>\n",
       "      <td>56.10</td>\n",
       "      <td>55.93</td>\n",
       "      <td>...</td>\n",
       "      <td>NaN</td>\n",
       "      <td>NaN</td>\n",
       "      <td>NaN</td>\n",
       "      <td>NaN</td>\n",
       "      <td>NaN</td>\n",
       "      <td>NaN</td>\n",
       "      <td>NaN</td>\n",
       "      <td>NaN</td>\n",
       "      <td>NaN</td>\n",
       "      <td>NaN</td>\n",
       "    </tr>\n",
       "    <tr>\n",
       "      <th>6</th>\n",
       "      <td>20194</td>\n",
       "      <td>1486.21</td>\n",
       "      <td>2687.36</td>\n",
       "      <td>1407.57</td>\n",
       "      <td>2.40</td>\n",
       "      <td>0.53</td>\n",
       "      <td>0.53</td>\n",
       "      <td>62.06</td>\n",
       "      <td>57.47</td>\n",
       "      <td>57.59</td>\n",
       "      <td>...</td>\n",
       "      <td>NaN</td>\n",
       "      <td>NaN</td>\n",
       "      <td>NaN</td>\n",
       "      <td>NaN</td>\n",
       "      <td>NaN</td>\n",
       "      <td>NaN</td>\n",
       "      <td>NaN</td>\n",
       "      <td>NaN</td>\n",
       "      <td>NaN</td>\n",
       "      <td>NaN</td>\n",
       "    </tr>\n",
       "    <tr>\n",
       "      <th>7</th>\n",
       "      <td>20201</td>\n",
       "      <td>598.46</td>\n",
       "      <td>694.00</td>\n",
       "      <td>798.31</td>\n",
       "      <td>1.82</td>\n",
       "      <td>0.51</td>\n",
       "      <td>0.50</td>\n",
       "      <td>50.59</td>\n",
       "      <td>46.46</td>\n",
       "      <td>45.64</td>\n",
       "      <td>...</td>\n",
       "      <td>0.0</td>\n",
       "      <td>0.0</td>\n",
       "      <td>0.0</td>\n",
       "      <td>0.0</td>\n",
       "      <td>0.0</td>\n",
       "      <td>0.0</td>\n",
       "      <td>0.0</td>\n",
       "      <td>0.0</td>\n",
       "      <td>0.0</td>\n",
       "      <td>0.0</td>\n",
       "    </tr>\n",
       "    <tr>\n",
       "      <th>8</th>\n",
       "      <td>20202</td>\n",
       "      <td>777.92</td>\n",
       "      <td>1125.31</td>\n",
       "      <td>818.85</td>\n",
       "      <td>1.74</td>\n",
       "      <td>0.24</td>\n",
       "      <td>0.24</td>\n",
       "      <td>33.59</td>\n",
       "      <td>29.42</td>\n",
       "      <td>29.23</td>\n",
       "      <td>...</td>\n",
       "      <td>0.0</td>\n",
       "      <td>0.0</td>\n",
       "      <td>0.0</td>\n",
       "      <td>0.0</td>\n",
       "      <td>0.0</td>\n",
       "      <td>0.0</td>\n",
       "      <td>0.0</td>\n",
       "      <td>0.0</td>\n",
       "      <td>0.0</td>\n",
       "      <td>0.0</td>\n",
       "    </tr>\n",
       "    <tr>\n",
       "      <th>9</th>\n",
       "      <td>20203</td>\n",
       "      <td>1518.31</td>\n",
       "      <td>2529.46</td>\n",
       "      <td>1459.23</td>\n",
       "      <td>2.18</td>\n",
       "      <td>0.32</td>\n",
       "      <td>0.32</td>\n",
       "      <td>42.55</td>\n",
       "      <td>40.76</td>\n",
       "      <td>40.71</td>\n",
       "      <td>...</td>\n",
       "      <td>0.0</td>\n",
       "      <td>0.0</td>\n",
       "      <td>0.0</td>\n",
       "      <td>0.0</td>\n",
       "      <td>0.0</td>\n",
       "      <td>0.0</td>\n",
       "      <td>0.0</td>\n",
       "      <td>0.0</td>\n",
       "      <td>0.0</td>\n",
       "      <td>0.0</td>\n",
       "    </tr>\n",
       "  </tbody>\n",
       "</table>\n",
       "<p>10 rows × 118 columns</p>\n",
       "</div>"
      ],
      "text/plain": [
       "  data_date      BDI      BCI      BPI  N1NG  avgas_cpc  avgas_fpg  Dubai  \\\n",
       "0     20182  1818.56  2880.00  1828.22  3.94       0.65       0.65  78.83   \n",
       "1     20183  1609.62  2865.92  1524.85  2.89       0.60       0.60  73.92   \n",
       "2     20184  1340.21  1960.14  1528.79  3.71       0.62       0.62  64.96   \n",
       "3     20191   799.00   950.23   879.00  2.85       0.51       0.52  63.88   \n",
       "4     20192  1010.15  1360.31  1195.62  2.48       0.56       0.56  67.03   \n",
       "5     20193  2049.54  3899.77  2027.46  2.32       0.53       0.53  60.61   \n",
       "6     20194  1486.21  2687.36  1407.57  2.40       0.53       0.53  62.06   \n",
       "7     20201   598.46   694.00   798.31  1.82       0.51       0.50  50.59   \n",
       "8     20202   777.92  1125.31   818.85  1.74       0.24       0.24  33.59   \n",
       "9     20203  1518.31  2529.46  1459.23  2.18       0.32       0.32  42.55   \n",
       "\n",
       "   WTI_future  WTI_now  ...  people_fully_vaccinated_per_hundred_USA  \\\n",
       "0       75.69    75.67  ...                                      NaN   \n",
       "1       69.47    69.61  ...                                      NaN   \n",
       "2       57.40    57.31  ...                                      NaN   \n",
       "3       55.19    55.03  ...                                      NaN   \n",
       "4       59.65    59.53  ...                                      NaN   \n",
       "5       56.10    55.93  ...                                      NaN   \n",
       "6       57.47    57.59  ...                                      NaN   \n",
       "7       46.46    45.64  ...                                      0.0   \n",
       "8       29.42    29.23  ...                                      0.0   \n",
       "9       40.76    40.71  ...                                      0.0   \n",
       "\n",
       "   people_fully_vaccinated_per_hundred_OWID_EUR  \\\n",
       "0                                           NaN   \n",
       "1                                           NaN   \n",
       "2                                           NaN   \n",
       "3                                           NaN   \n",
       "4                                           NaN   \n",
       "5                                           NaN   \n",
       "6                                           NaN   \n",
       "7                                           0.0   \n",
       "8                                           0.0   \n",
       "9                                           0.0   \n",
       "\n",
       "   people_fully_vaccinated_per_hundred_GBR  \\\n",
       "0                                      NaN   \n",
       "1                                      NaN   \n",
       "2                                      NaN   \n",
       "3                                      NaN   \n",
       "4                                      NaN   \n",
       "5                                      NaN   \n",
       "6                                      NaN   \n",
       "7                                      0.0   \n",
       "8                                      0.0   \n",
       "9                                      0.0   \n",
       "\n",
       "   people_fully_vaccinated_per_hundred_FRA  \\\n",
       "0                                      NaN   \n",
       "1                                      NaN   \n",
       "2                                      NaN   \n",
       "3                                      NaN   \n",
       "4                                      NaN   \n",
       "5                                      NaN   \n",
       "6                                      NaN   \n",
       "7                                      0.0   \n",
       "8                                      0.0   \n",
       "9                                      0.0   \n",
       "\n",
       "   people_fully_vaccinated_per_hundred_JPN  \\\n",
       "0                                      NaN   \n",
       "1                                      NaN   \n",
       "2                                      NaN   \n",
       "3                                      NaN   \n",
       "4                                      NaN   \n",
       "5                                      NaN   \n",
       "6                                      NaN   \n",
       "7                                      0.0   \n",
       "8                                      0.0   \n",
       "9                                      0.0   \n",
       "\n",
       "   people_fully_vaccinated_per_hundred_CHN  \\\n",
       "0                                      NaN   \n",
       "1                                      NaN   \n",
       "2                                      NaN   \n",
       "3                                      NaN   \n",
       "4                                      NaN   \n",
       "5                                      NaN   \n",
       "6                                      NaN   \n",
       "7                                      0.0   \n",
       "8                                      0.0   \n",
       "9                                      0.0   \n",
       "\n",
       "   people_fully_vaccinated_per_hundred_TWN  \\\n",
       "0                                      NaN   \n",
       "1                                      NaN   \n",
       "2                                      NaN   \n",
       "3                                      NaN   \n",
       "4                                      NaN   \n",
       "5                                      NaN   \n",
       "6                                      NaN   \n",
       "7                                      0.0   \n",
       "8                                      0.0   \n",
       "9                                      0.0   \n",
       "\n",
       "   people_fully_vaccinated_per_hundred_OWID_WRL  \\\n",
       "0                                           NaN   \n",
       "1                                           NaN   \n",
       "2                                           NaN   \n",
       "3                                           NaN   \n",
       "4                                           NaN   \n",
       "5                                           NaN   \n",
       "6                                           NaN   \n",
       "7                                           0.0   \n",
       "8                                           0.0   \n",
       "9                                           0.0   \n",
       "\n",
       "   people_fully_vaccinated_per_hundred_HKG  \\\n",
       "0                                      NaN   \n",
       "1                                      NaN   \n",
       "2                                      NaN   \n",
       "3                                      NaN   \n",
       "4                                      NaN   \n",
       "5                                      NaN   \n",
       "6                                      NaN   \n",
       "7                                      0.0   \n",
       "8                                      0.0   \n",
       "9                                      0.0   \n",
       "\n",
       "   people_fully_vaccinated_per_hundred_SGP  \n",
       "0                                      NaN  \n",
       "1                                      NaN  \n",
       "2                                      NaN  \n",
       "3                                      NaN  \n",
       "4                                      NaN  \n",
       "5                                      NaN  \n",
       "6                                      NaN  \n",
       "7                                      0.0  \n",
       "8                                      0.0  \n",
       "9                                      0.0  \n",
       "\n",
       "[10 rows x 118 columns]"
      ]
     },
     "execution_count": 102,
     "metadata": {},
     "output_type": "execute_result"
    }
   ],
   "source": [
    "env_factor = get_data(\"\"\"SELECT * FROM env_factor_new;\"\"\",'tfb103d_project')\n",
    "env_factor.head(10)"
   ]
  },
  {
   "cell_type": "markdown",
   "id": "9dda3b7d",
   "metadata": {},
   "source": [
    "<h4>因為環境因素與財務資料時間有差異，先以 inner join merge 合併"
   ]
  },
  {
   "cell_type": "code",
   "execution_count": 103,
   "id": "b8af592e",
   "metadata": {},
   "outputs": [],
   "source": [
    "#取得需要的特徵\n",
    "dF = company_factor[['stock_code',\n",
    "                    'data_date',\n",
    "                    'net_profit_rate', #稅後淨利率\n",
    "                    'operating_gross_rate', #營業毛利率\n",
    "                    'current_rate', #流動比率\n",
    "                    'quick_rate',  #速動比率\n",
    "                    'debt_rate',  #負債比率\n",
    "                    'receivables_turnover_rate', #應收帳款週轉率\n",
    "                    'inventory_turnover_rate',  #存貨週轉率\n",
    "                    'cash_reinvest_rate', #現金再投資比率\n",
    "                    'avg_director_rate', #董監事持股比利\n",
    "                    'avg_director_pledge_rate', #董監事質押比利\n",
    "                    'foreign_rate_bys', #外資持股比例\n",
    "                    'over1000_rate_bys', # >1000張大股東持股比率\n",
    "                    'under400_rate_bys', # <400張股東持股比率\n",
    "                    'avg_board_bys' #平均持股張數\n",
    "                      ]].copy() "
   ]
  },
  {
   "cell_type": "code",
   "execution_count": 104,
   "id": "274ca623",
   "metadata": {},
   "outputs": [],
   "source": [
    "# dF = financial_statements[['stock_report_date','net_profit_rate','operating_gross_rate','current_rate', 'quick_rate', 'debt_rate', 'receivables_turnover_rate', 'inventory_turnover_rate', 'cash_reinvest_rate']]\n",
    "dE = env_factor[['data_date','BDI','avgas_cpc']]\n",
    "data_add1 = pd.merge(dF,dE,on='data_date',how=\"inner\")"
   ]
  },
  {
   "cell_type": "code",
   "execution_count": 105,
   "id": "37df73dd",
   "metadata": {},
   "outputs": [
    {
     "data": {
      "text/plain": [
       "stock_code                    0\n",
       "data_date                     0\n",
       "net_profit_rate              28\n",
       "operating_gross_rate         28\n",
       "current_rate                 14\n",
       "quick_rate                   14\n",
       "debt_rate                    14\n",
       "receivables_turnover_rate    26\n",
       "inventory_turnover_rate      70\n",
       "cash_reinvest_rate           15\n",
       "avg_director_rate             0\n",
       "avg_director_pledge_rate      0\n",
       "foreign_rate_bys              0\n",
       "over1000_rate_bys            63\n",
       "under400_rate_bys            63\n",
       "avg_board_bys                63\n",
       "BDI                           0\n",
       "avgas_cpc                     0\n",
       "dtype: int64"
      ]
     },
     "execution_count": 105,
     "metadata": {},
     "output_type": "execute_result"
    }
   ],
   "source": [
    "data_add1.isnull().sum()"
   ]
  },
  {
   "cell_type": "code",
   "execution_count": 106,
   "id": "2202f30a",
   "metadata": {},
   "outputs": [],
   "source": [
    "data_add_nona = data_add1.copy()\n",
    "#以 0 填補\n",
    "data_add_nona['inventory_turnover_rate'].fillna(0, inplace = True)\n",
    "\n",
    "\n",
    "#刪除\n",
    "data_add_nona = data_add_nona.dropna()\n"
   ]
  },
  {
   "cell_type": "code",
   "execution_count": 107,
   "id": "535115e3",
   "metadata": {},
   "outputs": [
    {
     "data": {
      "text/plain": [
       "stock_code                   0\n",
       "data_date                    0\n",
       "net_profit_rate              0\n",
       "operating_gross_rate         0\n",
       "current_rate                 0\n",
       "quick_rate                   0\n",
       "debt_rate                    0\n",
       "receivables_turnover_rate    0\n",
       "inventory_turnover_rate      0\n",
       "cash_reinvest_rate           0\n",
       "avg_director_rate            0\n",
       "avg_director_pledge_rate     0\n",
       "foreign_rate_bys             0\n",
       "over1000_rate_bys            0\n",
       "under400_rate_bys            0\n",
       "avg_board_bys                0\n",
       "BDI                          0\n",
       "avgas_cpc                    0\n",
       "dtype: int64"
      ]
     },
     "execution_count": 107,
     "metadata": {},
     "output_type": "execute_result"
    }
   ],
   "source": [
    "data_add_nona.isnull().sum()"
   ]
  }
 ],
 "metadata": {
  "kernelspec": {
   "display_name": "Python 3",
   "language": "python",
   "name": "python3"
  },
  "language_info": {
   "codemirror_mode": {
    "name": "ipython",
    "version": 3
   },
   "file_extension": ".py",
   "mimetype": "text/x-python",
   "name": "python",
   "nbconvert_exporter": "python",
   "pygments_lexer": "ipython3",
   "version": "3.8.8"
  },
  "toc": {
   "base_numbering": 1,
   "nav_menu": {},
   "number_sections": true,
   "sideBar": true,
   "skip_h1_title": false,
   "title_cell": "Table of Contents",
   "title_sidebar": "Contents",
   "toc_cell": false,
   "toc_position": {},
   "toc_section_display": true,
   "toc_window_display": false
  }
 },
 "nbformat": 4,
 "nbformat_minor": 5
}
